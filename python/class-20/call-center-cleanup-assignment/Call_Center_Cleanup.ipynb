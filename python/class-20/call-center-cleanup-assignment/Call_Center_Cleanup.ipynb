{
 "cells": [
  {
   "cell_type": "markdown",
   "id": "331a1c4f",
   "metadata": {},
   "source": [
    "# Call Center Cleanup\n",
    "\n",
    "For this assignment, we will be working with call center data. You can start working on the assignment after the first lesson on Exploratory Data Analysis with pandas. Make sure to read the whole assignment before starting anything! As you code along in the Jupyter notebook, you are asked to make note of the results of your analysis. Do so by clicking on the results box and adding your notes beside each question.\n",
    "\n",
    "## Business Issue and Understanding\n",
    "\n",
    "You are working for a company that has two call centers: the North Call Center and the South Call Center. The company is looking to possibly hire five additional reps to enhance customer experience. Your task is to explore how efficient the current reps are in each branch to determine which branch would benefit from additional assistance.\n",
    "\n",
    "### How the Call Center Works\n",
    "\n",
    "Call center representatives are assigned queues. When calls are assigned to a queue, the call is assigned to the next person in line in the queue. After a call is assigned to a representative, the amount of time between assignment and the call starting is divided into busy minutes and not ready minutes. If the call is incoming and a customer is waiting on the phone for a rep, the time is split into three categories: busy minutes, not ready minutes, and incoming call wait time. Once the rep has the customer on the phone, there might be during call wait time, where the call is put on hold while the rep gets an answer for the customer.\n",
    "\n",
    "### Notes about the Dataset\n",
    "\n",
    "If you haven't worked in a call center before, these notes might help you throughout your analysis.\n",
    "\n",
    "* The call purpose is tagged for each call.\n",
    "* The time of the call is tagged in 1 hour blocks starting at 9:00 AM and ending at 5:00 PM.\n",
    "* Calls are tagged as incoming or outgoing.\n",
    "* Reps are assigned to queues. When the reps are working, they take calls in the order of their queue.\n",
    "* A call that is dropped due to technical error or missed by the center because they have reached maximum capacity is a lost call.\n",
    "* An abandoned call is when the customer hangs up because they have been waiting for too long.\n",
    "* Busy Minutes: the amount of time after a call comes in or needs to go out where the assigned rep is not available because they are busy with other customers.\n",
    "* Not Ready Minutes: the amount of time after a call comes in or needs to go out where the assigned rep is not available because they are not ready (for example, getting water).\n",
    "* Incoming Wait Time - amount of time after assigned rep is available to take the call customer waits for representative to pick up a call. This is tracked in seconds.\n",
    "* During Call Wait Time - amount of time during call that customer has to wait for representative\n",
    "\n",
    "## Getting Started\n",
    "\n",
    "You have two CSVs at your disposal, `NorthCallCenter.csv` and `SouthCallCenter.csv`. Import the appropriate libraries and create two dataframes, one called `north_df` and one called `south_df`."
   ]
  },
  {
   "cell_type": "code",
   "execution_count": 20,
   "id": "f362436b",
   "metadata": {},
   "outputs": [
    {
     "name": "stdout",
     "output_type": "stream",
     "text": [
      "['Branch', 'Call Purpose', 'Time Block', 'Incoming or Outgoing', 'Queue', 'Rep ID', 'Sale', 'Lost Call', 'Abandoned', 'Busy Minutes', 'Not Ready Minutes', 'Incoming Wait Time', 'During Call Wait Time', 'Calls']\n",
      "['South']\n",
      "['Sales Support' 'Product Support' 'Complaint']\n",
      "['10:00 AM' '12:00 PM' '1:00 PM' '11:00 AM' '2:00 PM' '3:00 PM' '4:00 PM'\n",
      " '5:00 PM' '9:00 AM']\n",
      "['Incoming' 'Outgoing']\n",
      "['D' 'C']\n",
      "['Kate' 'Eric' 'Susan' 'Alice' 'Sandy' 'Karl' 'Randy' 'George' 'Helga'\n",
      " 'Josh' 'Sharon']\n",
      "['NO' 'YES']\n",
      "[0 1]\n",
      "[0 1]\n",
      "[ 9  8 10 12 11]\n",
      "[1 2 3]\n",
      "[ 1.  2.  3.  4.  5. nan]\n",
      "[2 4 3]\n",
      "[1]\n"
     ]
    }
   ],
   "source": [
    "# Import the appropriate libraries with aliases\n",
    "import numpy as np\n",
    "import pandas as pd\n",
    "\n",
    "# Create two new dataframes\n",
    "ndf = pd.read_csv('NorthCallCenter.csv')\n",
    "sdf = pd.read_csv('SouthCallCenter.csv')\n",
    "\n",
    "#standardizing data\n",
    "#North Branch Data Scrub\n",
    "ndf['Sale'] = ndf['Sale'].str.strip().str.upper()\n",
    "ndf.rename(columns={\"Unnamed: 0\": \"id\"}, inplace=True)\n",
    "ndf.set_index(\"id\", inplace=True)\n",
    "ndf = ndf.fillna(np.nan)\n",
    "ndf = ndf.drop_duplicates()\n",
    "#TODO find how to convert time to \"datetime\"\n",
    "\n",
    "#South Branch Data Scrub\n",
    "sdf.rename(columns={\"Unnamed: 0\": \"id\"}, inplace=True)\n",
    "sdf.set_index(\"id\", inplace=True)\n",
    "sdf = sdf.drop_duplicates()\n",
    "#TODO find how to convert time to \"datetime\"\n",
    "\n",
    "#overview of the data in each column to identify inconsistent data\n",
    "columns_list = sdf.columns.tolist()\n",
    "print(columns_list)\n",
    "for each in columns_list:\n",
    "    print(sdf[each].unique())"
   ]
  },
  {
   "cell_type": "markdown",
   "id": "b4d3484b",
   "metadata": {},
   "source": [
    "## Task 1: Exploratory Data Analysis\n",
    "\n",
    "Time to do some EDA! In the process of learning more about the two datasets, answer the following questions. Use the code blocks below to begin cleaning your data. At the end of the section, record your answers."
   ]
  },
  {
   "cell_type": "markdown",
   "id": "76898991",
   "metadata": {},
   "source": [
    "#### EDA Question 1A:  How many reps are in the North branch?  \n"
   ]
  },
  {
   "cell_type": "code",
   "execution_count": 21,
   "id": "ce3eb5e4",
   "metadata": {},
   "outputs": [
    {
     "name": "stdout",
     "output_type": "stream",
     "text": [
      "9\n"
     ]
    }
   ],
   "source": [
    "# EDA Question 1A solution below:\n",
    "n_rep_list = (ndf[\"Rep ID\"].unique())\n",
    "print(len(n_rep_list))"
   ]
  },
  {
   "cell_type": "markdown",
   "id": "2a9b34d8",
   "metadata": {},
   "source": [
    "#### EDA Question 1B:  How many reps are in the South branch?  \n"
   ]
  },
  {
   "cell_type": "code",
   "execution_count": 22,
   "id": "3c715bbf",
   "metadata": {},
   "outputs": [
    {
     "name": "stdout",
     "output_type": "stream",
     "text": [
      "11\n"
     ]
    }
   ],
   "source": [
    "# EDA Question 1B solution Below:\n",
    "s_rep_list = (sdf[\"Rep ID\"].unique())\n",
    "print(len(s_rep_list))"
   ]
  },
  {
   "cell_type": "markdown",
   "id": "a872f045",
   "metadata": {},
   "source": [
    "#### EDA Question 2A:  What is the average busy minutes, not ready minutes, incoming wait time, and during call wait time for the North branch? \n",
    "\n"
   ]
  },
  {
   "cell_type": "code",
   "execution_count": 23,
   "id": "3759305f",
   "metadata": {},
   "outputs": [
    {
     "name": "stdout",
     "output_type": "stream",
     "text": [
      "Avg busy(min)): 9.98\n",
      "Avg not ready(min): 1.92\n",
      "Avg incoming wait(seconds): 3.04\n",
      "Avg in call wait(min): 2.97\n"
     ]
    }
   ],
   "source": [
    "# EDA Question 2A solution Below:\n",
    "navg_busy_min = round(ndf[\"Busy Minutes\"].mean(), 2)\n",
    "navg_not_rdy_min = round(ndf[\"Not Ready Minutes\"].mean(), 2)\n",
    "navg_inc_wait_time = round(ndf[\"Incoming Wait Time\"].mean(), 2)\n",
    "navg_dur_wait_time = round(ndf[\"During Call Wait Time\"].mean(), 2)\n",
    "\n",
    "\n",
    "print(\"Avg busy(min)): \" + str(navg_busy_min))\n",
    "print(\"Avg not ready(min): \" + str(navg_not_rdy_min))\n",
    "print(\"Avg incoming wait(seconds): \" + str(navg_inc_wait_time))\n",
    "print(\"Avg in call wait(min): \" + str(navg_dur_wait_time))"
   ]
  },
  {
   "cell_type": "markdown",
   "id": "3851cf3e",
   "metadata": {},
   "source": [
    "#### EDA Question 2B:  What is the average busy minutes, not ready minutes, incoming wait time, and during call wait time for the South branch? "
   ]
  },
  {
   "cell_type": "code",
   "execution_count": 24,
   "id": "a77ec152",
   "metadata": {},
   "outputs": [
    {
     "name": "stdout",
     "output_type": "stream",
     "text": [
      "Avg busy (min): 10.07\n",
      "Avg not ready(min): 1.91\n",
      "Avg incoming wait(seconds): 3.0\n",
      "Avg in call wait(min): 3.08\n"
     ]
    }
   ],
   "source": [
    "# EDA Question 2B solution Below:\n",
    "savg_busy_min = round(sdf[\"Busy Minutes\"].mean(), 2)\n",
    "savg_not_rdy_min = round(sdf[\"Not Ready Minutes\"].mean(), 2)\n",
    "savg_inc_wait_time = round(sdf[\"Incoming Wait Time\"].mean(), 2)\n",
    "savg_dur_wait_time = round(sdf[\"During Call Wait Time\"].mean(), 2)\n",
    "\n",
    "\n",
    "print(\"Avg busy (min): \" + str(savg_busy_min))\n",
    "print(\"Avg not ready(min): \" + str(savg_not_rdy_min))\n",
    "print(\"Avg incoming wait(seconds): \" + str(savg_inc_wait_time))\n",
    "print(\"Avg in call wait(min): \" + str(savg_dur_wait_time))"
   ]
  },
  {
   "cell_type": "markdown",
   "id": "75915553",
   "metadata": {},
   "source": [
    "#### EDA Question 3:  What is the number of calls taken for each time block(Both North and South combined)?"
   ]
  },
  {
   "cell_type": "code",
   "execution_count": 25,
   "id": "49566936",
   "metadata": {},
   "outputs": [
    {
     "name": "stdout",
     "output_type": "stream",
     "text": [
      "Time Block\n",
      "12:00 PM    117\n",
      "10:00 AM     98\n",
      "3:00 PM      73\n",
      "2:00 PM      65\n",
      "11:00 AM     55\n",
      "4:00 PM      53\n",
      "5:00 PM      43\n",
      "1:00 PM      40\n",
      "9:00 AM      10\n",
      "Name: count, dtype: int64\n"
     ]
    }
   ],
   "source": [
    "# EDA Question 3 solution Below:\n",
    "\n",
    "both_df = pd.concat([ndf,sdf],ignore_index=True)\n",
    "\n",
    "timeblockcounts = both_df[\"Time Block\"].value_counts()\n",
    "print(timeblockcounts)"
   ]
  },
  {
   "cell_type": "markdown",
   "id": "40b1fd3f",
   "metadata": {},
   "source": [
    "##### Record your answers for the EDA section below:\n",
    "- 1a) Reps in the North Branch = 9\n",
    "- 1b) Reps in the South Branch = 11\n",
    "\n",
    "\n",
    "- 2a) North Branch, (round to the nearest hundredth):\n",
    "> - Busy Minutes = 9.98\n",
    "> - Not Ready Minutes = 1.92\n",
    "> - Incoming Wait Time = 3.04\n",
    "> - During Call Wait Time = 2.97\n",
    "- 2b) South Branch, (round to the nearest hundredth):\n",
    "> - Busy Minutes = 10.07\n",
    "> - Not Ready Minutes = 1.91\n",
    "> - Incoming Wait Time = 3.00\n",
    "> - During Call Wait Time = 3.08\n",
    "- 3) Total Calls taken for all branches per time block:\n",
    "> - 9:00AM   = 10\n",
    "> - 10:00AM  = 98\n",
    "> - 11:00AM  = 55\n",
    "> - 12:00PM  = 117\n",
    "> - 1:00PM   = 40\n",
    "> - 2:00PM   = 65\n",
    "> - 3:00PM   = 73\n",
    "> - 4:00PM   = 53\n",
    "> - 5:00PM   = 43\n",
    "\n"
   ]
  },
  {
   "cell_type": "markdown",
   "id": "366bfb19",
   "metadata": {},
   "source": [
    "## Task 2: Cleaning Your Data \n",
    "Now you need to clean up the datasets. When cleaning the datasets, you may find that there isn't dirty data to clean. That is okay! Some questions you need to answer about the data sets.\n",
    "* Add additional code blocks as needed to show how you came to your conclusions. Add comments in your code blocks to help others understand your thinking. "
   ]
  },
  {
   "cell_type": "markdown",
   "id": "c3564d69",
   "metadata": {},
   "source": [
    "#### Cleaning Question 1:  Is there any missing data and if yes explain what you would do with the missing data and why?"
   ]
  },
  {
   "cell_type": "code",
   "execution_count": 26,
   "id": "b77fb574",
   "metadata": {},
   "outputs": [],
   "source": [
    "# Question 1 solution below\n",
    "#both_df.info()\n",
    "#both_df = both_df.fillna(np.nan)\n",
    "#both_df[\"Incoming Wait Time\"].value_counts(dropna=False)\n"
   ]
  },
  {
   "cell_type": "markdown",
   "id": "0dc5c568-40db-4889-b82b-64610d8058d2",
   "metadata": {},
   "source": [
    "#### Record your answer below:\n",
    "\n",
    "> Your Answer: The incoming wait time column is missing values but this does not make other data invalid so I left the data points as \"nan\"."
   ]
  },
  {
   "cell_type": "markdown",
   "id": "dc47f020",
   "metadata": {},
   "source": [
    "#### Cleaning Question 2:  In the North data set, there are two separate \"YES\" values for a sale. Why and how did you rectify the issue?"
   ]
  },
  {
   "cell_type": "code",
   "execution_count": 27,
   "id": "4e0fbad6",
   "metadata": {},
   "outputs": [],
   "source": [
    "# Cleaning Question 2 solution below:\n",
    "#SEE TOP OF FILE\n",
    "#print(ndf['Sale'].unique())\n",
    "#ndf['Sale'] = ndf['Sale'].str.strip().str.upper() ####From top of file####"
   ]
  },
  {
   "cell_type": "markdown",
   "id": "cf81b612-eb6b-45a6-ac8e-d6f4e08131a8",
   "metadata": {},
   "source": [
    "##### Record your answer by below:\n",
    "> Your Answer: when initially cleaning the csv files, I used a for loop on each column and applied the unique method to give me an overview of the data entries. Then I used .strip() & .Upper() to standardize the entries."
   ]
  },
  {
   "cell_type": "markdown",
   "id": "715f375a",
   "metadata": {},
   "source": [
    "#### Cleaning Question 3:  Are there duplicates in the two data sets? If there are, how did you handle them?"
   ]
  },
  {
   "cell_type": "code",
   "execution_count": 28,
   "id": "2323673a",
   "metadata": {},
   "outputs": [],
   "source": [
    "# Cleaning Question 3 solution below:\n",
    "ndf = ndf.drop_duplicates()\n",
    "sdf = sdf.drop_duplicates()"
   ]
  },
  {
   "cell_type": "markdown",
   "id": "4fbfe2e8-490a-48dc-b0ca-599879076c62",
   "metadata": {},
   "source": [
    "##### Record your answer below:\n",
    "> Your Answer: when cleaning the data sets I used .drop_duplicates() to remove them from the data set."
   ]
  },
  {
   "cell_type": "markdown",
   "id": "8ffaa865",
   "metadata": {},
   "source": [
    "#### Cleaning Question 4:  Is any of the data in the two data sets unnecessary? If yes, how did you handle it?"
   ]
  },
  {
   "cell_type": "code",
   "execution_count": 29,
   "id": "78b45e70",
   "metadata": {},
   "outputs": [],
   "source": [
    "# Cleaning Question 4 solution below:\n",
    "\n",
    "#Commented out to prevent from running again\n",
    "#ndf.rename(columns={\"Unnamed: 0\": \"id\"}, inplace=True)\n",
    "#ndf.set_index(\"id\", inplace=True)"
   ]
  },
  {
   "cell_type": "markdown",
   "id": "689e76b9-64d2-45d7-883a-b8c4d822e0c8",
   "metadata": {},
   "source": [
    "##### Record your answer below:\n",
    "> Your Answer: for both data sets I renamed the \"unnamed: 0\" column to \"id\" and set_index(\"id\")."
   ]
  },
  {
   "cell_type": "markdown",
   "id": "73342a9a",
   "metadata": {},
   "source": [
    "## Task 3: Data Manipulation\n",
    "Before you begin answering any questions, combine the two datasets together to create a third dataframe called df. You can use this third dataframe to compare the two call centers to company-wide trends.\n",
    "* Add additional code blocks as needed to show how you came to your conclusions. Add comments in your code blocks to help others understand your thinking. Record your answer below."
   ]
  },
  {
   "cell_type": "code",
   "execution_count": 30,
   "id": "e9705c34",
   "metadata": {},
   "outputs": [
    {
     "name": "stdout",
     "output_type": "stream",
     "text": [
      "  Branch     Call Purpose Time Block Incoming or Outgoing Queue Rep ID Sale  Lost Call  Abandoned  Busy Minutes  Not Ready Minutes  Incoming Wait Time  During Call Wait Time  Calls\n",
      "0  North        Complaint    9:00 AM             Incoming     B  Brent   NO          0          1             9                  2                 1.0                      4      1\n",
      "1  North    Sales Support   11:00 AM             Incoming     A    Cam   NO          0          0            11                  1                 1.0                      3      1\n",
      "2  North    Sales Support   11:00 AM             Incoming     B   Todd   NO          0          0             9                  3                 1.0                      3      1\n",
      "3  North    Sales Support    4:00 PM             Incoming     B  Brent   NO          0          0            11                  2                 1.0                      4      1\n",
      "4  North  Product Support   12:00 PM             Incoming     B  Brent   NO          0          0             8                  2                 1.0                      4      1\n"
     ]
    }
   ],
   "source": [
    "# Create dataframe for the entire company named df\n",
    "df = pd.concat([ndf,sdf],ignore_index=True)\n",
    "print(df.head().to_string())\n",
    "\n"
   ]
  },
  {
   "cell_type": "markdown",
   "id": "7e87dfd1",
   "metadata": {},
   "source": [
    "#### Manipulation Question 1:  Group by Rep ID and sum the resulting structure. Sort by calls to determine which rep in each branch has the highest number of calls."
   ]
  },
  {
   "cell_type": "code",
   "execution_count": 31,
   "id": "3953f09a",
   "metadata": {},
   "outputs": [
    {
     "name": "stdout",
     "output_type": "stream",
     "text": [
      "  Branch Rep ID  Calls\n",
      "0  North  Brent     37\n",
      "1  South   Eric     35\n"
     ]
    }
   ],
   "source": [
    "# Manipulation Question solution below:\n",
    "br_repid_for_sum = df.groupby(['Branch', 'Rep ID'])['Calls'].sum().reset_index()\n",
    "topcalls_sort = br_repid_for_sum.sort_values(by='Calls', ascending=False)\n",
    "\n",
    "top_reps = topcalls_sort.groupby('Branch').first().reset_index()\n",
    "print(top_reps)"
   ]
  },
  {
   "cell_type": "markdown",
   "id": "7c29838c-1402-4e4b-94c9-050515d8dd18",
   "metadata": {},
   "source": [
    "##### Record your answer below\n",
    "Rep with the hightest number of calls and their total calls:\n",
    "- North Branch = Brent, 37\n",
    "- South Branch = Eric, 35"
   ]
  },
  {
   "cell_type": "markdown",
   "id": "809293b9",
   "metadata": {},
   "source": [
    "#### Manipulation Question 2:  The average call abandonment rate is a KPI when it comes to determining call center efficiency. As you may recall, abandoned calls are calls where the customer hangs up due to long call times. What is the average call abandonment rate for each branch and the whole company? Do any of these fall out of the optimal range of 2-5%?"
   ]
  },
  {
   "cell_type": "code",
   "execution_count": 32,
   "id": "3dff7534",
   "metadata": {},
   "outputs": [
    {
     "name": "stdout",
     "output_type": "stream",
     "text": [
      "2.88\n",
      "1.29\n",
      "1.99\n"
     ]
    }
   ],
   "source": [
    "# Manipulation Question 2 solution below:\n",
    "# Totals\n",
    "totalcompanycalls = df[\"Abandoned\"].value_counts().sum() #554 aka total company data\n",
    "total_n_calls = df[df[\"Branch\"]==\"North\"][\"Abandoned\"].value_counts().sum() #total north branch calls\n",
    "total_s_calls = df[df[\"Branch\"]==\"South\"][\"Abandoned\"].value_counts().sum() #total south branch calls\n",
    "\n",
    "#abandoned count\n",
    "s_abandon_count = df[df[\"Branch\"]==\"South\"][\"Abandoned\"].sum() #south branch abandon count\n",
    "n_abandon_count = df[df[\"Branch\"]==\"North\"][\"Abandoned\"].sum() #north branch abandon count\n",
    "total_abandon_count = s_abandon_count + n_abandon_count\n",
    "\n",
    "company_wide_rate = round(total_abandon_count / totalcompanycalls * 100, 2) #company percentage abandonment rate\n",
    "south_abandonment_rate = round(s_abandon_count / total_s_calls * 100, 2) #South percentage abandonment rate\n",
    "north_abandonment_rate = round(n_abandon_count / total_n_calls * 100, 2) #north percentage abandonment rate\n",
    "\n",
    "print(north_abandonment_rate)\n",
    "print(south_abandonment_rate)\n",
    "print(company_wide_rate)"
   ]
  },
  {
   "cell_type": "markdown",
   "id": "c284596f-218f-4291-81b6-718ea5671feb",
   "metadata": {},
   "source": [
    "##### Record your answer below:\n",
    "Average Call Abandonment Rates (round to the nearest hundredth):\n",
    "- North Branch = 2.88%\n",
    "- South Branch = 1.29%\n",
    "- Company Wide = 1.99%\n",
    "- Do any of these fall out of the optimal range of 2-5%?\n",
    "The overall company is just about 2% even and the south branch is under the optimal range of 2-5%. The north branch is within the optimal 2-5%"
   ]
  },
  {
   "cell_type": "markdown",
   "id": "598bb1bf",
   "metadata": {},
   "source": [
    "#### Manipulation Question 3:  Service level is another KPI when it comes to measuring call center efficiency. Service level is the percentage of calls answered within a specific number of seconds. In the case of your employer, their ideal time frame is 2 seconds. What is the percentage of calls answered within 2 seconds for each branch and the entire company?"
   ]
  },
  {
   "cell_type": "code",
   "execution_count": 33,
   "id": "2fc8f669",
   "metadata": {},
   "outputs": [
    {
     "name": "stdout",
     "output_type": "stream",
     "text": [
      "33 Calls - 40.74percent\n",
      "48 calls - 38.4percent\n",
      "81 calls - 39.32percent\n"
     ]
    }
   ],
   "source": [
    "# Manipulation Question 3 solution below:\n",
    "# calls filtered for incoming & per branch\n",
    "t_incoming = df[df[\"Incoming or Outgoing\"]==\"Incoming\"].shape[0]\n",
    "n_incoming = df[(df[\"Incoming or Outgoing\"]==\"Incoming\") & (df[\"Branch\"]==\"North\")].shape[0]\n",
    "s_incoming = df[(df[\"Incoming or Outgoing\"]==\"Incoming\") & (df[\"Branch\"]==\"South\")].shape[0]\n",
    "\n",
    "#incoming calls with filters\n",
    "#.shape[0] to get the row count of the filtered data without summing the seconds in the column\n",
    "s_iwt_good = df[(df[\"Branch\"] == \"South\") & (df[\"Incoming or Outgoing\"]== \"Incoming\") & (df[\"Incoming Wait Time\"] <= 2)].shape[0] \n",
    "n_iwt_good = df[(df[\"Branch\"] == \"North\") & (df[\"Incoming or Outgoing\"]== \"Incoming\") & (df[\"Incoming Wait Time\"] <= 2)].shape[0] \n",
    "t_iwt_good = s_iwt_good + n_iwt_good\n",
    "\n",
    "#percentage rates rounded\n",
    "n_iwt_good_rate = round(n_iwt_good / n_incoming * 100, 2)\n",
    "s_iwt_good_rate = round(s_iwt_good / s_incoming * 100, 2)\n",
    "t_iwt_good_rate = round(t_iwt_good / t_incoming * 100, 2)\n",
    "\n",
    "print(str(n_iwt_good) +\" Calls - \" + str(n_iwt_good_rate)+\"percent\")\n",
    "print(str(s_iwt_good) +\" calls - \" + str(s_iwt_good_rate)+\"percent\")\n",
    "print(str(t_iwt_good) +\" calls - \" + str(t_iwt_good_rate)+\"percent\")\n"
   ]
  },
  {
   "cell_type": "markdown",
   "id": "e3a4c9d9-4e11-4e1f-859a-d2c919f7d9ce",
   "metadata": {},
   "source": [
    "##### Record your answer below:\n",
    "Percentage of calls answered within 2 seconds, include # of calls:\n",
    "- North Branch = 40.74%, 33/81 calls\n",
    "- South Branch = 38.40%, 48/125 calls\n",
    "- Company Wide = 39.32%, 81/206 calls"
   ]
  },
  {
   "cell_type": "markdown",
   "id": "7e19e705",
   "metadata": {},
   "source": [
    "#### Manipulation Question 4: For each branch and the entire company, what is the average speed of answer?"
   ]
  },
  {
   "cell_type": "code",
   "execution_count": 34,
   "id": "72a653ed",
   "metadata": {},
   "outputs": [
    {
     "name": "stdout",
     "output_type": "stream",
     "text": [
      "3.04\n",
      "3.0\n",
      "3.01\n"
     ]
    }
   ],
   "source": [
    "# Manipulation Question 4 solution below:\n",
    "n_avg_ans_speed = df[(df[\"Incoming or Outgoing\"]==\"Incoming\") & (df[\"Branch\"]==\"North\")][\"Incoming Wait Time\"].mean()\n",
    "s_avg_ans_speed = df[(df[\"Incoming or Outgoing\"]==\"Incoming\") & (df[\"Branch\"]==\"South\")][\"Incoming Wait Time\"].mean()\n",
    "t_avg_ans_speed = df[(df[\"Incoming or Outgoing\"]==\"Incoming\")][\"Incoming Wait Time\"].mean()\n",
    "print(round(n_avg_ans_speed,2))\n",
    "print(s_avg_ans_speed)\n",
    "print(round(t_avg_ans_speed,2))"
   ]
  },
  {
   "cell_type": "markdown",
   "id": "fb04c65b-442b-48e1-b22c-b2af8b835ffd",
   "metadata": {},
   "source": [
    "##### Record your answer by below:\n",
    "Average speed of answer (rounded to nearest hundredth):\n",
    "- North Branch in seconds = 3.04\n",
    "- South Branch in seconds = 3.00\n",
    "- Company Wide in seconds = 3.01"
   ]
  },
  {
   "cell_type": "markdown",
   "id": "d5f50a40",
   "metadata": {},
   "source": [
    "## Task 4: Visualization\n",
    "\n",
    "Create a visualization for each of the following questions. Some of the code to handle aggregating and storing data may be written for you. For each visualization, you choose the chart style that you feel suits the situation best. Make note of the chart style you chose and why. \n",
    "\n",
    "*NOTE Some questions you may decide to use more than one chart and or chart style."
   ]
  },
  {
   "cell_type": "markdown",
   "id": "66ccf83c",
   "metadata": {},
   "source": [
    "#### Visualization 1:  What is the average abandonment rate per queue?"
   ]
  },
  {
   "cell_type": "code",
   "execution_count": 35,
   "id": "c971d779",
   "metadata": {},
   "outputs": [
    {
     "name": "stderr",
     "output_type": "stream",
     "text": [
      "/var/folders/q2/c8thy5d901lc5m5ygppj1ss40000gn/T/ipykernel_9979/1079484624.py:10: FutureWarning: Series.__getitem__ treating keys as positions is deprecated. In a future version, integer keys will always be treated as labels (consistent with DataFrame behavior). To access a value by position, use `ser.iloc[pos]`\n",
      "  abandonment_rates[queues[i]] = queue_dict[\"Abandoned\"][i] / queue_dict[\"Calls\"][i]\n"
     ]
    },
    {
     "data": {
      "image/png": "[encoded data removed]",
      "text/plain": [
       "<Figure size 640x480 with 1 Axes>"
      ]
     },
     "metadata": {},
     "output_type": "display_data"
    }
   ],
   "source": [
    "# Create visualization 1 here\n",
    "# Import any additional libraries needed with alias\n",
    "import matplotlib.pyplot as plt\n",
    "\n",
    "# The dictionary abandonment_rates has the data you need.\n",
    "abandonment_rates = {}\n",
    "queues = [\"A\", \"B\", \"C\", \"D\"]\n",
    "queue_dict = df.groupby(\"Queue\").agg(\"sum\")\n",
    "for i in range(4):\n",
    "    abandonment_rates[queues[i]] = queue_dict[\"Abandoned\"][i] / queue_dict[\"Calls\"][i] \n",
    "\n",
    "\n",
    "plt.bar(abandonment_rates.keys(), abandonment_rates.values(), color='skyblue')\n",
    "plt.title('Abandonment Rates by Queue')\n",
    "plt.xlabel('Queue')\n",
    "plt.ylabel('Abandonment Rate(1.0=100%)')\n",
    "plt.ylim(0,1)\n",
    "plt.show()"
   ]
  },
  {
   "cell_type": "markdown",
   "id": "00a821e7-b296-4950-8889-dacf36ef37fb",
   "metadata": {},
   "source": [
    "##### Record your answer below:\n",
    "\n",
    "> Chart style you chose and why: I used a bar graph so I could display each queue in a side by side comparison."
   ]
  },
  {
   "cell_type": "markdown",
   "id": "4a9fc77f",
   "metadata": {},
   "source": [
    "#### Visualization 2: What is the service level percentage and average speed of answer for each rep in the North Branch?"
   ]
  },
  {
   "cell_type": "code",
   "execution_count": 36,
   "id": "61f65a7f",
   "metadata": {},
   "outputs": [
    {
     "data": {
      "image/png": "[encoded data removed]",
      "text/plain": [
       "<Figure size 640x480 with 1 Axes>"
      ]
     },
     "metadata": {},
     "output_type": "display_data"
    }
   ],
   "source": [
    "# Create visualization 2 here\n",
    "# north_plt contains the data you need for the average speed of answer of each rep\n",
    "\n",
    "north_plt = ndf.groupby(\"Rep ID\")[\"Incoming Wait Time\"].mean().to_frame().reset_index()\n",
    "\n",
    "# Finding each Rep's Personal Service Level Percentage.  Basically, Calls within 2 secs / total calls\n",
    "\n",
    "# Table 1: Total Incoming calls less than 2 seconds grouped by Rep\n",
    "quick_calls = ndf[ndf[\"Incoming Wait Time\"] <= 2.0]\n",
    "quick_reps = quick_calls[[\"Rep ID\", \"Calls\"]]\n",
    "quick_stats = quick_reps.groupby([\"Rep ID\"]).sum()  # Final Table\n",
    "\n",
    "\n",
    "# Table 2: Total Incoming Calls Only grouped by Rep\n",
    "total_calls_in = ndf[ndf[\"Incoming or Outgoing\"] == \"Incoming\"]\n",
    "rep_calls = total_calls_in[[\"Rep ID\", \"Calls\"]]     \n",
    "total_stats = rep_calls.groupby([\"Rep ID\"]).sum() # Final Table  \n",
    "\n",
    "#  Table 3: Service Level Percentage created via merge\n",
    "service_level = pd.merge(quick_stats, total_stats, on=\"Rep ID\")\n",
    "\n",
    "# Create Percentage Column in Table 3\n",
    "service_level[\"Service Level %\"] = service_level[\"Calls_x\"]/service_level[\"Calls_y\"] * 100\n",
    "\n",
    "#Your Code Here:\n",
    "\n",
    "#to make Rep ID a column instead of the \"ID\"\n",
    "service_level.reset_index(inplace=True) \n",
    "\n",
    "#Variables for readability\n",
    "reps = north_plt[\"Rep ID\"]\n",
    "avg_speed = north_plt[\"Incoming Wait Time\"]\n",
    "serve_lvl = service_level[\"Service Level %\"]\n",
    "bar_width = 0.35\n",
    "x = np.arange(len(reps))\n",
    "\n",
    "fig, ax = plt.subplots()\n",
    "bars1 = ax.bar(x - bar_width/2, avg_speed, width=bar_width, label='Avg Speed of Answer (seconds)', color='skyblue')\n",
    "bars2 = ax.bar(x + bar_width/2, serve_lvl, width=bar_width, label='Service Level %', color='orange')\n",
    "\n",
    "ax.set_xlabel('Rep ID')\n",
    "ax.set_title('Avg. Answer Speed & Service Level Percent by Rep - North Branch')\n",
    "ax.set_xticks(x)\n",
    "ax.set_xticklabels(reps)\n",
    "ax.legend()\n",
    "\n",
    "plt.show()"
   ]
  },
  {
   "cell_type": "markdown",
   "id": "4d4cad4d-f9fb-4927-8a45-4b5cd17edd3a",
   "metadata": {},
   "source": [
    "##### Record your answer below:\n",
    "\n",
    "> Chart style you chose and why: I chose a double bar graph so each rep could be compared side by side against multiple stats"
   ]
  },
  {
   "cell_type": "markdown",
   "id": "f965e41a",
   "metadata": {},
   "source": [
    "#### Visualization 3: For each type of call purpose, how many calls are outgoing vs. incoming?"
   ]
  },
  {
   "cell_type": "code",
   "execution_count": 37,
   "id": "44096730",
   "metadata": {},
   "outputs": [
    {
     "data": {
      "image/png": "[encoded data removed]",
      "text/plain": [
       "<Figure size 640x480 with 1 Axes>"
      ]
     },
     "metadata": {},
     "output_type": "display_data"
    }
   ],
   "source": [
    "# Create visualization 3 here:\n",
    "# The three dictionaries, complaints, sales_support, and product_support, have the information you need\n",
    "\n",
    "purpose_group = df.groupby(\"Call Purpose\")\n",
    "call_purpose = [\"Complaint\", \"Product Support\", \"Sales Support\"]\n",
    "purpose_counts = purpose_group[\"Incoming or Outgoing\"].value_counts()\n",
    "#print(purpose_counts)\n",
    "\n",
    "complaints = purpose_counts[\"Complaint\"].to_dict()\n",
    "sales_support = purpose_counts[\"Sales Support\"].to_dict()\n",
    "product_support = purpose_counts[\"Product Support\"].to_dict()\n",
    "\n",
    "#Your Code Here:\n",
    "\n",
    "#unstack to make the incoming/outgoing into its own column for easier plotting\n",
    "purpose_counts = purpose_group[\"Incoming or Outgoing\"].value_counts().unstack() \n",
    "#print(purpose_counts)\n",
    "\n",
    "#using .plot because with unstack, data is set up to easily compare both counts without more setup using .plt .\n",
    "purpose_counts.plot(kind=\"bar\",legend=True,title=\"Incoming and Outgoing Calls by Purpose\",xlabel=\"Call Purpose\",ylabel=\"Call Count\")\n",
    "plt.xticks(rotation=0)\n",
    "plt.show()\n"
   ]
  },
  {
   "cell_type": "markdown",
   "id": "9198bbe4-44ef-4e21-bd40-6ace8e9f7694",
   "metadata": {},
   "source": [
    "##### Record your answer below:\n",
    "\n",
    "> Chart style you chose and why: I chose a double bar graph because using the unstack method on the provided data we can easily show side-by-side comparisons for each call purpose."
   ]
  },
  {
   "cell_type": "markdown",
   "id": "ea7ed568",
   "metadata": {},
   "source": [
    "## Task 5: Summarize Your Work\n",
    "\n",
    "With what you know now about the two call centers and the entire company, answer the following questions. Note that while this is subjective, you should include relevant data to back up your opinion.\n"
   ]
  },
  {
   "cell_type": "markdown",
   "id": "d2fc3d13",
   "metadata": {},
   "source": [
    "#### Summary Question 1:  Using KPIs such as average abandonment rate, service level and average speed of answer, in your opinion, which one of the two branches is operating more efficiently? Why?\n",
    "\n",
    "##### Record your answer below:\n",
    "> Your Answer: The North branch has greater efficiency compared to the South branch. With a smaller team, they manage to be busy for fewer minutes overall and achieve quicker average call wait times. Additionally, it's worth highlighting that the top rep in the North branch for call count handled 5.7% more calls than their counterpart in the South branch.\n"
   ]
  },
  {
   "cell_type": "markdown",
   "id": "489f28d6",
   "metadata": {},
   "source": [
    "#### Summary Question 2: Based on the number of reps in each branch and how quickly the reps are working, in your opinion, which branch would benefit from the extra help?\n",
    "\n",
    "##### Record your answer below:\n",
    "> Your Answer: South Branch\n",
    "\n",
    "The South branch has higher overall call volume and longer in-call waiting which suggests that they could benefit more from the added help. Increasing the number of reps in the South branch could help improve KPIs.\n",
    "\n",
    "The North branch is currently operating efficiently with fewer representatives and shorter in-call wait times and fewer busy minutes. "
   ]
  },
  {
   "cell_type": "markdown",
   "id": "0b10a8c3",
   "metadata": {},
   "source": [
    "#### Summary Question 3: Now that you have explored the datasets, is there any data or information that you wish you had in this analysis?\n",
    "\n",
    "##### Record your answer below:\n",
    "> Your Answer: The training hours each rep has had. The individual reps could display drastically different results depending on their tenure at the company and how knowlegable they are about the subject they are handling in calls.\n"
   ]
  },
  {
   "cell_type": "markdown",
   "id": "ce16f43d",
   "metadata": {},
   "source": [
    "## Bonus Mission\n",
    "Create a visualization that answers this question: For each call purpose, how many calls (incoming and outgoing) take place in each time block?\n",
    "##### Record your answer below:\n",
    "\n",
    "> Chart style you chose and why: "
   ]
  },
  {
   "cell_type": "code",
   "execution_count": 137,
   "id": "71b04f32",
   "metadata": {},
   "outputs": [
    {
     "name": "stdout",
     "output_type": "stream",
     "text": [
      "Time Block  Call Purpose     Incoming or Outgoing\n",
      "10:00 AM    Complaint        Incoming                 6\n",
      "            Product Support  Outgoing                17\n",
      "                             Incoming                 3\n",
      "            Sales Support    Outgoing                48\n",
      "                             Incoming                24\n",
      "11:00 AM    Complaint        Incoming                 3\n",
      "            Product Support  Outgoing                19\n",
      "                             Incoming                 7\n",
      "            Sales Support    Outgoing                17\n",
      "                             Incoming                 9\n",
      "12:00 PM    Complaint        Incoming                11\n",
      "            Product Support  Outgoing                51\n",
      "                             Incoming                 9\n",
      "            Sales Support    Outgoing                25\n",
      "                             Incoming                21\n",
      "1:00 PM     Complaint        Incoming                 6\n",
      "            Product Support  Outgoing                14\n",
      "                             Incoming                 2\n",
      "            Sales Support    Outgoing                11\n",
      "                             Incoming                 7\n",
      "2:00 PM     Complaint        Incoming                 5\n",
      "            Product Support  Outgoing                34\n",
      "                             Incoming                16\n",
      "            Sales Support    Outgoing                 6\n",
      "                             Incoming                 4\n",
      "3:00 PM     Complaint        Incoming                 6\n",
      "            Product Support  Outgoing                38\n",
      "                             Incoming                23\n",
      "            Sales Support    Incoming                 3\n",
      "                             Outgoing                 3\n",
      "4:00 PM     Complaint        Incoming                 3\n",
      "            Product Support  Outgoing                26\n",
      "                             Incoming                14\n",
      "            Sales Support    Incoming                 5\n",
      "                             Outgoing                 5\n",
      "5:00 PM     Complaint        Incoming                 6\n",
      "            Product Support  Outgoing                24\n",
      "                             Incoming                 8\n",
      "            Sales Support    Outgoing                 5\n",
      "9:00 AM     Complaint        Incoming                 5\n",
      "            Product Support  Outgoing                 5\n",
      "Name: count, dtype: int64\n"
     ]
    },
    {
     "name": "stderr",
     "output_type": "stream",
     "text": [
      "/var/folders/q2/c8thy5d901lc5m5ygppj1ss40000gn/T/ipykernel_9979/1911171007.py:15: FutureWarning: When grouping with a length-1 list-like, you will need to pass a length-1 tuple to get_group in a future version of pandas. Pass `(name,)` instead of `name` to silence this warning.\n",
      "  graph_ready = time_grouped.groupby([\"Call Purpose\"]).get_group(\"Complaint\")\n"
     ]
    },
    {
     "data": {
      "image/png": "[encoded data removed]",
      "text/plain": [
       "<Figure size 640x480 with 1 Axes>"
      ]
     },
     "metadata": {},
     "output_type": "display_data"
    }
   ],
   "source": [
    "# Create your Bonus Mission visualization here!\n",
    "\n",
    "call_times = df[[\"Time Block\", \"Call Purpose\", \"Incoming or Outgoing\", \"Calls\"]]\n",
    "\n",
    "\n",
    "# Use groupby to plot based on time blocks:\n",
    "time_grouped = call_times.groupby([\"Time Block\",\"Call Purpose\"])[\"Incoming or Outgoing\"].value_counts()\n",
    "print(time_grouped)\n",
    "#unstacked_valuecounts = time_grouped[\"Call Purpose\"].value_counts()\n",
    "#stacked_valuecounts = time_grouped[\"Incoming or Outgoing\"].value_counts()\n",
    "\n",
    "#graph_ready = unstacked_valuecounts.get_group()\n",
    "\n",
    "# Use groupby and get_group to select which call purpose to plot:\n",
    "graph_ready = time_grouped.groupby([\"Call Purpose\"]).get_group(\"Complaint\")\n",
    "graph_ready.plot(kind=\"bar\",ylabel=\"# of calls\",title=\"Sales Support by Time Block\")\n",
    "#ready_graph = unstacked_valuecounts.groupby(\"Call Purpose\").get_group(\"Product Support\")\n",
    "#ready_graph.plot(kind=\"bar\",title=\"Whatever\",xticks=unstacked_valuecounts[\"Time Blocks\"])\n",
    "\n",
    "plt.show()"
   ]
  },
  {
   "cell_type": "code",
   "execution_count": null,
   "id": "8a388a32",
   "metadata": {},
   "outputs": [],
   "source": []
  }
 ],
 "metadata": {
  "kernelspec": {
   "display_name": "venv",
   "language": "python",
   "name": "python3"
  },
  "language_info": {
   "codemirror_mode": {
    "name": "ipython",
    "version": 3
   },
   "file_extension": ".py",
   "mimetype": "text/x-python",
   "name": "python",
   "nbconvert_exporter": "python",
   "pygments_lexer": "ipython3",
   "version": "3.12.7"
  }
 },
 "nbformat": 4,
 "nbformat_minor": 5
}
