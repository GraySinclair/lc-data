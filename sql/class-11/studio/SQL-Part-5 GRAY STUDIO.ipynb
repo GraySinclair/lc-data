{
    "metadata": {
        "kernelspec": {
            "name": "SQL",
            "display_name": "SQL",
            "language": "sql"
        },
        "language_info": {
            "name": "sql",
            "version": ""
        }
    },
    "nbformat_minor": 2,
    "nbformat": 4,
    "cells": [
        {
            "cell_type": "markdown",
            "source": [
                "# SQL Part 5 Studio:  A Library Service\n",
                "\n",
                "## Setting Up Your Data\n",
                "\n",
                "You will be creating 5 new tables within your own schema.\n",
                "\n",
                "4 of the tables can be populated using the starter code which can be found in the `data` folder.\n",
                "\n",
                "After setting up the data you should have the following five tables:\n",
                "\n",
                "1. `book`\n",
                "2. `author`\n",
                "3. `patron`\n",
                "4. `genre`\n",
                "5. `loan`"
            ],
            "metadata": {
                "azdata_cell_guid": "bbb92179-5b05-4aaa-9354-e0884f66ac0a"
            }
        },
        {
            "cell_type": "markdown",
            "source": [
                "## **Part A: Setting Up Your Tables**\n",
                "\n",
                "### **Book Table**\n",
                "\n",
                "To create the **book** table, you can use the following SQL query:\n",
                "\n",
                "```\n",
                "CREATE TABLE [DB].[schema].book (\n",
                "    book_id INT IDENTITY(1,1) PRIMARY KEY,\n",
                "    author_id INT,\n",
                "    title VARCHAR(255),\n",
                "    isbn INT,\n",
                "    available BIT,\n",
                "    genre_id INT\n",
                ");\n",
                "```\n",
                "\n",
                "_A few notes on this syntax:_\n",
                "\n",
                "> On Auto-incrementing:\n",
                "> We are going to have SQL help us assign book\\\\_id numbers using auto-incrementing using the **IDENTITY** property.\n",
                "> The [IDENTITY](https://docs.microsoft.com/en-us/sql/t-sql/statements/create-table-transact-sql-identity-property?view=sql-server-ver15) syntax is as follows: **IDENTITY(seed, increment)**.  We want to seed the first id number as 1 in this table and increment by 1 for each following book\\\\_id.\n",
                "> On BIT datatypes:\n",
                "> For the **available** column, we are going to use the [BIT datatype](https://docs.microsoft.com/en-us/sql/t-sql/data-types/bit-transact-sql?view=sql-server-ver15) to represent True or False values.  Bit allows three entries: 0 which will stand for false,  1 which will stand for true,  and NULL.\n",
                "> On CREATE TABLES:\n",
                "> You may only create a table once.  You may comment out your creation query once you run it."
            ],
            "metadata": {
                "azdata_cell_guid": "ebf97d59-5953-4d6e-b5ba-622ec707728d"
            }
        },
        {
            "cell_type": "code",
            "source": [
                "-- Create the book table here.  Update the name of the database and schema.\n",
                "CREATE TABLE [May2024JunkDB].[gray].book (\n",
                "    book_id INT IDENTITY(1,1) PRIMARY KEY,\n",
                "    author_id INT,\n",
                "    title VARCHAR(255),\n",
                "    isbn INT,\n",
                "    available BIT,\n",
                "    genre_id INT\n",
                ");"
            ],
            "metadata": {
                "vscode": {
                    "languageId": "sql"
                },
                "azdata_cell_guid": "6d7d5144-96c6-4123-b660-6a6699acbf8f",
                "language": "sql"
            },
            "outputs": [
                {
                    "output_type": "error",
                    "ename": "",
                    "evalue": "Msg 102, Level 15, State 1, Line 3\nIncorrect syntax near 'INT'.",
                    "traceback": []
                },
                {
                    "output_type": "display_data",
                    "data": {
                        "text/html": "Total execution time: 00:00:00.022"
                    },
                    "metadata": {}
                }
            ],
            "execution_count": 19
        },
        {
            "cell_type": "markdown",
            "source": [
                "### Populate the **book** table\n",
                "\n",
                "For the starter data, use the `book_data.ipynb` notebook.\n",
                "\n",
                "> You may copy/paste the commands into the next code block.  You will need to update each INSERT statement to contain the names of your database and schema."
            ],
            "metadata": {
                "azdata_cell_guid": "4ac4544f-d3e9-4ed9-82e8-d784e6893b41"
            }
        },
        {
            "cell_type": "code",
            "source": [
                "-- Paste the book data values in this code box.  Be sure to update database and schema names.\n",
                "INSERT INTO [May2024JunkDB].[gray].book(author_id, title, isbn, available, genre_id)\n",
                "VALUES (2, 'A Midsummers Night Dream', 978149413, 1, 23)\n",
                "\n",
                "INSERT INTO [May2024JunkDB].[gray].book(author_id, title, isbn, available, genre_id)\n",
                "VALUES (2, 'Romeo and Juliet', 988535196, 1, 3);\n",
                "\n",
                "INSERT INTO [May2024JunkDB].[gray].book(author_id, title, isbn, available, genre_id)\n",
                "VALUES (1, 'The Golden Compass', 451664226, 1, 1);\n",
                "\n",
                "INSERT INTO [May2024JunkDB].[gray].book(author_id, title, isbn, available, genre_id)\n",
                "VALUES (1, 'The Subtle Knife', 160419390, 1, 1);\n",
                "\n",
                "INSERT INTO [May2024JunkDB].[gray].book(author_id, title, isbn, available, genre_id)\n",
                "VALUES (1, 'The Amber Spyglass', 94387895, 1, 1);\n",
                "\n",
                "INSERT INTO [May2024JunkDB].[gray].book(author_id, title, isbn, available, genre_id)\n",
                "VALUES (3, 'The Alchemist', 464069772, 1, 2);\n",
                "\n",
                "INSERT INTO [May2024JunkDB].[gray].book(author_id, title, isbn, available, genre_id)\n",
                "VALUES (4, 'And Then There Were None', 335973357, 1, 6);\n",
                "\n",
                "INSERT INTO [May2024JunkDB].[gray].book(author_id, title, isbn, available, genre_id)\n",
                "VALUES (5, 'The Joy Luck Club', 990050329, 1, 10);\n",
                "\n",
                "INSERT INTO [May2024JunkDB].[gray].book(author_id, title, isbn, available, genre_id)\n",
                "VALUES (5, 'The Moon Lady', 91720786, 1, 24);\n",
                "\n",
                "INSERT INTO [May2024JunkDB].[gray].book(author_id, title, isbn, available, genre_id)\n",
                "VALUES (6, 'Sense and Sensibility', 156879860, 1, 2);\n",
                "\n",
                "INSERT INTO [May2024JunkDB].[gray].book(author_id, title, isbn, available, genre_id)\n",
                "VALUES (6, 'Northanger Abbey', 951273178, 1, 3);\n",
                "\n",
                "INSERT INTO [May2024JunkDB].[gray].book(author_id, title, isbn, available, genre_id)\n",
                "VALUES (6, 'Pride and Prejudice', 415886839, 1, 3);\n",
                "\n",
                "INSERT INTO [May2024JunkDB].[gray].book(author_id, title, isbn, available, genre_id)\n",
                "VALUES (6, 'Mansfield Park', 188534067, 1, 3);\n",
                "\n",
                "INSERT INTO [May2024JunkDB].[gray].book(author_id, title, isbn, available, genre_id)\n",
                "VALUES (6, 'Emma', 994896202, 1, 3);\n",
                "\n",
                "INSERT INTO [May2024JunkDB].[gray].book(author_id, title, isbn, available, genre_id)\n",
                "VALUES (6, 'Persuasion', 28150097, 1, 3);\n",
                "\n",
                "INSERT INTO [May2024JunkDB].[gray].book(author_id, title, isbn, available, genre_id)\n",
                "VALUES (6, 'Lady Susan', 230962926, 1, 3);\n",
                "\n",
                "INSERT INTO [May2024JunkDB].[gray].book(author_id, title, isbn, available, genre_id)\n",
                "VALUES (7, 'Wuthering Heights', 280569946, 1, 3);\n",
                "\n",
                "INSERT INTO [May2024JunkDB].[gray].book(author_id, title, isbn, available, genre_id)\n",
                "VALUES (8, 'The Handmaids Tale', 639239663, 1, 5);\n",
                "\n",
                "INSERT INTO [May2024JunkDB].[gray].book(author_id, title, isbn, available, genre_id)\n",
                "VALUES (8, 'The Testaments', 826875490, 1, 5);\n",
                "\n",
                "INSERT INTO [May2024JunkDB].[gray].book(author_id, title, isbn, available, genre_id)\n",
                "VALUES (9, 'The Parable of the Sower', 283359358, 1, 5);\n",
                "\n",
                "INSERT INTO [May2024JunkDB].[gray].book(author_id, title, isbn, available, genre_id)\n",
                "VALUES (10, 'Little Women', 495409887, 1, 23);\n",
                "\n",
                "INSERT INTO [May2024JunkDB].[gray].book(author_id, title, isbn, available, genre_id)\n",
                "VALUES (11, 'Still Life', 455128657, 1, 6);\n",
                "\n",
                "INSERT INTO [May2024JunkDB].[gray].book(author_id, title, isbn, available, genre_id)\n",
                "VALUES (11, 'A Fatal Grace', 832517012, 1, 6);\n",
                "\n",
                "INSERT INTO [May2024JunkDB].[gray].book(author_id, title, isbn, available, genre_id)\n",
                "VALUES (11, 'The Cruelest Month', 419285319, 1, 6);\n",
                "\n",
                "INSERT INTO [May2024JunkDB].[gray].book(author_id, title, isbn, available, genre_id)\n",
                "VALUES (11, 'The Murder Stone', 656621400, 1, 6);\n",
                "\n",
                "INSERT INTO [May2024JunkDB].[gray].book(author_id, title, isbn, available, genre_id)\n",
                "VALUES (11, 'The Brutal Telling', 144255852, 1, 6);\n",
                "\n",
                "INSERT INTO [May2024JunkDB].[gray].book(author_id, title, isbn, available, genre_id)\n",
                "VALUES (11, 'Bury Your Dead', 208180961, 1, 6);\n",
                "\n",
                "INSERT INTO [May2024JunkDB].[gray].book(author_id, title, isbn, available, genre_id)\n",
                "VALUES (11, 'A Trick of the Light', 93451531, 1, 6);\n",
                "\n",
                "INSERT INTO [May2024JunkDB].[gray].book(author_id, title, isbn, available, genre_id)\n",
                "VALUES (12, 'Midnights Children', 881082293, 1, 10);\n",
                "\n",
                "INSERT INTO [May2024JunkDB].[gray].book(author_id, title, isbn, available, genre_id)\n",
                "VALUES (13, 'Dont Let the Pigeon Drive the Bus!', 18409532, 1, 24);\n",
                "\n",
                "INSERT INTO [May2024JunkDB].[gray].book(author_id, title, isbn, available, genre_id)\n",
                "VALUES (14, 'Beezus and Ramona', 744412630, 1, 24);\n",
                "\n",
                "INSERT INTO [May2024JunkDB].[gray].book(author_id, title, isbn, available, genre_id)\n",
                "VALUES (15, 'Organic Chemistry', 604328803, 1, 25);\n",
                "\n",
                "INSERT INTO [May2024JunkDB].[gray].book(author_id, title, isbn, available, genre_id)\n",
                "VALUES (16, 'I Know Why the Caged Bird Sings', 909947112, 1, 12);\n",
                "\n",
                "INSERT INTO [May2024JunkDB].[gray].book(author_id, title, isbn, available, genre_id)\n",
                "VALUES (17, 'Beloved', 46736233, 1, 10);\n",
                "\n",
                "INSERT INTO [May2024JunkDB].[gray].book(author_id, title, isbn, available, genre_id)\n",
                "VALUES (18, 'Brassbones and Rainbows', 330608463, 1, 26);"
            ],
            "metadata": {
                "vscode": {
                    "languageId": "sql"
                },
                "azdata_cell_guid": "0d34a90b-9d1a-4a0c-bef8-6a9984ff727a",
                "language": "sql"
            },
            "outputs": [
                {
                    "output_type": "display_data",
                    "data": {
                        "text/html": "(1 row affected)"
                    },
                    "metadata": {}
                },
                {
                    "output_type": "display_data",
                    "data": {
                        "text/html": "(1 row affected)"
                    },
                    "metadata": {}
                },
                {
                    "output_type": "display_data",
                    "data": {
                        "text/html": "(1 row affected)"
                    },
                    "metadata": {}
                },
                {
                    "output_type": "display_data",
                    "data": {
                        "text/html": "(1 row affected)"
                    },
                    "metadata": {}
                },
                {
                    "output_type": "display_data",
                    "data": {
                        "text/html": "(1 row affected)"
                    },
                    "metadata": {}
                },
                {
                    "output_type": "display_data",
                    "data": {
                        "text/html": "(1 row affected)"
                    },
                    "metadata": {}
                },
                {
                    "output_type": "display_data",
                    "data": {
                        "text/html": "(1 row affected)"
                    },
                    "metadata": {}
                },
                {
                    "output_type": "display_data",
                    "data": {
                        "text/html": "(1 row affected)"
                    },
                    "metadata": {}
                },
                {
                    "output_type": "display_data",
                    "data": {
                        "text/html": "(1 row affected)"
                    },
                    "metadata": {}
                },
                {
                    "output_type": "display_data",
                    "data": {
                        "text/html": "(1 row affected)"
                    },
                    "metadata": {}
                },
                {
                    "output_type": "display_data",
                    "data": {
                        "text/html": "(1 row affected)"
                    },
                    "metadata": {}
                },
                {
                    "output_type": "display_data",
                    "data": {
                        "text/html": "(1 row affected)"
                    },
                    "metadata": {}
                },
                {
                    "output_type": "display_data",
                    "data": {
                        "text/html": "(1 row affected)"
                    },
                    "metadata": {}
                },
                {
                    "output_type": "display_data",
                    "data": {
                        "text/html": "(1 row affected)"
                    },
                    "metadata": {}
                },
                {
                    "output_type": "display_data",
                    "data": {
                        "text/html": "(1 row affected)"
                    },
                    "metadata": {}
                },
                {
                    "output_type": "display_data",
                    "data": {
                        "text/html": "(1 row affected)"
                    },
                    "metadata": {}
                },
                {
                    "output_type": "display_data",
                    "data": {
                        "text/html": "(1 row affected)"
                    },
                    "metadata": {}
                },
                {
                    "output_type": "display_data",
                    "data": {
                        "text/html": "(1 row affected)"
                    },
                    "metadata": {}
                },
                {
                    "output_type": "display_data",
                    "data": {
                        "text/html": "(1 row affected)"
                    },
                    "metadata": {}
                },
                {
                    "output_type": "display_data",
                    "data": {
                        "text/html": "(1 row affected)"
                    },
                    "metadata": {}
                },
                {
                    "output_type": "display_data",
                    "data": {
                        "text/html": "(1 row affected)"
                    },
                    "metadata": {}
                },
                {
                    "output_type": "display_data",
                    "data": {
                        "text/html": "(1 row affected)"
                    },
                    "metadata": {}
                },
                {
                    "output_type": "display_data",
                    "data": {
                        "text/html": "(1 row affected)"
                    },
                    "metadata": {}
                },
                {
                    "output_type": "display_data",
                    "data": {
                        "text/html": "(1 row affected)"
                    },
                    "metadata": {}
                },
                {
                    "output_type": "display_data",
                    "data": {
                        "text/html": "(1 row affected)"
                    },
                    "metadata": {}
                },
                {
                    "output_type": "display_data",
                    "data": {
                        "text/html": "(1 row affected)"
                    },
                    "metadata": {}
                },
                {
                    "output_type": "display_data",
                    "data": {
                        "text/html": "(1 row affected)"
                    },
                    "metadata": {}
                },
                {
                    "output_type": "display_data",
                    "data": {
                        "text/html": "(1 row affected)"
                    },
                    "metadata": {}
                },
                {
                    "output_type": "display_data",
                    "data": {
                        "text/html": "(1 row affected)"
                    },
                    "metadata": {}
                },
                {
                    "output_type": "display_data",
                    "data": {
                        "text/html": "(1 row affected)"
                    },
                    "metadata": {}
                },
                {
                    "output_type": "display_data",
                    "data": {
                        "text/html": "(1 row affected)"
                    },
                    "metadata": {}
                },
                {
                    "output_type": "display_data",
                    "data": {
                        "text/html": "(1 row affected)"
                    },
                    "metadata": {}
                },
                {
                    "output_type": "display_data",
                    "data": {
                        "text/html": "(1 row affected)"
                    },
                    "metadata": {}
                },
                {
                    "output_type": "display_data",
                    "data": {
                        "text/html": "(1 row affected)"
                    },
                    "metadata": {}
                },
                {
                    "output_type": "display_data",
                    "data": {
                        "text/html": "(1 row affected)"
                    },
                    "metadata": {}
                },
                {
                    "output_type": "display_data",
                    "data": {
                        "text/html": "Total execution time: 00:00:00.050"
                    },
                    "metadata": {}
                }
            ],
            "execution_count": 3
        },
        {
            "cell_type": "markdown",
            "source": [
                "### Test your data\n",
                "                \n",
                "Run a quick query of your choice to see if the book table was properly created"
            ],
            "metadata": {
                "azdata_cell_guid": "703e2403-ed86-41db-9622-146c6cd2c80b"
            }
        },
        {
            "cell_type": "code",
            "source": [
                "-- test your book table here.\n",
                "USE May2024JunkDB;\n",
                "SELECT * FROM gray.book"
            ],
            "metadata": {
                "vscode": {
                    "languageId": "sql"
                },
                "azdata_cell_guid": "bc9c75c4-9aeb-4a05-9b0d-ab0b40fb09fa",
                "language": "sql"
            },
            "outputs": [
                {
                    "output_type": "display_data",
                    "data": {
                        "text/html": "(35 rows affected)"
                    },
                    "metadata": {}
                },
                {
                    "output_type": "display_data",
                    "data": {
                        "text/html": "Total execution time: 00:00:00.041"
                    },
                    "metadata": {}
                },
                {
                    "output_type": "execute_result",
                    "execution_count": 4,
                    "data": {
                        "application/vnd.dataresource+json": {
                            "schema": {
                                "fields": [
                                    {
                                        "name": "book_id"
                                    },
                                    {
                                        "name": "author_id"
                                    },
                                    {
                                        "name": "title"
                                    },
                                    {
                                        "name": "isbn"
                                    },
                                    {
                                        "name": "available"
                                    },
                                    {
                                        "name": "genre_id"
                                    }
                                ]
                            },
                            "data": [
                                {
                                    "book_id": "1",
                                    "author_id": "2",
                                    "title": "A Midsummers Night Dream",
                                    "isbn": "978149413",
                                    "available": "1",
                                    "genre_id": "23"
                                },
                                {
                                    "book_id": "2",
                                    "author_id": "2",
                                    "title": "Romeo and Juliet",
                                    "isbn": "988535196",
                                    "available": "1",
                                    "genre_id": "3"
                                },
                                {
                                    "book_id": "3",
                                    "author_id": "1",
                                    "title": "The Golden Compass",
                                    "isbn": "451664226",
                                    "available": "1",
                                    "genre_id": "1"
                                },
                                {
                                    "book_id": "4",
                                    "author_id": "1",
                                    "title": "The Subtle Knife",
                                    "isbn": "160419390",
                                    "available": "1",
                                    "genre_id": "1"
                                },
                                {
                                    "book_id": "5",
                                    "author_id": "1",
                                    "title": "The Amber Spyglass",
                                    "isbn": "94387895",
                                    "available": "1",
                                    "genre_id": "1"
                                },
                                {
                                    "book_id": "6",
                                    "author_id": "3",
                                    "title": "The Alchemist",
                                    "isbn": "464069772",
                                    "available": "1",
                                    "genre_id": "2"
                                },
                                {
                                    "book_id": "7",
                                    "author_id": "4",
                                    "title": "And Then There Were None",
                                    "isbn": "335973357",
                                    "available": "1",
                                    "genre_id": "6"
                                },
                                {
                                    "book_id": "8",
                                    "author_id": "5",
                                    "title": "The Joy Luck Club",
                                    "isbn": "990050329",
                                    "available": "1",
                                    "genre_id": "10"
                                },
                                {
                                    "book_id": "9",
                                    "author_id": "5",
                                    "title": "The Moon Lady",
                                    "isbn": "91720786",
                                    "available": "1",
                                    "genre_id": "24"
                                },
                                {
                                    "book_id": "10",
                                    "author_id": "6",
                                    "title": "Sense and Sensibility",
                                    "isbn": "156879860",
                                    "available": "1",
                                    "genre_id": "2"
                                },
                                {
                                    "book_id": "11",
                                    "author_id": "6",
                                    "title": "Northanger Abbey",
                                    "isbn": "951273178",
                                    "available": "1",
                                    "genre_id": "3"
                                },
                                {
                                    "book_id": "12",
                                    "author_id": "6",
                                    "title": "Pride and Prejudice",
                                    "isbn": "415886839",
                                    "available": "1",
                                    "genre_id": "3"
                                },
                                {
                                    "book_id": "13",
                                    "author_id": "6",
                                    "title": "Mansfield Park",
                                    "isbn": "188534067",
                                    "available": "1",
                                    "genre_id": "3"
                                },
                                {
                                    "book_id": "14",
                                    "author_id": "6",
                                    "title": "Emma",
                                    "isbn": "994896202",
                                    "available": "1",
                                    "genre_id": "3"
                                },
                                {
                                    "book_id": "15",
                                    "author_id": "6",
                                    "title": "Persuasion",
                                    "isbn": "28150097",
                                    "available": "1",
                                    "genre_id": "3"
                                },
                                {
                                    "book_id": "16",
                                    "author_id": "6",
                                    "title": "Lady Susan",
                                    "isbn": "230962926",
                                    "available": "1",
                                    "genre_id": "3"
                                },
                                {
                                    "book_id": "17",
                                    "author_id": "7",
                                    "title": "Wuthering Heights",
                                    "isbn": "280569946",
                                    "available": "1",
                                    "genre_id": "3"
                                },
                                {
                                    "book_id": "18",
                                    "author_id": "8",
                                    "title": "The Handmaids Tale",
                                    "isbn": "639239663",
                                    "available": "1",
                                    "genre_id": "5"
                                },
                                {
                                    "book_id": "19",
                                    "author_id": "8",
                                    "title": "The Testaments",
                                    "isbn": "826875490",
                                    "available": "1",
                                    "genre_id": "5"
                                },
                                {
                                    "book_id": "20",
                                    "author_id": "9",
                                    "title": "The Parable of the Sower",
                                    "isbn": "283359358",
                                    "available": "1",
                                    "genre_id": "5"
                                },
                                {
                                    "book_id": "21",
                                    "author_id": "10",
                                    "title": "Little Women",
                                    "isbn": "495409887",
                                    "available": "1",
                                    "genre_id": "23"
                                },
                                {
                                    "book_id": "22",
                                    "author_id": "11",
                                    "title": "Still Life",
                                    "isbn": "455128657",
                                    "available": "1",
                                    "genre_id": "6"
                                },
                                {
                                    "book_id": "23",
                                    "author_id": "11",
                                    "title": "A Fatal Grace",
                                    "isbn": "832517012",
                                    "available": "1",
                                    "genre_id": "6"
                                },
                                {
                                    "book_id": "24",
                                    "author_id": "11",
                                    "title": "The Cruelest Month",
                                    "isbn": "419285319",
                                    "available": "1",
                                    "genre_id": "6"
                                },
                                {
                                    "book_id": "25",
                                    "author_id": "11",
                                    "title": "The Murder Stone",
                                    "isbn": "656621400",
                                    "available": "1",
                                    "genre_id": "6"
                                },
                                {
                                    "book_id": "26",
                                    "author_id": "11",
                                    "title": "The Brutal Telling",
                                    "isbn": "144255852",
                                    "available": "1",
                                    "genre_id": "6"
                                },
                                {
                                    "book_id": "27",
                                    "author_id": "11",
                                    "title": "Bury Your Dead",
                                    "isbn": "208180961",
                                    "available": "1",
                                    "genre_id": "6"
                                },
                                {
                                    "book_id": "28",
                                    "author_id": "11",
                                    "title": "A Trick of the Light",
                                    "isbn": "93451531",
                                    "available": "1",
                                    "genre_id": "6"
                                },
                                {
                                    "book_id": "29",
                                    "author_id": "12",
                                    "title": "Midnights Children",
                                    "isbn": "881082293",
                                    "available": "1",
                                    "genre_id": "10"
                                },
                                {
                                    "book_id": "30",
                                    "author_id": "13",
                                    "title": "Dont Let the Pigeon Drive the Bus!",
                                    "isbn": "18409532",
                                    "available": "1",
                                    "genre_id": "24"
                                },
                                {
                                    "book_id": "31",
                                    "author_id": "14",
                                    "title": "Beezus and Ramona",
                                    "isbn": "744412630",
                                    "available": "1",
                                    "genre_id": "24"
                                },
                                {
                                    "book_id": "32",
                                    "author_id": "15",
                                    "title": "Organic Chemistry",
                                    "isbn": "604328803",
                                    "available": "1",
                                    "genre_id": "25"
                                },
                                {
                                    "book_id": "33",
                                    "author_id": "16",
                                    "title": "I Know Why the Caged Bird Sings",
                                    "isbn": "909947112",
                                    "available": "1",
                                    "genre_id": "12"
                                },
                                {
                                    "book_id": "34",
                                    "author_id": "17",
                                    "title": "Beloved",
                                    "isbn": "46736233",
                                    "available": "1",
                                    "genre_id": "10"
                                },
                                {
                                    "book_id": "35",
                                    "author_id": "18",
                                    "title": "Brassbones and Rainbows",
                                    "isbn": "330608463",
                                    "available": "1",
                                    "genre_id": "26"
                                }
                            ]
                        },
                        "text/html": "<table><tr><th>book_id</th><th>author_id</th><th>title</th><th>isbn</th><th>available</th><th>genre_id</th></tr><tr><td>1</td><td>2</td><td>A Midsummers Night Dream</td><td>978149413</td><td>1</td><td>23</td></tr><tr><td>2</td><td>2</td><td>Romeo and Juliet</td><td>988535196</td><td>1</td><td>3</td></tr><tr><td>3</td><td>1</td><td>The Golden Compass</td><td>451664226</td><td>1</td><td>1</td></tr><tr><td>4</td><td>1</td><td>The Subtle Knife</td><td>160419390</td><td>1</td><td>1</td></tr><tr><td>5</td><td>1</td><td>The Amber Spyglass</td><td>94387895</td><td>1</td><td>1</td></tr><tr><td>6</td><td>3</td><td>The Alchemist</td><td>464069772</td><td>1</td><td>2</td></tr><tr><td>7</td><td>4</td><td>And Then There Were None</td><td>335973357</td><td>1</td><td>6</td></tr><tr><td>8</td><td>5</td><td>The Joy Luck Club</td><td>990050329</td><td>1</td><td>10</td></tr><tr><td>9</td><td>5</td><td>The Moon Lady</td><td>91720786</td><td>1</td><td>24</td></tr><tr><td>10</td><td>6</td><td>Sense and Sensibility</td><td>156879860</td><td>1</td><td>2</td></tr><tr><td>11</td><td>6</td><td>Northanger Abbey</td><td>951273178</td><td>1</td><td>3</td></tr><tr><td>12</td><td>6</td><td>Pride and Prejudice</td><td>415886839</td><td>1</td><td>3</td></tr><tr><td>13</td><td>6</td><td>Mansfield Park</td><td>188534067</td><td>1</td><td>3</td></tr><tr><td>14</td><td>6</td><td>Emma</td><td>994896202</td><td>1</td><td>3</td></tr><tr><td>15</td><td>6</td><td>Persuasion</td><td>28150097</td><td>1</td><td>3</td></tr><tr><td>16</td><td>6</td><td>Lady Susan</td><td>230962926</td><td>1</td><td>3</td></tr><tr><td>17</td><td>7</td><td>Wuthering Heights</td><td>280569946</td><td>1</td><td>3</td></tr><tr><td>18</td><td>8</td><td>The Handmaids Tale</td><td>639239663</td><td>1</td><td>5</td></tr><tr><td>19</td><td>8</td><td>The Testaments</td><td>826875490</td><td>1</td><td>5</td></tr><tr><td>20</td><td>9</td><td>The Parable of the Sower</td><td>283359358</td><td>1</td><td>5</td></tr><tr><td>21</td><td>10</td><td>Little Women</td><td>495409887</td><td>1</td><td>23</td></tr><tr><td>22</td><td>11</td><td>Still Life</td><td>455128657</td><td>1</td><td>6</td></tr><tr><td>23</td><td>11</td><td>A Fatal Grace</td><td>832517012</td><td>1</td><td>6</td></tr><tr><td>24</td><td>11</td><td>The Cruelest Month</td><td>419285319</td><td>1</td><td>6</td></tr><tr><td>25</td><td>11</td><td>The Murder Stone</td><td>656621400</td><td>1</td><td>6</td></tr><tr><td>26</td><td>11</td><td>The Brutal Telling</td><td>144255852</td><td>1</td><td>6</td></tr><tr><td>27</td><td>11</td><td>Bury Your Dead</td><td>208180961</td><td>1</td><td>6</td></tr><tr><td>28</td><td>11</td><td>A Trick of the Light</td><td>93451531</td><td>1</td><td>6</td></tr><tr><td>29</td><td>12</td><td>Midnights Children</td><td>881082293</td><td>1</td><td>10</td></tr><tr><td>30</td><td>13</td><td>Dont Let the Pigeon Drive the Bus!</td><td>18409532</td><td>1</td><td>24</td></tr><tr><td>31</td><td>14</td><td>Beezus and Ramona</td><td>744412630</td><td>1</td><td>24</td></tr><tr><td>32</td><td>15</td><td>Organic Chemistry</td><td>604328803</td><td>1</td><td>25</td></tr><tr><td>33</td><td>16</td><td>I Know Why the Caged Bird Sings</td><td>909947112</td><td>1</td><td>12</td></tr><tr><td>34</td><td>17</td><td>Beloved</td><td>46736233</td><td>1</td><td>10</td></tr><tr><td>35</td><td>18</td><td>Brassbones and Rainbows</td><td>330608463</td><td>1</td><td>26</td></tr></table>"
                    },
                    "metadata": {}
                }
            ],
            "execution_count": 4
        },
        {
            "cell_type": "markdown",
            "source": [
                "We will repeat a similar process for the **author, patron,** and **genre** tables. \n",
                "                \n",
                "### **Author Table**\n",
                "\n",
                "To create the **author** table, you will use the following code:\n",
                "\n",
                "```\n",
                "CREATE TABLE [DB].[schema].author (\n",
                "    author_id INT IDENTITY(1,1), PRIMARY KEY\n",
                "    first_name VARCHAR(255),\n",
                "    last_name VARCHAR(255),\n",
                "    birth_year INT,\n",
                "    death_year INT\n",
                ");\n",
                "```"
            ],
            "metadata": {
                "azdata_cell_guid": "804eb74a-791b-4bb3-8876-422d629d9bd4"
            }
        },
        {
            "cell_type": "code",
            "source": [
                "-- create the author table here:\n",
                "CREATE TABLE [May2024JunkDB].[gray].author (\n",
                "    author_id INT IDENTITY(1,1) PRIMARY KEY,\n",
                "    first_name VARCHAR(255),\n",
                "    last_name VARCHAR(255),\n",
                "    birth_year INT,\n",
                "    death_year INT\n",
                ");"
            ],
            "metadata": {
                "vscode": {
                    "languageId": "sql"
                },
                "azdata_cell_guid": "2aaffb37-8182-4b25-8384-49ef00810986",
                "language": "sql"
            },
            "outputs": [
                {
                    "output_type": "display_data",
                    "data": {
                        "text/html": "Commands completed successfully."
                    },
                    "metadata": {}
                },
                {
                    "output_type": "display_data",
                    "data": {
                        "text/html": "Total execution time: 00:00:00.024"
                    },
                    "metadata": {}
                }
            ],
            "execution_count": 7
        },
        {
            "cell_type": "markdown",
            "source": [
                "Populate the **author** table with the `author_data.ipynb` notebook."
            ],
            "metadata": {
                "azdata_cell_guid": "aaa96142-20aa-4d3a-af37-26b90b830616"
            }
        },
        {
            "cell_type": "code",
            "source": [
                "-- paste the author data values in this code block.\n",
                "INSERT INTO [May2024JunkDB].[gray].author(first_name, last_name, birth_year, death_year)\n",
                "VALUES ('Phillip', 'Pullman', 1946, null);\n",
                "\n",
                "INSERT INTO [May2024JunkDB].[gray].author(first_name, last_name, birth_year, death_year)\n",
                "VALUES ('William', 'Shakespeare', 1564, 1616);\n",
                "\n",
                "INSERT INTO [May2024JunkDB].[gray].author(first_name, last_name, birth_year, death_year)\n",
                "VALUES ('Paulo', 'Coelho', 1947, null);\n",
                "\n",
                "INSERT INTO [May2024JunkDB].[gray].author(first_name, last_name, birth_year, death_year)\n",
                "VALUES ('Agatha', 'Christie', 1890-09-15, 1976-01-12);\n",
                "\n",
                "INSERT INTO [May2024JunkDB].[gray].author(first_name, last_name, birth_year, death_year)\n",
                "VALUES ('Amy', 'Tan', 1952-02-19, null);\n",
                "\n",
                "INSERT INTO [May2024JunkDB].[gray].author(first_name, last_name, birth_year, death_year)\n",
                "VALUES ('Jane', 'Austin', 1775-12-16, 1817-07-18);\n",
                "\n",
                "INSERT INTO [May2024JunkDB].[gray].author(first_name, last_name, birth_year, death_year)\n",
                "VALUES ('Emily', 'Bronte', 1818-07-30, 1848-12-19);\n",
                "\n",
                "INSERT INTO [May2024JunkDB].[gray].author(first_name, last_name, birth_year, death_year)\n",
                "VALUES ('Margaret', 'Atwood', 1939-11-18, null);\n",
                "\n",
                "INSERT INTO [May2024JunkDB].[gray].author(first_name, last_name, birth_year, death_year)\n",
                "VALUES ('Octavia', 'Butler', 1947-06-22, 2006-02-24);\n",
                "\n",
                "INSERT INTO [May2024JunkDB].[gray].author(first_name, last_name, birth_year, death_year)\n",
                "VALUES ('Louisa May', 'Alcott', 1832-11-29, 1888-03-06);\n",
                "\n",
                "INSERT INTO [May2024JunkDB].[gray].author(first_name, last_name, birth_year, death_year)\n",
                "VALUES ('Louise', 'Penny', 1958-07-01, null);\n",
                "\n",
                "INSERT INTO [May2024JunkDB].[gray].author(first_name, last_name, birth_year, death_year)\n",
                "VALUES ('Salman', 'Rushdie', 1947-08-19, null);\n",
                "\n",
                "INSERT INTO [May2024JunkDB].[gray].author(first_name, last_name, birth_year, death_year)\n",
                "VALUES ('Mo', 'Willems', 1968-02-11, null);\n",
                "\n",
                "INSERT INTO [May2024JunkDB].[gray].author(first_name, last_name, birth_year, death_year)\n",
                "VALUES ('Beverly', 'Cleary', 1916-04-12, null);\n",
                "\n",
                "INSERT INTO [May2024JunkDB].[gray].author(first_name, last_name, birth_year, death_year)\n",
                "VALUES ('Peter', 'Vollhardt', 1946-03-07, null);\n",
                "\n",
                "INSERT INTO [May2024JunkDB].[gray].author(first_name, last_name, birth_year, death_year)\n",
                "VALUES ('Maya', 'Angelou', 1928-04-04, 2014-05-28);\n",
                "\n",
                "INSERT INTO [May2024JunkDB].[gray].author(first_name, last_name, birth_year, death_year)\n",
                "VALUES ('Toni', 'Morrison', 1931-02-18, 2019-08-05);\n",
                "\n",
                "INSERT INTO [May2024JunkDB].[gray].author(first_name, last_name, birth_year, death_year)\n",
                "VALUES ('Shirley', 'LeFlore', 1940-03-06, 2019-05-12)"
            ],
            "metadata": {
                "vscode": {
                    "languageId": "sql"
                },
                "azdata_cell_guid": "11455005-9ee4-44ce-b7ac-c30d7d1a231d",
                "language": "sql"
            },
            "outputs": [
                {
                    "output_type": "display_data",
                    "data": {
                        "text/html": "(1 row affected)"
                    },
                    "metadata": {}
                },
                {
                    "output_type": "display_data",
                    "data": {
                        "text/html": "(1 row affected)"
                    },
                    "metadata": {}
                },
                {
                    "output_type": "display_data",
                    "data": {
                        "text/html": "(1 row affected)"
                    },
                    "metadata": {}
                },
                {
                    "output_type": "display_data",
                    "data": {
                        "text/html": "(1 row affected)"
                    },
                    "metadata": {}
                },
                {
                    "output_type": "display_data",
                    "data": {
                        "text/html": "(1 row affected)"
                    },
                    "metadata": {}
                },
                {
                    "output_type": "display_data",
                    "data": {
                        "text/html": "(1 row affected)"
                    },
                    "metadata": {}
                },
                {
                    "output_type": "display_data",
                    "data": {
                        "text/html": "(1 row affected)"
                    },
                    "metadata": {}
                },
                {
                    "output_type": "display_data",
                    "data": {
                        "text/html": "(1 row affected)"
                    },
                    "metadata": {}
                },
                {
                    "output_type": "display_data",
                    "data": {
                        "text/html": "(1 row affected)"
                    },
                    "metadata": {}
                },
                {
                    "output_type": "display_data",
                    "data": {
                        "text/html": "(1 row affected)"
                    },
                    "metadata": {}
                },
                {
                    "output_type": "display_data",
                    "data": {
                        "text/html": "(1 row affected)"
                    },
                    "metadata": {}
                },
                {
                    "output_type": "display_data",
                    "data": {
                        "text/html": "(1 row affected)"
                    },
                    "metadata": {}
                },
                {
                    "output_type": "display_data",
                    "data": {
                        "text/html": "(1 row affected)"
                    },
                    "metadata": {}
                },
                {
                    "output_type": "display_data",
                    "data": {
                        "text/html": "(1 row affected)"
                    },
                    "metadata": {}
                },
                {
                    "output_type": "display_data",
                    "data": {
                        "text/html": "(1 row affected)"
                    },
                    "metadata": {}
                },
                {
                    "output_type": "display_data",
                    "data": {
                        "text/html": "(1 row affected)"
                    },
                    "metadata": {}
                },
                {
                    "output_type": "display_data",
                    "data": {
                        "text/html": "(1 row affected)"
                    },
                    "metadata": {}
                },
                {
                    "output_type": "display_data",
                    "data": {
                        "text/html": "(1 row affected)"
                    },
                    "metadata": {}
                },
                {
                    "output_type": "display_data",
                    "data": {
                        "text/html": "Total execution time: 00:00:00.039"
                    },
                    "metadata": {}
                }
            ],
            "execution_count": 8
        },
        {
            "cell_type": "markdown",
            "source": [
                "### **Patron Table**\n",
                "\n",
                "To create the **patron**, you will use the following code:\n",
                "\n",
                "```\n",
                "CREATE TABLE [DB].[schema].patron (\n",
                "    patron_id INT IDENTITY (1,1) PRIMARY KEY,\n",
                "    first_name VARCHAR(255),\n",
                "    last_name VARCHAR(255),\n",
                "    loan_id INT\n",
                ");\n",
                "```"
            ],
            "metadata": {
                "azdata_cell_guid": "44ed024d-231e-4c06-abed-4d283b01a378"
            }
        },
        {
            "cell_type": "code",
            "source": [
                "-- create the patron table here:\n",
                "CREATE TABLE [May2024JunkDB].[gray].patron (\n",
                "    patron_id INT IDENTITY (1,1) PRIMARY KEY,\n",
                "    first_name VARCHAR(255),\n",
                "    last_name VARCHAR(255),\n",
                "    loan_id INT\n",
                ");"
            ],
            "metadata": {
                "vscode": {
                    "languageId": "sql"
                },
                "azdata_cell_guid": "82dbf16c-bb9c-4584-88ea-d8505624d7aa",
                "language": "sql"
            },
            "outputs": [
                {
                    "output_type": "display_data",
                    "data": {
                        "text/html": "Commands completed successfully."
                    },
                    "metadata": {}
                },
                {
                    "output_type": "display_data",
                    "data": {
                        "text/html": "Total execution time: 00:00:00.024"
                    },
                    "metadata": {}
                }
            ],
            "execution_count": 9
        },
        {
            "cell_type": "markdown",
            "source": [
                "Populate the **patron** table with the `patron_data.ipynb` notebook."
            ],
            "metadata": {
                "azdata_cell_guid": "a34ae44f-5537-4315-9788-63e7f9d4f619"
            }
        },
        {
            "cell_type": "code",
            "source": [
                "-- insert patron data into the table here.\n",
                "INSERT INTO [May2024JunkDB].[gray].patron(first_name, last_name, loan_id)\n",
                "VALUES ('Jennifer', 'Slayny', NULL);\n",
                "\n",
                "INSERT INTO [May2024JunkDB].[gray].patron(first_name, last_name, loan_id)\n",
                "VALUES ('Susan', 'Traviss', NULL);\n",
                "\n",
                "INSERT INTO [May2024JunkDB].[gray].patron(first_name, last_name, loan_id)\n",
                "VALUES ('Vincent', 'Ritelli', NULL);\n",
                "\n",
                "INSERT INTO [May2024JunkDB].[gray].patron(first_name, last_name, loan_id)\n",
                "VALUES ('Tasia', 'Laybourne', NULL);\n",
                "\n",
                "INSERT INTO [May2024JunkDB].[gray].patron(first_name, last_name, loan_id)\n",
                "VALUES ('Wren', 'Gergler', NULL);\n",
                "\n",
                "INSERT INTO [May2024JunkDB].[gray].patron(first_name, last_name, loan_id)\n",
                "VALUES ('Tory', 'Lees', NULL);\n",
                "\n",
                "INSERT INTO [May2024JunkDB].[gray].patron(first_name, last_name, loan_id)\n",
                "VALUES ('Estelle', 'Di Lorio', NULL);\n",
                "\n",
                "INSERT INTO [May2024JunkDB].[gray].patron(first_name, last_name, loan_id)\n",
                "VALUES ('Dorian', 'Betje', NULL);\n",
                "\n",
                "INSERT INTO [May2024JunkDB].[gray].patron(first_name, last_name, loan_id)\n",
                "VALUES ('Frank', 'Jelk', NULL);\n",
                "\n",
                "INSERT INTO [May2024JunkDB].[gray].patron(first_name, last_name, loan_id)\n",
                "VALUES ('Chris', 'Endon', NULL);\n",
                "\n",
                "INSERT INTO [May2024JunkDB].[gray].patron(first_name, last_name, loan_id)\n",
                "VALUES ('Gillie', 'Fritz', NULL);\n",
                "\n",
                "INSERT INTO [May2024JunkDB].[gray].patron(first_name, last_name, loan_id)\n",
                "VALUES ('Leisha', 'Defty', NULL);\n",
                "\n",
                "INSERT INTO [May2024JunkDB].[gray].patron(first_name, last_name, loan_id)\n",
                "VALUES ('Erika', 'Bompass', NULL);\n",
                "\n",
                "INSERT INTO [May2024JunkDB].[gray].patron(first_name, last_name, loan_id)\n",
                "VALUES ('Gabe', 'Moxstead', NULL);\n",
                "\n",
                "INSERT INTO [May2024JunkDB].[gray].patron(first_name, last_name, loan_id)\n",
                "VALUES ('Blake', 'Teresse', NULL);\n",
                "\n",
                "INSERT INTO [May2024JunkDB].[gray].patron(first_name, last_name, loan_id)\n",
                "VALUES ('Joshua', 'Timmouth', NULL);\n",
                "\n",
                "INSERT INTO [May2024JunkDB].[gray].patron(first_name, last_name, loan_id)\n",
                "VALUES ('Tasha', 'Timmouth', NULL);\n",
                "\n",
                "INSERT INTO [May2024JunkDB].[gray].patron(first_name, last_name, loan_id)\n",
                "VALUES ('Neil', 'Davie', NULL);\n",
                "\n",
                "INSERT INTO [May2024JunkDB].[gray].patron(first_name, last_name, loan_id)\n",
                "VALUES ('Emmeline', 'Pitherick', NULL);\n",
                "\n",
                "INSERT INTO [May2024JunkDB].[gray].patron(first_name, last_name, loan_id)\n",
                "VALUES ('Josiah', 'Staner', NULL);\n",
                "\n",
                "INSERT INTO [May2024JunkDB].[gray].patron(first_name, last_name, loan_id)\n",
                "VALUES ('James', 'Greetham', NULL);\n",
                "\n",
                "INSERT INTO [May2024JunkDB].[gray].patron(first_name, last_name, loan_id)\n",
                "VALUES ('Isaac', 'Barstowk', NULL);\n",
                "\n",
                "INSERT INTO [May2024JunkDB].[gray].patron(first_name, last_name, loan_id)\n",
                "VALUES ('Dean', 'Nelane', NULL);\n",
                "\n",
                "INSERT INTO [May2024JunkDB].[gray].patron(first_name, last_name, loan_id)\n",
                "VALUES ('Carolina', 'Cranmere', NULL);\n",
                "\n",
                "INSERT INTO [May2024JunkDB].[gray].patron(first_name, last_name, loan_id)\n",
                "VALUES ('Champ', 'Lardiner', NULL);\n",
                "\n",
                "INSERT INTO [May2024JunkDB].[gray].patron(first_name, last_name, loan_id)\n",
                "VALUES ('Abbie', 'Quaif', NULL);\n",
                "\n",
                "INSERT INTO [May2024JunkDB].[gray].patron(first_name, last_name, loan_id)\n",
                "VALUES ('Camile', 'Milbourne', NULL);\n",
                "\n",
                "INSERT INTO [May2024JunkDB].[gray].patron(first_name, last_name, loan_id)\n",
                "VALUES ('Quentin', 'Crose', NULL);\n",
                "\n",
                "INSERT INTO [May2024JunkDB].[gray].patron(first_name, last_name, loan_id)\n",
                "VALUES ('Silvano', 'Horlick', NULL);\n",
                "\n",
                "INSERT INTO [May2024JunkDB].[gray].patron(first_name, last_name, loan_id)\n",
                "VALUES ('Phyllis', 'Cicchillo', NULL);\n",
                "\n",
                "INSERT INTO [May2024JunkDB].[gray].patron(first_name, last_name, loan_id)\n",
                "VALUES ('Jerrie', 'Brownhall', NULL);\n",
                "\n",
                "INSERT INTO [May2024JunkDB].[gray].patron(first_name, last_name, loan_id)\n",
                "VALUES ('Ludovika', 'Leist', NULL);\n",
                "\n",
                "INSERT INTO [May2024JunkDB].[gray].patron(first_name, last_name, loan_id)\n",
                "VALUES ('Tara', 'Knatt', NULL);\n",
                "\n",
                "INSERT INTO [May2024JunkDB].[gray].patron(first_name, last_name, loan_id)\n",
                "VALUES ('Kelsie', 'Parkson', NULL);\n",
                "\n",
                "INSERT INTO [May2024JunkDB].[gray].patron(first_name, last_name, loan_id)\n",
                "VALUES ('Jodi', 'Leopard', NULL);\n",
                "\n",
                "INSERT INTO [May2024JunkDB].[gray].patron(first_name, last_name, loan_id)\n",
                "VALUES ('Rosanna', 'Cultcheth', NULL);\n",
                "\n",
                "INSERT INTO [May2024JunkDB].[gray].patron(first_name, last_name, loan_id)\n",
                "VALUES ('Remy', 'Fairpool', NULL);\n",
                "\n",
                "INSERT INTO [May2024JunkDB].[gray].patron(first_name, last_name, loan_id)\n",
                "VALUES ('Megan', 'Blyth', NULL);\n",
                "\n",
                "INSERT INTO [May2024JunkDB].[gray].patron(first_name, last_name, loan_id)\n",
                "VALUES ('Rikki', 'McLernon', NULL);\n",
                "\n",
                "INSERT INTO [May2024JunkDB].[gray].patron(first_name, last_name, loan_id)\n",
                "VALUES ('Clare', 'Haacker', NULL);\n",
                "\n",
                "INSERT INTO [May2024JunkDB].[gray].patron(first_name, last_name, loan_id)\n",
                "VALUES ('Vincent', 'Chettle', NULL);\n",
                "\n",
                "INSERT INTO [May2024JunkDB].[gray].patron(first_name, last_name, loan_id)\n",
                "VALUES ('Sybil', 'Costanza', NULL);\n",
                "\n",
                "INSERT INTO [May2024JunkDB].[gray].patron(first_name, last_name, loan_id)\n",
                "VALUES ('Jonas', 'Sinclare', NULL);\n",
                "\n",
                "INSERT INTO [May2024JunkDB].[gray].patron(first_name, last_name, loan_id)\n",
                "VALUES ('Claire', 'Bendel', NULL);\n",
                "\n",
                "INSERT INTO [May2024JunkDB].[gray].patron(first_name, last_name, loan_id)\n",
                "VALUES ('Kathleen', 'Welband', NULL);\n",
                "\n",
                "INSERT INTO [May2024JunkDB].[gray].patron(first_name, last_name, loan_id)\n",
                "VALUES ('Kylie', 'Crannage', NULL);\n",
                "\n",
                "INSERT INTO [May2024JunkDB].[gray].patron(first_name, last_name, loan_id)\n",
                "VALUES ('Evelyn', 'Tarajo', NULL);\n",
                "\n",
                "INSERT INTO [May2024JunkDB].[gray].patron(first_name, last_name, loan_id)\n",
                "VALUES ('Oliver', 'Caulson', NULL);"
            ],
            "metadata": {
                "vscode": {
                    "languageId": "sql"
                },
                "azdata_cell_guid": "74e25424-422a-4d9f-bc46-1939bb2825bf",
                "language": "sql"
            },
            "outputs": [
                {
                    "output_type": "display_data",
                    "data": {
                        "text/html": "(1 row affected)"
                    },
                    "metadata": {}
                },
                {
                    "output_type": "display_data",
                    "data": {
                        "text/html": "(1 row affected)"
                    },
                    "metadata": {}
                },
                {
                    "output_type": "display_data",
                    "data": {
                        "text/html": "(1 row affected)"
                    },
                    "metadata": {}
                },
                {
                    "output_type": "display_data",
                    "data": {
                        "text/html": "(1 row affected)"
                    },
                    "metadata": {}
                },
                {
                    "output_type": "display_data",
                    "data": {
                        "text/html": "(1 row affected)"
                    },
                    "metadata": {}
                },
                {
                    "output_type": "display_data",
                    "data": {
                        "text/html": "(1 row affected)"
                    },
                    "metadata": {}
                },
                {
                    "output_type": "display_data",
                    "data": {
                        "text/html": "(1 row affected)"
                    },
                    "metadata": {}
                },
                {
                    "output_type": "display_data",
                    "data": {
                        "text/html": "(1 row affected)"
                    },
                    "metadata": {}
                },
                {
                    "output_type": "display_data",
                    "data": {
                        "text/html": "(1 row affected)"
                    },
                    "metadata": {}
                },
                {
                    "output_type": "display_data",
                    "data": {
                        "text/html": "(1 row affected)"
                    },
                    "metadata": {}
                },
                {
                    "output_type": "display_data",
                    "data": {
                        "text/html": "(1 row affected)"
                    },
                    "metadata": {}
                },
                {
                    "output_type": "display_data",
                    "data": {
                        "text/html": "(1 row affected)"
                    },
                    "metadata": {}
                },
                {
                    "output_type": "display_data",
                    "data": {
                        "text/html": "(1 row affected)"
                    },
                    "metadata": {}
                },
                {
                    "output_type": "display_data",
                    "data": {
                        "text/html": "(1 row affected)"
                    },
                    "metadata": {}
                },
                {
                    "output_type": "display_data",
                    "data": {
                        "text/html": "(1 row affected)"
                    },
                    "metadata": {}
                },
                {
                    "output_type": "display_data",
                    "data": {
                        "text/html": "(1 row affected)"
                    },
                    "metadata": {}
                },
                {
                    "output_type": "display_data",
                    "data": {
                        "text/html": "(1 row affected)"
                    },
                    "metadata": {}
                },
                {
                    "output_type": "display_data",
                    "data": {
                        "text/html": "(1 row affected)"
                    },
                    "metadata": {}
                },
                {
                    "output_type": "display_data",
                    "data": {
                        "text/html": "(1 row affected)"
                    },
                    "metadata": {}
                },
                {
                    "output_type": "display_data",
                    "data": {
                        "text/html": "(1 row affected)"
                    },
                    "metadata": {}
                },
                {
                    "output_type": "display_data",
                    "data": {
                        "text/html": "(1 row affected)"
                    },
                    "metadata": {}
                },
                {
                    "output_type": "display_data",
                    "data": {
                        "text/html": "(1 row affected)"
                    },
                    "metadata": {}
                },
                {
                    "output_type": "display_data",
                    "data": {
                        "text/html": "(1 row affected)"
                    },
                    "metadata": {}
                },
                {
                    "output_type": "display_data",
                    "data": {
                        "text/html": "(1 row affected)"
                    },
                    "metadata": {}
                },
                {
                    "output_type": "display_data",
                    "data": {
                        "text/html": "(1 row affected)"
                    },
                    "metadata": {}
                },
                {
                    "output_type": "display_data",
                    "data": {
                        "text/html": "(1 row affected)"
                    },
                    "metadata": {}
                },
                {
                    "output_type": "display_data",
                    "data": {
                        "text/html": "(1 row affected)"
                    },
                    "metadata": {}
                },
                {
                    "output_type": "display_data",
                    "data": {
                        "text/html": "(1 row affected)"
                    },
                    "metadata": {}
                },
                {
                    "output_type": "display_data",
                    "data": {
                        "text/html": "(1 row affected)"
                    },
                    "metadata": {}
                },
                {
                    "output_type": "display_data",
                    "data": {
                        "text/html": "(1 row affected)"
                    },
                    "metadata": {}
                },
                {
                    "output_type": "display_data",
                    "data": {
                        "text/html": "(1 row affected)"
                    },
                    "metadata": {}
                },
                {
                    "output_type": "display_data",
                    "data": {
                        "text/html": "(1 row affected)"
                    },
                    "metadata": {}
                },
                {
                    "output_type": "display_data",
                    "data": {
                        "text/html": "(1 row affected)"
                    },
                    "metadata": {}
                },
                {
                    "output_type": "display_data",
                    "data": {
                        "text/html": "(1 row affected)"
                    },
                    "metadata": {}
                },
                {
                    "output_type": "display_data",
                    "data": {
                        "text/html": "(1 row affected)"
                    },
                    "metadata": {}
                },
                {
                    "output_type": "display_data",
                    "data": {
                        "text/html": "(1 row affected)"
                    },
                    "metadata": {}
                },
                {
                    "output_type": "display_data",
                    "data": {
                        "text/html": "(1 row affected)"
                    },
                    "metadata": {}
                },
                {
                    "output_type": "display_data",
                    "data": {
                        "text/html": "(1 row affected)"
                    },
                    "metadata": {}
                },
                {
                    "output_type": "display_data",
                    "data": {
                        "text/html": "(1 row affected)"
                    },
                    "metadata": {}
                },
                {
                    "output_type": "display_data",
                    "data": {
                        "text/html": "(1 row affected)"
                    },
                    "metadata": {}
                },
                {
                    "output_type": "display_data",
                    "data": {
                        "text/html": "(1 row affected)"
                    },
                    "metadata": {}
                },
                {
                    "output_type": "display_data",
                    "data": {
                        "text/html": "(1 row affected)"
                    },
                    "metadata": {}
                },
                {
                    "output_type": "display_data",
                    "data": {
                        "text/html": "(1 row affected)"
                    },
                    "metadata": {}
                },
                {
                    "output_type": "display_data",
                    "data": {
                        "text/html": "(1 row affected)"
                    },
                    "metadata": {}
                },
                {
                    "output_type": "display_data",
                    "data": {
                        "text/html": "(1 row affected)"
                    },
                    "metadata": {}
                },
                {
                    "output_type": "display_data",
                    "data": {
                        "text/html": "(1 row affected)"
                    },
                    "metadata": {}
                },
                {
                    "output_type": "display_data",
                    "data": {
                        "text/html": "(1 row affected)"
                    },
                    "metadata": {}
                },
                {
                    "output_type": "display_data",
                    "data": {
                        "text/html": "(1 row affected)"
                    },
                    "metadata": {}
                },
                {
                    "output_type": "display_data",
                    "data": {
                        "text/html": "Total execution time: 00:00:00.066"
                    },
                    "metadata": {}
                }
            ],
            "execution_count": 10
        },
        {
            "cell_type": "markdown",
            "source": [
                "### **Genre Table**\n",
                "\n",
                "To create the **genre** table, use the following code:\n",
                "\n",
                "```\n",
                "CREATE TABLE [DB].[schema].genre (\n",
                "    genre_id INT PRIMARY KEY,\n",
                "    genres VARCHAR(100)\n",
                ");\n",
                "```"
            ],
            "metadata": {
                "azdata_cell_guid": "c2e0b2d5-e792-4962-8668-49c53e166a96"
            }
        },
        {
            "cell_type": "code",
            "source": [
                "-- create genre table here.\n",
                "CREATE TABLE May2024JunkDB.gray.genre(\n",
                "    genre_id INT PRIMARY KEY,\n",
                "    genres VARCHAR(100)\n",
                ");\n",
                ""
            ],
            "metadata": {
                "vscode": {
                    "languageId": "sql"
                },
                "azdata_cell_guid": "20d1df14-1f38-4361-a5c3-bf0a0dc6090a",
                "language": "sql",
                "tags": []
            },
            "outputs": [
                {
                    "output_type": "display_data",
                    "data": {
                        "text/html": "Commands completed successfully."
                    },
                    "metadata": {}
                },
                {
                    "output_type": "display_data",
                    "data": {
                        "text/html": "Total execution time: 00:00:00.023"
                    },
                    "metadata": {}
                }
            ],
            "execution_count": 11
        },
        {
            "cell_type": "markdown",
            "source": [
                "Populate the **genre** table with the `genre_data.ipynb` notebook."
            ],
            "metadata": {
                "azdata_cell_guid": "fcef6bbd-a3ce-4d6a-9ea4-89ffbc816e98"
            }
        },
        {
            "cell_type": "code",
            "source": [
                "-- insert the genre data into the table here.\n",
                "INSERT INTO [May2024JunkDB].[gray].genre(genre_id, genres)\n",
                "VALUES (1, 'Fantasy');\n",
                "\n",
                "INSERT INTO [May2024JunkDB].[gray].genre(genre_id, genres)\n",
                "VALUES (2, 'Adventure');\n",
                "\n",
                "INSERT INTO [May2024JunkDB].[gray].genre(genre_id, genres)\n",
                "VALUES (3, 'Romance');\n",
                "\n",
                "INSERT INTO [May2024JunkDB].[gray].genre(genre_id, genres)\n",
                "VALUES (4, 'Contemporary');\n",
                "\n",
                "INSERT INTO [May2024JunkDB].[gray].genre(genre_id, genres)\n",
                "VALUES (5, 'Dystopian');\n",
                "\n",
                "INSERT INTO [May2024JunkDB].[gray].genre(genre_id, genres)\n",
                "VALUES (6, 'Mystery');\n",
                "\n",
                "INSERT INTO [May2024JunkDB].[gray].genre(genre_id, genres)\n",
                "VALUES (7, 'Horror');\n",
                "\n",
                "INSERT INTO [May2024JunkDB].[gray].genre(genre_id, genres)\n",
                "VALUES (8, 'Thriller');\n",
                "\n",
                "INSERT INTO [May2024JunkDB].[gray].genre(genre_id, genres)\n",
                "VALUES (9, 'Paranormal');\n",
                "\n",
                "INSERT INTO [May2024JunkDB].[gray].genre(genre_id, genres)\n",
                "VALUES (10, 'Historical Fiction');\n",
                "\n",
                "INSERT INTO [May2024JunkDB].[gray].genre(genre_id, genres)\n",
                "VALUES (11, 'Science Fiction');\n",
                "\n",
                "INSERT INTO [May2024JunkDB].[gray].genre(genre_id, genres)\n",
                "VALUES (12, 'Memoir');\n",
                "\n",
                "INSERT INTO [May2024JunkDB].[gray].genre(genre_id, genres)\n",
                "VALUES (13, 'Cooking');\n",
                "\n",
                "INSERT INTO [May2024JunkDB].[gray].genre(genre_id, genres)\n",
                "VALUES (14, 'Art');\n",
                "\n",
                "INSERT INTO [May2024JunkDB].[gray].genre(genre_id, genres)\n",
                "VALUES (15, 'Self-Help');\n",
                "\n",
                "INSERT INTO [May2024JunkDB].[gray].genre(genre_id, genres)\n",
                "VALUES (16, 'Development');\n",
                "\n",
                "INSERT INTO [May2024JunkDB].[gray].genre(genre_id, genres)\n",
                "VALUES (17, 'Motivational');\n",
                "\n",
                "INSERT INTO [May2024JunkDB].[gray].genre(genre_id, genres)\n",
                "VALUES (18, 'Health');\n",
                "\n",
                "INSERT INTO [May2024JunkDB].[gray].genre(genre_id, genres)\n",
                "VALUES (19, 'History');\n",
                "\n",
                "INSERT INTO [May2024JunkDB].[gray].genre(genre_id, genres)\n",
                "VALUES (20, 'Travel');\n",
                "\n",
                "INSERT INTO [May2024JunkDB].[gray].genre(genre_id, genres)\n",
                "VALUES (21, 'Guide');\n",
                "\n",
                "INSERT INTO [May2024JunkDB].[gray].genre(genre_id, genres)\n",
                "VALUES (22, 'Families and Relationships');\n",
                "\n",
                "INSERT INTO [May2024JunkDB].[gray].genre(genre_id, genres)\n",
                "VALUES (23, 'Humor');\n",
                "\n",
                "INSERT INTO [May2024JunkDB].[gray].genre(genre_id, genres)\n",
                "VALUES (24, 'Childrens');\n",
                "\n",
                "INSERT INTO [May2024JunkDB].[gray].genre(genre_id, genres)\n",
                "VALUES (25, 'Reference');\n",
                "\n",
                "INSERT INTO [May2024JunkDB].[gray].genre(genre_id, genres)\n",
                "VALUES (26, 'Poetry');"
            ],
            "metadata": {
                "vscode": {
                    "languageId": "sql"
                },
                "azdata_cell_guid": "9d5d2465-ef93-4cde-8dc5-dbf41c13d422",
                "language": "sql"
            },
            "outputs": [
                {
                    "output_type": "display_data",
                    "data": {
                        "text/html": "(1 row affected)"
                    },
                    "metadata": {}
                },
                {
                    "output_type": "display_data",
                    "data": {
                        "text/html": "(1 row affected)"
                    },
                    "metadata": {}
                },
                {
                    "output_type": "display_data",
                    "data": {
                        "text/html": "(1 row affected)"
                    },
                    "metadata": {}
                },
                {
                    "output_type": "display_data",
                    "data": {
                        "text/html": "(1 row affected)"
                    },
                    "metadata": {}
                },
                {
                    "output_type": "display_data",
                    "data": {
                        "text/html": "(1 row affected)"
                    },
                    "metadata": {}
                },
                {
                    "output_type": "display_data",
                    "data": {
                        "text/html": "(1 row affected)"
                    },
                    "metadata": {}
                },
                {
                    "output_type": "display_data",
                    "data": {
                        "text/html": "(1 row affected)"
                    },
                    "metadata": {}
                },
                {
                    "output_type": "display_data",
                    "data": {
                        "text/html": "(1 row affected)"
                    },
                    "metadata": {}
                },
                {
                    "output_type": "display_data",
                    "data": {
                        "text/html": "(1 row affected)"
                    },
                    "metadata": {}
                },
                {
                    "output_type": "display_data",
                    "data": {
                        "text/html": "(1 row affected)"
                    },
                    "metadata": {}
                },
                {
                    "output_type": "display_data",
                    "data": {
                        "text/html": "(1 row affected)"
                    },
                    "metadata": {}
                },
                {
                    "output_type": "display_data",
                    "data": {
                        "text/html": "(1 row affected)"
                    },
                    "metadata": {}
                },
                {
                    "output_type": "display_data",
                    "data": {
                        "text/html": "(1 row affected)"
                    },
                    "metadata": {}
                },
                {
                    "output_type": "display_data",
                    "data": {
                        "text/html": "(1 row affected)"
                    },
                    "metadata": {}
                },
                {
                    "output_type": "display_data",
                    "data": {
                        "text/html": "(1 row affected)"
                    },
                    "metadata": {}
                },
                {
                    "output_type": "display_data",
                    "data": {
                        "text/html": "(1 row affected)"
                    },
                    "metadata": {}
                },
                {
                    "output_type": "display_data",
                    "data": {
                        "text/html": "(1 row affected)"
                    },
                    "metadata": {}
                },
                {
                    "output_type": "display_data",
                    "data": {
                        "text/html": "(1 row affected)"
                    },
                    "metadata": {}
                },
                {
                    "output_type": "display_data",
                    "data": {
                        "text/html": "(1 row affected)"
                    },
                    "metadata": {}
                },
                {
                    "output_type": "display_data",
                    "data": {
                        "text/html": "(1 row affected)"
                    },
                    "metadata": {}
                },
                {
                    "output_type": "display_data",
                    "data": {
                        "text/html": "(1 row affected)"
                    },
                    "metadata": {}
                },
                {
                    "output_type": "display_data",
                    "data": {
                        "text/html": "(1 row affected)"
                    },
                    "metadata": {}
                },
                {
                    "output_type": "display_data",
                    "data": {
                        "text/html": "(1 row affected)"
                    },
                    "metadata": {}
                },
                {
                    "output_type": "display_data",
                    "data": {
                        "text/html": "(1 row affected)"
                    },
                    "metadata": {}
                },
                {
                    "output_type": "display_data",
                    "data": {
                        "text/html": "(1 row affected)"
                    },
                    "metadata": {}
                },
                {
                    "output_type": "display_data",
                    "data": {
                        "text/html": "(1 row affected)"
                    },
                    "metadata": {}
                },
                {
                    "output_type": "display_data",
                    "data": {
                        "text/html": "Total execution time: 00:00:00.037"
                    },
                    "metadata": {}
                }
            ],
            "execution_count": 12
        },
        {
            "cell_type": "markdown",
            "source": [
                "### **Loan Table**\n",
                "\n",
                "The **loan** table will be created differently and will stay empty.  We will use our other tables to populate the loan table using queries shortly. \n",
                "\n",
                "Use the following code to create the **loan** table:\n",
                "\n",
                "```\n",
                "CREATE TABLE [DB].[schema].loan (\n",
                "    loan_id INT IDENTITY(1,1) PRIMARY KEY,\n",
                "    patron_id INT,\n",
                "    date_out DATE,\n",
                "    date_in DATE,\n",
                "    book_id INT\n",
                "    CONSTRAINT book_id FOREIGN KEY (book_id) REFERENCES [DB].[schema].book (book_id)\n",
                "        ON UPDATE SET NULL\n",
                "        ON DELETE SET NULL\n",
                ");\n",
                "```\n",
                "\n",
                "_Notes about the syntax:_\n",
                "\n",
                "> We are adding a [foreign key](https://www.w3schools.com/sql/sql_foreignkey.asp) to this table to reference a different table's primary key.  In this studio, we are going to link the **loan** table to the **book** table using keys.  The **loan** table will reference and add book id numbers based on the **book** table's `book_id`.  We are also providing [constraints](https://www.w3schools.com/sql/sql_constraints.asp) to be very specific about what type of data is allowed in this column."
            ],
            "metadata": {
                "azdata_cell_guid": "f29799e3-1c89-4e88-80be-453efca1e022"
            }
        },
        {
            "cell_type": "code",
            "source": [
                "-- Code the loan table.\n",
                "-- Note that you will need to update the first and seventh lines with your database and schema info.\n",
                "CREATE TABLE [May2024JunkDB].[gray].loan (\n",
                "    loan_id INT IDENTITY(1,1) PRIMARY KEY,\n",
                "    patron_id INT,\n",
                "    date_out DATE,\n",
                "    date_in DATE,\n",
                "    book_id INT\n",
                "    CONSTRAINT book_id FOREIGN KEY (book_id) REFERENCES [May2024JunkDB].[gray].book (book_id)\n",
                "        ON UPDATE SET NULL\n",
                "        ON DELETE SET NULL\n",
                ");"
            ],
            "metadata": {
                "vscode": {
                    "languageId": "sql"
                },
                "azdata_cell_guid": "17981b6f-e564-400a-ae8a-52280108ac96",
                "language": "sql"
            },
            "outputs": [
                {
                    "output_type": "display_data",
                    "data": {
                        "text/html": "Commands completed successfully."
                    },
                    "metadata": {}
                },
                {
                    "output_type": "display_data",
                    "data": {
                        "text/html": "Total execution time: 00:00:00.024"
                    },
                    "metadata": {}
                }
            ],
            "execution_count": 14
        },
        {
            "cell_type": "markdown",
            "source": [
                "## **Part B: Warm-Up Queries**\n",
                "\n",
                "Write the following queries to get warmed up and make sure your tables have populated appropriately.\n",
                "\n",
                "1. Return the mystery book titles and their ISBNs.\n",
                "2. Return all of the titles and the author's first and last names for books written by authors who are currently living."
            ],
            "metadata": {
                "azdata_cell_guid": "33b651e9-8dbc-4ba4-8768-bc74b987a8d8"
            }
        },
        {
            "cell_type": "code",
            "source": [
                "-- Code your warm ups here:\n",
                "/*\n",
                "SELECT title, isbn\n",
                "FROM gray.book\n",
                "*/\n",
                "\n",
                "SELECT b.title, a.first_name as Fname, a.last_name as Lname\n",
                "FROM gray.book as b\n",
                "INNER JOIN gray.author AS a ON b.author_id = a.author_id\n",
                "WHERE a.death_year IS NULL\n",
                ""
            ],
            "metadata": {
                "vscode": {
                    "languageId": "sql"
                },
                "azdata_cell_guid": "d180d6f2-1d4a-4a3b-960a-681672954b8d",
                "language": "sql",
                "tags": []
            },
            "outputs": [
                {
                    "output_type": "display_data",
                    "data": {
                        "text/html": "(19 rows affected)"
                    },
                    "metadata": {}
                },
                {
                    "output_type": "display_data",
                    "data": {
                        "text/html": "Total execution time: 00:00:00.025"
                    },
                    "metadata": {}
                },
                {
                    "output_type": "execute_result",
                    "execution_count": 30,
                    "data": {
                        "application/vnd.dataresource+json": {
                            "schema": {
                                "fields": [
                                    {
                                        "name": "title"
                                    },
                                    {
                                        "name": "Fname"
                                    },
                                    {
                                        "name": "Lname"
                                    }
                                ]
                            },
                            "data": [
                                {
                                    "title": "The Golden Compass",
                                    "Fname": "Phillip",
                                    "Lname": "Pullman"
                                },
                                {
                                    "title": "The Subtle Knife",
                                    "Fname": "Phillip",
                                    "Lname": "Pullman"
                                },
                                {
                                    "title": "The Amber Spyglass",
                                    "Fname": "Phillip",
                                    "Lname": "Pullman"
                                },
                                {
                                    "title": "The Alchemist",
                                    "Fname": "Paulo",
                                    "Lname": "Coelho"
                                },
                                {
                                    "title": "The Joy Luck Club",
                                    "Fname": "Amy",
                                    "Lname": "Tan"
                                },
                                {
                                    "title": "The Moon Lady",
                                    "Fname": "Amy",
                                    "Lname": "Tan"
                                },
                                {
                                    "title": "The Handmaids Tale",
                                    "Fname": "Margaret",
                                    "Lname": "Atwood"
                                },
                                {
                                    "title": "The Testaments",
                                    "Fname": "Margaret",
                                    "Lname": "Atwood"
                                },
                                {
                                    "title": "Still Life",
                                    "Fname": "Louise",
                                    "Lname": "Penny"
                                },
                                {
                                    "title": "A Fatal Grace",
                                    "Fname": "Louise",
                                    "Lname": "Penny"
                                },
                                {
                                    "title": "The Cruelest Month",
                                    "Fname": "Louise",
                                    "Lname": "Penny"
                                },
                                {
                                    "title": "The Murder Stone",
                                    "Fname": "Louise",
                                    "Lname": "Penny"
                                },
                                {
                                    "title": "The Brutal Telling",
                                    "Fname": "Louise",
                                    "Lname": "Penny"
                                },
                                {
                                    "title": "Bury Your Dead",
                                    "Fname": "Louise",
                                    "Lname": "Penny"
                                },
                                {
                                    "title": "A Trick of the Light",
                                    "Fname": "Louise",
                                    "Lname": "Penny"
                                },
                                {
                                    "title": "Midnights Children",
                                    "Fname": "Salman",
                                    "Lname": "Rushdie"
                                },
                                {
                                    "title": "Dont Let the Pigeon Drive the Bus!",
                                    "Fname": "Mo",
                                    "Lname": "Willems"
                                },
                                {
                                    "title": "Beezus and Ramona",
                                    "Fname": "Beverly",
                                    "Lname": "Cleary"
                                },
                                {
                                    "title": "Organic Chemistry",
                                    "Fname": "Peter",
                                    "Lname": "Vollhardt"
                                }
                            ]
                        },
                        "text/html": "<table><tr><th>title</th><th>Fname</th><th>Lname</th></tr><tr><td>The Golden Compass</td><td>Phillip</td><td>Pullman</td></tr><tr><td>The Subtle Knife</td><td>Phillip</td><td>Pullman</td></tr><tr><td>The Amber Spyglass</td><td>Phillip</td><td>Pullman</td></tr><tr><td>The Alchemist</td><td>Paulo</td><td>Coelho</td></tr><tr><td>The Joy Luck Club</td><td>Amy</td><td>Tan</td></tr><tr><td>The Moon Lady</td><td>Amy</td><td>Tan</td></tr><tr><td>The Handmaids Tale</td><td>Margaret</td><td>Atwood</td></tr><tr><td>The Testaments</td><td>Margaret</td><td>Atwood</td></tr><tr><td>Still Life</td><td>Louise</td><td>Penny</td></tr><tr><td>A Fatal Grace</td><td>Louise</td><td>Penny</td></tr><tr><td>The Cruelest Month</td><td>Louise</td><td>Penny</td></tr><tr><td>The Murder Stone</td><td>Louise</td><td>Penny</td></tr><tr><td>The Brutal Telling</td><td>Louise</td><td>Penny</td></tr><tr><td>Bury Your Dead</td><td>Louise</td><td>Penny</td></tr><tr><td>A Trick of the Light</td><td>Louise</td><td>Penny</td></tr><tr><td>Midnights Children</td><td>Salman</td><td>Rushdie</td></tr><tr><td>Dont Let the Pigeon Drive the Bus!</td><td>Mo</td><td>Willems</td></tr><tr><td>Beezus and Ramona</td><td>Beverly</td><td>Cleary</td></tr><tr><td>Organic Chemistry</td><td>Peter</td><td>Vollhardt</td></tr></table>"
                    },
                    "metadata": {}
                }
            ],
            "execution_count": 30
        },
        {
            "cell_type": "markdown",
            "source": [
                "## **Part C: Loan Out a Book**\n",
                "                \n",
                "The library would like you to create a query that will update the database when a book is loaned out.\n",
                "\n",
                "This query needs to perform the following functions:\n",
                "\n",
                "1. Change **available** to **0** (false) for the appropriate book.\n",
                "2. Add a new row to the **loan** table with today's date as the `date_out` and the ids in the row matching the appropriate `patron_id` and `book_id`.\n",
                "3. Update the appropriate **patron** with the `loan_id` for the new row created in the **loan** table.\n",
                "\n",
                "You can use any patron and book that strikes your fancy to create and test out this query.\n",
                "\n",
                "> _Note:  Every time you test this, you will add an additional row to the output, creating a new loan id each time.  If you do not update the patron id, then a patron will have multiple loan ids.  This is not an issue for Part C;_ _however, this may cause issues when you work on Part F._"
            ],
            "metadata": {
                "azdata_cell_guid": "50bee1a0-697c-44c1-8092-69e2779f311e"
            }
        },
        {
            "cell_type": "code",
            "source": [
                "-- Create your query that will loan out a book:\n",
                "USE May2024JunkDB;\n",
                "\n",
                "/* UPDATE gray.book\n",
                "SET available=0\n",
                "WHERE gray.book.book_id=1; */\n",
                "\n",
                "/* INSERT INTO gray.loan(patron_id,date_out,book_id)\n",
                "VALUES(2,'08/06/24',1); */\n",
                "\n",
                "d\n",
                "/* UPDATE gray.patron\n",
                "SET loan_id=1\n",
                "WHERE patron_id = 2 */\n",
                "\n",
                "SELECT * FROM gray.book\n",
                "SELECT * FROM gray.loan\n",
                "SELECT * FROM gray.patron"
            ],
            "metadata": {
                "vscode": {
                    "languageId": "sql"
                },
                "azdata_cell_guid": "8154f66c-75f6-44e9-b3a8-05ed07451a7e",
                "language": "sql",
                "tags": []
            },
            "outputs": [
                {
                    "output_type": "display_data",
                    "data": {
                        "text/html": "(1 row affected)"
                    },
                    "metadata": {}
                },
                {
                    "output_type": "display_data",
                    "data": {
                        "text/html": "(35 rows affected)"
                    },
                    "metadata": {}
                },
                {
                    "output_type": "display_data",
                    "data": {
                        "text/html": "(1 row affected)"
                    },
                    "metadata": {}
                },
                {
                    "output_type": "display_data",
                    "data": {
                        "text/html": "(48 rows affected)"
                    },
                    "metadata": {}
                },
                {
                    "output_type": "display_data",
                    "data": {
                        "text/html": "Total execution time: 00:00:00.025"
                    },
                    "metadata": {}
                },
                {
                    "output_type": "execute_result",
                    "metadata": {},
                    "execution_count": 14,
                    "data": {
                        "application/vnd.dataresource+json": {
                            "schema": {
                                "fields": [
                                    {
                                        "name": "book_id"
                                    },
                                    {
                                        "name": "author_id"
                                    },
                                    {
                                        "name": "title"
                                    },
                                    {
                                        "name": "isbn"
                                    },
                                    {
                                        "name": "available"
                                    },
                                    {
                                        "name": "genre_id"
                                    }
                                ]
                            },
                            "data": [
                                {
                                    "book_id": "1",
                                    "author_id": "2",
                                    "title": "A Midsummers Night Dream",
                                    "isbn": "978149413",
                                    "available": "0",
                                    "genre_id": "23"
                                },
                                {
                                    "book_id": "2",
                                    "author_id": "2",
                                    "title": "Romeo and Juliet",
                                    "isbn": "988535196",
                                    "available": "1",
                                    "genre_id": "3"
                                },
                                {
                                    "book_id": "3",
                                    "author_id": "1",
                                    "title": "The Golden Compass",
                                    "isbn": "451664226",
                                    "available": "1",
                                    "genre_id": "1"
                                },
                                {
                                    "book_id": "4",
                                    "author_id": "1",
                                    "title": "The Subtle Knife",
                                    "isbn": "160419390",
                                    "available": "1",
                                    "genre_id": "1"
                                },
                                {
                                    "book_id": "5",
                                    "author_id": "1",
                                    "title": "The Amber Spyglass",
                                    "isbn": "94387895",
                                    "available": "1",
                                    "genre_id": "1"
                                },
                                {
                                    "book_id": "6",
                                    "author_id": "3",
                                    "title": "The Alchemist",
                                    "isbn": "464069772",
                                    "available": "1",
                                    "genre_id": "2"
                                },
                                {
                                    "book_id": "7",
                                    "author_id": "4",
                                    "title": "And Then There Were None",
                                    "isbn": "335973357",
                                    "available": "1",
                                    "genre_id": "6"
                                },
                                {
                                    "book_id": "8",
                                    "author_id": "5",
                                    "title": "The Joy Luck Club",
                                    "isbn": "990050329",
                                    "available": "1",
                                    "genre_id": "10"
                                },
                                {
                                    "book_id": "9",
                                    "author_id": "5",
                                    "title": "The Moon Lady",
                                    "isbn": "91720786",
                                    "available": "1",
                                    "genre_id": "24"
                                },
                                {
                                    "book_id": "10",
                                    "author_id": "6",
                                    "title": "Sense and Sensibility",
                                    "isbn": "156879860",
                                    "available": "1",
                                    "genre_id": "2"
                                },
                                {
                                    "book_id": "11",
                                    "author_id": "6",
                                    "title": "Northanger Abbey",
                                    "isbn": "951273178",
                                    "available": "1",
                                    "genre_id": "3"
                                },
                                {
                                    "book_id": "12",
                                    "author_id": "6",
                                    "title": "Pride and Prejudice",
                                    "isbn": "415886839",
                                    "available": "1",
                                    "genre_id": "3"
                                },
                                {
                                    "book_id": "13",
                                    "author_id": "6",
                                    "title": "Mansfield Park",
                                    "isbn": "188534067",
                                    "available": "1",
                                    "genre_id": "3"
                                },
                                {
                                    "book_id": "14",
                                    "author_id": "6",
                                    "title": "Emma",
                                    "isbn": "994896202",
                                    "available": "1",
                                    "genre_id": "3"
                                },
                                {
                                    "book_id": "15",
                                    "author_id": "6",
                                    "title": "Persuasion",
                                    "isbn": "28150097",
                                    "available": "1",
                                    "genre_id": "3"
                                },
                                {
                                    "book_id": "16",
                                    "author_id": "6",
                                    "title": "Lady Susan",
                                    "isbn": "230962926",
                                    "available": "1",
                                    "genre_id": "3"
                                },
                                {
                                    "book_id": "17",
                                    "author_id": "7",
                                    "title": "Wuthering Heights",
                                    "isbn": "280569946",
                                    "available": "1",
                                    "genre_id": "3"
                                },
                                {
                                    "book_id": "18",
                                    "author_id": "8",
                                    "title": "The Handmaids Tale",
                                    "isbn": "639239663",
                                    "available": "1",
                                    "genre_id": "5"
                                },
                                {
                                    "book_id": "19",
                                    "author_id": "8",
                                    "title": "The Testaments",
                                    "isbn": "826875490",
                                    "available": "1",
                                    "genre_id": "5"
                                },
                                {
                                    "book_id": "20",
                                    "author_id": "9",
                                    "title": "The Parable of the Sower",
                                    "isbn": "283359358",
                                    "available": "1",
                                    "genre_id": "5"
                                },
                                {
                                    "book_id": "21",
                                    "author_id": "10",
                                    "title": "Little Women",
                                    "isbn": "495409887",
                                    "available": "1",
                                    "genre_id": "23"
                                },
                                {
                                    "book_id": "22",
                                    "author_id": "11",
                                    "title": "Still Life",
                                    "isbn": "455128657",
                                    "available": "1",
                                    "genre_id": "6"
                                },
                                {
                                    "book_id": "23",
                                    "author_id": "11",
                                    "title": "A Fatal Grace",
                                    "isbn": "832517012",
                                    "available": "1",
                                    "genre_id": "6"
                                },
                                {
                                    "book_id": "24",
                                    "author_id": "11",
                                    "title": "The Cruelest Month",
                                    "isbn": "419285319",
                                    "available": "1",
                                    "genre_id": "6"
                                },
                                {
                                    "book_id": "25",
                                    "author_id": "11",
                                    "title": "The Murder Stone",
                                    "isbn": "656621400",
                                    "available": "1",
                                    "genre_id": "6"
                                },
                                {
                                    "book_id": "26",
                                    "author_id": "11",
                                    "title": "The Brutal Telling",
                                    "isbn": "144255852",
                                    "available": "1",
                                    "genre_id": "6"
                                },
                                {
                                    "book_id": "27",
                                    "author_id": "11",
                                    "title": "Bury Your Dead",
                                    "isbn": "208180961",
                                    "available": "1",
                                    "genre_id": "6"
                                },
                                {
                                    "book_id": "28",
                                    "author_id": "11",
                                    "title": "A Trick of the Light",
                                    "isbn": "93451531",
                                    "available": "1",
                                    "genre_id": "6"
                                },
                                {
                                    "book_id": "29",
                                    "author_id": "12",
                                    "title": "Midnights Children",
                                    "isbn": "881082293",
                                    "available": "1",
                                    "genre_id": "10"
                                },
                                {
                                    "book_id": "30",
                                    "author_id": "13",
                                    "title": "Dont Let the Pigeon Drive the Bus!",
                                    "isbn": "18409532",
                                    "available": "1",
                                    "genre_id": "24"
                                },
                                {
                                    "book_id": "31",
                                    "author_id": "14",
                                    "title": "Beezus and Ramona",
                                    "isbn": "744412630",
                                    "available": "1",
                                    "genre_id": "24"
                                },
                                {
                                    "book_id": "32",
                                    "author_id": "15",
                                    "title": "Organic Chemistry",
                                    "isbn": "604328803",
                                    "available": "1",
                                    "genre_id": "25"
                                },
                                {
                                    "book_id": "33",
                                    "author_id": "16",
                                    "title": "I Know Why the Caged Bird Sings",
                                    "isbn": "909947112",
                                    "available": "1",
                                    "genre_id": "12"
                                },
                                {
                                    "book_id": "34",
                                    "author_id": "17",
                                    "title": "Beloved",
                                    "isbn": "46736233",
                                    "available": "1",
                                    "genre_id": "10"
                                },
                                {
                                    "book_id": "35",
                                    "author_id": "18",
                                    "title": "Brassbones and Rainbows",
                                    "isbn": "330608463",
                                    "available": "1",
                                    "genre_id": "26"
                                }
                            ]
                        },
                        "text/html": [
                            "<table>",
                            "<tr><th>book_id</th><th>author_id</th><th>title</th><th>isbn</th><th>available</th><th>genre_id</th></tr>",
                            "<tr><td>1</td><td>2</td><td>A Midsummers Night Dream</td><td>978149413</td><td>0</td><td>23</td></tr>",
                            "<tr><td>2</td><td>2</td><td>Romeo and Juliet</td><td>988535196</td><td>1</td><td>3</td></tr>",
                            "<tr><td>3</td><td>1</td><td>The Golden Compass</td><td>451664226</td><td>1</td><td>1</td></tr>",
                            "<tr><td>4</td><td>1</td><td>The Subtle Knife</td><td>160419390</td><td>1</td><td>1</td></tr>",
                            "<tr><td>5</td><td>1</td><td>The Amber Spyglass</td><td>94387895</td><td>1</td><td>1</td></tr>",
                            "<tr><td>6</td><td>3</td><td>The Alchemist</td><td>464069772</td><td>1</td><td>2</td></tr>",
                            "<tr><td>7</td><td>4</td><td>And Then There Were None</td><td>335973357</td><td>1</td><td>6</td></tr>",
                            "<tr><td>8</td><td>5</td><td>The Joy Luck Club</td><td>990050329</td><td>1</td><td>10</td></tr>",
                            "<tr><td>9</td><td>5</td><td>The Moon Lady</td><td>91720786</td><td>1</td><td>24</td></tr>",
                            "<tr><td>10</td><td>6</td><td>Sense and Sensibility</td><td>156879860</td><td>1</td><td>2</td></tr>",
                            "<tr><td>11</td><td>6</td><td>Northanger Abbey</td><td>951273178</td><td>1</td><td>3</td></tr>",
                            "<tr><td>12</td><td>6</td><td>Pride and Prejudice</td><td>415886839</td><td>1</td><td>3</td></tr>",
                            "<tr><td>13</td><td>6</td><td>Mansfield Park</td><td>188534067</td><td>1</td><td>3</td></tr>",
                            "<tr><td>14</td><td>6</td><td>Emma</td><td>994896202</td><td>1</td><td>3</td></tr>",
                            "<tr><td>15</td><td>6</td><td>Persuasion</td><td>28150097</td><td>1</td><td>3</td></tr>",
                            "<tr><td>16</td><td>6</td><td>Lady Susan</td><td>230962926</td><td>1</td><td>3</td></tr>",
                            "<tr><td>17</td><td>7</td><td>Wuthering Heights</td><td>280569946</td><td>1</td><td>3</td></tr>",
                            "<tr><td>18</td><td>8</td><td>The Handmaids Tale</td><td>639239663</td><td>1</td><td>5</td></tr>",
                            "<tr><td>19</td><td>8</td><td>The Testaments</td><td>826875490</td><td>1</td><td>5</td></tr>",
                            "<tr><td>20</td><td>9</td><td>The Parable of the Sower</td><td>283359358</td><td>1</td><td>5</td></tr>",
                            "<tr><td>21</td><td>10</td><td>Little Women</td><td>495409887</td><td>1</td><td>23</td></tr>",
                            "<tr><td>22</td><td>11</td><td>Still Life</td><td>455128657</td><td>1</td><td>6</td></tr>",
                            "<tr><td>23</td><td>11</td><td>A Fatal Grace</td><td>832517012</td><td>1</td><td>6</td></tr>",
                            "<tr><td>24</td><td>11</td><td>The Cruelest Month</td><td>419285319</td><td>1</td><td>6</td></tr>",
                            "<tr><td>25</td><td>11</td><td>The Murder Stone</td><td>656621400</td><td>1</td><td>6</td></tr>",
                            "<tr><td>26</td><td>11</td><td>The Brutal Telling</td><td>144255852</td><td>1</td><td>6</td></tr>",
                            "<tr><td>27</td><td>11</td><td>Bury Your Dead</td><td>208180961</td><td>1</td><td>6</td></tr>",
                            "<tr><td>28</td><td>11</td><td>A Trick of the Light</td><td>93451531</td><td>1</td><td>6</td></tr>",
                            "<tr><td>29</td><td>12</td><td>Midnights Children</td><td>881082293</td><td>1</td><td>10</td></tr>",
                            "<tr><td>30</td><td>13</td><td>Dont Let the Pigeon Drive the Bus!</td><td>18409532</td><td>1</td><td>24</td></tr>",
                            "<tr><td>31</td><td>14</td><td>Beezus and Ramona</td><td>744412630</td><td>1</td><td>24</td></tr>",
                            "<tr><td>32</td><td>15</td><td>Organic Chemistry</td><td>604328803</td><td>1</td><td>25</td></tr>",
                            "<tr><td>33</td><td>16</td><td>I Know Why the Caged Bird Sings</td><td>909947112</td><td>1</td><td>12</td></tr>",
                            "<tr><td>34</td><td>17</td><td>Beloved</td><td>46736233</td><td>1</td><td>10</td></tr>",
                            "<tr><td>35</td><td>18</td><td>Brassbones and Rainbows</td><td>330608463</td><td>1</td><td>26</td></tr>",
                            "</table>"
                        ]
                    }
                },
                {
                    "output_type": "execute_result",
                    "metadata": {},
                    "execution_count": 14,
                    "data": {
                        "application/vnd.dataresource+json": {
                            "schema": {
                                "fields": [
                                    {
                                        "name": "loan_id"
                                    },
                                    {
                                        "name": "patron_id"
                                    },
                                    {
                                        "name": "date_out"
                                    },
                                    {
                                        "name": "date_in"
                                    },
                                    {
                                        "name": "book_id"
                                    }
                                ]
                            },
                            "data": [
                                {
                                    "loan_id": "1",
                                    "patron_id": "2",
                                    "date_out": "2024-08-06",
                                    "date_in": "NULL",
                                    "book_id": "1"
                                }
                            ]
                        },
                        "text/html": [
                            "<table>",
                            "<tr><th>loan_id</th><th>patron_id</th><th>date_out</th><th>date_in</th><th>book_id</th></tr>",
                            "<tr><td>1</td><td>2</td><td>2024-08-06</td><td>NULL</td><td>1</td></tr>",
                            "</table>"
                        ]
                    }
                },
                {
                    "output_type": "execute_result",
                    "metadata": {},
                    "execution_count": 14,
                    "data": {
                        "application/vnd.dataresource+json": {
                            "schema": {
                                "fields": [
                                    {
                                        "name": "patron_id"
                                    },
                                    {
                                        "name": "first_name"
                                    },
                                    {
                                        "name": "last_name"
                                    },
                                    {
                                        "name": "loan_id"
                                    }
                                ]
                            },
                            "data": [
                                {
                                    "patron_id": "1",
                                    "first_name": "Jennifer",
                                    "last_name": "Slayny",
                                    "loan_id": "NULL"
                                },
                                {
                                    "patron_id": "2",
                                    "first_name": "Susan",
                                    "last_name": "Traviss",
                                    "loan_id": "1"
                                },
                                {
                                    "patron_id": "3",
                                    "first_name": "Vincent",
                                    "last_name": "Ritelli",
                                    "loan_id": "NULL"
                                },
                                {
                                    "patron_id": "4",
                                    "first_name": "Tasia",
                                    "last_name": "Laybourne",
                                    "loan_id": "NULL"
                                },
                                {
                                    "patron_id": "5",
                                    "first_name": "Wren",
                                    "last_name": "Gergler",
                                    "loan_id": "NULL"
                                },
                                {
                                    "patron_id": "6",
                                    "first_name": "Tory",
                                    "last_name": "Lees",
                                    "loan_id": "NULL"
                                },
                                {
                                    "patron_id": "7",
                                    "first_name": "Estelle",
                                    "last_name": "Di Lorio",
                                    "loan_id": "NULL"
                                },
                                {
                                    "patron_id": "8",
                                    "first_name": "Dorian",
                                    "last_name": "Betje",
                                    "loan_id": "NULL"
                                },
                                {
                                    "patron_id": "9",
                                    "first_name": "Frank",
                                    "last_name": "Jelk",
                                    "loan_id": "NULL"
                                },
                                {
                                    "patron_id": "10",
                                    "first_name": "Chris",
                                    "last_name": "Endon",
                                    "loan_id": "NULL"
                                },
                                {
                                    "patron_id": "11",
                                    "first_name": "Gillie",
                                    "last_name": "Fritz",
                                    "loan_id": "NULL"
                                },
                                {
                                    "patron_id": "12",
                                    "first_name": "Leisha",
                                    "last_name": "Defty",
                                    "loan_id": "NULL"
                                },
                                {
                                    "patron_id": "13",
                                    "first_name": "Erika",
                                    "last_name": "Bompass",
                                    "loan_id": "NULL"
                                },
                                {
                                    "patron_id": "14",
                                    "first_name": "Gabe",
                                    "last_name": "Moxstead",
                                    "loan_id": "NULL"
                                },
                                {
                                    "patron_id": "15",
                                    "first_name": "Blake",
                                    "last_name": "Teresse",
                                    "loan_id": "NULL"
                                },
                                {
                                    "patron_id": "16",
                                    "first_name": "Joshua",
                                    "last_name": "Timmouth",
                                    "loan_id": "NULL"
                                },
                                {
                                    "patron_id": "17",
                                    "first_name": "Tasha",
                                    "last_name": "Timmouth",
                                    "loan_id": "NULL"
                                },
                                {
                                    "patron_id": "18",
                                    "first_name": "Neil",
                                    "last_name": "Davie",
                                    "loan_id": "NULL"
                                },
                                {
                                    "patron_id": "19",
                                    "first_name": "Emmeline",
                                    "last_name": "Pitherick",
                                    "loan_id": "NULL"
                                },
                                {
                                    "patron_id": "20",
                                    "first_name": "Josiah",
                                    "last_name": "Staner",
                                    "loan_id": "NULL"
                                },
                                {
                                    "patron_id": "21",
                                    "first_name": "James",
                                    "last_name": "Greetham",
                                    "loan_id": "NULL"
                                },
                                {
                                    "patron_id": "22",
                                    "first_name": "Isaac",
                                    "last_name": "Barstowk",
                                    "loan_id": "NULL"
                                },
                                {
                                    "patron_id": "23",
                                    "first_name": "Dean",
                                    "last_name": "Nelane",
                                    "loan_id": "NULL"
                                },
                                {
                                    "patron_id": "24",
                                    "first_name": "Carolina",
                                    "last_name": "Cranmere",
                                    "loan_id": "NULL"
                                },
                                {
                                    "patron_id": "25",
                                    "first_name": "Champ",
                                    "last_name": "Lardiner",
                                    "loan_id": "NULL"
                                },
                                {
                                    "patron_id": "26",
                                    "first_name": "Abbie",
                                    "last_name": "Quaif",
                                    "loan_id": "NULL"
                                },
                                {
                                    "patron_id": "27",
                                    "first_name": "Camile",
                                    "last_name": "Milbourne",
                                    "loan_id": "NULL"
                                },
                                {
                                    "patron_id": "28",
                                    "first_name": "Quentin",
                                    "last_name": "Crose",
                                    "loan_id": "NULL"
                                },
                                {
                                    "patron_id": "29",
                                    "first_name": "Silvano",
                                    "last_name": "Horlick",
                                    "loan_id": "NULL"
                                },
                                {
                                    "patron_id": "30",
                                    "first_name": "Phyllis",
                                    "last_name": "Cicchillo",
                                    "loan_id": "NULL"
                                },
                                {
                                    "patron_id": "31",
                                    "first_name": "Jerrie",
                                    "last_name": "Brownhall",
                                    "loan_id": "NULL"
                                },
                                {
                                    "patron_id": "32",
                                    "first_name": "Ludovika",
                                    "last_name": "Leist",
                                    "loan_id": "NULL"
                                },
                                {
                                    "patron_id": "33",
                                    "first_name": "Tara",
                                    "last_name": "Knatt",
                                    "loan_id": "NULL"
                                },
                                {
                                    "patron_id": "34",
                                    "first_name": "Kelsie",
                                    "last_name": "Parkson",
                                    "loan_id": "NULL"
                                },
                                {
                                    "patron_id": "35",
                                    "first_name": "Jodi",
                                    "last_name": "Leopard",
                                    "loan_id": "NULL"
                                },
                                {
                                    "patron_id": "36",
                                    "first_name": "Rosanna",
                                    "last_name": "Cultcheth",
                                    "loan_id": "NULL"
                                },
                                {
                                    "patron_id": "37",
                                    "first_name": "Remy",
                                    "last_name": "Fairpool",
                                    "loan_id": "NULL"
                                },
                                {
                                    "patron_id": "38",
                                    "first_name": "Megan",
                                    "last_name": "Blyth",
                                    "loan_id": "NULL"
                                },
                                {
                                    "patron_id": "39",
                                    "first_name": "Rikki",
                                    "last_name": "McLernon",
                                    "loan_id": "NULL"
                                },
                                {
                                    "patron_id": "40",
                                    "first_name": "Clare",
                                    "last_name": "Haacker",
                                    "loan_id": "NULL"
                                },
                                {
                                    "patron_id": "41",
                                    "first_name": "Vincent",
                                    "last_name": "Chettle",
                                    "loan_id": "NULL"
                                },
                                {
                                    "patron_id": "42",
                                    "first_name": "Sybil",
                                    "last_name": "Costanza",
                                    "loan_id": "NULL"
                                },
                                {
                                    "patron_id": "43",
                                    "first_name": "Jonas",
                                    "last_name": "Sinclare",
                                    "loan_id": "NULL"
                                },
                                {
                                    "patron_id": "44",
                                    "first_name": "Claire",
                                    "last_name": "Bendel",
                                    "loan_id": "NULL"
                                },
                                {
                                    "patron_id": "45",
                                    "first_name": "Kathleen",
                                    "last_name": "Welband",
                                    "loan_id": "NULL"
                                },
                                {
                                    "patron_id": "46",
                                    "first_name": "Kylie",
                                    "last_name": "Crannage",
                                    "loan_id": "NULL"
                                },
                                {
                                    "patron_id": "47",
                                    "first_name": "Evelyn",
                                    "last_name": "Tarajo",
                                    "loan_id": "NULL"
                                },
                                {
                                    "patron_id": "48",
                                    "first_name": "Oliver",
                                    "last_name": "Caulson",
                                    "loan_id": "NULL"
                                }
                            ]
                        },
                        "text/html": [
                            "<table>",
                            "<tr><th>patron_id</th><th>first_name</th><th>last_name</th><th>loan_id</th></tr>",
                            "<tr><td>1</td><td>Jennifer</td><td>Slayny</td><td>NULL</td></tr>",
                            "<tr><td>2</td><td>Susan</td><td>Traviss</td><td>1</td></tr>",
                            "<tr><td>3</td><td>Vincent</td><td>Ritelli</td><td>NULL</td></tr>",
                            "<tr><td>4</td><td>Tasia</td><td>Laybourne</td><td>NULL</td></tr>",
                            "<tr><td>5</td><td>Wren</td><td>Gergler</td><td>NULL</td></tr>",
                            "<tr><td>6</td><td>Tory</td><td>Lees</td><td>NULL</td></tr>",
                            "<tr><td>7</td><td>Estelle</td><td>Di Lorio</td><td>NULL</td></tr>",
                            "<tr><td>8</td><td>Dorian</td><td>Betje</td><td>NULL</td></tr>",
                            "<tr><td>9</td><td>Frank</td><td>Jelk</td><td>NULL</td></tr>",
                            "<tr><td>10</td><td>Chris</td><td>Endon</td><td>NULL</td></tr>",
                            "<tr><td>11</td><td>Gillie</td><td>Fritz</td><td>NULL</td></tr>",
                            "<tr><td>12</td><td>Leisha</td><td>Defty</td><td>NULL</td></tr>",
                            "<tr><td>13</td><td>Erika</td><td>Bompass</td><td>NULL</td></tr>",
                            "<tr><td>14</td><td>Gabe</td><td>Moxstead</td><td>NULL</td></tr>",
                            "<tr><td>15</td><td>Blake</td><td>Teresse</td><td>NULL</td></tr>",
                            "<tr><td>16</td><td>Joshua</td><td>Timmouth</td><td>NULL</td></tr>",
                            "<tr><td>17</td><td>Tasha</td><td>Timmouth</td><td>NULL</td></tr>",
                            "<tr><td>18</td><td>Neil</td><td>Davie</td><td>NULL</td></tr>",
                            "<tr><td>19</td><td>Emmeline</td><td>Pitherick</td><td>NULL</td></tr>",
                            "<tr><td>20</td><td>Josiah</td><td>Staner</td><td>NULL</td></tr>",
                            "<tr><td>21</td><td>James</td><td>Greetham</td><td>NULL</td></tr>",
                            "<tr><td>22</td><td>Isaac</td><td>Barstowk</td><td>NULL</td></tr>",
                            "<tr><td>23</td><td>Dean</td><td>Nelane</td><td>NULL</td></tr>",
                            "<tr><td>24</td><td>Carolina</td><td>Cranmere</td><td>NULL</td></tr>",
                            "<tr><td>25</td><td>Champ</td><td>Lardiner</td><td>NULL</td></tr>",
                            "<tr><td>26</td><td>Abbie</td><td>Quaif</td><td>NULL</td></tr>",
                            "<tr><td>27</td><td>Camile</td><td>Milbourne</td><td>NULL</td></tr>",
                            "<tr><td>28</td><td>Quentin</td><td>Crose</td><td>NULL</td></tr>",
                            "<tr><td>29</td><td>Silvano</td><td>Horlick</td><td>NULL</td></tr>",
                            "<tr><td>30</td><td>Phyllis</td><td>Cicchillo</td><td>NULL</td></tr>",
                            "<tr><td>31</td><td>Jerrie</td><td>Brownhall</td><td>NULL</td></tr>",
                            "<tr><td>32</td><td>Ludovika</td><td>Leist</td><td>NULL</td></tr>",
                            "<tr><td>33</td><td>Tara</td><td>Knatt</td><td>NULL</td></tr>",
                            "<tr><td>34</td><td>Kelsie</td><td>Parkson</td><td>NULL</td></tr>",
                            "<tr><td>35</td><td>Jodi</td><td>Leopard</td><td>NULL</td></tr>",
                            "<tr><td>36</td><td>Rosanna</td><td>Cultcheth</td><td>NULL</td></tr>",
                            "<tr><td>37</td><td>Remy</td><td>Fairpool</td><td>NULL</td></tr>",
                            "<tr><td>38</td><td>Megan</td><td>Blyth</td><td>NULL</td></tr>",
                            "<tr><td>39</td><td>Rikki</td><td>McLernon</td><td>NULL</td></tr>",
                            "<tr><td>40</td><td>Clare</td><td>Haacker</td><td>NULL</td></tr>",
                            "<tr><td>41</td><td>Vincent</td><td>Chettle</td><td>NULL</td></tr>",
                            "<tr><td>42</td><td>Sybil</td><td>Costanza</td><td>NULL</td></tr>",
                            "<tr><td>43</td><td>Jonas</td><td>Sinclare</td><td>NULL</td></tr>",
                            "<tr><td>44</td><td>Claire</td><td>Bendel</td><td>NULL</td></tr>",
                            "<tr><td>45</td><td>Kathleen</td><td>Welband</td><td>NULL</td></tr>",
                            "<tr><td>46</td><td>Kylie</td><td>Crannage</td><td>NULL</td></tr>",
                            "<tr><td>47</td><td>Evelyn</td><td>Tarajo</td><td>NULL</td></tr>",
                            "<tr><td>48</td><td>Oliver</td><td>Caulson</td><td>NULL</td></tr>",
                            "</table>"
                        ]
                    }
                }
            ],
            "execution_count": 14
        },
        {
            "cell_type": "markdown",
            "source": [
                "## **Part D: Check a Book Back In**\n",
                "\n",
                "Work with the same patron and book as you create your query to check a book back into the library.\n",
                "\n",
                "The check a book back in, your query need to do the following:\n",
                "\n",
                "1. Change **available** to **1** (true) for the appropriate book.\n",
                "2. Update the appropriate row in the **loan** table with today's date as the `date_in`.\n",
                "3. Update the appropriate **patron** changing `loan_id` back to `NULL`.\n",
                "\n",
                "Once you have created these queries, loan out 5 new books to 5 different patrons."
            ],
            "metadata": {
                "azdata_cell_guid": "59a2053b-8029-4534-90da-3f0021fa2faf"
            }
        },
        {
            "cell_type": "code",
            "source": [
                "-- Create your query to check a book back in.\n",
                "USE May2024JunkDB;\n",
                "\n",
                "/* UPDATE gray.book\n",
                "SET available=1\n",
                "WHERE gray.book.book_id=1; */\n",
                "\n",
                "/* UPDATE gray.loan\n",
                "SET date_in = get()\n",
                "WHERE loan_id = 1 */\n",
                "\n",
                "/* UPDATE gray.patron\n",
                "SET loan_id=NULL\n",
                "WHERE patron_id = 2 */\n",
                "\n",
                "SELECT * FROM gray.book\n",
                "SELECT * FROM gray.loan\n",
                "SELECT * FROM gray.patron"
            ],
            "metadata": {
                "vscode": {
                    "languageId": "sql"
                },
                "azdata_cell_guid": "8effea4a-632e-4edb-85fd-f04de5930142",
                "language": "sql"
            },
            "outputs": [
                {
                    "output_type": "display_data",
                    "data": {
                        "text/html": "(1 row affected)"
                    },
                    "metadata": {}
                },
                {
                    "output_type": "display_data",
                    "data": {
                        "text/html": "(35 rows affected)"
                    },
                    "metadata": {}
                },
                {
                    "output_type": "display_data",
                    "data": {
                        "text/html": "(1 row affected)"
                    },
                    "metadata": {}
                },
                {
                    "output_type": "display_data",
                    "data": {
                        "text/html": "(48 rows affected)"
                    },
                    "metadata": {}
                },
                {
                    "output_type": "display_data",
                    "data": {
                        "text/html": "Total execution time: 00:00:00.028"
                    },
                    "metadata": {}
                },
                {
                    "output_type": "execute_result",
                    "metadata": {},
                    "execution_count": 18,
                    "data": {
                        "application/vnd.dataresource+json": {
                            "schema": {
                                "fields": [
                                    {
                                        "name": "book_id"
                                    },
                                    {
                                        "name": "author_id"
                                    },
                                    {
                                        "name": "title"
                                    },
                                    {
                                        "name": "isbn"
                                    },
                                    {
                                        "name": "available"
                                    },
                                    {
                                        "name": "genre_id"
                                    }
                                ]
                            },
                            "data": [
                                {
                                    "book_id": "1",
                                    "author_id": "2",
                                    "title": "A Midsummers Night Dream",
                                    "isbn": "978149413",
                                    "available": "1",
                                    "genre_id": "23"
                                },
                                {
                                    "book_id": "2",
                                    "author_id": "2",
                                    "title": "Romeo and Juliet",
                                    "isbn": "988535196",
                                    "available": "1",
                                    "genre_id": "3"
                                },
                                {
                                    "book_id": "3",
                                    "author_id": "1",
                                    "title": "The Golden Compass",
                                    "isbn": "451664226",
                                    "available": "1",
                                    "genre_id": "1"
                                },
                                {
                                    "book_id": "4",
                                    "author_id": "1",
                                    "title": "The Subtle Knife",
                                    "isbn": "160419390",
                                    "available": "1",
                                    "genre_id": "1"
                                },
                                {
                                    "book_id": "5",
                                    "author_id": "1",
                                    "title": "The Amber Spyglass",
                                    "isbn": "94387895",
                                    "available": "1",
                                    "genre_id": "1"
                                },
                                {
                                    "book_id": "6",
                                    "author_id": "3",
                                    "title": "The Alchemist",
                                    "isbn": "464069772",
                                    "available": "1",
                                    "genre_id": "2"
                                },
                                {
                                    "book_id": "7",
                                    "author_id": "4",
                                    "title": "And Then There Were None",
                                    "isbn": "335973357",
                                    "available": "1",
                                    "genre_id": "6"
                                },
                                {
                                    "book_id": "8",
                                    "author_id": "5",
                                    "title": "The Joy Luck Club",
                                    "isbn": "990050329",
                                    "available": "1",
                                    "genre_id": "10"
                                },
                                {
                                    "book_id": "9",
                                    "author_id": "5",
                                    "title": "The Moon Lady",
                                    "isbn": "91720786",
                                    "available": "1",
                                    "genre_id": "24"
                                },
                                {
                                    "book_id": "10",
                                    "author_id": "6",
                                    "title": "Sense and Sensibility",
                                    "isbn": "156879860",
                                    "available": "1",
                                    "genre_id": "2"
                                },
                                {
                                    "book_id": "11",
                                    "author_id": "6",
                                    "title": "Northanger Abbey",
                                    "isbn": "951273178",
                                    "available": "1",
                                    "genre_id": "3"
                                },
                                {
                                    "book_id": "12",
                                    "author_id": "6",
                                    "title": "Pride and Prejudice",
                                    "isbn": "415886839",
                                    "available": "1",
                                    "genre_id": "3"
                                },
                                {
                                    "book_id": "13",
                                    "author_id": "6",
                                    "title": "Mansfield Park",
                                    "isbn": "188534067",
                                    "available": "1",
                                    "genre_id": "3"
                                },
                                {
                                    "book_id": "14",
                                    "author_id": "6",
                                    "title": "Emma",
                                    "isbn": "994896202",
                                    "available": "1",
                                    "genre_id": "3"
                                },
                                {
                                    "book_id": "15",
                                    "author_id": "6",
                                    "title": "Persuasion",
                                    "isbn": "28150097",
                                    "available": "1",
                                    "genre_id": "3"
                                },
                                {
                                    "book_id": "16",
                                    "author_id": "6",
                                    "title": "Lady Susan",
                                    "isbn": "230962926",
                                    "available": "1",
                                    "genre_id": "3"
                                },
                                {
                                    "book_id": "17",
                                    "author_id": "7",
                                    "title": "Wuthering Heights",
                                    "isbn": "280569946",
                                    "available": "1",
                                    "genre_id": "3"
                                },
                                {
                                    "book_id": "18",
                                    "author_id": "8",
                                    "title": "The Handmaids Tale",
                                    "isbn": "639239663",
                                    "available": "1",
                                    "genre_id": "5"
                                },
                                {
                                    "book_id": "19",
                                    "author_id": "8",
                                    "title": "The Testaments",
                                    "isbn": "826875490",
                                    "available": "1",
                                    "genre_id": "5"
                                },
                                {
                                    "book_id": "20",
                                    "author_id": "9",
                                    "title": "The Parable of the Sower",
                                    "isbn": "283359358",
                                    "available": "1",
                                    "genre_id": "5"
                                },
                                {
                                    "book_id": "21",
                                    "author_id": "10",
                                    "title": "Little Women",
                                    "isbn": "495409887",
                                    "available": "1",
                                    "genre_id": "23"
                                },
                                {
                                    "book_id": "22",
                                    "author_id": "11",
                                    "title": "Still Life",
                                    "isbn": "455128657",
                                    "available": "1",
                                    "genre_id": "6"
                                },
                                {
                                    "book_id": "23",
                                    "author_id": "11",
                                    "title": "A Fatal Grace",
                                    "isbn": "832517012",
                                    "available": "1",
                                    "genre_id": "6"
                                },
                                {
                                    "book_id": "24",
                                    "author_id": "11",
                                    "title": "The Cruelest Month",
                                    "isbn": "419285319",
                                    "available": "1",
                                    "genre_id": "6"
                                },
                                {
                                    "book_id": "25",
                                    "author_id": "11",
                                    "title": "The Murder Stone",
                                    "isbn": "656621400",
                                    "available": "1",
                                    "genre_id": "6"
                                },
                                {
                                    "book_id": "26",
                                    "author_id": "11",
                                    "title": "The Brutal Telling",
                                    "isbn": "144255852",
                                    "available": "1",
                                    "genre_id": "6"
                                },
                                {
                                    "book_id": "27",
                                    "author_id": "11",
                                    "title": "Bury Your Dead",
                                    "isbn": "208180961",
                                    "available": "1",
                                    "genre_id": "6"
                                },
                                {
                                    "book_id": "28",
                                    "author_id": "11",
                                    "title": "A Trick of the Light",
                                    "isbn": "93451531",
                                    "available": "1",
                                    "genre_id": "6"
                                },
                                {
                                    "book_id": "29",
                                    "author_id": "12",
                                    "title": "Midnights Children",
                                    "isbn": "881082293",
                                    "available": "1",
                                    "genre_id": "10"
                                },
                                {
                                    "book_id": "30",
                                    "author_id": "13",
                                    "title": "Dont Let the Pigeon Drive the Bus!",
                                    "isbn": "18409532",
                                    "available": "1",
                                    "genre_id": "24"
                                },
                                {
                                    "book_id": "31",
                                    "author_id": "14",
                                    "title": "Beezus and Ramona",
                                    "isbn": "744412630",
                                    "available": "1",
                                    "genre_id": "24"
                                },
                                {
                                    "book_id": "32",
                                    "author_id": "15",
                                    "title": "Organic Chemistry",
                                    "isbn": "604328803",
                                    "available": "1",
                                    "genre_id": "25"
                                },
                                {
                                    "book_id": "33",
                                    "author_id": "16",
                                    "title": "I Know Why the Caged Bird Sings",
                                    "isbn": "909947112",
                                    "available": "1",
                                    "genre_id": "12"
                                },
                                {
                                    "book_id": "34",
                                    "author_id": "17",
                                    "title": "Beloved",
                                    "isbn": "46736233",
                                    "available": "1",
                                    "genre_id": "10"
                                },
                                {
                                    "book_id": "35",
                                    "author_id": "18",
                                    "title": "Brassbones and Rainbows",
                                    "isbn": "330608463",
                                    "available": "1",
                                    "genre_id": "26"
                                }
                            ]
                        },
                        "text/html": [
                            "<table>",
                            "<tr><th>book_id</th><th>author_id</th><th>title</th><th>isbn</th><th>available</th><th>genre_id</th></tr>",
                            "<tr><td>1</td><td>2</td><td>A Midsummers Night Dream</td><td>978149413</td><td>1</td><td>23</td></tr>",
                            "<tr><td>2</td><td>2</td><td>Romeo and Juliet</td><td>988535196</td><td>1</td><td>3</td></tr>",
                            "<tr><td>3</td><td>1</td><td>The Golden Compass</td><td>451664226</td><td>1</td><td>1</td></tr>",
                            "<tr><td>4</td><td>1</td><td>The Subtle Knife</td><td>160419390</td><td>1</td><td>1</td></tr>",
                            "<tr><td>5</td><td>1</td><td>The Amber Spyglass</td><td>94387895</td><td>1</td><td>1</td></tr>",
                            "<tr><td>6</td><td>3</td><td>The Alchemist</td><td>464069772</td><td>1</td><td>2</td></tr>",
                            "<tr><td>7</td><td>4</td><td>And Then There Were None</td><td>335973357</td><td>1</td><td>6</td></tr>",
                            "<tr><td>8</td><td>5</td><td>The Joy Luck Club</td><td>990050329</td><td>1</td><td>10</td></tr>",
                            "<tr><td>9</td><td>5</td><td>The Moon Lady</td><td>91720786</td><td>1</td><td>24</td></tr>",
                            "<tr><td>10</td><td>6</td><td>Sense and Sensibility</td><td>156879860</td><td>1</td><td>2</td></tr>",
                            "<tr><td>11</td><td>6</td><td>Northanger Abbey</td><td>951273178</td><td>1</td><td>3</td></tr>",
                            "<tr><td>12</td><td>6</td><td>Pride and Prejudice</td><td>415886839</td><td>1</td><td>3</td></tr>",
                            "<tr><td>13</td><td>6</td><td>Mansfield Park</td><td>188534067</td><td>1</td><td>3</td></tr>",
                            "<tr><td>14</td><td>6</td><td>Emma</td><td>994896202</td><td>1</td><td>3</td></tr>",
                            "<tr><td>15</td><td>6</td><td>Persuasion</td><td>28150097</td><td>1</td><td>3</td></tr>",
                            "<tr><td>16</td><td>6</td><td>Lady Susan</td><td>230962926</td><td>1</td><td>3</td></tr>",
                            "<tr><td>17</td><td>7</td><td>Wuthering Heights</td><td>280569946</td><td>1</td><td>3</td></tr>",
                            "<tr><td>18</td><td>8</td><td>The Handmaids Tale</td><td>639239663</td><td>1</td><td>5</td></tr>",
                            "<tr><td>19</td><td>8</td><td>The Testaments</td><td>826875490</td><td>1</td><td>5</td></tr>",
                            "<tr><td>20</td><td>9</td><td>The Parable of the Sower</td><td>283359358</td><td>1</td><td>5</td></tr>",
                            "<tr><td>21</td><td>10</td><td>Little Women</td><td>495409887</td><td>1</td><td>23</td></tr>",
                            "<tr><td>22</td><td>11</td><td>Still Life</td><td>455128657</td><td>1</td><td>6</td></tr>",
                            "<tr><td>23</td><td>11</td><td>A Fatal Grace</td><td>832517012</td><td>1</td><td>6</td></tr>",
                            "<tr><td>24</td><td>11</td><td>The Cruelest Month</td><td>419285319</td><td>1</td><td>6</td></tr>",
                            "<tr><td>25</td><td>11</td><td>The Murder Stone</td><td>656621400</td><td>1</td><td>6</td></tr>",
                            "<tr><td>26</td><td>11</td><td>The Brutal Telling</td><td>144255852</td><td>1</td><td>6</td></tr>",
                            "<tr><td>27</td><td>11</td><td>Bury Your Dead</td><td>208180961</td><td>1</td><td>6</td></tr>",
                            "<tr><td>28</td><td>11</td><td>A Trick of the Light</td><td>93451531</td><td>1</td><td>6</td></tr>",
                            "<tr><td>29</td><td>12</td><td>Midnights Children</td><td>881082293</td><td>1</td><td>10</td></tr>",
                            "<tr><td>30</td><td>13</td><td>Dont Let the Pigeon Drive the Bus!</td><td>18409532</td><td>1</td><td>24</td></tr>",
                            "<tr><td>31</td><td>14</td><td>Beezus and Ramona</td><td>744412630</td><td>1</td><td>24</td></tr>",
                            "<tr><td>32</td><td>15</td><td>Organic Chemistry</td><td>604328803</td><td>1</td><td>25</td></tr>",
                            "<tr><td>33</td><td>16</td><td>I Know Why the Caged Bird Sings</td><td>909947112</td><td>1</td><td>12</td></tr>",
                            "<tr><td>34</td><td>17</td><td>Beloved</td><td>46736233</td><td>1</td><td>10</td></tr>",
                            "<tr><td>35</td><td>18</td><td>Brassbones and Rainbows</td><td>330608463</td><td>1</td><td>26</td></tr>",
                            "</table>"
                        ]
                    }
                },
                {
                    "output_type": "execute_result",
                    "metadata": {},
                    "execution_count": 18,
                    "data": {
                        "application/vnd.dataresource+json": {
                            "schema": {
                                "fields": [
                                    {
                                        "name": "loan_id"
                                    },
                                    {
                                        "name": "patron_id"
                                    },
                                    {
                                        "name": "date_out"
                                    },
                                    {
                                        "name": "date_in"
                                    },
                                    {
                                        "name": "book_id"
                                    }
                                ]
                            },
                            "data": [
                                {
                                    "loan_id": "1",
                                    "patron_id": "2",
                                    "date_out": "2024-08-06",
                                    "date_in": "2024-08-06",
                                    "book_id": "1"
                                }
                            ]
                        },
                        "text/html": [
                            "<table>",
                            "<tr><th>loan_id</th><th>patron_id</th><th>date_out</th><th>date_in</th><th>book_id</th></tr>",
                            "<tr><td>1</td><td>2</td><td>2024-08-06</td><td>2024-08-06</td><td>1</td></tr>",
                            "</table>"
                        ]
                    }
                },
                {
                    "output_type": "execute_result",
                    "metadata": {},
                    "execution_count": 18,
                    "data": {
                        "application/vnd.dataresource+json": {
                            "schema": {
                                "fields": [
                                    {
                                        "name": "patron_id"
                                    },
                                    {
                                        "name": "first_name"
                                    },
                                    {
                                        "name": "last_name"
                                    },
                                    {
                                        "name": "loan_id"
                                    }
                                ]
                            },
                            "data": [
                                {
                                    "patron_id": "1",
                                    "first_name": "Jennifer",
                                    "last_name": "Slayny",
                                    "loan_id": "NULL"
                                },
                                {
                                    "patron_id": "2",
                                    "first_name": "Susan",
                                    "last_name": "Traviss",
                                    "loan_id": "NULL"
                                },
                                {
                                    "patron_id": "3",
                                    "first_name": "Vincent",
                                    "last_name": "Ritelli",
                                    "loan_id": "NULL"
                                },
                                {
                                    "patron_id": "4",
                                    "first_name": "Tasia",
                                    "last_name": "Laybourne",
                                    "loan_id": "NULL"
                                },
                                {
                                    "patron_id": "5",
                                    "first_name": "Wren",
                                    "last_name": "Gergler",
                                    "loan_id": "NULL"
                                },
                                {
                                    "patron_id": "6",
                                    "first_name": "Tory",
                                    "last_name": "Lees",
                                    "loan_id": "NULL"
                                },
                                {
                                    "patron_id": "7",
                                    "first_name": "Estelle",
                                    "last_name": "Di Lorio",
                                    "loan_id": "NULL"
                                },
                                {
                                    "patron_id": "8",
                                    "first_name": "Dorian",
                                    "last_name": "Betje",
                                    "loan_id": "NULL"
                                },
                                {
                                    "patron_id": "9",
                                    "first_name": "Frank",
                                    "last_name": "Jelk",
                                    "loan_id": "NULL"
                                },
                                {
                                    "patron_id": "10",
                                    "first_name": "Chris",
                                    "last_name": "Endon",
                                    "loan_id": "NULL"
                                },
                                {
                                    "patron_id": "11",
                                    "first_name": "Gillie",
                                    "last_name": "Fritz",
                                    "loan_id": "NULL"
                                },
                                {
                                    "patron_id": "12",
                                    "first_name": "Leisha",
                                    "last_name": "Defty",
                                    "loan_id": "NULL"
                                },
                                {
                                    "patron_id": "13",
                                    "first_name": "Erika",
                                    "last_name": "Bompass",
                                    "loan_id": "NULL"
                                },
                                {
                                    "patron_id": "14",
                                    "first_name": "Gabe",
                                    "last_name": "Moxstead",
                                    "loan_id": "NULL"
                                },
                                {
                                    "patron_id": "15",
                                    "first_name": "Blake",
                                    "last_name": "Teresse",
                                    "loan_id": "NULL"
                                },
                                {
                                    "patron_id": "16",
                                    "first_name": "Joshua",
                                    "last_name": "Timmouth",
                                    "loan_id": "NULL"
                                },
                                {
                                    "patron_id": "17",
                                    "first_name": "Tasha",
                                    "last_name": "Timmouth",
                                    "loan_id": "NULL"
                                },
                                {
                                    "patron_id": "18",
                                    "first_name": "Neil",
                                    "last_name": "Davie",
                                    "loan_id": "NULL"
                                },
                                {
                                    "patron_id": "19",
                                    "first_name": "Emmeline",
                                    "last_name": "Pitherick",
                                    "loan_id": "NULL"
                                },
                                {
                                    "patron_id": "20",
                                    "first_name": "Josiah",
                                    "last_name": "Staner",
                                    "loan_id": "NULL"
                                },
                                {
                                    "patron_id": "21",
                                    "first_name": "James",
                                    "last_name": "Greetham",
                                    "loan_id": "NULL"
                                },
                                {
                                    "patron_id": "22",
                                    "first_name": "Isaac",
                                    "last_name": "Barstowk",
                                    "loan_id": "NULL"
                                },
                                {
                                    "patron_id": "23",
                                    "first_name": "Dean",
                                    "last_name": "Nelane",
                                    "loan_id": "NULL"
                                },
                                {
                                    "patron_id": "24",
                                    "first_name": "Carolina",
                                    "last_name": "Cranmere",
                                    "loan_id": "NULL"
                                },
                                {
                                    "patron_id": "25",
                                    "first_name": "Champ",
                                    "last_name": "Lardiner",
                                    "loan_id": "NULL"
                                },
                                {
                                    "patron_id": "26",
                                    "first_name": "Abbie",
                                    "last_name": "Quaif",
                                    "loan_id": "NULL"
                                },
                                {
                                    "patron_id": "27",
                                    "first_name": "Camile",
                                    "last_name": "Milbourne",
                                    "loan_id": "NULL"
                                },
                                {
                                    "patron_id": "28",
                                    "first_name": "Quentin",
                                    "last_name": "Crose",
                                    "loan_id": "NULL"
                                },
                                {
                                    "patron_id": "29",
                                    "first_name": "Silvano",
                                    "last_name": "Horlick",
                                    "loan_id": "NULL"
                                },
                                {
                                    "patron_id": "30",
                                    "first_name": "Phyllis",
                                    "last_name": "Cicchillo",
                                    "loan_id": "NULL"
                                },
                                {
                                    "patron_id": "31",
                                    "first_name": "Jerrie",
                                    "last_name": "Brownhall",
                                    "loan_id": "NULL"
                                },
                                {
                                    "patron_id": "32",
                                    "first_name": "Ludovika",
                                    "last_name": "Leist",
                                    "loan_id": "NULL"
                                },
                                {
                                    "patron_id": "33",
                                    "first_name": "Tara",
                                    "last_name": "Knatt",
                                    "loan_id": "NULL"
                                },
                                {
                                    "patron_id": "34",
                                    "first_name": "Kelsie",
                                    "last_name": "Parkson",
                                    "loan_id": "NULL"
                                },
                                {
                                    "patron_id": "35",
                                    "first_name": "Jodi",
                                    "last_name": "Leopard",
                                    "loan_id": "NULL"
                                },
                                {
                                    "patron_id": "36",
                                    "first_name": "Rosanna",
                                    "last_name": "Cultcheth",
                                    "loan_id": "NULL"
                                },
                                {
                                    "patron_id": "37",
                                    "first_name": "Remy",
                                    "last_name": "Fairpool",
                                    "loan_id": "NULL"
                                },
                                {
                                    "patron_id": "38",
                                    "first_name": "Megan",
                                    "last_name": "Blyth",
                                    "loan_id": "NULL"
                                },
                                {
                                    "patron_id": "39",
                                    "first_name": "Rikki",
                                    "last_name": "McLernon",
                                    "loan_id": "NULL"
                                },
                                {
                                    "patron_id": "40",
                                    "first_name": "Clare",
                                    "last_name": "Haacker",
                                    "loan_id": "NULL"
                                },
                                {
                                    "patron_id": "41",
                                    "first_name": "Vincent",
                                    "last_name": "Chettle",
                                    "loan_id": "NULL"
                                },
                                {
                                    "patron_id": "42",
                                    "first_name": "Sybil",
                                    "last_name": "Costanza",
                                    "loan_id": "NULL"
                                },
                                {
                                    "patron_id": "43",
                                    "first_name": "Jonas",
                                    "last_name": "Sinclare",
                                    "loan_id": "NULL"
                                },
                                {
                                    "patron_id": "44",
                                    "first_name": "Claire",
                                    "last_name": "Bendel",
                                    "loan_id": "NULL"
                                },
                                {
                                    "patron_id": "45",
                                    "first_name": "Kathleen",
                                    "last_name": "Welband",
                                    "loan_id": "NULL"
                                },
                                {
                                    "patron_id": "46",
                                    "first_name": "Kylie",
                                    "last_name": "Crannage",
                                    "loan_id": "NULL"
                                },
                                {
                                    "patron_id": "47",
                                    "first_name": "Evelyn",
                                    "last_name": "Tarajo",
                                    "loan_id": "NULL"
                                },
                                {
                                    "patron_id": "48",
                                    "first_name": "Oliver",
                                    "last_name": "Caulson",
                                    "loan_id": "NULL"
                                }
                            ]
                        },
                        "text/html": [
                            "<table>",
                            "<tr><th>patron_id</th><th>first_name</th><th>last_name</th><th>loan_id</th></tr>",
                            "<tr><td>1</td><td>Jennifer</td><td>Slayny</td><td>NULL</td></tr>",
                            "<tr><td>2</td><td>Susan</td><td>Traviss</td><td>NULL</td></tr>",
                            "<tr><td>3</td><td>Vincent</td><td>Ritelli</td><td>NULL</td></tr>",
                            "<tr><td>4</td><td>Tasia</td><td>Laybourne</td><td>NULL</td></tr>",
                            "<tr><td>5</td><td>Wren</td><td>Gergler</td><td>NULL</td></tr>",
                            "<tr><td>6</td><td>Tory</td><td>Lees</td><td>NULL</td></tr>",
                            "<tr><td>7</td><td>Estelle</td><td>Di Lorio</td><td>NULL</td></tr>",
                            "<tr><td>8</td><td>Dorian</td><td>Betje</td><td>NULL</td></tr>",
                            "<tr><td>9</td><td>Frank</td><td>Jelk</td><td>NULL</td></tr>",
                            "<tr><td>10</td><td>Chris</td><td>Endon</td><td>NULL</td></tr>",
                            "<tr><td>11</td><td>Gillie</td><td>Fritz</td><td>NULL</td></tr>",
                            "<tr><td>12</td><td>Leisha</td><td>Defty</td><td>NULL</td></tr>",
                            "<tr><td>13</td><td>Erika</td><td>Bompass</td><td>NULL</td></tr>",
                            "<tr><td>14</td><td>Gabe</td><td>Moxstead</td><td>NULL</td></tr>",
                            "<tr><td>15</td><td>Blake</td><td>Teresse</td><td>NULL</td></tr>",
                            "<tr><td>16</td><td>Joshua</td><td>Timmouth</td><td>NULL</td></tr>",
                            "<tr><td>17</td><td>Tasha</td><td>Timmouth</td><td>NULL</td></tr>",
                            "<tr><td>18</td><td>Neil</td><td>Davie</td><td>NULL</td></tr>",
                            "<tr><td>19</td><td>Emmeline</td><td>Pitherick</td><td>NULL</td></tr>",
                            "<tr><td>20</td><td>Josiah</td><td>Staner</td><td>NULL</td></tr>",
                            "<tr><td>21</td><td>James</td><td>Greetham</td><td>NULL</td></tr>",
                            "<tr><td>22</td><td>Isaac</td><td>Barstowk</td><td>NULL</td></tr>",
                            "<tr><td>23</td><td>Dean</td><td>Nelane</td><td>NULL</td></tr>",
                            "<tr><td>24</td><td>Carolina</td><td>Cranmere</td><td>NULL</td></tr>",
                            "<tr><td>25</td><td>Champ</td><td>Lardiner</td><td>NULL</td></tr>",
                            "<tr><td>26</td><td>Abbie</td><td>Quaif</td><td>NULL</td></tr>",
                            "<tr><td>27</td><td>Camile</td><td>Milbourne</td><td>NULL</td></tr>",
                            "<tr><td>28</td><td>Quentin</td><td>Crose</td><td>NULL</td></tr>",
                            "<tr><td>29</td><td>Silvano</td><td>Horlick</td><td>NULL</td></tr>",
                            "<tr><td>30</td><td>Phyllis</td><td>Cicchillo</td><td>NULL</td></tr>",
                            "<tr><td>31</td><td>Jerrie</td><td>Brownhall</td><td>NULL</td></tr>",
                            "<tr><td>32</td><td>Ludovika</td><td>Leist</td><td>NULL</td></tr>",
                            "<tr><td>33</td><td>Tara</td><td>Knatt</td><td>NULL</td></tr>",
                            "<tr><td>34</td><td>Kelsie</td><td>Parkson</td><td>NULL</td></tr>",
                            "<tr><td>35</td><td>Jodi</td><td>Leopard</td><td>NULL</td></tr>",
                            "<tr><td>36</td><td>Rosanna</td><td>Cultcheth</td><td>NULL</td></tr>",
                            "<tr><td>37</td><td>Remy</td><td>Fairpool</td><td>NULL</td></tr>",
                            "<tr><td>38</td><td>Megan</td><td>Blyth</td><td>NULL</td></tr>",
                            "<tr><td>39</td><td>Rikki</td><td>McLernon</td><td>NULL</td></tr>",
                            "<tr><td>40</td><td>Clare</td><td>Haacker</td><td>NULL</td></tr>",
                            "<tr><td>41</td><td>Vincent</td><td>Chettle</td><td>NULL</td></tr>",
                            "<tr><td>42</td><td>Sybil</td><td>Costanza</td><td>NULL</td></tr>",
                            "<tr><td>43</td><td>Jonas</td><td>Sinclare</td><td>NULL</td></tr>",
                            "<tr><td>44</td><td>Claire</td><td>Bendel</td><td>NULL</td></tr>",
                            "<tr><td>45</td><td>Kathleen</td><td>Welband</td><td>NULL</td></tr>",
                            "<tr><td>46</td><td>Kylie</td><td>Crannage</td><td>NULL</td></tr>",
                            "<tr><td>47</td><td>Evelyn</td><td>Tarajo</td><td>NULL</td></tr>",
                            "<tr><td>48</td><td>Oliver</td><td>Caulson</td><td>NULL</td></tr>",
                            "</table>"
                        ]
                    }
                }
            ],
            "execution_count": 18
        },
        {
            "cell_type": "markdown",
            "source": [
                "## **Part E: Create a temp table**\n",
                "\n",
                "Write a query that returns a temporary table for a patron that shows them all of their loans.\n",
                "\n",
                "_Question to think about:_  Why might a temp table be a good option for this type of query?"
            ],
            "metadata": {
                "azdata_cell_guid": "c31e7672-57c8-4179-82eb-b325adad9e13"
            }
        },
        {
            "cell_type": "code",
            "source": [
                "-- Code your temp table here\n",
                "CREATE TABLE #Patron2Loans(\n",
                "    loan_id INT,\n",
                "    date_out DATE,\n",
                "    date_in DATE,\n",
                "    book_id INT\n",
                ");"
            ],
            "metadata": {
                "vscode": {
                    "languageId": "sql"
                },
                "azdata_cell_guid": "d079240d-bb5a-4b4c-9f32-7fe2e88eec3a",
                "language": "sql"
            },
            "outputs": [
                {
                    "output_type": "display_data",
                    "data": {
                        "text/html": "Commands completed successfully."
                    },
                    "metadata": {}
                },
                {
                    "output_type": "display_data",
                    "data": {
                        "text/html": "Total execution time: 00:00:00.022"
                    },
                    "metadata": {}
                }
            ],
            "execution_count": 19
        },
        {
            "cell_type": "markdown",
            "source": [
                "## **Part F: Wrap-up Query**\n",
                "\n",
                "Create a query that returns the names of the patrons with the genre of every book they currently have checked out.\n",
                "\n",
                "Things to consider:  How are these tables related and connected to each other?\n",
                "\n",
                "> _Note:  If you find a NULL in your output instead of a loan id, this is likely because there are multiple loans per patron.  Try_ _clearing out the loan table. You can do this by either dropping the entire table or clearing specific rows._"
            ],
            "metadata": {
                "azdata_cell_guid": "481a32c1-4a23-4c74-8384-6ef694abf826"
            }
        },
        {
            "cell_type": "code",
            "source": [
                "-- Create your wrap-up query here.\n",
                "USE May2024JunkDB;\n",
                "\n",
                "SELECT p.first_name, p.last_name, g.genres\n",
                "FROM gray.loan AS l\n",
                "INNER JOIN gray.patron AS p ON l.patron_id = p.patron_id\n",
                "INNER JOIN gray.book AS b ON b.book_id = l.book_id\n",
                "INNER JOIN gray.genre AS g ON g.genre_id = b.genre_id;\n",
                ""
            ],
            "metadata": {
                "vscode": {
                    "languageId": "sql"
                },
                "azdata_cell_guid": "5321d560-68e0-4fd9-9c10-86527f4abaad",
                "language": "sql"
            },
            "outputs": [
                {
                    "output_type": "display_data",
                    "data": {
                        "text/html": "(1 row affected)"
                    },
                    "metadata": {}
                },
                {
                    "output_type": "display_data",
                    "data": {
                        "text/html": "Total execution time: 00:00:00.039"
                    },
                    "metadata": {}
                },
                {
                    "output_type": "execute_result",
                    "metadata": {},
                    "execution_count": 25,
                    "data": {
                        "application/vnd.dataresource+json": {
                            "schema": {
                                "fields": [
                                    {
                                        "name": "first_name"
                                    },
                                    {
                                        "name": "last_name"
                                    },
                                    {
                                        "name": "genres"
                                    }
                                ]
                            },
                            "data": [
                                {
                                    "first_name": "Susan",
                                    "last_name": "Traviss",
                                    "genres": "Humor"
                                }
                            ]
                        },
                        "text/html": [
                            "<table>",
                            "<tr><th>first_name</th><th>last_name</th><th>genres</th></tr>",
                            "<tr><td>Susan</td><td>Traviss</td><td>Humor</td></tr>",
                            "</table>"
                        ]
                    }
                }
            ],
            "execution_count": 25
        },
        {
            "cell_type": "markdown",
            "source": [
                "## **Bonus Challenge:**\n",
                "                \n",
                "This is an optional challenge.\n",
                "\n",
                "Create a new table for reference materials using the following code:\n",
                "\n",
                "```\n",
                "CREATE TABLE [DB].[schema].reference_books (\n",
                "    reference_id INT IDENTITY(1,1) PRIMARY KEY,\n",
                "    edition INT,\n",
                "    book_id INT,\n",
                "    book_id INT FOREIGN KEY REFERENCES [DB].[schema].book(book_id)\n",
                "        ON UPDATE SET NULL\n",
                "        ON DELETE SET NULL\n",
                ");\n",
                "```\n",
                "\n",
                "Fill the table with the following query:\n",
                "\n",
                "```\n",
                "INSERT INTO [DB].[schema].reference_books (edition, book_id)\n",
                "VALUE (5,32);\n",
                "```"
            ],
            "metadata": {
                "azdata_cell_guid": "bbddf191-8bf4-453a-9f29-d8e89e295d63"
            }
        },
        {
            "cell_type": "code",
            "source": [
                "-- Create and fill your reference table here.\n",
                "CREATE TABLE [May2024JunkDB].[gray].reference_books (\n",
                "    reference_id INT IDENTITY(1,1) PRIMARY KEY,\n",
                "    edition INT,\n",
                "    book_id INT FOREIGN KEY REFERENCES [May2024JunkDB].[gray].book(book_id)\n",
                "        ON UPDATE SET NULL\n",
                "        ON DELETE SET NULL\n",
                ");\n",
                "\n",
                "INSERT INTO [May2024JunkDB].[gray].reference_books (edition, book_id)\n",
                "VALUES (5,32);"
            ],
            "metadata": {
                "vscode": {
                    "languageId": "sql"
                },
                "azdata_cell_guid": "7aa50ea7-d7b4-4907-8d16-0c7c7cd1ab35",
                "language": "sql"
            },
            "outputs": [
                {
                    "output_type": "display_data",
                    "data": {
                        "text/html": "Commands completed successfully."
                    },
                    "metadata": {}
                },
                {
                    "output_type": "display_data",
                    "data": {
                        "text/html": "Total execution time: 00:00:00.033"
                    },
                    "metadata": {}
                }
            ],
            "execution_count": 27
        },
        {
            "cell_type": "markdown",
            "source": [
                "A reference book cannot leave the library. How would you modify either the **reference_book** table or the **book** table to make sure that doesn't happen? Try to apply your modifications."
            ],
            "metadata": {
                "azdata_cell_guid": "4ae7b79c-a332-4763-b23e-24a376ed1c23"
            }
        },
        {
            "cell_type": "code",
            "source": [
                "-- Code your query here.\n",
                "USE May2024JunkDB;\n",
                "\n",
                "UPDATE gray.book\n",
                "SET available = NULL\n",
                "WHERE book_id IN (\n",
                "    SELECT r.book_id\n",
                "    FROM gray.reference_books AS r\n",
                ");\n",
                "\n",
                "SELECT * FROM gray.book;\n",
                ""
            ],
            "metadata": {
                "vscode": {
                    "languageId": "sql"
                },
                "azdata_cell_guid": "fe41785d-17ae-4d94-84b0-fdb2332346e1",
                "language": "sql",
                "tags": []
            },
            "outputs": [
                {
                    "output_type": "display_data",
                    "data": {
                        "text/html": "(1 row affected)"
                    },
                    "metadata": {}
                },
                {
                    "output_type": "display_data",
                    "data": {
                        "text/html": "(35 rows affected)"
                    },
                    "metadata": {}
                },
                {
                    "output_type": "display_data",
                    "data": {
                        "text/html": "Total execution time: 00:00:00.032"
                    },
                    "metadata": {}
                },
                {
                    "output_type": "execute_result",
                    "metadata": {},
                    "execution_count": 37,
                    "data": {
                        "application/vnd.dataresource+json": {
                            "schema": {
                                "fields": [
                                    {
                                        "name": "book_id"
                                    },
                                    {
                                        "name": "author_id"
                                    },
                                    {
                                        "name": "title"
                                    },
                                    {
                                        "name": "isbn"
                                    },
                                    {
                                        "name": "available"
                                    },
                                    {
                                        "name": "genre_id"
                                    }
                                ]
                            },
                            "data": [
                                {
                                    "book_id": "1",
                                    "author_id": "2",
                                    "title": "A Midsummers Night Dream",
                                    "isbn": "978149413",
                                    "available": "1",
                                    "genre_id": "23"
                                },
                                {
                                    "book_id": "2",
                                    "author_id": "2",
                                    "title": "Romeo and Juliet",
                                    "isbn": "988535196",
                                    "available": "1",
                                    "genre_id": "3"
                                },
                                {
                                    "book_id": "3",
                                    "author_id": "1",
                                    "title": "The Golden Compass",
                                    "isbn": "451664226",
                                    "available": "1",
                                    "genre_id": "1"
                                },
                                {
                                    "book_id": "4",
                                    "author_id": "1",
                                    "title": "The Subtle Knife",
                                    "isbn": "160419390",
                                    "available": "1",
                                    "genre_id": "1"
                                },
                                {
                                    "book_id": "5",
                                    "author_id": "1",
                                    "title": "The Amber Spyglass",
                                    "isbn": "94387895",
                                    "available": "1",
                                    "genre_id": "1"
                                },
                                {
                                    "book_id": "6",
                                    "author_id": "3",
                                    "title": "The Alchemist",
                                    "isbn": "464069772",
                                    "available": "1",
                                    "genre_id": "2"
                                },
                                {
                                    "book_id": "7",
                                    "author_id": "4",
                                    "title": "And Then There Were None",
                                    "isbn": "335973357",
                                    "available": "1",
                                    "genre_id": "6"
                                },
                                {
                                    "book_id": "8",
                                    "author_id": "5",
                                    "title": "The Joy Luck Club",
                                    "isbn": "990050329",
                                    "available": "1",
                                    "genre_id": "10"
                                },
                                {
                                    "book_id": "9",
                                    "author_id": "5",
                                    "title": "The Moon Lady",
                                    "isbn": "91720786",
                                    "available": "1",
                                    "genre_id": "24"
                                },
                                {
                                    "book_id": "10",
                                    "author_id": "6",
                                    "title": "Sense and Sensibility",
                                    "isbn": "156879860",
                                    "available": "1",
                                    "genre_id": "2"
                                },
                                {
                                    "book_id": "11",
                                    "author_id": "6",
                                    "title": "Northanger Abbey",
                                    "isbn": "951273178",
                                    "available": "1",
                                    "genre_id": "3"
                                },
                                {
                                    "book_id": "12",
                                    "author_id": "6",
                                    "title": "Pride and Prejudice",
                                    "isbn": "415886839",
                                    "available": "1",
                                    "genre_id": "3"
                                },
                                {
                                    "book_id": "13",
                                    "author_id": "6",
                                    "title": "Mansfield Park",
                                    "isbn": "188534067",
                                    "available": "1",
                                    "genre_id": "3"
                                },
                                {
                                    "book_id": "14",
                                    "author_id": "6",
                                    "title": "Emma",
                                    "isbn": "994896202",
                                    "available": "1",
                                    "genre_id": "3"
                                },
                                {
                                    "book_id": "15",
                                    "author_id": "6",
                                    "title": "Persuasion",
                                    "isbn": "28150097",
                                    "available": "1",
                                    "genre_id": "3"
                                },
                                {
                                    "book_id": "16",
                                    "author_id": "6",
                                    "title": "Lady Susan",
                                    "isbn": "230962926",
                                    "available": "1",
                                    "genre_id": "3"
                                },
                                {
                                    "book_id": "17",
                                    "author_id": "7",
                                    "title": "Wuthering Heights",
                                    "isbn": "280569946",
                                    "available": "1",
                                    "genre_id": "3"
                                },
                                {
                                    "book_id": "18",
                                    "author_id": "8",
                                    "title": "The Handmaids Tale",
                                    "isbn": "639239663",
                                    "available": "1",
                                    "genre_id": "5"
                                },
                                {
                                    "book_id": "19",
                                    "author_id": "8",
                                    "title": "The Testaments",
                                    "isbn": "826875490",
                                    "available": "1",
                                    "genre_id": "5"
                                },
                                {
                                    "book_id": "20",
                                    "author_id": "9",
                                    "title": "The Parable of the Sower",
                                    "isbn": "283359358",
                                    "available": "1",
                                    "genre_id": "5"
                                },
                                {
                                    "book_id": "21",
                                    "author_id": "10",
                                    "title": "Little Women",
                                    "isbn": "495409887",
                                    "available": "1",
                                    "genre_id": "23"
                                },
                                {
                                    "book_id": "22",
                                    "author_id": "11",
                                    "title": "Still Life",
                                    "isbn": "455128657",
                                    "available": "1",
                                    "genre_id": "6"
                                },
                                {
                                    "book_id": "23",
                                    "author_id": "11",
                                    "title": "A Fatal Grace",
                                    "isbn": "832517012",
                                    "available": "1",
                                    "genre_id": "6"
                                },
                                {
                                    "book_id": "24",
                                    "author_id": "11",
                                    "title": "The Cruelest Month",
                                    "isbn": "419285319",
                                    "available": "1",
                                    "genre_id": "6"
                                },
                                {
                                    "book_id": "25",
                                    "author_id": "11",
                                    "title": "The Murder Stone",
                                    "isbn": "656621400",
                                    "available": "1",
                                    "genre_id": "6"
                                },
                                {
                                    "book_id": "26",
                                    "author_id": "11",
                                    "title": "The Brutal Telling",
                                    "isbn": "144255852",
                                    "available": "1",
                                    "genre_id": "6"
                                },
                                {
                                    "book_id": "27",
                                    "author_id": "11",
                                    "title": "Bury Your Dead",
                                    "isbn": "208180961",
                                    "available": "1",
                                    "genre_id": "6"
                                },
                                {
                                    "book_id": "28",
                                    "author_id": "11",
                                    "title": "A Trick of the Light",
                                    "isbn": "93451531",
                                    "available": "1",
                                    "genre_id": "6"
                                },
                                {
                                    "book_id": "29",
                                    "author_id": "12",
                                    "title": "Midnights Children",
                                    "isbn": "881082293",
                                    "available": "1",
                                    "genre_id": "10"
                                },
                                {
                                    "book_id": "30",
                                    "author_id": "13",
                                    "title": "Dont Let the Pigeon Drive the Bus!",
                                    "isbn": "18409532",
                                    "available": "1",
                                    "genre_id": "24"
                                },
                                {
                                    "book_id": "31",
                                    "author_id": "14",
                                    "title": "Beezus and Ramona",
                                    "isbn": "744412630",
                                    "available": "1",
                                    "genre_id": "24"
                                },
                                {
                                    "book_id": "32",
                                    "author_id": "15",
                                    "title": "Organic Chemistry",
                                    "isbn": "604328803",
                                    "available": "NULL",
                                    "genre_id": "25"
                                },
                                {
                                    "book_id": "33",
                                    "author_id": "16",
                                    "title": "I Know Why the Caged Bird Sings",
                                    "isbn": "909947112",
                                    "available": "1",
                                    "genre_id": "12"
                                },
                                {
                                    "book_id": "34",
                                    "author_id": "17",
                                    "title": "Beloved",
                                    "isbn": "46736233",
                                    "available": "1",
                                    "genre_id": "10"
                                },
                                {
                                    "book_id": "35",
                                    "author_id": "18",
                                    "title": "Brassbones and Rainbows",
                                    "isbn": "330608463",
                                    "available": "1",
                                    "genre_id": "26"
                                }
                            ]
                        },
                        "text/html": [
                            "<table>",
                            "<tr><th>book_id</th><th>author_id</th><th>title</th><th>isbn</th><th>available</th><th>genre_id</th></tr>",
                            "<tr><td>1</td><td>2</td><td>A Midsummers Night Dream</td><td>978149413</td><td>1</td><td>23</td></tr>",
                            "<tr><td>2</td><td>2</td><td>Romeo and Juliet</td><td>988535196</td><td>1</td><td>3</td></tr>",
                            "<tr><td>3</td><td>1</td><td>The Golden Compass</td><td>451664226</td><td>1</td><td>1</td></tr>",
                            "<tr><td>4</td><td>1</td><td>The Subtle Knife</td><td>160419390</td><td>1</td><td>1</td></tr>",
                            "<tr><td>5</td><td>1</td><td>The Amber Spyglass</td><td>94387895</td><td>1</td><td>1</td></tr>",
                            "<tr><td>6</td><td>3</td><td>The Alchemist</td><td>464069772</td><td>1</td><td>2</td></tr>",
                            "<tr><td>7</td><td>4</td><td>And Then There Were None</td><td>335973357</td><td>1</td><td>6</td></tr>",
                            "<tr><td>8</td><td>5</td><td>The Joy Luck Club</td><td>990050329</td><td>1</td><td>10</td></tr>",
                            "<tr><td>9</td><td>5</td><td>The Moon Lady</td><td>91720786</td><td>1</td><td>24</td></tr>",
                            "<tr><td>10</td><td>6</td><td>Sense and Sensibility</td><td>156879860</td><td>1</td><td>2</td></tr>",
                            "<tr><td>11</td><td>6</td><td>Northanger Abbey</td><td>951273178</td><td>1</td><td>3</td></tr>",
                            "<tr><td>12</td><td>6</td><td>Pride and Prejudice</td><td>415886839</td><td>1</td><td>3</td></tr>",
                            "<tr><td>13</td><td>6</td><td>Mansfield Park</td><td>188534067</td><td>1</td><td>3</td></tr>",
                            "<tr><td>14</td><td>6</td><td>Emma</td><td>994896202</td><td>1</td><td>3</td></tr>",
                            "<tr><td>15</td><td>6</td><td>Persuasion</td><td>28150097</td><td>1</td><td>3</td></tr>",
                            "<tr><td>16</td><td>6</td><td>Lady Susan</td><td>230962926</td><td>1</td><td>3</td></tr>",
                            "<tr><td>17</td><td>7</td><td>Wuthering Heights</td><td>280569946</td><td>1</td><td>3</td></tr>",
                            "<tr><td>18</td><td>8</td><td>The Handmaids Tale</td><td>639239663</td><td>1</td><td>5</td></tr>",
                            "<tr><td>19</td><td>8</td><td>The Testaments</td><td>826875490</td><td>1</td><td>5</td></tr>",
                            "<tr><td>20</td><td>9</td><td>The Parable of the Sower</td><td>283359358</td><td>1</td><td>5</td></tr>",
                            "<tr><td>21</td><td>10</td><td>Little Women</td><td>495409887</td><td>1</td><td>23</td></tr>",
                            "<tr><td>22</td><td>11</td><td>Still Life</td><td>455128657</td><td>1</td><td>6</td></tr>",
                            "<tr><td>23</td><td>11</td><td>A Fatal Grace</td><td>832517012</td><td>1</td><td>6</td></tr>",
                            "<tr><td>24</td><td>11</td><td>The Cruelest Month</td><td>419285319</td><td>1</td><td>6</td></tr>",
                            "<tr><td>25</td><td>11</td><td>The Murder Stone</td><td>656621400</td><td>1</td><td>6</td></tr>",
                            "<tr><td>26</td><td>11</td><td>The Brutal Telling</td><td>144255852</td><td>1</td><td>6</td></tr>",
                            "<tr><td>27</td><td>11</td><td>Bury Your Dead</td><td>208180961</td><td>1</td><td>6</td></tr>",
                            "<tr><td>28</td><td>11</td><td>A Trick of the Light</td><td>93451531</td><td>1</td><td>6</td></tr>",
                            "<tr><td>29</td><td>12</td><td>Midnights Children</td><td>881082293</td><td>1</td><td>10</td></tr>",
                            "<tr><td>30</td><td>13</td><td>Dont Let the Pigeon Drive the Bus!</td><td>18409532</td><td>1</td><td>24</td></tr>",
                            "<tr><td>31</td><td>14</td><td>Beezus and Ramona</td><td>744412630</td><td>1</td><td>24</td></tr>",
                            "<tr><td>32</td><td>15</td><td>Organic Chemistry</td><td>604328803</td><td>NULL</td><td>25</td></tr>",
                            "<tr><td>33</td><td>16</td><td>I Know Why the Caged Bird Sings</td><td>909947112</td><td>1</td><td>12</td></tr>",
                            "<tr><td>34</td><td>17</td><td>Beloved</td><td>46736233</td><td>1</td><td>10</td></tr>",
                            "<tr><td>35</td><td>18</td><td>Brassbones and Rainbows</td><td>330608463</td><td>1</td><td>26</td></tr>",
                            "</table>"
                        ]
                    }
                }
            ],
            "execution_count": 37
        }
    ]
}