{
    "metadata": {
        "kernelspec": {
            "name": "SQL",
            "display_name": "SQL",
            "language": "sql"
        },
        "language_info": {
            "name": "sql",
            "version": ""
        }
    },
    "nbformat_minor": 2,
    "nbformat": 4,
    "cells": [
        {
            "cell_type": "markdown",
            "source": [
                "# SQL Part 1 Studio\n",
                "\n",
                "Let's practice your SQL querying skills!  For each question, work along in the notebook adding your query and answering the questions.\n",
                "\n",
                "## Dataset\n",
                "\n",
                "We will be using the same Goodreads dataset that was used for the exercises in the prep work. Feel free to reference your exercises notebook as you work on the studio. The Kaggle dataset can be found here: [goodbooks-10k](https://www.kaggle.com/zygmunt/goodbooks-10k).\n",
                "\n",
                "You can access **BooksDB** in the Launchcode server.\n",
                "\n",
                "## Business Issue\n",
                "\n",
                "You work for a small independent book store and you want to increase sales by running a new marketing campaign. Before you can design your campaign, you need to get more familiar with what is going on with the world of book publishing. Time to get more familar with BooksDB!"
            ],
            "metadata": {
                "azdata_cell_guid": "33188c46-5642-4415-8211-50ed79f17282"
            }
        },
        {
            "cell_type": "markdown",
            "source": [
                "## Part 1: BooksDB Questions\n",
                "\n",
                "Question 1: Write a query of the `books` table that returns the top 100 results and includes `book_id`, `authors`, `title`, and `average_rating`. Use an alias for at least one column and sort the result set in descending order of rating. What is the number one book?"
            ],
            "metadata": {
                "azdata_cell_guid": "5da084cb-be2e-43ed-9ab2-ade6ce8132e0"
            }
        },
        {
            "cell_type": "code",
            "source": [
                "-- return top 100 results\n",
                "USE BooksDB\n",
                "\n",
                "SELECT Top 100 book_id, authors,title,average_rating as AvgRate\n",
                "FROM books\n",
                "ORDER BY AvgRate desc"
            ],
            "metadata": {
                "vscode": {
                    "languageId": "sql"
                },
                "azdata_cell_guid": "38e7d279-431f-463b-8d6d-7275ce128bc5",
                "language": "sql",
                "tags": []
            },
            "outputs": [
                {
                    "output_type": "display_data",
                    "data": {
                        "text/html": "(100 rows affected)"
                    },
                    "metadata": {}
                },
                {
                    "output_type": "display_data",
                    "data": {
                        "text/html": "Total execution time: 00:00:00.044"
                    },
                    "metadata": {}
                },
                {
                    "output_type": "execute_result",
                    "metadata": {},
                    "execution_count": 20,
                    "data": {
                        "application/vnd.dataresource+json": {
                            "schema": {
                                "fields": [
                                    {
                                        "name": "book_id"
                                    },
                                    {
                                        "name": "authors"
                                    },
                                    {
                                        "name": "title"
                                    },
                                    {
                                        "name": "AvgRate"
                                    }
                                ]
                            },
                            "data": [
                                {
                                    "book_id": "24812",
                                    "authors": "Bill Watterson",
                                    "title": "The Complete Calvin and Hobbes",
                                    "AvgRate": "4.82"
                                },
                                {
                                    "book_id": "17332218",
                                    "authors": "Brandon Sanderson",
                                    "title": "Words of Radiance (The Stormlight Archive, #2)",
                                    "AvgRate": "4.77"
                                },
                                {
                                    "book_id": "8",
                                    "authors": "J.K. Rowling, Mary GrandPré",
                                    "title": "Harry Potter Boxed Set, Books 1-5 (Harry Potter, #1-5)",
                                    "AvgRate": "4.77"
                                },
                                {
                                    "book_id": "5031805",
                                    "authors": "Anonymous, Lane T. Dennis, Wayne A. Grudem",
                                    "title": "ESV Study Bible",
                                    "AvgRate": "4.76"
                                },
                                {
                                    "book_id": "95602",
                                    "authors": "Francine Rivers",
                                    "title": "Mark of the Lion Trilogy",
                                    "AvgRate": "4.76"
                                },
                                {
                                    "book_id": "24814",
                                    "authors": "Bill Watterson",
                                    "title": "It's a Magical World: A Calvin and Hobbes Collection",
                                    "AvgRate": "4.75"
                                },
                                {
                                    "book_id": "862041",
                                    "authors": "J.K. Rowling",
                                    "title": "Harry Potter Boxset (Harry Potter, #1-7)",
                                    "AvgRate": "4.74"
                                },
                                {
                                    "book_id": "70489",
                                    "authors": "Bill Watterson",
                                    "title": "There's Treasure Everywhere: A Calvin and Hobbes Collection",
                                    "AvgRate": "4.74"
                                },
                                {
                                    "book_id": "10",
                                    "authors": "J.K. Rowling",
                                    "title": "Harry Potter Collection (Harry Potter, #1-6)",
                                    "AvgRate": "4.73"
                                },
                                {
                                    "book_id": "59715",
                                    "authors": "Bill Watterson",
                                    "title": "The Authoritative Calvin and Hobbes: A Calvin and Hobbes Treasury",
                                    "AvgRate": "4.73"
                                },
                                {
                                    "book_id": "24815",
                                    "authors": "Bill Watterson",
                                    "title": "The Indispensable Calvin and Hobbes",
                                    "AvgRate": "4.73"
                                },
                                {
                                    "book_id": "17927395",
                                    "authors": "Sarah J. Maas",
                                    "title": "A Court of Mist and Fury (A Court of Thorns and Roses, #2)",
                                    "AvgRate": "4.72"
                                },
                                {
                                    "book_id": "70487",
                                    "authors": "Bill Watterson",
                                    "title": "Attack of the Deranged Mutant Killer Monster Snow Goons",
                                    "AvgRate": "4.72"
                                },
                                {
                                    "book_id": "24816",
                                    "authors": "Bill Watterson",
                                    "title": "Homicidal Psycho Jungle Cat: A Calvin and Hobbes Collection",
                                    "AvgRate": "4.71"
                                },
                                {
                                    "book_id": "121792",
                                    "authors": "Bill Watterson",
                                    "title": "The Revenge of the Baby-Sat",
                                    "AvgRate": "4.71"
                                },
                                {
                                    "book_id": "2350129",
                                    "authors": "The Church of Jesus Christ of Latter-day Saints",
                                    "title": "Preach My Gospel: A Guide To Missionary Service",
                                    "AvgRate": "4.71"
                                },
                                {
                                    "book_id": "24818",
                                    "authors": "Bill Watterson",
                                    "title": "The Days Are Just Packed: A Calvin and Hobbes Collection",
                                    "AvgRate": "4.68"
                                },
                                {
                                    "book_id": "265205",
                                    "authors": "Anonymous, Ronald A. Beers, Ronald A. Beers",
                                    "title": "Life Application Study Bible: NIV",
                                    "AvgRate": "4.67"
                                },
                                {
                                    "book_id": "9329354",
                                    "authors": "Brandon Sanderson",
                                    "title": "The Way of Kings, Part 1 (The Stormlight Archive #1.1)",
                                    "AvgRate": "4.67"
                                },
                                {
                                    "book_id": "99298",
                                    "authors": "J.K. Rowling, Mary GrandPré",
                                    "title": "The Harry Potter Collection 1-4 (Harry Potter, #1-4)",
                                    "AvgRate": "4.66"
                                },
                                {
                                    "book_id": "5883777",
                                    "authors": "Anonymous",
                                    "title": "The Holy Bible: English Standard Version",
                                    "AvgRate": "4.66"
                                },
                                {
                                    "book_id": "24494",
                                    "authors": "Bill Watterson",
                                    "title": "The Calvin and Hobbes Lazy Sunday Book",
                                    "AvgRate": "4.66"
                                },
                                {
                                    "book_id": "43070",
                                    "authors": "Bill Watterson",
                                    "title": "The Essential Calvin and Hobbes: A Calvin and Hobbes Treasury",
                                    "AvgRate": "4.65"
                                },
                                {
                                    "book_id": "18337259",
                                    "authors": "Daniel Abraham, George R.R. Martin, Tommy Patterson",
                                    "title": "A Game of Thrones: Comic Book, Issue 1",
                                    "AvgRate": "4.65"
                                },
                                {
                                    "book_id": "23753",
                                    "authors": "Neil Gaiman, Mike Dringenberg, Chris Bachalo, Michael Zulli, Kelly Jones, Charles Vess, Colleen Doran, Malcolm Jones III, Steve Parkhouse, Daniel Vozzo, Lee Loughridge, Steve Oliff, Todd Klein, Dave McKean, Sam Kieth",
                                    "title": "The Absolute Sandman, Volume One",
                                    "AvgRate": "4.65"
                                },
                                {
                                    "book_id": "7235533",
                                    "authors": "Brandon Sanderson",
                                    "title": "The Way of Kings (The Stormlight Archive, #1)",
                                    "AvgRate": "4.64"
                                },
                                {
                                    "book_id": "24813",
                                    "authors": "Bill Watterson",
                                    "title": "The Calvin and Hobbes Tenth Anniversary Book",
                                    "AvgRate": "4.63"
                                },
                                {
                                    "book_id": "9814682",
                                    "authors": "George R.R. Martin",
                                    "title": "A Song of Ice and Fire (A Song of Ice and Fire, #1-4)",
                                    "AvgRate": "4.63"
                                },
                                {
                                    "book_id": "12177850",
                                    "authors": "George R.R. Martin",
                                    "title": "A Song of Ice and Fire (A Song of Ice and Fire, #1-5)",
                                    "AvgRate": "4.63"
                                },
                                {
                                    "book_id": "481749",
                                    "authors": "James E. Talmage",
                                    "title": "Jesus the Christ",
                                    "AvgRate": "4.63"
                                },
                                {
                                    "book_id": "46292",
                                    "authors": "Hafez",
                                    "title": "The Divan",
                                    "AvgRate": "4.63"
                                },
                                {
                                    "book_id": "6801614",
                                    "authors": "Eiichirō Oda",
                                    "title": "One Piece, Volume 38: Rocketman!! (One Piece, #38)",
                                    "AvgRate": "4.63"
                                },
                                {
                                    "book_id": "22299763",
                                    "authors": "Leigh Bardugo",
                                    "title": "Crooked Kingdom (Six of Crows, #2)",
                                    "AvgRate": "4.62"
                                },
                                {
                                    "book_id": "32075671",
                                    "authors": "Angie Thomas",
                                    "title": "The Hate U Give",
                                    "AvgRate": "4.62"
                                },
                                {
                                    "book_id": "136251",
                                    "authors": "J.K. Rowling, Mary GrandPré",
                                    "title": "Harry Potter and the Deathly Hallows (Harry Potter, #7)",
                                    "AvgRate": "4.61"
                                },
                                {
                                    "book_id": "77727",
                                    "authors": "Bill Watterson, G.B. Trudeau",
                                    "title": "Calvin and Hobbes",
                                    "AvgRate": "4.61"
                                },
                                {
                                    "book_id": "280111",
                                    "authors": "Anonymous",
                                    "title": "Holy Bible: New International Version",
                                    "AvgRate": "4.61"
                                },
                                {
                                    "book_id": "2223324",
                                    "authors": "John   Williams",
                                    "title": "Harry Potter and the Chamber of Secrets: Sheet Music for Flute with C.D",
                                    "AvgRate": "4.61"
                                },
                                {
                                    "book_id": "6339989",
                                    "authors": "Richelle Mead",
                                    "title": "Vampire Academy Collection (Vampire Academy, #1-3)",
                                    "AvgRate": "4.61"
                                },
                                {
                                    "book_id": "596259",
                                    "authors": "Gordon B. Hinckley",
                                    "title": "Standing for Something: 10 Neglected Virtues That Will Heal Our Hearts and Homes",
                                    "AvgRate": "4.61"
                                },
                                {
                                    "book_id": "47697",
                                    "authors": "Alisa Kwitney, Neil Gaiman",
                                    "title": "The Sandman: King of Dreams",
                                    "AvgRate": "4.61"
                                },
                                {
                                    "book_id": "18006496",
                                    "authors": "Sarah J. Maas",
                                    "title": "Queen of Shadows (Throne of Glass, #4)",
                                    "AvgRate": "4.6"
                                },
                                {
                                    "book_id": "95617",
                                    "authors": "Francine Rivers, Richard Ferrone",
                                    "title": "A Voice in the Wind (Mark of the Lion, #1)",
                                    "AvgRate": "4.6"
                                },
                                {
                                    "book_id": "46601",
                                    "authors": "Francine Rivers",
                                    "title": "An Echo in the Darkness (Mark of the Lion, #2)",
                                    "AvgRate": "4.6"
                                },
                                {
                                    "book_id": "7025086",
                                    "authors": "Christopher Yost, Pasqual Ferry, Orson Scott Card",
                                    "title": "Ender's Game, Volume 2: Command School",
                                    "AvgRate": "4.6"
                                },
                                {
                                    "book_id": "18335634",
                                    "authors": "Cassandra Clare",
                                    "title": "Clockwork Princess (The Infernal Devices, #3)",
                                    "AvgRate": "4.59"
                                },
                                {
                                    "book_id": "30",
                                    "authors": "J.R.R. Tolkien",
                                    "title": "J.R.R. Tolkien 4-Book Boxed Set: The Hobbit and The Lord of the Rings",
                                    "AvgRate": "4.59"
                                },
                                {
                                    "book_id": "2299110",
                                    "authors": "Sherrilyn Kenyon",
                                    "title": "Acheron (Dark-Hunter #14)",
                                    "AvgRate": "4.59"
                                },
                                {
                                    "book_id": "119",
                                    "authors": "Gary Russell",
                                    "title": "The Lord of the Rings: The Art of The Fellowship of the Ring",
                                    "AvgRate": "4.59"
                                },
                                {
                                    "book_id": "71252",
                                    "authors": "Neil Gaiman, Marc Hempel, Richard Case, D'Israeli, Teddy Kristiansen, Glyn Dillon, Charles Vess, Dean Ormston, Kevin Nowlan, Todd Klein, Frank McConnell",
                                    "title": "The Kindly Ones (The Sandman #9)",
                                    "AvgRate": "4.59"
                                },
                                {
                                    "book_id": "349254",
                                    "authors": "Jude Fisher",
                                    "title": "The Lord of the Rings: The Return of the King: Visual Companion",
                                    "AvgRate": "4.59"
                                },
                                {
                                    "book_id": "9832370",
                                    "authors": "BookRags",
                                    "title": "BookRags Summary:  A Storm of Swords",
                                    "AvgRate": "4.59"
                                },
                                {
                                    "book_id": "11106458",
                                    "authors": "Cassandra Clare",
                                    "title": "The Mortal Instruments (The Mortal Instruments #1-4)",
                                    "AvgRate": "4.59"
                                },
                                {
                                    "book_id": "14367051",
                                    "authors": "Cassandra Clare",
                                    "title": "City of Bones / City of Ashes / City of Glass / City of Fallen Angels / City of Lost Souls (The Mortal Instruments, #1-5)",
                                    "AvgRate": "4.59"
                                },
                                {
                                    "book_id": "28260587",
                                    "authors": "Sarah J. Maas",
                                    "title": "Empire of Storms (Throne of Glass, #5)",
                                    "AvgRate": "4.58"
                                },
                                {
                                    "book_id": "3165162",
                                    "authors": "Rick Riordan",
                                    "title": "Percy Jackson and the Olympians (Percy Jackson and the Olympians, #1-3)",
                                    "AvgRate": "4.58"
                                },
                                {
                                    "book_id": "20342617",
                                    "authors": "Bryan Stevenson",
                                    "title": "Just Mercy: A Story of Justice and Redemption",
                                    "AvgRate": "4.58"
                                },
                                {
                                    "book_id": "17961",
                                    "authors": "Jorge Luis Borges, Andrew Hurley",
                                    "title": "Collected Fictions",
                                    "AvgRate": "4.58"
                                },
                                {
                                    "book_id": "4808763",
                                    "authors": "Isaac Asimov, Bob E. Flick, Jim Gallant",
                                    "title": "The Last Question",
                                    "AvgRate": "4.58"
                                },
                                {
                                    "book_id": "15767586",
                                    "authors": "Sherrilyn Kenyon",
                                    "title": "Styxx (Dark-Hunter, #22)",
                                    "AvgRate": "4.58"
                                },
                                {
                                    "book_id": "892295",
                                    "authors": "Arthur Conan Doyle, William S. Baring-Gould",
                                    "title": "The Annotated Sherlock Holmes: The Four Novels and the Fifty-Six Short Stories Complete (2 Volume Set)",
                                    "AvgRate": "4.58"
                                },
                                {
                                    "book_id": "1215032",
                                    "authors": "Patrick Rothfuss",
                                    "title": "The Wise Man's Fear (The Kingkiller Chronicle, #2)",
                                    "AvgRate": "4.57"
                                },
                                {
                                    "book_id": "6485421",
                                    "authors": "Cassandra Clare",
                                    "title": "The Mortal Instruments Boxed Set: City of Bones; City of Ashes; City of Glass (The Mortal Instruments, #1-3)",
                                    "AvgRate": "4.57"
                                },
                                {
                                    "book_id": "17131869",
                                    "authors": "Brian K. Vaughan, Fiona Staples",
                                    "title": "Saga, Vol. 2 (Saga, #2)",
                                    "AvgRate": "4.57"
                                },
                                {
                                    "book_id": "8718952",
                                    "authors": "Richelle Mead",
                                    "title": "Vampire Academy Box Set (Vampire Academy, #1-4)",
                                    "AvgRate": "4.57"
                                },
                                {
                                    "book_id": "4634266",
                                    "authors": "Masashi Kishimoto",
                                    "title": "NARUTO -ナルト- 巻ノ四十三",
                                    "AvgRate": "4.57"
                                },
                                {
                                    "book_id": "6443349",
                                    "authors": "Rick Riordan, Tk",
                                    "title": "Percy Jackson and the Olympians Boxed Set (Percy Jackson and the Olympians, #1-5)",
                                    "AvgRate": "4.57"
                                },
                                {
                                    "book_id": "545425",
                                    "authors": "Safiy al-Rahman al-Mubarakfuri",
                                    "title": "الرحيق المختوم",
                                    "AvgRate": "4.57"
                                },
                                {
                                    "book_id": "17333174",
                                    "authors": "Ilona Andrews",
                                    "title": "Magic Binds (Kate Daniels, #9)",
                                    "AvgRate": "4.57"
                                },
                                {
                                    "book_id": "147915",
                                    "authors": "George R.R. Martin",
                                    "title": "A Storm of Swords: Blood and Gold (A Song of Ice and Fire, #3: Part 2 of 2)",
                                    "AvgRate": "4.56"
                                },
                                {
                                    "book_id": "19358975",
                                    "authors": "Brian K. Vaughan, Fiona Staples",
                                    "title": "Saga, Vol. 3 (Saga, #3)",
                                    "AvgRate": "4.56"
                                },
                                {
                                    "book_id": "10785687",
                                    "authors": "Bob McCabe",
                                    "title": "Harry Potter Page to Screen: The Complete Filmmaking Journey",
                                    "AvgRate": "4.56"
                                },
                                {
                                    "book_id": "17880714",
                                    "authors": "K. Bromberg",
                                    "title": "Crashed (Driven, #3)",
                                    "AvgRate": "4.56"
                                },
                                {
                                    "book_id": "1317181",
                                    "authors": "J.K. Rowling",
                                    "title": "Harry Potter and the Order of the Phoenix (Harry Potter, #5, Part 1)",
                                    "AvgRate": "4.56"
                                },
                                {
                                    "book_id": "15743078",
                                    "authors": "Veronica Roth",
                                    "title": "The Divergent Series 2-Book Collection (Divergent, #1-2)",
                                    "AvgRate": "4.56"
                                },
                                {
                                    "book_id": "29236299",
                                    "authors": "Amie Kaufman, Jay Kristoff, Marie Lu",
                                    "title": "Gemina (The Illuminae Files, #2)",
                                    "AvgRate": "4.56"
                                },
                                {
                                    "book_id": "186074",
                                    "authors": "Patrick Rothfuss",
                                    "title": "The Name of the Wind (The Kingkiller Chronicle, #1)",
                                    "AvgRate": "4.55"
                                },
                                {
                                    "book_id": "19486421",
                                    "authors": "Jim Butcher",
                                    "title": "Skin Game (The Dresden Files, #15)",
                                    "AvgRate": "4.55"
                                },
                                {
                                    "book_id": "6604209",
                                    "authors": "Brandon Sanderson",
                                    "title": "Mistborn Trilogy Boxed Set (Mistborn, #1-3)",
                                    "AvgRate": "4.55"
                                },
                                {
                                    "book_id": "25105",
                                    "authors": "Neil Gaiman, Jill Thompson, Vince Locke, Peter Straub",
                                    "title": "Brief Lives (The Sandman #7)",
                                    "AvgRate": "4.55"
                                },
                                {
                                    "book_id": "8346300",
                                    "authors": "Andrew Williamson, Andrew Williamson",
                                    "title": "Harry Potter: A Pop-Up Book: Based on the Film Phenomenon",
                                    "AvgRate": "4.55"
                                },
                                {
                                    "book_id": "14905",
                                    "authors": "Jane Austen",
                                    "title": "The Complete Novels",
                                    "AvgRate": "4.55"
                                },
                                {
                                    "book_id": "13184992",
                                    "authors": "Kristen Ashley",
                                    "title": "Rock Chick Regret (Rock Chick, #7)",
                                    "AvgRate": "4.55"
                                },
                                {
                                    "book_id": "71823",
                                    "authors": "Stephen King",
                                    "title": "The Green Mile, Part 6: Coffey on the Mile",
                                    "AvgRate": "4.55"
                                },
                                {
                                    "book_id": "1",
                                    "authors": "J.K. Rowling, Mary GrandPré",
                                    "title": "Harry Potter and the Half-Blood Prince (Harry Potter, #6)",
                                    "AvgRate": "4.54"
                                },
                                {
                                    "book_id": "62291",
                                    "authors": "George R.R. Martin",
                                    "title": "A Storm of Swords (A Song of Ice and Fire, #3)",
                                    "AvgRate": "4.54"
                                },
                                {
                                    "book_id": "21853621",
                                    "authors": "Kristin Hannah",
                                    "title": "The Nightingale",
                                    "AvgRate": "4.54"
                                },
                                {
                                    "book_id": "12127810",
                                    "authors": "Rick Riordan",
                                    "title": "The House of Hades (The Heroes of Olympus, #4)",
                                    "AvgRate": "4.54"
                                },
                                {
                                    "book_id": "6585201",
                                    "authors": "Jim Butcher",
                                    "title": "Changes (The Dresden Files, #12)",
                                    "AvgRate": "4.54"
                                },
                                {
                                    "book_id": "381421",
                                    "authors": "Sarah  Young",
                                    "title": "Jesus Calling: Enjoying Peace in His Presence",
                                    "AvgRate": "4.54"
                                },
                                {
                                    "book_id": "25101",
                                    "authors": "Neil Gaiman, Matt Wagner, George Pratt, Dick Giordano, Kelley Jones, P. Craig Russell, Mike Dringenberg, Malcolm Jones III, Todd Klein, Harlan Ellison",
                                    "title": "Season of Mists (The Sandman #4)",
                                    "AvgRate": "4.54"
                                },
                                {
                                    "book_id": "89959",
                                    "authors": "Founding Fathers",
                                    "title": "The Constitution of the United States of America",
                                    "AvgRate": "4.54"
                                },
                                {
                                    "book_id": "23766634",
                                    "authors": "Sarah J. Maas",
                                    "title": "A Court of Wings and Ruin (A Court of Thorns and Roses, #3)",
                                    "AvgRate": "4.54"
                                },
                                {
                                    "book_id": "20706320",
                                    "authors": "Chris Colfer, Brandon Dorman",
                                    "title": "A Grimm Warning (The Land of Stories, #3)",
                                    "AvgRate": "4.54"
                                },
                                {
                                    "book_id": "8163161",
                                    "authors": "Bisco Hatori",
                                    "title": "Ouran High School Host Club, Vol. 15 (Ouran High School Host Club, #15)",
                                    "AvgRate": "4.54"
                                },
                                {
                                    "book_id": "5",
                                    "authors": "J.K. Rowling, Mary GrandPré, Rufus Beck",
                                    "title": "Harry Potter and the Prisoner of Azkaban (Harry Potter, #3)",
                                    "AvgRate": "4.53"
                                },
                                {
                                    "book_id": "6",
                                    "authors": "J.K. Rowling, Mary GrandPré",
                                    "title": "Harry Potter and the Goblet of Fire (Harry Potter, #4)",
                                    "AvgRate": "4.53"
                                },
                                {
                                    "book_id": "20613470",
                                    "authors": "Sarah J. Maas",
                                    "title": "Heir of Fire (Throne of Glass, #3)",
                                    "AvgRate": "4.53"
                                },
                                {
                                    "book_id": "15195",
                                    "authors": "Art Spiegelman",
                                    "title": "The Complete Maus (Maus, #1-2)",
                                    "AvgRate": "4.53"
                                },
                                {
                                    "book_id": "25104",
                                    "authors": "Neil Gaiman, Michael Zulli, Jon J. Muth, Charles Vess, Mikal Gilmore",
                                    "title": "The Wake (The Sandman #10)",
                                    "AvgRate": "4.53"
                                }
                            ]
                        },
                        "text/html": [
                            "<table>",
                            "<tr><th>book_id</th><th>authors</th><th>title</th><th>AvgRate</th></tr>",
                            "<tr><td>24812</td><td>Bill Watterson</td><td>The Complete Calvin and Hobbes</td><td>4.82</td></tr>",
                            "<tr><td>17332218</td><td>Brandon Sanderson</td><td>Words of Radiance (The Stormlight Archive, #2)</td><td>4.77</td></tr>",
                            "<tr><td>8</td><td>J.K. Rowling, Mary GrandPré</td><td>Harry Potter Boxed Set, Books 1-5 (Harry Potter, #1-5)</td><td>4.77</td></tr>",
                            "<tr><td>5031805</td><td>Anonymous, Lane T. Dennis, Wayne A. Grudem</td><td>ESV Study Bible</td><td>4.76</td></tr>",
                            "<tr><td>95602</td><td>Francine Rivers</td><td>Mark of the Lion Trilogy</td><td>4.76</td></tr>",
                            "<tr><td>24814</td><td>Bill Watterson</td><td>It&#39;s a Magical World: A Calvin and Hobbes Collection</td><td>4.75</td></tr>",
                            "<tr><td>862041</td><td>J.K. Rowling</td><td>Harry Potter Boxset (Harry Potter, #1-7)</td><td>4.74</td></tr>",
                            "<tr><td>70489</td><td>Bill Watterson</td><td>There&#39;s Treasure Everywhere: A Calvin and Hobbes Collection</td><td>4.74</td></tr>",
                            "<tr><td>10</td><td>J.K. Rowling</td><td>Harry Potter Collection (Harry Potter, #1-6)</td><td>4.73</td></tr>",
                            "<tr><td>59715</td><td>Bill Watterson</td><td>The Authoritative Calvin and Hobbes: A Calvin and Hobbes Treasury</td><td>4.73</td></tr>",
                            "<tr><td>24815</td><td>Bill Watterson</td><td>The Indispensable Calvin and Hobbes</td><td>4.73</td></tr>",
                            "<tr><td>17927395</td><td>Sarah J. Maas</td><td>A Court of Mist and Fury (A Court of Thorns and Roses, #2)</td><td>4.72</td></tr>",
                            "<tr><td>70487</td><td>Bill Watterson</td><td>Attack of the Deranged Mutant Killer Monster Snow Goons</td><td>4.72</td></tr>",
                            "<tr><td>24816</td><td>Bill Watterson</td><td>Homicidal Psycho Jungle Cat: A Calvin and Hobbes Collection</td><td>4.71</td></tr>",
                            "<tr><td>121792</td><td>Bill Watterson</td><td>The Revenge of the Baby-Sat</td><td>4.71</td></tr>",
                            "<tr><td>2350129</td><td>The Church of Jesus Christ of Latter-day Saints</td><td>Preach My Gospel: A Guide To Missionary Service</td><td>4.71</td></tr>",
                            "<tr><td>24818</td><td>Bill Watterson</td><td>The Days Are Just Packed: A Calvin and Hobbes Collection</td><td>4.68</td></tr>",
                            "<tr><td>265205</td><td>Anonymous, Ronald A. Beers, Ronald A. Beers</td><td>Life Application Study Bible: NIV</td><td>4.67</td></tr>",
                            "<tr><td>9329354</td><td>Brandon Sanderson</td><td>The Way of Kings, Part 1 (The Stormlight Archive #1.1)</td><td>4.67</td></tr>",
                            "<tr><td>99298</td><td>J.K. Rowling, Mary GrandPré</td><td>The Harry Potter Collection 1-4 (Harry Potter, #1-4)</td><td>4.66</td></tr>",
                            "<tr><td>5883777</td><td>Anonymous</td><td>The Holy Bible: English Standard Version</td><td>4.66</td></tr>",
                            "<tr><td>24494</td><td>Bill Watterson</td><td>The Calvin and Hobbes Lazy Sunday Book</td><td>4.66</td></tr>",
                            "<tr><td>43070</td><td>Bill Watterson</td><td>The Essential Calvin and Hobbes: A Calvin and Hobbes Treasury</td><td>4.65</td></tr>",
                            "<tr><td>18337259</td><td>Daniel Abraham, George R.R. Martin, Tommy Patterson</td><td>A Game of Thrones: Comic Book, Issue 1</td><td>4.65</td></tr>",
                            "<tr><td>23753</td><td>Neil Gaiman, Mike Dringenberg, Chris Bachalo, Michael Zulli, Kelly Jones, Charles Vess, Colleen Doran, Malcolm Jones III, Steve Parkhouse, Daniel Vozzo, Lee Loughridge, Steve Oliff, Todd Klein, Dave McKean, Sam Kieth</td><td>The Absolute Sandman, Volume One</td><td>4.65</td></tr>",
                            "<tr><td>7235533</td><td>Brandon Sanderson</td><td>The Way of Kings (The Stormlight Archive, #1)</td><td>4.64</td></tr>",
                            "<tr><td>24813</td><td>Bill Watterson</td><td>The Calvin and Hobbes Tenth Anniversary Book</td><td>4.63</td></tr>",
                            "<tr><td>9814682</td><td>George R.R. Martin</td><td>A Song of Ice and Fire (A Song of Ice and Fire, #1-4)</td><td>4.63</td></tr>",
                            "<tr><td>12177850</td><td>George R.R. Martin</td><td>A Song of Ice and Fire (A Song of Ice and Fire, #1-5)</td><td>4.63</td></tr>",
                            "<tr><td>481749</td><td>James E. Talmage</td><td>Jesus the Christ</td><td>4.63</td></tr>",
                            "<tr><td>46292</td><td>Hafez</td><td>The Divan</td><td>4.63</td></tr>",
                            "<tr><td>6801614</td><td>Eiichirō Oda</td><td>One Piece, Volume 38: Rocketman!! (One Piece, #38)</td><td>4.63</td></tr>",
                            "<tr><td>22299763</td><td>Leigh Bardugo</td><td>Crooked Kingdom (Six of Crows, #2)</td><td>4.62</td></tr>",
                            "<tr><td>32075671</td><td>Angie Thomas</td><td>The Hate U Give</td><td>4.62</td></tr>",
                            "<tr><td>136251</td><td>J.K. Rowling, Mary GrandPré</td><td>Harry Potter and the Deathly Hallows (Harry Potter, #7)</td><td>4.61</td></tr>",
                            "<tr><td>77727</td><td>Bill Watterson, G.B. Trudeau</td><td>Calvin and Hobbes</td><td>4.61</td></tr>",
                            "<tr><td>280111</td><td>Anonymous</td><td>Holy Bible: New International Version</td><td>4.61</td></tr>",
                            "<tr><td>2223324</td><td>John   Williams</td><td>Harry Potter and the Chamber of Secrets: Sheet Music for Flute with C.D</td><td>4.61</td></tr>",
                            "<tr><td>6339989</td><td>Richelle Mead</td><td>Vampire Academy Collection (Vampire Academy, #1-3)</td><td>4.61</td></tr>",
                            "<tr><td>596259</td><td>Gordon B. Hinckley</td><td>Standing for Something: 10 Neglected Virtues That Will Heal Our Hearts and Homes</td><td>4.61</td></tr>",
                            "<tr><td>47697</td><td>Alisa Kwitney, Neil Gaiman</td><td>The Sandman: King of Dreams</td><td>4.61</td></tr>",
                            "<tr><td>18006496</td><td>Sarah J. Maas</td><td>Queen of Shadows (Throne of Glass, #4)</td><td>4.6</td></tr>",
                            "<tr><td>95617</td><td>Francine Rivers, Richard Ferrone</td><td>A Voice in the Wind (Mark of the Lion, #1)</td><td>4.6</td></tr>",
                            "<tr><td>46601</td><td>Francine Rivers</td><td>An Echo in the Darkness (Mark of the Lion, #2)</td><td>4.6</td></tr>",
                            "<tr><td>7025086</td><td>Christopher Yost, Pasqual Ferry, Orson Scott Card</td><td>Ender&#39;s Game, Volume 2: Command School</td><td>4.6</td></tr>",
                            "<tr><td>18335634</td><td>Cassandra Clare</td><td>Clockwork Princess (The Infernal Devices, #3)</td><td>4.59</td></tr>",
                            "<tr><td>30</td><td>J.R.R. Tolkien</td><td>J.R.R. Tolkien 4-Book Boxed Set: The Hobbit and The Lord of the Rings</td><td>4.59</td></tr>",
                            "<tr><td>2299110</td><td>Sherrilyn Kenyon</td><td>Acheron (Dark-Hunter #14)</td><td>4.59</td></tr>",
                            "<tr><td>119</td><td>Gary Russell</td><td>The Lord of the Rings: The Art of The Fellowship of the Ring</td><td>4.59</td></tr>",
                            "<tr><td>71252</td><td>Neil Gaiman, Marc Hempel, Richard Case, D&#39;Israeli, Teddy Kristiansen, Glyn Dillon, Charles Vess, Dean Ormston, Kevin Nowlan, Todd Klein, Frank McConnell</td><td>The Kindly Ones (The Sandman #9)</td><td>4.59</td></tr>",
                            "<tr><td>349254</td><td>Jude Fisher</td><td>The Lord of the Rings: The Return of the King: Visual Companion</td><td>4.59</td></tr>",
                            "<tr><td>9832370</td><td>BookRags</td><td>BookRags Summary:  A Storm of Swords</td><td>4.59</td></tr>",
                            "<tr><td>11106458</td><td>Cassandra Clare</td><td>The Mortal Instruments (The Mortal Instruments #1-4)</td><td>4.59</td></tr>",
                            "<tr><td>14367051</td><td>Cassandra Clare</td><td>City of Bones / City of Ashes / City of Glass / City of Fallen Angels / City of Lost Souls (The Mortal Instruments, #1-5)</td><td>4.59</td></tr>",
                            "<tr><td>28260587</td><td>Sarah J. Maas</td><td>Empire of Storms (Throne of Glass, #5)</td><td>4.58</td></tr>",
                            "<tr><td>3165162</td><td>Rick Riordan</td><td>Percy Jackson and the Olympians (Percy Jackson and the Olympians, #1-3)</td><td>4.58</td></tr>",
                            "<tr><td>20342617</td><td>Bryan Stevenson</td><td>Just Mercy: A Story of Justice and Redemption</td><td>4.58</td></tr>",
                            "<tr><td>17961</td><td>Jorge Luis Borges, Andrew Hurley</td><td>Collected Fictions</td><td>4.58</td></tr>",
                            "<tr><td>4808763</td><td>Isaac Asimov, Bob E. Flick, Jim Gallant</td><td>The Last Question</td><td>4.58</td></tr>",
                            "<tr><td>15767586</td><td>Sherrilyn Kenyon</td><td>Styxx (Dark-Hunter, #22)</td><td>4.58</td></tr>",
                            "<tr><td>892295</td><td>Arthur Conan Doyle, William S. Baring-Gould</td><td>The Annotated Sherlock Holmes: The Four Novels and the Fifty-Six Short Stories Complete (2 Volume Set)</td><td>4.58</td></tr>",
                            "<tr><td>1215032</td><td>Patrick Rothfuss</td><td>The Wise Man&#39;s Fear (The Kingkiller Chronicle, #2)</td><td>4.57</td></tr>",
                            "<tr><td>6485421</td><td>Cassandra Clare</td><td>The Mortal Instruments Boxed Set: City of Bones; City of Ashes; City of Glass (The Mortal Instruments, #1-3)</td><td>4.57</td></tr>",
                            "<tr><td>17131869</td><td>Brian K. Vaughan, Fiona Staples</td><td>Saga, Vol. 2 (Saga, #2)</td><td>4.57</td></tr>",
                            "<tr><td>8718952</td><td>Richelle Mead</td><td>Vampire Academy Box Set (Vampire Academy, #1-4)</td><td>4.57</td></tr>",
                            "<tr><td>4634266</td><td>Masashi Kishimoto</td><td>NARUTO -ナルト- 巻ノ四十三</td><td>4.57</td></tr>",
                            "<tr><td>6443349</td><td>Rick Riordan, Tk</td><td>Percy Jackson and the Olympians Boxed Set (Percy Jackson and the Olympians, #1-5)</td><td>4.57</td></tr>",
                            "<tr><td>545425</td><td>Safiy al-Rahman al-Mubarakfuri</td><td>الرحيق المختوم</td><td>4.57</td></tr>",
                            "<tr><td>17333174</td><td>Ilona Andrews</td><td>Magic Binds (Kate Daniels, #9)</td><td>4.57</td></tr>",
                            "<tr><td>147915</td><td>George R.R. Martin</td><td>A Storm of Swords: Blood and Gold (A Song of Ice and Fire, #3: Part 2 of 2)</td><td>4.56</td></tr>",
                            "<tr><td>19358975</td><td>Brian K. Vaughan, Fiona Staples</td><td>Saga, Vol. 3 (Saga, #3)</td><td>4.56</td></tr>",
                            "<tr><td>10785687</td><td>Bob McCabe</td><td>Harry Potter Page to Screen: The Complete Filmmaking Journey</td><td>4.56</td></tr>",
                            "<tr><td>17880714</td><td>K. Bromberg</td><td>Crashed (Driven, #3)</td><td>4.56</td></tr>",
                            "<tr><td>1317181</td><td>J.K. Rowling</td><td>Harry Potter and the Order of the Phoenix (Harry Potter, #5, Part 1)</td><td>4.56</td></tr>",
                            "<tr><td>15743078</td><td>Veronica Roth</td><td>The Divergent Series 2-Book Collection (Divergent, #1-2)</td><td>4.56</td></tr>",
                            "<tr><td>29236299</td><td>Amie Kaufman, Jay Kristoff, Marie Lu</td><td>Gemina (The Illuminae Files, #2)</td><td>4.56</td></tr>",
                            "<tr><td>186074</td><td>Patrick Rothfuss</td><td>The Name of the Wind (The Kingkiller Chronicle, #1)</td><td>4.55</td></tr>",
                            "<tr><td>19486421</td><td>Jim Butcher</td><td>Skin Game (The Dresden Files, #15)</td><td>4.55</td></tr>",
                            "<tr><td>6604209</td><td>Brandon Sanderson</td><td>Mistborn Trilogy Boxed Set (Mistborn, #1-3)</td><td>4.55</td></tr>",
                            "<tr><td>25105</td><td>Neil Gaiman, Jill Thompson, Vince Locke, Peter Straub</td><td>Brief Lives (The Sandman #7)</td><td>4.55</td></tr>",
                            "<tr><td>8346300</td><td>Andrew Williamson, Andrew Williamson</td><td>Harry Potter: A Pop-Up Book: Based on the Film Phenomenon</td><td>4.55</td></tr>",
                            "<tr><td>14905</td><td>Jane Austen</td><td>The Complete Novels</td><td>4.55</td></tr>",
                            "<tr><td>13184992</td><td>Kristen Ashley</td><td>Rock Chick Regret (Rock Chick, #7)</td><td>4.55</td></tr>",
                            "<tr><td>71823</td><td>Stephen King</td><td>The Green Mile, Part 6: Coffey on the Mile</td><td>4.55</td></tr>",
                            "<tr><td>1</td><td>J.K. Rowling, Mary GrandPré</td><td>Harry Potter and the Half-Blood Prince (Harry Potter, #6)</td><td>4.54</td></tr>",
                            "<tr><td>62291</td><td>George R.R. Martin</td><td>A Storm of Swords (A Song of Ice and Fire, #3)</td><td>4.54</td></tr>",
                            "<tr><td>21853621</td><td>Kristin Hannah</td><td>The Nightingale</td><td>4.54</td></tr>",
                            "<tr><td>12127810</td><td>Rick Riordan</td><td>The House of Hades (The Heroes of Olympus, #4)</td><td>4.54</td></tr>",
                            "<tr><td>6585201</td><td>Jim Butcher</td><td>Changes (The Dresden Files, #12)</td><td>4.54</td></tr>",
                            "<tr><td>381421</td><td>Sarah  Young</td><td>Jesus Calling: Enjoying Peace in His Presence</td><td>4.54</td></tr>",
                            "<tr><td>25101</td><td>Neil Gaiman, Matt Wagner, George Pratt, Dick Giordano, Kelley Jones, P. Craig Russell, Mike Dringenberg, Malcolm Jones III, Todd Klein, Harlan Ellison</td><td>Season of Mists (The Sandman #4)</td><td>4.54</td></tr>",
                            "<tr><td>89959</td><td>Founding Fathers</td><td>The Constitution of the United States of America</td><td>4.54</td></tr>",
                            "<tr><td>23766634</td><td>Sarah J. Maas</td><td>A Court of Wings and Ruin (A Court of Thorns and Roses, #3)</td><td>4.54</td></tr>",
                            "<tr><td>20706320</td><td>Chris Colfer, Brandon Dorman</td><td>A Grimm Warning (The Land of Stories, #3)</td><td>4.54</td></tr>",
                            "<tr><td>8163161</td><td>Bisco Hatori</td><td>Ouran High School Host Club, Vol. 15 (Ouran High School Host Club, #15)</td><td>4.54</td></tr>",
                            "<tr><td>5</td><td>J.K. Rowling, Mary GrandPré, Rufus Beck</td><td>Harry Potter and the Prisoner of Azkaban (Harry Potter, #3)</td><td>4.53</td></tr>",
                            "<tr><td>6</td><td>J.K. Rowling, Mary GrandPré</td><td>Harry Potter and the Goblet of Fire (Harry Potter, #4)</td><td>4.53</td></tr>",
                            "<tr><td>20613470</td><td>Sarah J. Maas</td><td>Heir of Fire (Throne of Glass, #3)</td><td>4.53</td></tr>",
                            "<tr><td>15195</td><td>Art Spiegelman</td><td>The Complete Maus (Maus, #1-2)</td><td>4.53</td></tr>",
                            "<tr><td>25104</td><td>Neil Gaiman, Michael Zulli, Jon J. Muth, Charles Vess, Mikal Gilmore</td><td>The Wake (The Sandman #10)</td><td>4.53</td></tr>",
                            "</table>"
                        ]
                    }
                }
            ],
            "execution_count": 20
        },
        {
            "cell_type": "markdown",
            "source": [
                "Question 2: Write a query to find the least popular book."
            ],
            "metadata": {
                "azdata_cell_guid": "b0ce437a-c419-4000-bcb1-2344cdce2ad7"
            }
        },
        {
            "cell_type": "code",
            "source": [
                "-- return least popular book\n",
                "USE BooksDB\n",
                "\n",
                "SELECT Top 1 title,average_rating AS AvgRate FROM books\n",
                "ORDER BY AvgRate"
            ],
            "metadata": {
                "vscode": {
                    "languageId": "sql"
                },
                "azdata_cell_guid": "b04269a3-007b-4179-af44-80d0b69760c2",
                "language": "sql",
                "tags": []
            },
            "outputs": [],
            "execution_count": null
        },
        {
            "cell_type": "markdown",
            "source": [
                "Question 3: Which tag is the most popular?"
            ],
            "metadata": {
                "azdata_cell_guid": "9b2f95e8-b676-438e-9b4c-8393168cfd7e"
            }
        },
        {
            "cell_type": "code",
            "source": [
                "-- return most popular tag\n",
                "USE BooksDB\n",
                "\n",
                "SELECT TOP 1 tag_name, COUNT(tag_name) AS Tag_count\n",
                "FROM tags\n",
                "GROUP BY tag_name\n",
                "ORDER BY Tag_count DESC\n",
                ""
            ],
            "metadata": {
                "vscode": {
                    "languageId": "sql"
                },
                "azdata_cell_guid": "dfe59455-8ac9-4f9c-ac65-640a430b6e33",
                "language": "sql",
                "tags": []
            },
            "outputs": [
                {
                    "output_type": "display_data",
                    "data": {
                        "text/html": "(1 row affected)"
                    },
                    "metadata": {}
                },
                {
                    "output_type": "display_data",
                    "data": {
                        "text/html": "Total execution time: 00:00:00.079"
                    },
                    "metadata": {}
                },
                {
                    "output_type": "execute_result",
                    "execution_count": 49,
                    "data": {
                        "application/vnd.dataresource+json": {
                            "schema": {
                                "fields": [
                                    {
                                        "name": "tag_name"
                                    },
                                    {
                                        "name": "Tag_count"
                                    }
                                ]
                            },
                            "data": [
                                {
                                    "tag_name": "Комиксы",
                                    "Tag_count": "2"
                                }
                            ]
                        },
                        "text/html": "<table><tr><th>tag_name</th><th>Tag_count</th></tr><tr><td>Комиксы</td><td>2</td></tr></table>"
                    },
                    "metadata": {}
                }
            ],
            "execution_count": 49
        },
        {
            "cell_type": "markdown",
            "source": [
                "Question 4: What is the name of the most popular tag?"
            ],
            "metadata": {
                "azdata_cell_guid": "1ed35e8b-faf5-424f-8b58-2ea4e19c8eac"
            }
        },
        {
            "cell_type": "code",
            "source": [
                "-- return name of most popular tag\n",
                "USE BooksDB\n",
                "\n",
                "SELECT TOP 1 tag_name, COUNT(tag_name)"
            ],
            "metadata": {
                "vscode": {
                    "languageId": "sql"
                },
                "azdata_cell_guid": "3ba7923d-d262-47a7-b6a1-b90db6ba3548",
                "language": "sql"
            },
            "outputs": [],
            "execution_count": null
        },
        {
            "cell_type": "markdown",
            "source": [
                "Question 5: How many books where released in the first decade of 2000?"
            ],
            "metadata": {
                "azdata_cell_guid": "3986a364-82f0-4496-b204-5380d9a9271f"
            }
        },
        {
            "cell_type": "code",
            "source": [
                "-- return number of books published in the first decade of 2000\n",
                "USE BooksDB\n",
                "\n",
                "SELECT COUNT(*) AS PubCount\n",
                "FROM books\n",
                "WHERE original_publication_year BETWEEN 2000 AND 2009;"
            ],
            "metadata": {
                "vscode": {
                    "languageId": "sql"
                },
                "azdata_cell_guid": "d651fc50-ffc7-4ace-beb7-03b825b21b11",
                "language": "sql",
                "tags": []
            },
            "outputs": [
                {
                    "output_type": "display_data",
                    "data": {
                        "text/html": "(1 row affected)"
                    },
                    "metadata": {}
                },
                {
                    "output_type": "display_data",
                    "data": {
                        "text/html": "Total execution time: 00:00:00.039"
                    },
                    "metadata": {}
                },
                {
                    "output_type": "execute_result",
                    "metadata": {},
                    "execution_count": 9,
                    "data": {
                        "application/vnd.dataresource+json": {
                            "schema": {
                                "fields": [
                                    {
                                        "name": "PubCount"
                                    }
                                ]
                            },
                            "data": [
                                {
                                    "PubCount": "3121"
                                }
                            ]
                        },
                        "text/html": [
                            "<table>",
                            "<tr><th>PubCount</th></tr>",
                            "<tr><td>3121</td></tr>",
                            "</table>"
                        ]
                    }
                }
            ],
            "execution_count": 9
        },
        {
            "cell_type": "markdown",
            "source": [
                "Question 6: How many book titles contain the word, \"happy\"?"
            ],
            "metadata": {
                "azdata_cell_guid": "2af99131-fbc4-4173-b702-ada52c4a4f88"
            }
        },
        {
            "cell_type": "code",
            "source": [
                "-- return number of books that contain the word, \"happy\"\n",
                "USE BooksDB\n",
                "\n",
                "SELECT COUNT(*) AS HappyCount\n",
                "FROM books\n",
                "WHERE title LIKE '%happy%';"
            ],
            "metadata": {
                "vscode": {
                    "languageId": "sql"
                },
                "azdata_cell_guid": "b1003ba6-a182-417a-b01a-4b319bcebb75",
                "language": "sql"
            },
            "outputs": [
                {
                    "output_type": "display_data",
                    "data": {
                        "text/html": "(1 row affected)"
                    },
                    "metadata": {}
                },
                {
                    "output_type": "display_data",
                    "data": {
                        "text/html": "Total execution time: 00:00:00.117"
                    },
                    "metadata": {}
                },
                {
                    "output_type": "execute_result",
                    "metadata": {},
                    "execution_count": 17,
                    "data": {
                        "application/vnd.dataresource+json": {
                            "schema": {
                                "fields": [
                                    {
                                        "name": "HappyCount"
                                    }
                                ]
                            },
                            "data": [
                                {
                                    "HappyCount": "13"
                                }
                            ]
                        },
                        "text/html": [
                            "<table>",
                            "<tr><th>HappyCount</th></tr>",
                            "<tr><td>13</td></tr>",
                            "</table>"
                        ]
                    }
                }
            ],
            "execution_count": 17
        },
        {
            "cell_type": "markdown",
            "source": [
                "Question 7: List the books from the top 3 authors from Question 1.  If there is more than one author just use the first one. Sort the title alphabetically by `author` and then by `average_rating`, best rated to lowest. Does this order matter in sorting?"
            ],
            "metadata": {
                "azdata_cell_guid": "dd028a15-0719-4548-a060-f89ec5b2e818"
            }
        },
        {
            "cell_type": "code",
            "source": [
                "-- return all books from the top 3 authors, sort by author and rating\n",
                "USE BooksDB\n",
                "\n",
                "SELECT title\n",
                "FROM books\n",
                "WHERE authors IN (\n",
                "    SELECT TOP 3 authors\n",
                "    FROM books\n",
                "    ORDER BY average_rating DESC\n",
                ")\n",
                "ORDER BY authors, average_rating;\n",
                ""
            ],
            "metadata": {
                "vscode": {
                    "languageId": "sql"
                },
                "azdata_cell_guid": "9d41941c-adb6-4540-a8ee-bfe6715b0c4d",
                "language": "sql",
                "tags": []
            },
            "outputs": [
                {
                    "output_type": "display_data",
                    "data": {
                        "text/html": "(28 rows affected)"
                    },
                    "metadata": {}
                },
                {
                    "output_type": "display_data",
                    "data": {
                        "text/html": "Total execution time: 00:00:00.341"
                    },
                    "metadata": {}
                },
                {
                    "output_type": "execute_result",
                    "metadata": {},
                    "execution_count": 51,
                    "data": {
                        "application/vnd.dataresource+json": {
                            "schema": {
                                "fields": [
                                    {
                                        "name": "title"
                                    },
                                    {
                                        "name": "authors"
                                    }
                                ]
                            },
                            "data": [
                                {
                                    "title": "Harry Potter and the Chamber of Secrets (Harry Potter, #2)",
                                    "authors": "J.K. Rowling, Mary GrandPré"
                                },
                                {
                                    "title": "Harry Potter and the Sorcerer's Stone (Harry Potter, #1)",
                                    "authors": "J.K. Rowling, Mary GrandPré"
                                },
                                {
                                    "title": "Harry Potter and the Order of the Phoenix (Harry Potter, #5)",
                                    "authors": "J.K. Rowling, Mary GrandPré"
                                },
                                {
                                    "title": "Harry Potter and the Goblet of Fire (Harry Potter, #4)",
                                    "authors": "J.K. Rowling, Mary GrandPré"
                                },
                                {
                                    "title": "Harry Potter and the Half-Blood Prince (Harry Potter, #6)",
                                    "authors": "J.K. Rowling, Mary GrandPré"
                                },
                                {
                                    "title": "Harry Potter and the Deathly Hallows (Harry Potter, #7)",
                                    "authors": "J.K. Rowling, Mary GrandPré"
                                },
                                {
                                    "title": "The Harry Potter Collection 1-4 (Harry Potter, #1-4)",
                                    "authors": "J.K. Rowling, Mary GrandPré"
                                },
                                {
                                    "title": "Harry Potter Boxed Set, Books 1-5 (Harry Potter, #1-5)",
                                    "authors": "J.K. Rowling, Mary GrandPré"
                                },
                                {
                                    "title": "The Short Second Life of Bree Tanner: An Eclipse Novella (Twilight, #3.5)",
                                    "authors": "Stephenie Meyer"
                                },
                                {
                                    "title": "New Moon (Twilight, #2)",
                                    "authors": "Stephenie Meyer"
                                },
                                {
                                    "title": "Twilight (Twilight, #1)",
                                    "authors": "Stephenie Meyer"
                                },
                                {
                                    "title": "Eclipse (Twilight, #3)",
                                    "authors": "Stephenie Meyer"
                                },
                                {
                                    "title": "The Chemist",
                                    "authors": "Stephenie Meyer"
                                },
                                {
                                    "title": "Breaking Dawn (Twilight, #4)",
                                    "authors": "Stephenie Meyer"
                                },
                                {
                                    "title": "The Twilight Collection (Twilight, #1-3)",
                                    "authors": "Stephenie Meyer"
                                },
                                {
                                    "title": "The Host (The Host, #1)",
                                    "authors": "Stephenie Meyer"
                                },
                                {
                                    "title": "Midnight Sun (Twilight, #1.5)",
                                    "authors": "Stephenie Meyer"
                                },
                                {
                                    "title": "The Twilight Saga: The Official Illustrated Guide (Twilight, #4.5)",
                                    "authors": "Stephenie Meyer"
                                },
                                {
                                    "title": "The Twilight Saga Complete Collection  (Twilight, #1-4 + 3.5)",
                                    "authors": "Stephenie Meyer"
                                },
                                {
                                    "title": "Gregor the Overlander (Underland Chronicles, #1)",
                                    "authors": "Suzanne Collins"
                                },
                                {
                                    "title": "Mockingjay (The Hunger Games, #3)",
                                    "authors": "Suzanne Collins"
                                },
                                {
                                    "title": "Gregor and the Prophecy of Bane (Underland Chronicles, #2)",
                                    "authors": "Suzanne Collins"
                                },
                                {
                                    "title": "Gregor and the Curse of the Warmbloods (Underland Chronicles, #3)",
                                    "authors": "Suzanne Collins"
                                },
                                {
                                    "title": "Gregor and the Marks of Secret (Underland Chronicles, #4)",
                                    "authors": "Suzanne Collins"
                                },
                                {
                                    "title": "Gregor and the Code of Claw (Underland Chronicles, #5)",
                                    "authors": "Suzanne Collins"
                                },
                                {
                                    "title": "Catching Fire (The Hunger Games, #2)",
                                    "authors": "Suzanne Collins"
                                },
                                {
                                    "title": "The Hunger Games (The Hunger Games, #1)",
                                    "authors": "Suzanne Collins"
                                },
                                {
                                    "title": "The Hunger Games Trilogy Boxset (The Hunger Games, #1-3)",
                                    "authors": "Suzanne Collins"
                                }
                            ]
                        },
                        "text/html": [
                            "<table>",
                            "<tr><th>title</th><th>authors</th></tr>",
                            "<tr><td>Harry Potter and the Chamber of Secrets (Harry Potter, #2)</td><td>J.K. Rowling, Mary GrandPré</td></tr>",
                            "<tr><td>Harry Potter and the Sorcerer&#39;s Stone (Harry Potter, #1)</td><td>J.K. Rowling, Mary GrandPré</td></tr>",
                            "<tr><td>Harry Potter and the Order of the Phoenix (Harry Potter, #5)</td><td>J.K. Rowling, Mary GrandPré</td></tr>",
                            "<tr><td>Harry Potter and the Goblet of Fire (Harry Potter, #4)</td><td>J.K. Rowling, Mary GrandPré</td></tr>",
                            "<tr><td>Harry Potter and the Half-Blood Prince (Harry Potter, #6)</td><td>J.K. Rowling, Mary GrandPré</td></tr>",
                            "<tr><td>Harry Potter and the Deathly Hallows (Harry Potter, #7)</td><td>J.K. Rowling, Mary GrandPré</td></tr>",
                            "<tr><td>The Harry Potter Collection 1-4 (Harry Potter, #1-4)</td><td>J.K. Rowling, Mary GrandPré</td></tr>",
                            "<tr><td>Harry Potter Boxed Set, Books 1-5 (Harry Potter, #1-5)</td><td>J.K. Rowling, Mary GrandPré</td></tr>",
                            "<tr><td>The Short Second Life of Bree Tanner: An Eclipse Novella (Twilight, #3.5)</td><td>Stephenie Meyer</td></tr>",
                            "<tr><td>New Moon (Twilight, #2)</td><td>Stephenie Meyer</td></tr>",
                            "<tr><td>Twilight (Twilight, #1)</td><td>Stephenie Meyer</td></tr>",
                            "<tr><td>Eclipse (Twilight, #3)</td><td>Stephenie Meyer</td></tr>",
                            "<tr><td>The Chemist</td><td>Stephenie Meyer</td></tr>",
                            "<tr><td>Breaking Dawn (Twilight, #4)</td><td>Stephenie Meyer</td></tr>",
                            "<tr><td>The Twilight Collection (Twilight, #1-3)</td><td>Stephenie Meyer</td></tr>",
                            "<tr><td>The Host (The Host, #1)</td><td>Stephenie Meyer</td></tr>",
                            "<tr><td>Midnight Sun (Twilight, #1.5)</td><td>Stephenie Meyer</td></tr>",
                            "<tr><td>The Twilight Saga: The Official Illustrated Guide (Twilight, #4.5)</td><td>Stephenie Meyer</td></tr>",
                            "<tr><td>The Twilight Saga Complete Collection  (Twilight, #1-4 + 3.5)</td><td>Stephenie Meyer</td></tr>",
                            "<tr><td>Gregor the Overlander (Underland Chronicles, #1)</td><td>Suzanne Collins</td></tr>",
                            "<tr><td>Mockingjay (The Hunger Games, #3)</td><td>Suzanne Collins</td></tr>",
                            "<tr><td>Gregor and the Prophecy of Bane (Underland Chronicles, #2)</td><td>Suzanne Collins</td></tr>",
                            "<tr><td>Gregor and the Curse of the Warmbloods (Underland Chronicles, #3)</td><td>Suzanne Collins</td></tr>",
                            "<tr><td>Gregor and the Marks of Secret (Underland Chronicles, #4)</td><td>Suzanne Collins</td></tr>",
                            "<tr><td>Gregor and the Code of Claw (Underland Chronicles, #5)</td><td>Suzanne Collins</td></tr>",
                            "<tr><td>Catching Fire (The Hunger Games, #2)</td><td>Suzanne Collins</td></tr>",
                            "<tr><td>The Hunger Games (The Hunger Games, #1)</td><td>Suzanne Collins</td></tr>",
                            "<tr><td>The Hunger Games Trilogy Boxset (The Hunger Games, #1-3)</td><td>Suzanne Collins</td></tr>",
                            "</table>"
                        ]
                    }
                }
            ],
            "execution_count": 51
        },
        {
            "cell_type": "markdown",
            "source": [
                "Question 8: Write a query that returns the number of authors whose first name is between rock and roll."
            ],
            "metadata": {
                "azdata_cell_guid": "aba0b0ea-c1ef-4efa-8c25-60061560572f"
            }
        },
        {
            "cell_type": "code",
            "source": [
                "-- return number of authors whose first name is between rock and roll\n",
                "USE BooksDB\n",
                "\n",
                "SELECT *\n",
                "FROM books\n",
                "WHERE authors BETWEEN 'Rock' AND 'Roll';"
            ],
            "metadata": {
                "vscode": {
                    "languageId": "sql"
                },
                "azdata_cell_guid": "9e08a0b2-edb3-48b5-8b23-a86b8d260367",
                "language": "sql"
            },
            "outputs": [
                {
                    "output_type": "display_data",
                    "data": {
                        "text/html": "(25 rows affected)"
                    },
                    "metadata": {}
                },
                {
                    "output_type": "display_data",
                    "data": {
                        "text/html": "Total execution time: 00:00:00.049"
                    },
                    "metadata": {}
                },
                {
                    "output_type": "execute_result",
                    "metadata": {},
                    "execution_count": 18,
                    "data": {
                        "application/vnd.dataresource+json": {
                            "schema": {
                                "fields": [
                                    {
                                        "name": "id"
                                    },
                                    {
                                        "name": "book_id"
                                    },
                                    {
                                        "name": "best_book_id"
                                    },
                                    {
                                        "name": "work_id"
                                    },
                                    {
                                        "name": "books_count"
                                    },
                                    {
                                        "name": "isbn"
                                    },
                                    {
                                        "name": "isbn13"
                                    },
                                    {
                                        "name": "authors"
                                    },
                                    {
                                        "name": "original_publication_year"
                                    },
                                    {
                                        "name": "original_title"
                                    },
                                    {
                                        "name": "title"
                                    },
                                    {
                                        "name": "language_code"
                                    },
                                    {
                                        "name": "average_rating"
                                    },
                                    {
                                        "name": "ratings_count"
                                    },
                                    {
                                        "name": "work_ratings_count"
                                    },
                                    {
                                        "name": "work_text_reviews_count"
                                    },
                                    {
                                        "name": "ratings_1"
                                    },
                                    {
                                        "name": "ratings_2"
                                    },
                                    {
                                        "name": "ratings_3"
                                    },
                                    {
                                        "name": "ratings_4"
                                    },
                                    {
                                        "name": "ratings_5"
                                    },
                                    {
                                        "name": "image_url"
                                    },
                                    {
                                        "name": "small_image_url"
                                    }
                                ]
                            },
                            "data": [
                                {
                                    "id": "779",
                                    "book_id": "5211",
                                    "best_book_id": "5211",
                                    "work_id": "865827",
                                    "books_count": "79",
                                    "isbn": "140003065X",
                                    "isbn13": "9781400030650",
                                    "authors": "Rohinton Mistry",
                                    "original_publication_year": "1996",
                                    "original_title": "A Fine Balance",
                                    "title": "A Fine Balance",
                                    "language_code": "eng",
                                    "average_rating": "4.34",
                                    "ratings_count": "99252",
                                    "work_ratings_count": "104516",
                                    "work_text_reviews_count": "7227",
                                    "ratings_1": "1477",
                                    "ratings_2": "3066",
                                    "ratings_3": "11254",
                                    "ratings_4": "31034",
                                    "ratings_5": "57685",
                                    "image_url": "https://s.gr-assets.com/assets/nophoto/book/111x148-bcc042a9c91a29c1d680899eff700a03.png",
                                    "small_image_url": "https://s.gr-assets.com/assets/nophoto/book/50x75-a91bf249278a81aabab721ef782c4a74.png"
                                },
                                {
                                    "id": "2329",
                                    "book_id": "313605",
                                    "best_book_id": "313605",
                                    "work_id": "1394134",
                                    "books_count": "83",
                                    "isbn": "140157352",
                                    "isbn13": "9780140157350",
                                    "authors": "Roger Fisher, William Ury, Bruce Patton",
                                    "original_publication_year": "1981",
                                    "original_title": "Getting to Yes: Negotiating agreement without giving in",
                                    "title": "Getting to Yes: Negotiating an Agreement Without Giving In",
                                    "language_code": "en-US",
                                    "average_rating": "3.88",
                                    "ratings_count": "37205",
                                    "work_ratings_count": "40026",
                                    "work_text_reviews_count": "1113",
                                    "ratings_1": "772",
                                    "ratings_2": "2219",
                                    "ratings_3": "10217",
                                    "ratings_4": "14455",
                                    "ratings_5": "12363",
                                    "image_url": "https://s.gr-assets.com/assets/nophoto/book/111x148-bcc042a9c91a29c1d680899eff700a03.png",
                                    "small_image_url": "https://s.gr-assets.com/assets/nophoto/book/50x75-a91bf249278a81aabab721ef782c4a74.png"
                                },
                                {
                                    "id": "2898",
                                    "book_id": "92121",
                                    "best_book_id": "92121",
                                    "work_id": "1383240",
                                    "books_count": "79",
                                    "isbn": "380014300",
                                    "isbn13": "9780380014310",
                                    "authors": "Roger Zelazny",
                                    "original_publication_year": "1970",
                                    "original_title": "Nine Princes in Amber",
                                    "title": "Nine Princes in Amber (The Chronicles of Amber #1)",
                                    "language_code": "en-US",
                                    "average_rating": "4.1",
                                    "ratings_count": "37961",
                                    "work_ratings_count": "40090",
                                    "work_text_reviews_count": "1354",
                                    "ratings_1": "736",
                                    "ratings_2": "1990",
                                    "ratings_3": "7001",
                                    "ratings_4": "12982",
                                    "ratings_5": "17381",
                                    "image_url": "https://images.gr-assets.com/books/1416090973m/92121.jpg",
                                    "small_image_url": "https://images.gr-assets.com/books/1416090973s/92121.jpg"
                                },
                                {
                                    "id": "2961",
                                    "book_id": "8953",
                                    "best_book_id": "8953",
                                    "work_id": "2049173",
                                    "books_count": "43",
                                    "isbn": "439286069",
                                    "isbn13": "9780439286060",
                                    "authors": "Rodman Philbrick",
                                    "original_publication_year": "1993",
                                    "original_title": "Freak the Mighty",
                                    "title": "Freak the Mighty (Freak The Mighty, #1)",
                                    "language_code": "eng",
                                    "average_rating": "3.98",
                                    "ratings_count": "34587",
                                    "work_ratings_count": "35493",
                                    "work_text_reviews_count": "3302",
                                    "ratings_1": "820",
                                    "ratings_2": "2063",
                                    "ratings_3": "7351",
                                    "ratings_4": "11982",
                                    "ratings_5": "13277",
                                    "image_url": "https://s.gr-assets.com/assets/nophoto/book/111x148-bcc042a9c91a29c1d680899eff700a03.png",
                                    "small_image_url": "https://s.gr-assets.com/assets/nophoto/book/50x75-a91bf249278a81aabab721ef782c4a74.png"
                                },
                                {
                                    "id": "3310",
                                    "book_id": "497164",
                                    "best_book_id": "497164",
                                    "work_id": "799260",
                                    "books_count": "64",
                                    "isbn": "374521344",
                                    "isbn13": "9780374521350",
                                    "authors": "Roland Barthes, Richard Howard",
                                    "original_publication_year": "1980",
                                    "original_title": "La chambre claire. Note sur la photographie",
                                    "title": "Camera Lucida: Reflections on Photography",
                                    "language_code": "NULL",
                                    "average_rating": "3.92",
                                    "ratings_count": "26754",
                                    "work_ratings_count": "28476",
                                    "work_text_reviews_count": "413",
                                    "ratings_1": "1191",
                                    "ratings_2": "2000",
                                    "ratings_3": "5810",
                                    "ratings_4": "8269",
                                    "ratings_5": "11206",
                                    "image_url": "https://images.gr-assets.com/books/1312018081m/497164.jpg",
                                    "small_image_url": "https://images.gr-assets.com/books/1312018081s/497164.jpg"
                                },
                                {
                                    "id": "5247",
                                    "book_id": "5367",
                                    "best_book_id": "5367",
                                    "work_id": "8810",
                                    "books_count": "5",
                                    "isbn": "380809060",
                                    "isbn13": "9780380809070",
                                    "authors": "Roger Zelazny",
                                    "original_publication_year": "1999",
                                    "original_title": "The Great Book of Amber",
                                    "title": "The Great Book of Amber (The Chronicles of Amber, #1-10)",
                                    "language_code": "eng",
                                    "average_rating": "4.31",
                                    "ratings_count": "20748",
                                    "work_ratings_count": "20839",
                                    "work_text_reviews_count": "788",
                                    "ratings_1": "196",
                                    "ratings_2": "604",
                                    "ratings_3": "2683",
                                    "ratings_4": "6479",
                                    "ratings_5": "10877",
                                    "image_url": "https://images.gr-assets.com/books/1165519096m/5367.jpg",
                                    "small_image_url": "https://images.gr-assets.com/books/1165519096s/5367.jpg"
                                },
                                {
                                    "id": "5310",
                                    "book_id": "13821",
                                    "best_book_id": "13821",
                                    "work_id": "1011388",
                                    "books_count": "66",
                                    "isbn": "60567236",
                                    "isbn13": "9780060567230",
                                    "authors": "Roger Zelazny, Sönmez Güven",
                                    "original_publication_year": "1967",
                                    "original_title": "Lord of Light",
                                    "title": "Lord of Light",
                                    "language_code": "en-US",
                                    "average_rating": "4.1",
                                    "ratings_count": "20227",
                                    "work_ratings_count": "21952",
                                    "work_text_reviews_count": "1100",
                                    "ratings_1": "415",
                                    "ratings_2": "1117",
                                    "ratings_3": "3899",
                                    "ratings_4": "6950",
                                    "ratings_5": "9571",
                                    "image_url": "https://images.gr-assets.com/books/1330127327m/13821.jpg",
                                    "small_image_url": "https://images.gr-assets.com/books/1330127327s/13821.jpg"
                                },
                                {
                                    "id": "5448",
                                    "book_id": "19661",
                                    "best_book_id": "19661",
                                    "work_id": "1435094",
                                    "books_count": "41",
                                    "isbn": "037570342X",
                                    "isbn13": "9780375703420",
                                    "authors": "Rohinton Mistry",
                                    "original_publication_year": "2001",
                                    "original_title": "Family Matters",
                                    "title": "Family Matters",
                                    "language_code": "eng",
                                    "average_rating": "3.99",
                                    "ratings_count": "16790",
                                    "work_ratings_count": "17802",
                                    "work_text_reviews_count": "808",
                                    "ratings_1": "141",
                                    "ratings_2": "654",
                                    "ratings_3": "3799",
                                    "ratings_4": "7814",
                                    "ratings_5": "5394",
                                    "image_url": "https://s.gr-assets.com/assets/nophoto/book/111x148-bcc042a9c91a29c1d680899eff700a03.png",
                                    "small_image_url": "https://s.gr-assets.com/assets/nophoto/book/50x75-a91bf249278a81aabab721ef782c4a74.png"
                                },
                                {
                                    "id": "5495",
                                    "book_id": "10669",
                                    "best_book_id": "10669",
                                    "work_id": "13308",
                                    "books_count": "17",
                                    "isbn": "375758259",
                                    "isbn13": "9780375758260",
                                    "authors": "Roger Lowenstein",
                                    "original_publication_year": "2000",
                                    "original_title": "When Genius Failed: The Rise and Fall of Long-Term Capital Management",
                                    "title": "When Genius Failed: The Rise and Fall of Long-Term Capital Management",
                                    "language_code": "en-US",
                                    "average_rating": "4.16",
                                    "ratings_count": "15619",
                                    "work_ratings_count": "16476",
                                    "work_text_reviews_count": "460",
                                    "ratings_1": "183",
                                    "ratings_2": "395",
                                    "ratings_3": "2606",
                                    "ratings_4": "6635",
                                    "ratings_5": "6657",
                                    "image_url": "https://s.gr-assets.com/assets/nophoto/book/111x148-bcc042a9c91a29c1d680899eff700a03.png",
                                    "small_image_url": "https://s.gr-assets.com/assets/nophoto/book/50x75-a91bf249278a81aabab721ef782c4a74.png"
                                },
                                {
                                    "id": "5622",
                                    "book_id": "12107920",
                                    "best_book_id": "12107920",
                                    "work_id": "17076921",
                                    "books_count": "10",
                                    "isbn": "545298423",
                                    "isbn13": "9780545298420",
                                    "authors": "Roland Smith",
                                    "original_publication_year": "2012",
                                    "original_title": "NULL",
                                    "title": "Shatterproof (The 39 Clues: Cahills vs. Vespers, #4)",
                                    "language_code": "NULL",
                                    "average_rating": "4.17",
                                    "ratings_count": "17887",
                                    "work_ratings_count": "18169",
                                    "work_text_reviews_count": "287",
                                    "ratings_1": "306",
                                    "ratings_2": "712",
                                    "ratings_3": "3463",
                                    "ratings_4": "4758",
                                    "ratings_5": "8930",
                                    "image_url": "https://images.gr-assets.com/books/1331078007m/12107920.jpg",
                                    "small_image_url": "https://images.gr-assets.com/books/1331078007s/12107920.jpg"
                                },
                                {
                                    "id": "6180",
                                    "book_id": "30512",
                                    "best_book_id": "30512",
                                    "work_id": "2305040",
                                    "books_count": "61",
                                    "isbn": "2264022442",
                                    "isbn13": "9782264022450",
                                    "authors": "Roddy Doyle",
                                    "original_publication_year": "1993",
                                    "original_title": "Paddy Clarke Ha Ha Ha",
                                    "title": "Paddy Clarke Ha Ha Ha",
                                    "language_code": "NULL",
                                    "average_rating": "3.75",
                                    "ratings_count": "15044",
                                    "work_ratings_count": "16773",
                                    "work_text_reviews_count": "669",
                                    "ratings_1": "325",
                                    "ratings_2": "1171",
                                    "ratings_3": "4673",
                                    "ratings_4": "6759",
                                    "ratings_5": "3845",
                                    "image_url": "https://s.gr-assets.com/assets/nophoto/book/111x148-bcc042a9c91a29c1d680899eff700a03.png",
                                    "small_image_url": "https://s.gr-assets.com/assets/nophoto/book/50x75-a91bf249278a81aabab721ef782c4a74.png"
                                },
                                {
                                    "id": "6602",
                                    "book_id": "359581",
                                    "best_book_id": "359581",
                                    "work_id": "1867046",
                                    "books_count": "54",
                                    "isbn": "9993911550",
                                    "isbn13": "9789993911560",
                                    "authors": "Roger Zelazny",
                                    "original_publication_year": "1978",
                                    "original_title": "The Courts of Chaos",
                                    "title": "The Courts of Chaos (The Chronicles of Amber #5)",
                                    "language_code": "eng",
                                    "average_rating": "4.19",
                                    "ratings_count": "16453",
                                    "work_ratings_count": "17315",
                                    "work_text_reviews_count": "254",
                                    "ratings_1": "104",
                                    "ratings_2": "487",
                                    "ratings_3": "3058",
                                    "ratings_4": "6113",
                                    "ratings_5": "7553",
                                    "image_url": "https://images.gr-assets.com/books/1417786728m/359581.jpg",
                                    "small_image_url": "https://images.gr-assets.com/books/1417786728s/359581.jpg"
                                },
                                {
                                    "id": "7216",
                                    "book_id": "809849",
                                    "best_book_id": "809849",
                                    "work_id": "795790",
                                    "books_count": "63",
                                    "isbn": "141694737X",
                                    "isbn13": "9781416947370",
                                    "authors": "Rod Campbell",
                                    "original_publication_year": "NULL",
                                    "original_title": "NULL",
                                    "title": "Dear Zoo: A Lift-the-Flap Book",
                                    "language_code": "NULL",
                                    "average_rating": "4.25",
                                    "ratings_count": "16432",
                                    "work_ratings_count": "16839",
                                    "work_text_reviews_count": "429",
                                    "ratings_1": "199",
                                    "ratings_2": "569",
                                    "ratings_3": "2705",
                                    "ratings_4": "4664",
                                    "ratings_5": "8702",
                                    "image_url": "https://images.gr-assets.com/books/1391337388m/809849.jpg",
                                    "small_image_url": "https://images.gr-assets.com/books/1391337388s/809849.jpg"
                                },
                                {
                                    "id": "7249",
                                    "book_id": "100247",
                                    "best_book_id": "100247",
                                    "work_id": "96659",
                                    "books_count": "11",
                                    "isbn": "812992180",
                                    "isbn13": "9780812992180",
                                    "authors": "Rolf Potts",
                                    "original_publication_year": "2002",
                                    "original_title": "Vagabonding: An Uncommon Guide to the Art of Long-Term World Travel",
                                    "title": "Vagabonding: An Uncommon Guide to the Art of Long-Term World Travel",
                                    "language_code": "eng",
                                    "average_rating": "3.92",
                                    "ratings_count": "13128",
                                    "work_ratings_count": "14025",
                                    "work_text_reviews_count": "836",
                                    "ratings_1": "276",
                                    "ratings_2": "860",
                                    "ratings_3": "3243",
                                    "ratings_4": "4984",
                                    "ratings_5": "4662",
                                    "image_url": "https://images.gr-assets.com/books/1320532720m/100247.jpg",
                                    "small_image_url": "https://images.gr-assets.com/books/1320532720s/100247.jpg"
                                },
                                {
                                    "id": "7349",
                                    "book_id": "62012",
                                    "best_book_id": "62012",
                                    "work_id": "1105543",
                                    "books_count": "62",
                                    "isbn": "380000830",
                                    "isbn13": "9780380000840",
                                    "authors": "Roger Zelazny",
                                    "original_publication_year": "1972",
                                    "original_title": "The Guns of Avalon",
                                    "title": "The Guns of Avalon (The Chronicles of Amber #2)",
                                    "language_code": "eng",
                                    "average_rating": "4.16",
                                    "ratings_count": "15131",
                                    "work_ratings_count": "16220",
                                    "work_text_reviews_count": "384",
                                    "ratings_1": "70",
                                    "ratings_2": "492",
                                    "ratings_3": "2913",
                                    "ratings_4": "6111",
                                    "ratings_5": "6634",
                                    "image_url": "https://images.gr-assets.com/books/1368213721m/62012.jpg",
                                    "small_image_url": "https://images.gr-assets.com/books/1368213721s/62012.jpg"
                                },
                                {
                                    "id": "8279",
                                    "book_id": "721003",
                                    "best_book_id": "721003",
                                    "work_id": "3348719",
                                    "books_count": "18",
                                    "isbn": "152024174",
                                    "isbn13": "9780152024180",
                                    "authors": "Roland Smith",
                                    "original_publication_year": "2007",
                                    "original_title": "Peak",
                                    "title": "Peak (Peak #1)",
                                    "language_code": "en-US",
                                    "average_rating": "3.98",
                                    "ratings_count": "13314",
                                    "work_ratings_count": "14027",
                                    "work_text_reviews_count": "2024",
                                    "ratings_1": "297",
                                    "ratings_2": "714",
                                    "ratings_3": "2873",
                                    "ratings_4": "5278",
                                    "ratings_5": "4865",
                                    "image_url": "https://images.gr-assets.com/books/1328876929m/721003.jpg",
                                    "small_image_url": "https://images.gr-assets.com/books/1328876929s/721003.jpg"
                                },
                                {
                                    "id": "8601",
                                    "book_id": "16248196",
                                    "best_book_id": "16248196",
                                    "work_id": "18183653",
                                    "books_count": "64",
                                    "isbn": "62219685",
                                    "isbn13": "9780062219690",
                                    "authors": "Rolf Dobelli",
                                    "original_publication_year": "2011",
                                    "original_title": "Die Kunst des klaren Denkens",
                                    "title": "The Art of Thinking Clearly",
                                    "language_code": "NULL",
                                    "average_rating": "3.79",
                                    "ratings_count": "8367",
                                    "work_ratings_count": "11101",
                                    "work_text_reviews_count": "984",
                                    "ratings_1": "347",
                                    "ratings_2": "819",
                                    "ratings_3": "2735",
                                    "ratings_4": "4082",
                                    "ratings_5": "3118",
                                    "image_url": "https://images.gr-assets.com/books/1364848267m/16248196.jpg",
                                    "small_image_url": "https://images.gr-assets.com/books/1364848267s/16248196.jpg"
                                },
                                {
                                    "id": "8632",
                                    "book_id": "736376",
                                    "best_book_id": "736376",
                                    "work_id": "2270861",
                                    "books_count": "16",
                                    "isbn": "1565125525",
                                    "isbn13": "9781565125520",
                                    "authors": "Roland Merullo",
                                    "original_publication_year": "2007",
                                    "original_title": "Breakfast with Buddha",
                                    "title": "Breakfast with Buddha",
                                    "language_code": "en-US",
                                    "average_rating": "3.82",
                                    "ratings_count": "8634",
                                    "work_ratings_count": "11499",
                                    "work_text_reviews_count": "1814",
                                    "ratings_1": "171",
                                    "ratings_2": "774",
                                    "ratings_3": "2923",
                                    "ratings_4": "4692",
                                    "ratings_5": "2939",
                                    "image_url": "https://s.gr-assets.com/assets/nophoto/book/111x148-bcc042a9c91a29c1d680899eff700a03.png",
                                    "small_image_url": "https://s.gr-assets.com/assets/nophoto/book/50x75-a91bf249278a81aabab721ef782c4a74.png"
                                },
                                {
                                    "id": "8799",
                                    "book_id": "239917",
                                    "best_book_id": "239917",
                                    "work_id": "2425692",
                                    "books_count": "52",
                                    "isbn": "380008319",
                                    "isbn13": "9780380008320",
                                    "authors": "Roger Zelazny",
                                    "original_publication_year": "1975",
                                    "original_title": "Sign of the Unicorn",
                                    "title": "Sign of the Unicorn (The Chronicles of Amber #3)",
                                    "language_code": "en-US",
                                    "average_rating": "4.14",
                                    "ratings_count": "12510",
                                    "work_ratings_count": "13376",
                                    "work_text_reviews_count": "262",
                                    "ratings_1": "59",
                                    "ratings_2": "384",
                                    "ratings_3": "2488",
                                    "ratings_4": "5122",
                                    "ratings_5": "5323",
                                    "image_url": "https://images.gr-assets.com/books/1368213756m/239917.jpg",
                                    "small_image_url": "https://images.gr-assets.com/books/1368213756s/239917.jpg"
                                },
                                {
                                    "id": "8873",
                                    "book_id": "269795",
                                    "best_book_id": "269795",
                                    "work_id": "963859",
                                    "books_count": "37",
                                    "isbn": "749391685",
                                    "isbn13": "9780749391680",
                                    "authors": "Roddy Doyle",
                                    "original_publication_year": "1987",
                                    "original_title": "The Commitments",
                                    "title": "The Commitments",
                                    "language_code": "eng",
                                    "average_rating": "3.95",
                                    "ratings_count": "11215",
                                    "work_ratings_count": "12070",
                                    "work_text_reviews_count": "403",
                                    "ratings_1": "98",
                                    "ratings_2": "448",
                                    "ratings_3": "2740",
                                    "ratings_4": "5491",
                                    "ratings_5": "3293",
                                    "image_url": "https://images.gr-assets.com/books/1173298169m/269795.jpg",
                                    "small_image_url": "https://images.gr-assets.com/books/1173298169s/269795.jpg"
                                },
                                {
                                    "id": "9303",
                                    "book_id": "51715",
                                    "best_book_id": "51715",
                                    "work_id": "882883",
                                    "books_count": "82",
                                    "isbn": "374521506",
                                    "isbn13": "9780374521510",
                                    "authors": "Roland Barthes, Annette Lavers",
                                    "original_publication_year": "1957",
                                    "original_title": "Mythologies",
                                    "title": "Mythologies",
                                    "language_code": "eng",
                                    "average_rating": "4.11",
                                    "ratings_count": "9325",
                                    "work_ratings_count": "10470",
                                    "work_text_reviews_count": "373",
                                    "ratings_1": "130",
                                    "ratings_2": "370",
                                    "ratings_3": "1838",
                                    "ratings_4": "4051",
                                    "ratings_5": "4081",
                                    "image_url": "https://s.gr-assets.com/assets/nophoto/book/111x148-bcc042a9c91a29c1d680899eff700a03.png",
                                    "small_image_url": "https://s.gr-assets.com/assets/nophoto/book/50x75-a91bf249278a81aabab721ef782c4a74.png"
                                },
                                {
                                    "id": "9376",
                                    "book_id": "116982",
                                    "best_book_id": "116982",
                                    "work_id": "1837346",
                                    "books_count": "56",
                                    "isbn": "380016648",
                                    "isbn13": "9780380016650",
                                    "authors": "Roger Zelazny",
                                    "original_publication_year": "1976",
                                    "original_title": "The Hand of Oberon - The Courts of Chaos ",
                                    "title": "The Hand of Oberon (The Chronicles of Amber #4)",
                                    "language_code": "eng",
                                    "average_rating": "4.19",
                                    "ratings_count": "12627",
                                    "work_ratings_count": "13401",
                                    "work_text_reviews_count": "231",
                                    "ratings_1": "48",
                                    "ratings_2": "311",
                                    "ratings_3": "2292",
                                    "ratings_4": "5090",
                                    "ratings_5": "5660",
                                    "image_url": "https://images.gr-assets.com/books/1417644788m/116982.jpg",
                                    "small_image_url": "https://images.gr-assets.com/books/1417644788s/116982.jpg"
                                },
                                {
                                    "id": "9438",
                                    "book_id": "1175893",
                                    "best_book_id": "1175893",
                                    "work_id": "1163669",
                                    "books_count": "60",
                                    "isbn": "1905294425",
                                    "isbn13": "9781905294430",
                                    "authors": "Roderick Gordon, Brian  Williams",
                                    "original_publication_year": "2007",
                                    "original_title": "Tunnels",
                                    "title": "Tunnels (Tunnels, #1)",
                                    "language_code": "en-CA",
                                    "average_rating": "3.57",
                                    "ratings_count": "11678",
                                    "work_ratings_count": "13324",
                                    "work_text_reviews_count": "1406",
                                    "ratings_1": "737",
                                    "ratings_2": "1543",
                                    "ratings_3": "3730",
                                    "ratings_4": "4029",
                                    "ratings_5": "3285",
                                    "image_url": "https://images.gr-assets.com/books/1320969639m/1175893.jpg",
                                    "small_image_url": "https://images.gr-assets.com/books/1320969639s/1175893.jpg"
                                },
                                {
                                    "id": "9744",
                                    "book_id": "854252",
                                    "best_book_id": "854252",
                                    "work_id": "1206964",
                                    "books_count": "9",
                                    "isbn": "64404781",
                                    "isbn13": "9780064404780",
                                    "authors": "Roger Lea MacBride, David Gilleece",
                                    "original_publication_year": "1993",
                                    "original_title": "Little House on Rocky Ridge",
                                    "title": "Little House on Rocky Ridge (Little House: The Rocky Ridge Years, #1)",
                                    "language_code": "en-US",
                                    "average_rating": "3.83",
                                    "ratings_count": "14135",
                                    "work_ratings_count": "14248",
                                    "work_text_reviews_count": "135",
                                    "ratings_1": "211",
                                    "ratings_2": "914",
                                    "ratings_3": "4243",
                                    "ratings_4": "4638",
                                    "ratings_5": "4242",
                                    "image_url": "https://s.gr-assets.com/assets/nophoto/book/111x148-bcc042a9c91a29c1d680899eff700a03.png",
                                    "small_image_url": "https://s.gr-assets.com/assets/nophoto/book/50x75-a91bf249278a81aabab721ef782c4a74.png"
                                },
                                {
                                    "id": "9877",
                                    "book_id": "536790",
                                    "best_book_id": "536790",
                                    "work_id": "16179287",
                                    "books_count": "46",
                                    "isbn": "NULL",
                                    "isbn13": "NULL",
                                    "authors": "Roger Zelazny",
                                    "original_publication_year": "1985",
                                    "original_title": "Trumps of Doom",
                                    "title": "Trumps of Doom (The Chronicles of Amber, #6)",
                                    "language_code": "eng",
                                    "average_rating": "4.06",
                                    "ratings_count": "11282",
                                    "work_ratings_count": "11798",
                                    "work_text_reviews_count": "175",
                                    "ratings_1": "67",
                                    "ratings_2": "446",
                                    "ratings_3": "2595",
                                    "ratings_4": "4333",
                                    "ratings_5": "4357",
                                    "image_url": "https://images.gr-assets.com/books/1418027077m/536790.jpg",
                                    "small_image_url": "https://images.gr-assets.com/books/1418027077s/536790.jpg"
                                }
                            ]
                        },
                        "text/html": [
                            "<table>",
                            "<tr><th>id</th><th>book_id</th><th>best_book_id</th><th>work_id</th><th>books_count</th><th>isbn</th><th>isbn13</th><th>authors</th><th>original_publication_year</th><th>original_title</th><th>title</th><th>language_code</th><th>average_rating</th><th>ratings_count</th><th>work_ratings_count</th><th>work_text_reviews_count</th><th>ratings_1</th><th>ratings_2</th><th>ratings_3</th><th>ratings_4</th><th>ratings_5</th><th>image_url</th><th>small_image_url</th></tr>",
                            "<tr><td>779</td><td>5211</td><td>5211</td><td>865827</td><td>79</td><td>140003065X</td><td>9781400030650</td><td>Rohinton Mistry</td><td>1996</td><td>A Fine Balance</td><td>A Fine Balance</td><td>eng</td><td>4.34</td><td>99252</td><td>104516</td><td>7227</td><td>1477</td><td>3066</td><td>11254</td><td>31034</td><td>57685</td><td>https://s.gr-assets.com/assets/nophoto/book/111x148-bcc042a9c91a29c1d680899eff700a03.png</td><td>https://s.gr-assets.com/assets/nophoto/book/50x75-a91bf249278a81aabab721ef782c4a74.png</td></tr>",
                            "<tr><td>2329</td><td>313605</td><td>313605</td><td>1394134</td><td>83</td><td>140157352</td><td>9780140157350</td><td>Roger Fisher, William Ury, Bruce Patton</td><td>1981</td><td>Getting to Yes: Negotiating agreement without giving in</td><td>Getting to Yes: Negotiating an Agreement Without Giving In</td><td>en-US</td><td>3.88</td><td>37205</td><td>40026</td><td>1113</td><td>772</td><td>2219</td><td>10217</td><td>14455</td><td>12363</td><td>https://s.gr-assets.com/assets/nophoto/book/111x148-bcc042a9c91a29c1d680899eff700a03.png</td><td>https://s.gr-assets.com/assets/nophoto/book/50x75-a91bf249278a81aabab721ef782c4a74.png</td></tr>",
                            "<tr><td>2898</td><td>92121</td><td>92121</td><td>1383240</td><td>79</td><td>380014300</td><td>9780380014310</td><td>Roger Zelazny</td><td>1970</td><td>Nine Princes in Amber</td><td>Nine Princes in Amber (The Chronicles of Amber #1)</td><td>en-US</td><td>4.1</td><td>37961</td><td>40090</td><td>1354</td><td>736</td><td>1990</td><td>7001</td><td>12982</td><td>17381</td><td>https://images.gr-assets.com/books/1416090973m/92121.jpg</td><td>https://images.gr-assets.com/books/1416090973s/92121.jpg</td></tr>",
                            "<tr><td>2961</td><td>8953</td><td>8953</td><td>2049173</td><td>43</td><td>439286069</td><td>9780439286060</td><td>Rodman Philbrick</td><td>1993</td><td>Freak the Mighty</td><td>Freak the Mighty (Freak The Mighty, #1)</td><td>eng</td><td>3.98</td><td>34587</td><td>35493</td><td>3302</td><td>820</td><td>2063</td><td>7351</td><td>11982</td><td>13277</td><td>https://s.gr-assets.com/assets/nophoto/book/111x148-bcc042a9c91a29c1d680899eff700a03.png</td><td>https://s.gr-assets.com/assets/nophoto/book/50x75-a91bf249278a81aabab721ef782c4a74.png</td></tr>",
                            "<tr><td>3310</td><td>497164</td><td>497164</td><td>799260</td><td>64</td><td>374521344</td><td>9780374521350</td><td>Roland Barthes, Richard Howard</td><td>1980</td><td>La chambre claire. Note sur la photographie</td><td>Camera Lucida: Reflections on Photography</td><td>NULL</td><td>3.92</td><td>26754</td><td>28476</td><td>413</td><td>1191</td><td>2000</td><td>5810</td><td>8269</td><td>11206</td><td>https://images.gr-assets.com/books/1312018081m/497164.jpg</td><td>https://images.gr-assets.com/books/1312018081s/497164.jpg</td></tr>",
                            "<tr><td>5247</td><td>5367</td><td>5367</td><td>8810</td><td>5</td><td>380809060</td><td>9780380809070</td><td>Roger Zelazny</td><td>1999</td><td>The Great Book of Amber</td><td>The Great Book of Amber (The Chronicles of Amber, #1-10)</td><td>eng</td><td>4.31</td><td>20748</td><td>20839</td><td>788</td><td>196</td><td>604</td><td>2683</td><td>6479</td><td>10877</td><td>https://images.gr-assets.com/books/1165519096m/5367.jpg</td><td>https://images.gr-assets.com/books/1165519096s/5367.jpg</td></tr>",
                            "<tr><td>5310</td><td>13821</td><td>13821</td><td>1011388</td><td>66</td><td>60567236</td><td>9780060567230</td><td>Roger Zelazny, Sönmez Güven</td><td>1967</td><td>Lord of Light</td><td>Lord of Light</td><td>en-US</td><td>4.1</td><td>20227</td><td>21952</td><td>1100</td><td>415</td><td>1117</td><td>3899</td><td>6950</td><td>9571</td><td>https://images.gr-assets.com/books/1330127327m/13821.jpg</td><td>https://images.gr-assets.com/books/1330127327s/13821.jpg</td></tr>",
                            "<tr><td>5448</td><td>19661</td><td>19661</td><td>1435094</td><td>41</td><td>037570342X</td><td>9780375703420</td><td>Rohinton Mistry</td><td>2001</td><td>Family Matters</td><td>Family Matters</td><td>eng</td><td>3.99</td><td>16790</td><td>17802</td><td>808</td><td>141</td><td>654</td><td>3799</td><td>7814</td><td>5394</td><td>https://s.gr-assets.com/assets/nophoto/book/111x148-bcc042a9c91a29c1d680899eff700a03.png</td><td>https://s.gr-assets.com/assets/nophoto/book/50x75-a91bf249278a81aabab721ef782c4a74.png</td></tr>",
                            "<tr><td>5495</td><td>10669</td><td>10669</td><td>13308</td><td>17</td><td>375758259</td><td>9780375758260</td><td>Roger Lowenstein</td><td>2000</td><td>When Genius Failed: The Rise and Fall of Long-Term Capital Management</td><td>When Genius Failed: The Rise and Fall of Long-Term Capital Management</td><td>en-US</td><td>4.16</td><td>15619</td><td>16476</td><td>460</td><td>183</td><td>395</td><td>2606</td><td>6635</td><td>6657</td><td>https://s.gr-assets.com/assets/nophoto/book/111x148-bcc042a9c91a29c1d680899eff700a03.png</td><td>https://s.gr-assets.com/assets/nophoto/book/50x75-a91bf249278a81aabab721ef782c4a74.png</td></tr>",
                            "<tr><td>5622</td><td>12107920</td><td>12107920</td><td>17076921</td><td>10</td><td>545298423</td><td>9780545298420</td><td>Roland Smith</td><td>2012</td><td>NULL</td><td>Shatterproof (The 39 Clues: Cahills vs. Vespers, #4)</td><td>NULL</td><td>4.17</td><td>17887</td><td>18169</td><td>287</td><td>306</td><td>712</td><td>3463</td><td>4758</td><td>8930</td><td>https://images.gr-assets.com/books/1331078007m/12107920.jpg</td><td>https://images.gr-assets.com/books/1331078007s/12107920.jpg</td></tr>",
                            "<tr><td>6180</td><td>30512</td><td>30512</td><td>2305040</td><td>61</td><td>2264022442</td><td>9782264022450</td><td>Roddy Doyle</td><td>1993</td><td>Paddy Clarke Ha Ha Ha</td><td>Paddy Clarke Ha Ha Ha</td><td>NULL</td><td>3.75</td><td>15044</td><td>16773</td><td>669</td><td>325</td><td>1171</td><td>4673</td><td>6759</td><td>3845</td><td>https://s.gr-assets.com/assets/nophoto/book/111x148-bcc042a9c91a29c1d680899eff700a03.png</td><td>https://s.gr-assets.com/assets/nophoto/book/50x75-a91bf249278a81aabab721ef782c4a74.png</td></tr>",
                            "<tr><td>6602</td><td>359581</td><td>359581</td><td>1867046</td><td>54</td><td>9993911550</td><td>9789993911560</td><td>Roger Zelazny</td><td>1978</td><td>The Courts of Chaos</td><td>The Courts of Chaos (The Chronicles of Amber #5)</td><td>eng</td><td>4.19</td><td>16453</td><td>17315</td><td>254</td><td>104</td><td>487</td><td>3058</td><td>6113</td><td>7553</td><td>https://images.gr-assets.com/books/1417786728m/359581.jpg</td><td>https://images.gr-assets.com/books/1417786728s/359581.jpg</td></tr>",
                            "<tr><td>7216</td><td>809849</td><td>809849</td><td>795790</td><td>63</td><td>141694737X</td><td>9781416947370</td><td>Rod Campbell</td><td>NULL</td><td>NULL</td><td>Dear Zoo: A Lift-the-Flap Book</td><td>NULL</td><td>4.25</td><td>16432</td><td>16839</td><td>429</td><td>199</td><td>569</td><td>2705</td><td>4664</td><td>8702</td><td>https://images.gr-assets.com/books/1391337388m/809849.jpg</td><td>https://images.gr-assets.com/books/1391337388s/809849.jpg</td></tr>",
                            "<tr><td>7249</td><td>100247</td><td>100247</td><td>96659</td><td>11</td><td>812992180</td><td>9780812992180</td><td>Rolf Potts</td><td>2002</td><td>Vagabonding: An Uncommon Guide to the Art of Long-Term World Travel</td><td>Vagabonding: An Uncommon Guide to the Art of Long-Term World Travel</td><td>eng</td><td>3.92</td><td>13128</td><td>14025</td><td>836</td><td>276</td><td>860</td><td>3243</td><td>4984</td><td>4662</td><td>https://images.gr-assets.com/books/1320532720m/100247.jpg</td><td>https://images.gr-assets.com/books/1320532720s/100247.jpg</td></tr>",
                            "<tr><td>7349</td><td>62012</td><td>62012</td><td>1105543</td><td>62</td><td>380000830</td><td>9780380000840</td><td>Roger Zelazny</td><td>1972</td><td>The Guns of Avalon</td><td>The Guns of Avalon (The Chronicles of Amber #2)</td><td>eng</td><td>4.16</td><td>15131</td><td>16220</td><td>384</td><td>70</td><td>492</td><td>2913</td><td>6111</td><td>6634</td><td>https://images.gr-assets.com/books/1368213721m/62012.jpg</td><td>https://images.gr-assets.com/books/1368213721s/62012.jpg</td></tr>",
                            "<tr><td>8279</td><td>721003</td><td>721003</td><td>3348719</td><td>18</td><td>152024174</td><td>9780152024180</td><td>Roland Smith</td><td>2007</td><td>Peak</td><td>Peak (Peak #1)</td><td>en-US</td><td>3.98</td><td>13314</td><td>14027</td><td>2024</td><td>297</td><td>714</td><td>2873</td><td>5278</td><td>4865</td><td>https://images.gr-assets.com/books/1328876929m/721003.jpg</td><td>https://images.gr-assets.com/books/1328876929s/721003.jpg</td></tr>",
                            "<tr><td>8601</td><td>16248196</td><td>16248196</td><td>18183653</td><td>64</td><td>62219685</td><td>9780062219690</td><td>Rolf Dobelli</td><td>2011</td><td>Die Kunst des klaren Denkens</td><td>The Art of Thinking Clearly</td><td>NULL</td><td>3.79</td><td>8367</td><td>11101</td><td>984</td><td>347</td><td>819</td><td>2735</td><td>4082</td><td>3118</td><td>https://images.gr-assets.com/books/1364848267m/16248196.jpg</td><td>https://images.gr-assets.com/books/1364848267s/16248196.jpg</td></tr>",
                            "<tr><td>8632</td><td>736376</td><td>736376</td><td>2270861</td><td>16</td><td>1565125525</td><td>9781565125520</td><td>Roland Merullo</td><td>2007</td><td>Breakfast with Buddha</td><td>Breakfast with Buddha</td><td>en-US</td><td>3.82</td><td>8634</td><td>11499</td><td>1814</td><td>171</td><td>774</td><td>2923</td><td>4692</td><td>2939</td><td>https://s.gr-assets.com/assets/nophoto/book/111x148-bcc042a9c91a29c1d680899eff700a03.png</td><td>https://s.gr-assets.com/assets/nophoto/book/50x75-a91bf249278a81aabab721ef782c4a74.png</td></tr>",
                            "<tr><td>8799</td><td>239917</td><td>239917</td><td>2425692</td><td>52</td><td>380008319</td><td>9780380008320</td><td>Roger Zelazny</td><td>1975</td><td>Sign of the Unicorn</td><td>Sign of the Unicorn (The Chronicles of Amber #3)</td><td>en-US</td><td>4.14</td><td>12510</td><td>13376</td><td>262</td><td>59</td><td>384</td><td>2488</td><td>5122</td><td>5323</td><td>https://images.gr-assets.com/books/1368213756m/239917.jpg</td><td>https://images.gr-assets.com/books/1368213756s/239917.jpg</td></tr>",
                            "<tr><td>8873</td><td>269795</td><td>269795</td><td>963859</td><td>37</td><td>749391685</td><td>9780749391680</td><td>Roddy Doyle</td><td>1987</td><td>The Commitments</td><td>The Commitments</td><td>eng</td><td>3.95</td><td>11215</td><td>12070</td><td>403</td><td>98</td><td>448</td><td>2740</td><td>5491</td><td>3293</td><td>https://images.gr-assets.com/books/1173298169m/269795.jpg</td><td>https://images.gr-assets.com/books/1173298169s/269795.jpg</td></tr>",
                            "<tr><td>9303</td><td>51715</td><td>51715</td><td>882883</td><td>82</td><td>374521506</td><td>9780374521510</td><td>Roland Barthes, Annette Lavers</td><td>1957</td><td>Mythologies</td><td>Mythologies</td><td>eng</td><td>4.11</td><td>9325</td><td>10470</td><td>373</td><td>130</td><td>370</td><td>1838</td><td>4051</td><td>4081</td><td>https://s.gr-assets.com/assets/nophoto/book/111x148-bcc042a9c91a29c1d680899eff700a03.png</td><td>https://s.gr-assets.com/assets/nophoto/book/50x75-a91bf249278a81aabab721ef782c4a74.png</td></tr>",
                            "<tr><td>9376</td><td>116982</td><td>116982</td><td>1837346</td><td>56</td><td>380016648</td><td>9780380016650</td><td>Roger Zelazny</td><td>1976</td><td>The Hand of Oberon - The Courts of Chaos </td><td>The Hand of Oberon (The Chronicles of Amber #4)</td><td>eng</td><td>4.19</td><td>12627</td><td>13401</td><td>231</td><td>48</td><td>311</td><td>2292</td><td>5090</td><td>5660</td><td>https://images.gr-assets.com/books/1417644788m/116982.jpg</td><td>https://images.gr-assets.com/books/1417644788s/116982.jpg</td></tr>",
                            "<tr><td>9438</td><td>1175893</td><td>1175893</td><td>1163669</td><td>60</td><td>1905294425</td><td>9781905294430</td><td>Roderick Gordon, Brian  Williams</td><td>2007</td><td>Tunnels</td><td>Tunnels (Tunnels, #1)</td><td>en-CA</td><td>3.57</td><td>11678</td><td>13324</td><td>1406</td><td>737</td><td>1543</td><td>3730</td><td>4029</td><td>3285</td><td>https://images.gr-assets.com/books/1320969639m/1175893.jpg</td><td>https://images.gr-assets.com/books/1320969639s/1175893.jpg</td></tr>",
                            "<tr><td>9744</td><td>854252</td><td>854252</td><td>1206964</td><td>9</td><td>64404781</td><td>9780064404780</td><td>Roger Lea MacBride, David Gilleece</td><td>1993</td><td>Little House on Rocky Ridge</td><td>Little House on Rocky Ridge (Little House: The Rocky Ridge Years, #1)</td><td>en-US</td><td>3.83</td><td>14135</td><td>14248</td><td>135</td><td>211</td><td>914</td><td>4243</td><td>4638</td><td>4242</td><td>https://s.gr-assets.com/assets/nophoto/book/111x148-bcc042a9c91a29c1d680899eff700a03.png</td><td>https://s.gr-assets.com/assets/nophoto/book/50x75-a91bf249278a81aabab721ef782c4a74.png</td></tr>",
                            "<tr><td>9877</td><td>536790</td><td>536790</td><td>16179287</td><td>46</td><td>NULL</td><td>NULL</td><td>Roger Zelazny</td><td>1985</td><td>Trumps of Doom</td><td>Trumps of Doom (The Chronicles of Amber, #6)</td><td>eng</td><td>4.06</td><td>11282</td><td>11798</td><td>175</td><td>67</td><td>446</td><td>2595</td><td>4333</td><td>4357</td><td>https://images.gr-assets.com/books/1418027077m/536790.jpg</td><td>https://images.gr-assets.com/books/1418027077s/536790.jpg</td></tr>",
                            "</table>"
                        ]
                    }
                }
            ],
            "execution_count": 18
        },
        {
            "cell_type": "markdown",
            "source": [
                "## Part 2: Find the Answers to Your Own Questions\n",
                "\n",
                "Your Question:  Click here to add a questions that you want to answer and write a query to find the answer!"
            ],
            "metadata": {
                "azdata_cell_guid": "03183740-8d38-4812-8323-d8f15c8b1862"
            }
        },
        {
            "cell_type": "code",
            "source": [
                "--Return a list of all books writen by your favorite author that are rated above 4 on average. Sort by highest rating to lowest.\n",
                "USE BooksDB\n",
                "\n",
                "SELECT title, authors, average_rating\n",
                "FROM books\n",
                "WHERE authors = 'Brandon Sanderson' AND average_rating > 4\n",
                "ORDER BY average_rating DESC;\n",
                ""
            ],
            "metadata": {
                "vscode": {
                    "languageId": "sql"
                },
                "azdata_cell_guid": "4a2d22ac-f89d-4deb-a925-124da75963bc",
                "language": "sql"
            },
            "outputs": [
                {
                    "output_type": "display_data",
                    "data": {
                        "text/html": "(19 rows affected)"
                    },
                    "metadata": {}
                },
                {
                    "output_type": "display_data",
                    "data": {
                        "text/html": "Total execution time: 00:00:00.068"
                    },
                    "metadata": {}
                },
                {
                    "output_type": "execute_result",
                    "metadata": {},
                    "execution_count": 56,
                    "data": {
                        "application/vnd.dataresource+json": {
                            "schema": {
                                "fields": [
                                    {
                                        "name": "title"
                                    },
                                    {
                                        "name": "authors"
                                    },
                                    {
                                        "name": "average_rating"
                                    }
                                ]
                            },
                            "data": [
                                {
                                    "title": "Words of Radiance (The Stormlight Archive, #2)",
                                    "authors": "Brandon Sanderson",
                                    "average_rating": "4.77"
                                },
                                {
                                    "title": "The Way of Kings, Part 1 (The Stormlight Archive #1.1)",
                                    "authors": "Brandon Sanderson",
                                    "average_rating": "4.67"
                                },
                                {
                                    "title": "The Way of Kings (The Stormlight Archive, #1)",
                                    "authors": "Brandon Sanderson",
                                    "average_rating": "4.64"
                                },
                                {
                                    "title": "Mistborn Trilogy Boxed Set (Mistborn, #1-3)",
                                    "authors": "Brandon Sanderson",
                                    "average_rating": "4.55"
                                },
                                {
                                    "title": "The Hero of Ages (Mistborn, #3)",
                                    "authors": "Brandon Sanderson",
                                    "average_rating": "4.46"
                                },
                                {
                                    "title": "The Bands of Mourning (Mistborn, #6)",
                                    "authors": "Brandon Sanderson",
                                    "average_rating": "4.45"
                                },
                                {
                                    "title": "The Final Empire (Mistborn, #1)",
                                    "authors": "Brandon Sanderson",
                                    "average_rating": "4.43"
                                },
                                {
                                    "title": "Secret History (Mistborn, #3.5)",
                                    "authors": "Brandon Sanderson",
                                    "average_rating": "4.38"
                                },
                                {
                                    "title": "The Well of Ascension (Mistborn, #2)",
                                    "authors": "Brandon Sanderson",
                                    "average_rating": "4.35"
                                },
                                {
                                    "title": "The Emperor's Soul",
                                    "authors": "Brandon Sanderson",
                                    "average_rating": "4.33"
                                },
                                {
                                    "title": "Shadows of Self (Mistborn, #5)",
                                    "authors": "Brandon Sanderson",
                                    "average_rating": "4.3"
                                },
                                {
                                    "title": "Firefight (The Reckoners, #2)",
                                    "authors": "Brandon Sanderson",
                                    "average_rating": "4.29"
                                },
                                {
                                    "title": "The Rithmatist (The Rithmatist, #1)",
                                    "authors": "Brandon Sanderson",
                                    "average_rating": "4.25"
                                },
                                {
                                    "title": "Warbreaker (Warbreaker, #1)",
                                    "authors": "Brandon Sanderson",
                                    "average_rating": "4.22"
                                },
                                {
                                    "title": "Calamity (The Reckoners, #3)",
                                    "authors": "Brandon Sanderson",
                                    "average_rating": "4.2"
                                },
                                {
                                    "title": "The Alloy of Law (Mistborn, #4)",
                                    "authors": "Brandon Sanderson",
                                    "average_rating": "4.2"
                                },
                                {
                                    "title": "Elantris (Elantris, #1)",
                                    "authors": "Brandon Sanderson",
                                    "average_rating": "4.17"
                                },
                                {
                                    "title": "Steelheart (The Reckoners, #1)",
                                    "authors": "Brandon Sanderson",
                                    "average_rating": "4.16"
                                },
                                {
                                    "title": "Legion (Legion, #1)",
                                    "authors": "Brandon Sanderson",
                                    "average_rating": "4.13"
                                }
                            ]
                        },
                        "text/html": [
                            "<table>",
                            "<tr><th>title</th><th>authors</th><th>average_rating</th></tr>",
                            "<tr><td>Words of Radiance (The Stormlight Archive, #2)</td><td>Brandon Sanderson</td><td>4.77</td></tr>",
                            "<tr><td>The Way of Kings, Part 1 (The Stormlight Archive #1.1)</td><td>Brandon Sanderson</td><td>4.67</td></tr>",
                            "<tr><td>The Way of Kings (The Stormlight Archive, #1)</td><td>Brandon Sanderson</td><td>4.64</td></tr>",
                            "<tr><td>Mistborn Trilogy Boxed Set (Mistborn, #1-3)</td><td>Brandon Sanderson</td><td>4.55</td></tr>",
                            "<tr><td>The Hero of Ages (Mistborn, #3)</td><td>Brandon Sanderson</td><td>4.46</td></tr>",
                            "<tr><td>The Bands of Mourning (Mistborn, #6)</td><td>Brandon Sanderson</td><td>4.45</td></tr>",
                            "<tr><td>The Final Empire (Mistborn, #1)</td><td>Brandon Sanderson</td><td>4.43</td></tr>",
                            "<tr><td>Secret History (Mistborn, #3.5)</td><td>Brandon Sanderson</td><td>4.38</td></tr>",
                            "<tr><td>The Well of Ascension (Mistborn, #2)</td><td>Brandon Sanderson</td><td>4.35</td></tr>",
                            "<tr><td>The Emperor&#39;s Soul</td><td>Brandon Sanderson</td><td>4.33</td></tr>",
                            "<tr><td>Shadows of Self (Mistborn, #5)</td><td>Brandon Sanderson</td><td>4.3</td></tr>",
                            "<tr><td>Firefight (The Reckoners, #2)</td><td>Brandon Sanderson</td><td>4.29</td></tr>",
                            "<tr><td>The Rithmatist (The Rithmatist, #1)</td><td>Brandon Sanderson</td><td>4.25</td></tr>",
                            "<tr><td>Warbreaker (Warbreaker, #1)</td><td>Brandon Sanderson</td><td>4.22</td></tr>",
                            "<tr><td>Calamity (The Reckoners, #3)</td><td>Brandon Sanderson</td><td>4.2</td></tr>",
                            "<tr><td>The Alloy of Law (Mistborn, #4)</td><td>Brandon Sanderson</td><td>4.2</td></tr>",
                            "<tr><td>Elantris (Elantris, #1)</td><td>Brandon Sanderson</td><td>4.17</td></tr>",
                            "<tr><td>Steelheart (The Reckoners, #1)</td><td>Brandon Sanderson</td><td>4.16</td></tr>",
                            "<tr><td>Legion (Legion, #1)</td><td>Brandon Sanderson</td><td>4.13</td></tr>",
                            "</table>"
                        ]
                    }
                }
            ],
            "execution_count": 56
        },
        {
            "cell_type": "markdown",
            "source": [
                "Your Question:  Click here to add a questions that you want to answer and write a query to find the answer!"
            ],
            "metadata": {
                "azdata_cell_guid": "b1dc8ec8-c626-4760-88cc-7c27ee561449"
            }
        },
        {
            "cell_type": "code",
            "source": [
                "-- Count how many books where written by your favorite author and are in the top 100 books by avg rating.\n",
                "USE BooksDB\n",
                "\n",
                "SELECT COUNT(*) NoTop100\n",
                "FROM books\n",
                "WHERE title IN (\n",
                "    SELECT TOP 100 title\n",
                "    FROM books\n",
                "    WHERE authors = 'Brandon Sanderson'\n",
                "    ORDER BY average_rating DESC\n",
                ")"
            ],
            "metadata": {
                "vscode": {
                    "languageId": "sql"
                },
                "azdata_cell_guid": "3d0a5275-9948-482e-9493-1db8526d8875",
                "language": "sql",
                "tags": []
            },
            "outputs": [
                {
                    "output_type": "display_data",
                    "data": {
                        "text/html": "(1 row affected)"
                    },
                    "metadata": {}
                },
                {
                    "output_type": "display_data",
                    "data": {
                        "text/html": "Total execution time: 00:00:00.139"
                    },
                    "metadata": {}
                },
                {
                    "output_type": "execute_result",
                    "metadata": {},
                    "execution_count": 59,
                    "data": {
                        "application/vnd.dataresource+json": {
                            "schema": {
                                "fields": [
                                    {
                                        "name": "NoTop100"
                                    }
                                ]
                            },
                            "data": [
                                {
                                    "NoTop100": "21"
                                }
                            ]
                        },
                        "text/html": [
                            "<table>",
                            "<tr><th>NoTop100</th></tr>",
                            "<tr><td>21</td></tr>",
                            "</table>"
                        ]
                    }
                }
            ],
            "execution_count": 59
        },
        {
            "cell_type": "markdown",
            "source": [
                "If you cannot think of a question you want to ask, here are some question examples to help jumpstart your brainstorming process:\n",
                "\n",
                "1. What book has the longest title?\n",
                "1. Which author has written the most books?\n",
                "1. What were the top ten books published the year I was born?"
            ],
            "metadata": {
                "azdata_cell_guid": "4048b6ac-3da4-4372-bcc4-e5a2dd387322"
            }
        }
    ]
}