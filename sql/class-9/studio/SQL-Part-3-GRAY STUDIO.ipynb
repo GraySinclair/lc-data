{
    "metadata": {
        "kernelspec": {
            "name": "SQL",
            "display_name": "SQL",
            "language": "sql"
        },
        "language_info": {
            "name": "sql",
            "version": ""
        }
    },
    "nbformat_minor": 2,
    "nbformat": 4,
    "cells": [
        {
            "cell_type": "markdown",
            "source": [
                "# SQL Part 3 Studio\n",
                "\n",
                "Let's practice your SQL querying skills! For each question, work along in the notebook, adding your query and answering the questions.\n",
                "\n",
                "## The Dataset\n",
                "\n",
                "We will be using the Goodbooks-10k dataset from the exercises in the prep work. Feel free reference your previous notebooks.\n",
                "\n",
                "1. The dataset can be found here: [goodbooks-10k](https://www.kaggle.com/zygmunt/goodbooks-10k)\n",
                "1. You can access `BooksDB` in the LaunchCode server.\n",
                "\n",
                "## Business Issue\n",
                "\n",
                "You are an employee at a small independent bookstore and you have been tasked with increasing sales.  You decide to use `BooksDB` to find books and themes to highlight in fun promotions throughout each month and/or season.  We will be starting with March and then you will have a chance to explore another month of your choosing.  We want to come up with a list of promotions to run each month.  If you are looking for ideas, here are some resources on different holidays:\n",
                "\n",
                "- [https://www.calendarr.com/united-states/calendar-2022/](https://www.calendarr.com/united-states/calendar-2022/)\n",
                "- [https://www.holidayinsights.com/moreholidays/](https://www.holidayinsights.com/moreholidays/)\n",
                "    - Click on a month and it will take you to a more detailed page"
            ],
            "metadata": {
                "azdata_cell_guid": "a94dfb0c-673c-4bfe-b59b-7784f9022eb0"
            }
        },
        {
            "cell_type": "markdown",
            "source": [
                "## Part 1:  March - Women's History Month, National Pie Day (3/14), St. Patrick's Day (3/17), Season - Spring"
            ],
            "metadata": {
                "azdata_cell_guid": "140cbad2-8358-4e85-9fc3-8cc492c6451e"
            }
        },
        {
            "cell_type": "markdown",
            "source": [
                "### Event 1: Women's History Month\n",
                "\n",
                "Highlight popular women writers based on ratings from `BooksDB` by writing a query that returns `tag_id`, the number of times each `tag_id` is used and the `tag_name`. Use the `GROUP BY` and `HAVING` clause to narrow your focus and try multiple keywords, such as \"woman\" and \"female\"."
            ],
            "metadata": {
                "azdata_cell_guid": "831d8291-74f8-4475-9513-e6357d31fa1e"
            }
        },
        {
            "cell_type": "code",
            "source": [
                "-- Solution\n",
                "USE BooksDB\n",
                "SELECT bt.tag_id, COUNT(bt.tag_id) AS tag_count, t.tag_name\n",
                "FROM books AS b\n",
                "INNER JOIN book_tags AS bt ON bt.goodreads_book_id = b.best_book_id\n",
                "INNER JOIN tags AS t ON bt.tag_id = t.tag_id\n",
                "WHERE t.tag_name LIKE '%female%' OR t.tag_name LIKE '%woman%'\n",
                "GROUP BY bt.tag_id, t.tag_name\n",
                "ORDER BY tag_count DESC;\n",
                ""
            ],
            "metadata": {
                "vscode": {
                    "languageId": "sql"
                },
                "azdata_cell_guid": "16bb3b7f-80ee-4fa8-96b8-43a1860cbdca",
                "language": "sql",
                "tags": []
            },
            "outputs": [
                {
                    "output_type": "display_data",
                    "data": {
                        "text/html": "(59 rows affected)"
                    },
                    "metadata": {}
                },
                {
                    "output_type": "display_data",
                    "data": {
                        "text/html": "Total execution time: 00:00:00.274"
                    },
                    "metadata": {}
                },
                {
                    "output_type": "execute_result",
                    "metadata": {},
                    "execution_count": 5,
                    "data": {
                        "application/vnd.dataresource+json": {
                            "schema": {
                                "fields": [
                                    {
                                        "name": "tag_id"
                                    },
                                    {
                                        "name": "tag_count"
                                    },
                                    {
                                        "name": "tag_name"
                                    }
                                ]
                            },
                            "data": [
                                {
                                    "tag_id": "11643",
                                    "tag_count": "975",
                                    "tag_name": "female-author"
                                },
                                {
                                    "tag_id": "11644",
                                    "tag_count": "703",
                                    "tag_name": "female-authors"
                                },
                                {
                                    "tag_id": "11658",
                                    "tag_count": "171",
                                    "tag_name": "female-protagonist"
                                },
                                {
                                    "tag_id": "11646",
                                    "tag_count": "31",
                                    "tag_name": "female-detective"
                                },
                                {
                                    "tag_id": "11662",
                                    "tag_count": "18",
                                    "tag_name": "female-writers"
                                },
                                {
                                    "tag_id": "11642",
                                    "tag_count": "17",
                                    "tag_name": "female"
                                },
                                {
                                    "tag_id": "11656",
                                    "tag_count": "17",
                                    "tag_name": "female-pov"
                                },
                                {
                                    "tag_id": "32681",
                                    "tag_count": "14",
                                    "tag_name": "woman-s-murder-club"
                                },
                                {
                                    "tag_id": "11652",
                                    "tag_count": "14",
                                    "tag_name": "female-lead"
                                },
                                {
                                    "tag_id": "3514",
                                    "tag_count": "12",
                                    "tag_name": "author-female"
                                },
                                {
                                    "tag_id": "28834",
                                    "tag_count": "10",
                                    "tag_name": "strong-female-lead"
                                },
                                {
                                    "tag_id": "11647",
                                    "tag_count": "9",
                                    "tag_name": "female-detectives"
                                },
                                {
                                    "tag_id": "19038",
                                    "tag_count": "8",
                                    "tag_name": "man-woman"
                                },
                                {
                                    "tag_id": "32685",
                                    "tag_count": "8",
                                    "tag_name": "womans-murder-club"
                                },
                                {
                                    "tag_id": "32683",
                                    "tag_count": "7",
                                    "tag_name": "womanhood"
                                },
                                {
                                    "tag_id": "22269",
                                    "tag_count": "5",
                                    "tag_name": "older-man-younger-woman"
                                },
                                {
                                    "tag_id": "4455",
                                    "tag_count": "5",
                                    "tag_name": "biblical-womanhood"
                                },
                                {
                                    "tag_id": "22271",
                                    "tag_count": "4",
                                    "tag_name": "older-woman-younger-man"
                                },
                                {
                                    "tag_id": "28830",
                                    "tag_count": "4",
                                    "tag_name": "strong-female"
                                },
                                {
                                    "tag_id": "32740",
                                    "tag_count": "4",
                                    "tag_name": "wonder-woman"
                                },
                                {
                                    "tag_id": "11650",
                                    "tag_count": "4",
                                    "tag_name": "female-friendship"
                                },
                                {
                                    "tag_id": "28833",
                                    "tag_count": "3",
                                    "tag_name": "strong-female-characters"
                                },
                                {
                                    "tag_id": "5132",
                                    "tag_count": "2",
                                    "tag_name": "books-every-woman-should-read"
                                },
                                {
                                    "tag_id": "32680",
                                    "tag_count": "2",
                                    "tag_name": "woman-s-fiction"
                                },
                                {
                                    "tag_id": "23671",
                                    "tag_count": "2",
                                    "tag_name": "pioneer-woman"
                                },
                                {
                                    "tag_id": "11645",
                                    "tag_count": "2",
                                    "tag_name": "female-biographies"
                                },
                                {
                                    "tag_id": "32684",
                                    "tag_count": "1",
                                    "tag_name": "womans-literature"
                                },
                                {
                                    "tag_id": "4729",
                                    "tag_count": "1",
                                    "tag_name": "black-ops-woman-team-cia-sean-case"
                                },
                                {
                                    "tag_id": "11648",
                                    "tag_count": "1",
                                    "tag_name": "female-doctor"
                                },
                                {
                                    "tag_id": "22270",
                                    "tag_count": "1",
                                    "tag_name": "older-woman"
                                },
                                {
                                    "tag_id": "28831",
                                    "tag_count": "1",
                                    "tag_name": "strong-female-character"
                                },
                                {
                                    "tag_id": "1386",
                                    "tag_count": "1",
                                    "tag_name": "a-woman-after-god-s-own-heart"
                                },
                                {
                                    "tag_id": "1741",
                                    "tag_count": "1",
                                    "tag_name": "afghan-female-entrepreneur-under-ta"
                                },
                                {
                                    "tag_id": "7194",
                                    "tag_count": "1",
                                    "tag_name": "christian-woman"
                                },
                                {
                                    "tag_id": "11659",
                                    "tag_count": "1",
                                    "tag_name": "female-serial-killer"
                                },
                                {
                                    "tag_id": "24455",
                                    "tag_count": "1",
                                    "tag_name": "protagonist-female"
                                },
                                {
                                    "tag_id": "32682",
                                    "tag_count": "1",
                                    "tag_name": "woman-trans-agender-authors"
                                },
                                {
                                    "tag_id": "23891",
                                    "tag_count": "1",
                                    "tag_name": "policewoman-potential-victim"
                                },
                                {
                                    "tag_id": "11654",
                                    "tag_count": "1",
                                    "tag_name": "female-persuasion"
                                },
                                {
                                    "tag_id": "11660",
                                    "tag_count": "1",
                                    "tag_name": "female-spy"
                                },
                                {
                                    "tag_id": "32679",
                                    "tag_count": "1",
                                    "tag_name": "woman-author"
                                },
                                {
                                    "tag_id": "4309",
                                    "tag_count": "1",
                                    "tag_name": "best-adult-female-friendship-books"
                                },
                                {
                                    "tag_id": "19757",
                                    "tag_count": "1",
                                    "tag_name": "memorable-woman-characters"
                                },
                                {
                                    "tag_id": "4006",
                                    "tag_count": "1",
                                    "tag_name": "batwoman"
                                },
                                {
                                    "tag_id": "937",
                                    "tag_count": "1",
                                    "tag_name": "21-books-every-woman-should-read"
                                },
                                {
                                    "tag_id": "29324",
                                    "tag_count": "1",
                                    "tag_name": "tbr-ax-female"
                                },
                                {
                                    "tag_id": "28832",
                                    "tag_count": "1",
                                    "tag_name": "strong-female-character-s"
                                },
                                {
                                    "tag_id": "11651",
                                    "tag_count": "1",
                                    "tag_name": "female-genre-authors"
                                },
                                {
                                    "tag_id": "11657",
                                    "tag_count": "1",
                                    "tag_name": "female-povs"
                                },
                                {
                                    "tag_id": "1387",
                                    "tag_count": "1",
                                    "tag_name": "a-woman-after-gods-own-heart"
                                },
                                {
                                    "tag_id": "17079",
                                    "tag_count": "1",
                                    "tag_name": "kick-ass-female"
                                },
                                {
                                    "tag_id": "28835",
                                    "tag_count": "1",
                                    "tag_name": "strong-female-protagonist"
                                },
                                {
                                    "tag_id": "11661",
                                    "tag_count": "1",
                                    "tag_name": "female-writer"
                                },
                                {
                                    "tag_id": "11653",
                                    "tag_count": "1",
                                    "tag_name": "female-main-character"
                                },
                                {
                                    "tag_id": "10986",
                                    "tag_count": "1",
                                    "tag_name": "every-woman-should-read"
                                },
                                {
                                    "tag_id": "28836",
                                    "tag_count": "1",
                                    "tag_name": "strong-female-supporting-characters"
                                },
                                {
                                    "tag_id": "15331",
                                    "tag_count": "1",
                                    "tag_name": "important-female-authors"
                                },
                                {
                                    "tag_id": "11649",
                                    "tag_count": "1",
                                    "tag_name": "female-fiction"
                                },
                                {
                                    "tag_id": "11655",
                                    "tag_count": "1",
                                    "tag_name": "female-pi"
                                }
                            ]
                        },
                        "text/html": [
                            "<table>",
                            "<tr><th>tag_id</th><th>tag_count</th><th>tag_name</th></tr>",
                            "<tr><td>11643</td><td>975</td><td>female-author</td></tr>",
                            "<tr><td>11644</td><td>703</td><td>female-authors</td></tr>",
                            "<tr><td>11658</td><td>171</td><td>female-protagonist</td></tr>",
                            "<tr><td>11646</td><td>31</td><td>female-detective</td></tr>",
                            "<tr><td>11662</td><td>18</td><td>female-writers</td></tr>",
                            "<tr><td>11642</td><td>17</td><td>female</td></tr>",
                            "<tr><td>11656</td><td>17</td><td>female-pov</td></tr>",
                            "<tr><td>32681</td><td>14</td><td>woman-s-murder-club</td></tr>",
                            "<tr><td>11652</td><td>14</td><td>female-lead</td></tr>",
                            "<tr><td>3514</td><td>12</td><td>author-female</td></tr>",
                            "<tr><td>28834</td><td>10</td><td>strong-female-lead</td></tr>",
                            "<tr><td>11647</td><td>9</td><td>female-detectives</td></tr>",
                            "<tr><td>19038</td><td>8</td><td>man-woman</td></tr>",
                            "<tr><td>32685</td><td>8</td><td>womans-murder-club</td></tr>",
                            "<tr><td>32683</td><td>7</td><td>womanhood</td></tr>",
                            "<tr><td>22269</td><td>5</td><td>older-man-younger-woman</td></tr>",
                            "<tr><td>4455</td><td>5</td><td>biblical-womanhood</td></tr>",
                            "<tr><td>22271</td><td>4</td><td>older-woman-younger-man</td></tr>",
                            "<tr><td>28830</td><td>4</td><td>strong-female</td></tr>",
                            "<tr><td>32740</td><td>4</td><td>wonder-woman</td></tr>",
                            "<tr><td>11650</td><td>4</td><td>female-friendship</td></tr>",
                            "<tr><td>28833</td><td>3</td><td>strong-female-characters</td></tr>",
                            "<tr><td>5132</td><td>2</td><td>books-every-woman-should-read</td></tr>",
                            "<tr><td>32680</td><td>2</td><td>woman-s-fiction</td></tr>",
                            "<tr><td>23671</td><td>2</td><td>pioneer-woman</td></tr>",
                            "<tr><td>11645</td><td>2</td><td>female-biographies</td></tr>",
                            "<tr><td>32684</td><td>1</td><td>womans-literature</td></tr>",
                            "<tr><td>4729</td><td>1</td><td>black-ops-woman-team-cia-sean-case</td></tr>",
                            "<tr><td>11648</td><td>1</td><td>female-doctor</td></tr>",
                            "<tr><td>22270</td><td>1</td><td>older-woman</td></tr>",
                            "<tr><td>28831</td><td>1</td><td>strong-female-character</td></tr>",
                            "<tr><td>1386</td><td>1</td><td>a-woman-after-god-s-own-heart</td></tr>",
                            "<tr><td>1741</td><td>1</td><td>afghan-female-entrepreneur-under-ta</td></tr>",
                            "<tr><td>7194</td><td>1</td><td>christian-woman</td></tr>",
                            "<tr><td>11659</td><td>1</td><td>female-serial-killer</td></tr>",
                            "<tr><td>24455</td><td>1</td><td>protagonist-female</td></tr>",
                            "<tr><td>32682</td><td>1</td><td>woman-trans-agender-authors</td></tr>",
                            "<tr><td>23891</td><td>1</td><td>policewoman-potential-victim</td></tr>",
                            "<tr><td>11654</td><td>1</td><td>female-persuasion</td></tr>",
                            "<tr><td>11660</td><td>1</td><td>female-spy</td></tr>",
                            "<tr><td>32679</td><td>1</td><td>woman-author</td></tr>",
                            "<tr><td>4309</td><td>1</td><td>best-adult-female-friendship-books</td></tr>",
                            "<tr><td>19757</td><td>1</td><td>memorable-woman-characters</td></tr>",
                            "<tr><td>4006</td><td>1</td><td>batwoman</td></tr>",
                            "<tr><td>937</td><td>1</td><td>21-books-every-woman-should-read</td></tr>",
                            "<tr><td>29324</td><td>1</td><td>tbr-ax-female</td></tr>",
                            "<tr><td>28832</td><td>1</td><td>strong-female-character-s</td></tr>",
                            "<tr><td>11651</td><td>1</td><td>female-genre-authors</td></tr>",
                            "<tr><td>11657</td><td>1</td><td>female-povs</td></tr>",
                            "<tr><td>1387</td><td>1</td><td>a-woman-after-gods-own-heart</td></tr>",
                            "<tr><td>17079</td><td>1</td><td>kick-ass-female</td></tr>",
                            "<tr><td>28835</td><td>1</td><td>strong-female-protagonist</td></tr>",
                            "<tr><td>11661</td><td>1</td><td>female-writer</td></tr>",
                            "<tr><td>11653</td><td>1</td><td>female-main-character</td></tr>",
                            "<tr><td>10986</td><td>1</td><td>every-woman-should-read</td></tr>",
                            "<tr><td>28836</td><td>1</td><td>strong-female-supporting-characters</td></tr>",
                            "<tr><td>15331</td><td>1</td><td>important-female-authors</td></tr>",
                            "<tr><td>11649</td><td>1</td><td>female-fiction</td></tr>",
                            "<tr><td>11655</td><td>1</td><td>female-pi</td></tr>",
                            "</table>"
                        ]
                    }
                }
            ],
            "execution_count": 5
        },
        {
            "cell_type": "markdown",
            "source": [
                "### Event 2: Choose another event from March/Spring\n",
                "\n",
                "Write a query to return authors, titles, ratings, and `tag_id` that you would want to promote during your chosen event."
            ],
            "metadata": {
                "azdata_cell_guid": "77c9da93-8e8b-45e1-ab2a-4d6a0506e234"
            }
        },
        {
            "cell_type": "code",
            "source": [
                "-- Solution\n",
                "-- I chose pi day 3.14\\\n",
                "-- only using one database means its faster for me to just type \"BooksDB\" once instead of with every reference\n",
                "USE BooksDB\n",
                "-- minimum requirements by direction\n",
                "SELECT b.authors, b.title, b.average_rating, bt.tag_id, t.tag_name\n",
                "--the table with a majority of my needed information, thus my left table\n",
                "FROM books AS b\n",
                "--joining book_tags to books lets me connect book titles to tag_id via a 3rd linking table 'tags' which is joined next.\n",
                "INNER JOIN book_tags AS bt ON bt.goodreads_book_id = b.best_book_id\n",
                "--the table tags provides tag_names so I can use a where clause to filter books with relevance to my chosen event 'pi day'\n",
                "INNER JOIN tags AS t ON bt.tag_id = t.tag_id\n",
                "--the where clause provides a filter for relevant titles to my event based on key words(I tried 'pi' but it made the filtering more broad)\n",
                "WHERE t.tag_name LIKE '%math%' OR t.tag_name LIKE '%geometry%'\n",
                "--ordered by highest average rating\n",
                "ORDER BY b.average_rating DESC;\n",
                ""
            ],
            "metadata": {
                "vscode": {
                    "languageId": "sql"
                },
                "azdata_cell_guid": "f2d7070f-800f-4617-b93a-69ce9db9ae73",
                "language": "sql"
            },
            "outputs": [
                {
                    "output_type": "display_data",
                    "data": {
                        "text/html": "(306 rows affected)"
                    },
                    "metadata": {}
                },
                {
                    "output_type": "display_data",
                    "data": {
                        "text/html": "Total execution time: 00:00:00.341"
                    },
                    "metadata": {}
                },
                {
                    "output_type": "execute_result",
                    "metadata": {},
                    "execution_count": 21,
                    "data": {
                        "application/vnd.dataresource+json": {
                            "schema": {
                                "fields": [
                                    {
                                        "name": "authors"
                                    },
                                    {
                                        "name": "title"
                                    },
                                    {
                                        "name": "average_rating"
                                    },
                                    {
                                        "name": "tag_id"
                                    },
                                    {
                                        "name": "tag_name"
                                    }
                                ]
                            },
                            "data": [
                                {
                                    "authors": "Hervé Tullet, Christopher Franceschelli",
                                    "title": "Press Here",
                                    "average_rating": "4.44",
                                    "tag_id": "19445",
                                    "tag_name": "math"
                                },
                                {
                                    "authors": "Carl Sagan",
                                    "title": "Cosmos",
                                    "average_rating": "4.35",
                                    "tag_id": "19452",
                                    "tag_name": "mathematics"
                                },
                                {
                                    "authors": "Carl Sagan",
                                    "title": "Cosmos",
                                    "average_rating": "4.35",
                                    "tag_id": "26857",
                                    "tag_name": "science-math"
                                },
                                {
                                    "authors": "Carl Sagan",
                                    "title": "Cosmos",
                                    "average_rating": "4.35",
                                    "tag_id": "19450",
                                    "tag_name": "math-science"
                                },
                                {
                                    "authors": "R.L. Mathewson",
                                    "title": "Truce (Neighbor from Hell, #4)",
                                    "average_rating": "4.34",
                                    "tag_id": "24795",
                                    "tag_name": "r-l-mathewson"
                                },
                                {
                                    "authors": "R.L. Mathewson",
                                    "title": "Truce (Neighbor from Hell, #4)",
                                    "average_rating": "4.34",
                                    "tag_id": "25976",
                                    "tag_name": "rl-mathewson"
                                },
                                {
                                    "authors": "Douglas Adams, Mark Carwardine",
                                    "title": "Last Chance to See",
                                    "average_rating": "4.33",
                                    "tag_id": "19452",
                                    "tag_name": "mathematics"
                                },
                                {
                                    "authors": "Richard Rhodes",
                                    "title": "The Making of the Atomic Bomb",
                                    "average_rating": "4.32",
                                    "tag_id": "19450",
                                    "tag_name": "math-science"
                                },
                                {
                                    "authors": "Carl Sagan, Ann Druyan",
                                    "title": "Pale Blue Dot: A Vision of the Human Future in Space",
                                    "average_rating": "4.32",
                                    "tag_id": "19452",
                                    "tag_name": "mathematics"
                                },
                                {
                                    "authors": "Carl Sagan, Ann Druyan",
                                    "title": "Pale Blue Dot: A Vision of the Human Future in Space",
                                    "average_rating": "4.32",
                                    "tag_id": "26857",
                                    "tag_name": "science-math"
                                },
                                {
                                    "authors": "Kevin Henkes",
                                    "title": "Chrysanthemum",
                                    "average_rating": "4.31",
                                    "tag_id": "19445",
                                    "tag_name": "math"
                                },
                                {
                                    "authors": "Douglas R. Hofstadter",
                                    "title": "Gödel, Escher, Bach: An Eternal Golden Braid",
                                    "average_rating": "4.3",
                                    "tag_id": "19445",
                                    "tag_name": "math"
                                },
                                {
                                    "authors": "Douglas R. Hofstadter",
                                    "title": "Gödel, Escher, Bach: An Eternal Golden Braid",
                                    "average_rating": "4.3",
                                    "tag_id": "19452",
                                    "tag_name": "mathematics"
                                },
                                {
                                    "authors": "Douglas R. Hofstadter",
                                    "title": "Gödel, Escher, Bach: An Eternal Golden Braid",
                                    "average_rating": "4.3",
                                    "tag_id": "19456",
                                    "tag_name": "maths"
                                },
                                {
                                    "authors": "Douglas R. Hofstadter",
                                    "title": "Gödel, Escher, Bach: An Eternal Golden Braid",
                                    "average_rating": "4.3",
                                    "tag_id": "19450",
                                    "tag_name": "math-science"
                                },
                                {
                                    "authors": "Douglas R. Hofstadter",
                                    "title": "Gödel, Escher, Bach: An Eternal Golden Braid",
                                    "average_rating": "4.3",
                                    "tag_id": "26857",
                                    "tag_name": "science-math"
                                },
                                {
                                    "authors": "Douglas R. Hofstadter",
                                    "title": "Gödel, Escher, Bach: An Eternal Golden Braid",
                                    "average_rating": "4.3",
                                    "tag_id": "26819",
                                    "tag_name": "science-and-math"
                                },
                                {
                                    "authors": "Douglas R. Hofstadter",
                                    "title": "Gödel, Escher, Bach: An Eternal Golden Braid",
                                    "average_rating": "4.3",
                                    "tag_id": "26858",
                                    "tag_name": "science-mathematics"
                                },
                                {
                                    "authors": "Douglas R. Hofstadter",
                                    "title": "Gödel, Escher, Bach: An Eternal Golden Braid",
                                    "average_rating": "4.3",
                                    "tag_id": "19446",
                                    "tag_name": "math-and-science"
                                },
                                {
                                    "authors": "Eric Carle",
                                    "title": "The Very Hungry Caterpillar Board Book",
                                    "average_rating": "4.29",
                                    "tag_id": "19445",
                                    "tag_name": "math"
                                },
                                {
                                    "authors": "Richard Feynman",
                                    "title": "Surely You're Joking, Mr. Feynman!: Adventures of a Curious Character",
                                    "average_rating": "4.29",
                                    "tag_id": "19445",
                                    "tag_name": "math"
                                },
                                {
                                    "authors": "Richard Feynman",
                                    "title": "Surely You're Joking, Mr. Feynman!: Adventures of a Curious Character",
                                    "average_rating": "4.29",
                                    "tag_id": "19452",
                                    "tag_name": "mathematics"
                                },
                                {
                                    "authors": "Richard Feynman",
                                    "title": "Surely You're Joking, Mr. Feynman!: Adventures of a Curious Character",
                                    "average_rating": "4.29",
                                    "tag_id": "26857",
                                    "tag_name": "science-math"
                                },
                                {
                                    "authors": "Richard Feynman",
                                    "title": "Surely You're Joking, Mr. Feynman!: Adventures of a Curious Character",
                                    "average_rating": "4.29",
                                    "tag_id": "26819",
                                    "tag_name": "science-and-math"
                                },
                                {
                                    "authors": "Richard Feynman",
                                    "title": "Surely You're Joking, Mr. Feynman!: Adventures of a Curious Character",
                                    "average_rating": "4.29",
                                    "tag_id": "19450",
                                    "tag_name": "math-science"
                                },
                                {
                                    "authors": "Richard Feynman",
                                    "title": "What Do You Care What Other People Think?",
                                    "average_rating": "4.28",
                                    "tag_id": "19452",
                                    "tag_name": "mathematics"
                                },
                                {
                                    "authors": "Richard Feynman",
                                    "title": "What Do You Care What Other People Think?",
                                    "average_rating": "4.28",
                                    "tag_id": "19450",
                                    "tag_name": "math-science"
                                },
                                {
                                    "authors": "Simon Singh",
                                    "title": "The Code Book: The Science of Secrecy from Ancient Egypt to Quantum Cryptography",
                                    "average_rating": "4.28",
                                    "tag_id": "19452",
                                    "tag_name": "mathematics"
                                },
                                {
                                    "authors": "Simon Singh",
                                    "title": "The Code Book: The Science of Secrecy from Ancient Egypt to Quantum Cryptography",
                                    "average_rating": "4.28",
                                    "tag_id": "19445",
                                    "tag_name": "math"
                                },
                                {
                                    "authors": "Simon Singh",
                                    "title": "The Code Book: The Science of Secrecy from Ancient Egypt to Quantum Cryptography",
                                    "average_rating": "4.28",
                                    "tag_id": "19456",
                                    "tag_name": "maths"
                                },
                                {
                                    "authors": "Simon Singh",
                                    "title": "The Code Book: The Science of Secrecy from Ancient Egypt to Quantum Cryptography",
                                    "average_rating": "4.28",
                                    "tag_id": "26857",
                                    "tag_name": "science-math"
                                },
                                {
                                    "authors": "Simon Singh",
                                    "title": "The Code Book: The Science of Secrecy from Ancient Egypt to Quantum Cryptography",
                                    "average_rating": "4.28",
                                    "tag_id": "19450",
                                    "tag_name": "math-science"
                                },
                                {
                                    "authors": "Simon Singh",
                                    "title": "The Code Book: The Science of Secrecy from Ancient Egypt to Quantum Cryptography",
                                    "average_rating": "4.28",
                                    "tag_id": "26819",
                                    "tag_name": "science-and-math"
                                },
                                {
                                    "authors": "Barbara Ann Brennan, Jos. A. Smith",
                                    "title": "Hands Of Light",
                                    "average_rating": "4.27",
                                    "tag_id": "2926",
                                    "tag_name": "aromatherapy-reiki"
                                },
                                {
                                    "authors": "Carl Sagan, Ann Druyan",
                                    "title": "The Demon-Haunted World: Science as a Candle in the Dark",
                                    "average_rating": "4.27",
                                    "tag_id": "19452",
                                    "tag_name": "mathematics"
                                },
                                {
                                    "authors": "Carl Sagan, Ann Druyan",
                                    "title": "The Demon-Haunted World: Science as a Candle in the Dark",
                                    "average_rating": "4.27",
                                    "tag_id": "26857",
                                    "tag_name": "science-math"
                                },
                                {
                                    "authors": "Audrey Wood, Don    Wood",
                                    "title": "The Napping House",
                                    "average_rating": "4.27",
                                    "tag_id": "19445",
                                    "tag_name": "math"
                                },
                                {
                                    "authors": "Carl Sagan, Ann Druyan",
                                    "title": "Billions & Billions: Thoughts on Life and Death at the Brink of the Millennium",
                                    "average_rating": "4.26",
                                    "tag_id": "26857",
                                    "tag_name": "science-math"
                                },
                                {
                                    "authors": "Carl Sagan, Ann Druyan",
                                    "title": "Billions & Billions: Thoughts on Life and Death at the Brink of the Millennium",
                                    "average_rating": "4.26",
                                    "tag_id": "19450",
                                    "tag_name": "math-science"
                                },
                                {
                                    "authors": "Neal Stephenson",
                                    "title": "Cryptonomicon",
                                    "average_rating": "4.25",
                                    "tag_id": "19452",
                                    "tag_name": "mathematics"
                                },
                                {
                                    "authors": "Neal Stephenson",
                                    "title": "Cryptonomicon",
                                    "average_rating": "4.25",
                                    "tag_id": "19445",
                                    "tag_name": "math"
                                },
                                {
                                    "authors": "Michael   Lewis",
                                    "title": "Moneyball: The Art of Winning an Unfair Game",
                                    "average_rating": "4.24",
                                    "tag_id": "19452",
                                    "tag_name": "mathematics"
                                },
                                {
                                    "authors": "Michael   Lewis",
                                    "title": "Moneyball: The Art of Winning an Unfair Game",
                                    "average_rating": "4.24",
                                    "tag_id": "19445",
                                    "tag_name": "math"
                                },
                                {
                                    "authors": "Matthew Reilly",
                                    "title": "The 5 Greatest Warriors (Jack West Jr, #3)",
                                    "average_rating": "4.24",
                                    "tag_id": "19454",
                                    "tag_name": "mathew-reilly"
                                },
                                {
                                    "authors": "Richard Feynman",
                                    "title": "QED: The Strange Theory of Light and Matter",
                                    "average_rating": "4.23",
                                    "tag_id": "26857",
                                    "tag_name": "science-math"
                                },
                                {
                                    "authors": "Richard Feynman",
                                    "title": "QED: The Strange Theory of Light and Matter",
                                    "average_rating": "4.23",
                                    "tag_id": "19452",
                                    "tag_name": "mathematics"
                                },
                                {
                                    "authors": "Richard Feynman",
                                    "title": "QED: The Strange Theory of Light and Matter",
                                    "average_rating": "4.23",
                                    "tag_id": "26819",
                                    "tag_name": "science-and-math"
                                },
                                {
                                    "authors": "Richard Feynman",
                                    "title": "QED: The Strange Theory of Light and Matter",
                                    "average_rating": "4.23",
                                    "tag_id": "19450",
                                    "tag_name": "math-science"
                                },
                                {
                                    "authors": "Richard Feynman",
                                    "title": "QED: The Strange Theory of Light and Matter",
                                    "average_rating": "4.23",
                                    "tag_id": "23575",
                                    "tag_name": "physics-math"
                                },
                                {
                                    "authors": "Richard Feynman",
                                    "title": "QED: The Strange Theory of Light and Matter",
                                    "average_rating": "4.23",
                                    "tag_id": "19445",
                                    "tag_name": "math"
                                },
                                {
                                    "authors": "Richard Feynman",
                                    "title": "QED: The Strange Theory of Light and Matter",
                                    "average_rating": "4.23",
                                    "tag_id": "19446",
                                    "tag_name": "math-and-science"
                                },
                                {
                                    "authors": "Richard Feynman",
                                    "title": "QED: The Strange Theory of Light and Matter",
                                    "average_rating": "4.23",
                                    "tag_id": "26858",
                                    "tag_name": "science-mathematics"
                                },
                                {
                                    "authors": "Richard Feynman",
                                    "title": "QED: The Strange Theory of Light and Matter",
                                    "average_rating": "4.23",
                                    "tag_id": "19449",
                                    "tag_name": "math-physics"
                                },
                                {
                                    "authors": "Richard Feynman",
                                    "title": "QED: The Strange Theory of Light and Matter",
                                    "average_rating": "4.23",
                                    "tag_id": "26859",
                                    "tag_name": "science-maths"
                                },
                                {
                                    "authors": "Richard Feynman",
                                    "title": "QED: The Strange Theory of Light and Matter",
                                    "average_rating": "4.23",
                                    "tag_id": "23576",
                                    "tag_name": "physics-mathematics"
                                },
                                {
                                    "authors": "Kevin Henkes",
                                    "title": "Wemberly Worried",
                                    "average_rating": "4.22",
                                    "tag_id": "19445",
                                    "tag_name": "math"
                                },
                                {
                                    "authors": "Norton Juster, Jules Feiffer",
                                    "title": "The Phantom Tollbooth",
                                    "average_rating": "4.22",
                                    "tag_id": "19445",
                                    "tag_name": "math"
                                },
                                {
                                    "authors": "Simon Singh",
                                    "title": "Fermat's Enigma: The Epic Quest to Solve the World's Greatest Mathematical Problem",
                                    "average_rating": "4.22",
                                    "tag_id": "19452",
                                    "tag_name": "mathematics"
                                },
                                {
                                    "authors": "Simon Singh",
                                    "title": "Fermat's Enigma: The Epic Quest to Solve the World's Greatest Mathematical Problem",
                                    "average_rating": "4.22",
                                    "tag_id": "19445",
                                    "tag_name": "math"
                                },
                                {
                                    "authors": "Simon Singh",
                                    "title": "Fermat's Enigma: The Epic Quest to Solve the World's Greatest Mathematical Problem",
                                    "average_rating": "4.22",
                                    "tag_id": "19456",
                                    "tag_name": "maths"
                                },
                                {
                                    "authors": "Simon Singh",
                                    "title": "Fermat's Enigma: The Epic Quest to Solve the World's Greatest Mathematical Problem",
                                    "average_rating": "4.22",
                                    "tag_id": "19450",
                                    "tag_name": "math-science"
                                },
                                {
                                    "authors": "Simon Singh",
                                    "title": "Fermat's Enigma: The Epic Quest to Solve the World's Greatest Mathematical Problem",
                                    "average_rating": "4.22",
                                    "tag_id": "26857",
                                    "tag_name": "science-math"
                                },
                                {
                                    "authors": "Simon Singh",
                                    "title": "Fermat's Enigma: The Epic Quest to Solve the World's Greatest Mathematical Problem",
                                    "average_rating": "4.22",
                                    "tag_id": "19446",
                                    "tag_name": "math-and-science"
                                },
                                {
                                    "authors": "Simon Singh",
                                    "title": "Fermat's Enigma: The Epic Quest to Solve the World's Greatest Mathematical Problem",
                                    "average_rating": "4.22",
                                    "tag_id": "26819",
                                    "tag_name": "science-and-math"
                                },
                                {
                                    "authors": "Simon Singh",
                                    "title": "Fermat's Enigma: The Epic Quest to Solve the World's Greatest Mathematical Problem",
                                    "average_rating": "4.22",
                                    "tag_id": "26858",
                                    "tag_name": "science-mathematics"
                                },
                                {
                                    "authors": "Simon Singh",
                                    "title": "Fermat's Enigma: The Epic Quest to Solve the World's Greatest Mathematical Problem",
                                    "average_rating": "4.22",
                                    "tag_id": "19457",
                                    "tag_name": "maths-science"
                                },
                                {
                                    "authors": "Simon Singh",
                                    "title": "Fermat's Enigma: The Epic Quest to Solve the World's Greatest Mathematical Problem",
                                    "average_rating": "4.22",
                                    "tag_id": "26820",
                                    "tag_name": "science-and-maths"
                                },
                                {
                                    "authors": "Simon Singh",
                                    "title": "Fermat's Enigma: The Epic Quest to Solve the World's Greatest Mathematical Problem",
                                    "average_rating": "4.22",
                                    "tag_id": "19449",
                                    "tag_name": "math-physics"
                                },
                                {
                                    "authors": "Simon Singh",
                                    "title": "Fermat's Enigma: The Epic Quest to Solve the World's Greatest Mathematical Problem",
                                    "average_rating": "4.22",
                                    "tag_id": "19448",
                                    "tag_name": "math-history"
                                },
                                {
                                    "authors": "Matthew Reilly",
                                    "title": "Scarecrow (Shane Schofield, #3)",
                                    "average_rating": "4.21",
                                    "tag_id": "19454",
                                    "tag_name": "mathew-reilly"
                                },
                                {
                                    "authors": "Vera B. Williams",
                                    "title": "A Chair for My Mother",
                                    "average_rating": "4.2",
                                    "tag_id": "19445",
                                    "tag_name": "math"
                                },
                                {
                                    "authors": "Vera B. Williams",
                                    "title": "A Chair for My Mother",
                                    "average_rating": "4.2",
                                    "tag_id": "19452",
                                    "tag_name": "mathematics"
                                },
                                {
                                    "authors": "Richard Feynman",
                                    "title": "Six Easy Pieces: Essentials of Physics By Its Most Brilliant Teacher",
                                    "average_rating": "4.19",
                                    "tag_id": "26857",
                                    "tag_name": "science-math"
                                },
                                {
                                    "authors": "Richard Feynman",
                                    "title": "Six Easy Pieces: Essentials of Physics By Its Most Brilliant Teacher",
                                    "average_rating": "4.19",
                                    "tag_id": "26819",
                                    "tag_name": "science-and-math"
                                },
                                {
                                    "authors": "Richard Feynman",
                                    "title": "Six Easy Pieces: Essentials of Physics By Its Most Brilliant Teacher",
                                    "average_rating": "4.19",
                                    "tag_id": "19450",
                                    "tag_name": "math-science"
                                },
                                {
                                    "authors": "Richard Feynman",
                                    "title": "Six Easy Pieces: Essentials of Physics By Its Most Brilliant Teacher",
                                    "average_rating": "4.19",
                                    "tag_id": "19452",
                                    "tag_name": "mathematics"
                                },
                                {
                                    "authors": "Richard Feynman",
                                    "title": "Six Easy Pieces: Essentials of Physics By Its Most Brilliant Teacher",
                                    "average_rating": "4.19",
                                    "tag_id": "19445",
                                    "tag_name": "math"
                                },
                                {
                                    "authors": "Richard Feynman",
                                    "title": "Six Easy Pieces: Essentials of Physics By Its Most Brilliant Teacher",
                                    "average_rating": "4.19",
                                    "tag_id": "23576",
                                    "tag_name": "physics-mathematics"
                                },
                                {
                                    "authors": "Richard Feynman",
                                    "title": "Six Easy Pieces: Essentials of Physics By Its Most Brilliant Teacher",
                                    "average_rating": "4.19",
                                    "tag_id": "19446",
                                    "tag_name": "math-and-science"
                                },
                                {
                                    "authors": "Richard Feynman",
                                    "title": "Six Easy Pieces: Essentials of Physics By Its Most Brilliant Teacher",
                                    "average_rating": "4.19",
                                    "tag_id": "23575",
                                    "tag_name": "physics-math"
                                },
                                {
                                    "authors": "Tom Stoppard",
                                    "title": "Arcadia",
                                    "average_rating": "4.19",
                                    "tag_id": "19452",
                                    "tag_name": "mathematics"
                                },
                                {
                                    "authors": "Tom Stoppard",
                                    "title": "Arcadia",
                                    "average_rating": "4.19",
                                    "tag_id": "19445",
                                    "tag_name": "math"
                                },
                                {
                                    "authors": "Stephen Hawking, Leonard Mlodinow",
                                    "title": "A Briefer History of Time",
                                    "average_rating": "4.19",
                                    "tag_id": "19452",
                                    "tag_name": "mathematics"
                                },
                                {
                                    "authors": "Stephen Hawking, Leonard Mlodinow",
                                    "title": "A Briefer History of Time",
                                    "average_rating": "4.19",
                                    "tag_id": "26857",
                                    "tag_name": "science-math"
                                },
                                {
                                    "authors": "Stephen Hawking, Leonard Mlodinow",
                                    "title": "A Briefer History of Time",
                                    "average_rating": "4.19",
                                    "tag_id": "19450",
                                    "tag_name": "math-science"
                                },
                                {
                                    "authors": "Neal Stephenson",
                                    "title": "Anathem",
                                    "average_rating": "4.18",
                                    "tag_id": "19452",
                                    "tag_name": "mathematics"
                                },
                                {
                                    "authors": "Neal Stephenson",
                                    "title": "Anathem",
                                    "average_rating": "4.18",
                                    "tag_id": "19445",
                                    "tag_name": "math"
                                },
                                {
                                    "authors": "Randall Munroe",
                                    "title": "What If?: Serious Scientific Answers to Absurd Hypothetical Questions",
                                    "average_rating": "4.17",
                                    "tag_id": "19445",
                                    "tag_name": "math"
                                },
                                {
                                    "authors": "Randall Munroe",
                                    "title": "What If?: Serious Scientific Answers to Absurd Hypothetical Questions",
                                    "average_rating": "4.17",
                                    "tag_id": "19452",
                                    "tag_name": "mathematics"
                                },
                                {
                                    "authors": "Randall Munroe",
                                    "title": "What If?: Serious Scientific Answers to Absurd Hypothetical Questions",
                                    "average_rating": "4.17",
                                    "tag_id": "26857",
                                    "tag_name": "science-math"
                                },
                                {
                                    "authors": "Michio Kaku",
                                    "title": "Parallel Worlds: A Journey Through Creation, Higher Dimensions, and the Future of the Cosmos",
                                    "average_rating": "4.17",
                                    "tag_id": "26857",
                                    "tag_name": "science-math"
                                },
                                {
                                    "authors": "Michio Kaku",
                                    "title": "Parallel Worlds: A Journey Through Creation, Higher Dimensions, and the Future of the Cosmos",
                                    "average_rating": "4.17",
                                    "tag_id": "19450",
                                    "tag_name": "math-science"
                                },
                                {
                                    "authors": "Michio Kaku",
                                    "title": "Parallel Worlds: A Journey Through Creation, Higher Dimensions, and the Future of the Cosmos",
                                    "average_rating": "4.17",
                                    "tag_id": "19452",
                                    "tag_name": "mathematics"
                                },
                                {
                                    "authors": "Michio Kaku",
                                    "title": "Parallel Worlds: A Journey Through Creation, Higher Dimensions, and the Future of the Cosmos",
                                    "average_rating": "4.17",
                                    "tag_id": "26858",
                                    "tag_name": "science-mathematics"
                                },
                                {
                                    "authors": "Albert Einstein, Nigel Calder, Robert W. Lawson",
                                    "title": "Relativity: The Special and the General Theory",
                                    "average_rating": "4.17",
                                    "tag_id": "19452",
                                    "tag_name": "mathematics"
                                },
                                {
                                    "authors": "Albert Einstein, Nigel Calder, Robert W. Lawson",
                                    "title": "Relativity: The Special and the General Theory",
                                    "average_rating": "4.17",
                                    "tag_id": "19445",
                                    "tag_name": "math"
                                },
                                {
                                    "authors": "Albert Einstein, Nigel Calder, Robert W. Lawson",
                                    "title": "Relativity: The Special and the General Theory",
                                    "average_rating": "4.17",
                                    "tag_id": "26819",
                                    "tag_name": "science-and-math"
                                },
                                {
                                    "authors": "Albert Einstein, Nigel Calder, Robert W. Lawson",
                                    "title": "Relativity: The Special and the General Theory",
                                    "average_rating": "4.17",
                                    "tag_id": "26857",
                                    "tag_name": "science-math"
                                },
                                {
                                    "authors": "Albert Einstein, Nigel Calder, Robert W. Lawson",
                                    "title": "Relativity: The Special and the General Theory",
                                    "average_rating": "4.17",
                                    "tag_id": "19450",
                                    "tag_name": "math-science"
                                },
                                {
                                    "authors": "Albert Einstein, Nigel Calder, Robert W. Lawson",
                                    "title": "Relativity: The Special and the General Theory",
                                    "average_rating": "4.17",
                                    "tag_id": "19446",
                                    "tag_name": "math-and-science"
                                },
                                {
                                    "authors": "Albert Einstein, Nigel Calder, Robert W. Lawson",
                                    "title": "Relativity: The Special and the General Theory",
                                    "average_rating": "4.17",
                                    "tag_id": "26858",
                                    "tag_name": "science-mathematics"
                                },
                                {
                                    "authors": "Albert Einstein, Nigel Calder, Robert W. Lawson",
                                    "title": "Relativity: The Special and the General Theory",
                                    "average_rating": "4.17",
                                    "tag_id": "23957",
                                    "tag_name": "polymath"
                                },
                                {
                                    "authors": "Carl Sagan",
                                    "title": "Dragons of Eden: Speculations on the Evolution of Human Intelligence",
                                    "average_rating": "4.16",
                                    "tag_id": "26857",
                                    "tag_name": "science-math"
                                },
                                {
                                    "authors": "Carl Sagan",
                                    "title": "Dragons of Eden: Speculations on the Evolution of Human Intelligence",
                                    "average_rating": "4.16",
                                    "tag_id": "26858",
                                    "tag_name": "science-mathematics"
                                },
                                {
                                    "authors": "R.L. Mathewson",
                                    "title": "Perfection (Neighbor from Hell, #2)",
                                    "average_rating": "4.16",
                                    "tag_id": "24795",
                                    "tag_name": "r-l-mathewson"
                                },
                                {
                                    "authors": "R.L. Mathewson",
                                    "title": "Perfection (Neighbor from Hell, #2)",
                                    "average_rating": "4.16",
                                    "tag_id": "25976",
                                    "tag_name": "rl-mathewson"
                                },
                                {
                                    "authors": "Matthew Reilly",
                                    "title": "The Six Sacred Stones (Jack West Jr, #2)",
                                    "average_rating": "4.16",
                                    "tag_id": "19454",
                                    "tag_name": "mathew-reilly"
                                },
                                {
                                    "authors": "James Gleick",
                                    "title": "Genius: The Life and Science of Richard Feynman",
                                    "average_rating": "4.16",
                                    "tag_id": "19452",
                                    "tag_name": "mathematics"
                                },
                                {
                                    "authors": "James Gleick",
                                    "title": "Genius: The Life and Science of Richard Feynman",
                                    "average_rating": "4.16",
                                    "tag_id": "26857",
                                    "tag_name": "science-math"
                                },
                                {
                                    "authors": "James Gleick",
                                    "title": "Genius: The Life and Science of Richard Feynman",
                                    "average_rating": "4.16",
                                    "tag_id": "19445",
                                    "tag_name": "math"
                                },
                                {
                                    "authors": "James Gleick",
                                    "title": "Genius: The Life and Science of Richard Feynman",
                                    "average_rating": "4.16",
                                    "tag_id": "26819",
                                    "tag_name": "science-and-math"
                                },
                                {
                                    "authors": "James Gleick",
                                    "title": "Genius: The Life and Science of Richard Feynman",
                                    "average_rating": "4.16",
                                    "tag_id": "19450",
                                    "tag_name": "math-science"
                                },
                                {
                                    "authors": "James Gleick",
                                    "title": "Genius: The Life and Science of Richard Feynman",
                                    "average_rating": "4.16",
                                    "tag_id": "26858",
                                    "tag_name": "science-mathematics"
                                },
                                {
                                    "authors": "Jerry A. Coyne",
                                    "title": "Why Evolution Is True",
                                    "average_rating": "4.15",
                                    "tag_id": "26819",
                                    "tag_name": "science-and-math"
                                },
                                {
                                    "authors": "R.L. Mathewson",
                                    "title": "Checkmate (Neighbor from Hell, #3)",
                                    "average_rating": "4.15",
                                    "tag_id": "24795",
                                    "tag_name": "r-l-mathewson"
                                },
                                {
                                    "authors": "R.L. Mathewson",
                                    "title": "Checkmate (Neighbor from Hell, #3)",
                                    "average_rating": "4.15",
                                    "tag_id": "25976",
                                    "tag_name": "rl-mathewson"
                                },
                                {
                                    "authors": "Bruno Ernst, M.C. Escher, John E. Brigham",
                                    "title": "The Magic Mirror of M.C. Escher",
                                    "average_rating": "4.15",
                                    "tag_id": "19452",
                                    "tag_name": "mathematics"
                                },
                                {
                                    "authors": "Bruno Ernst, M.C. Escher, John E. Brigham",
                                    "title": "The Magic Mirror of M.C. Escher",
                                    "average_rating": "4.15",
                                    "tag_id": "19445",
                                    "tag_name": "math"
                                },
                                {
                                    "authors": "Ellen Stoll Walsh",
                                    "title": "Mouse Paint",
                                    "average_rating": "4.15",
                                    "tag_id": "19445",
                                    "tag_name": "math"
                                },
                                {
                                    "authors": "Simon Singh",
                                    "title": "Big Bang: The Origin of the Universe",
                                    "average_rating": "4.14",
                                    "tag_id": "19452",
                                    "tag_name": "mathematics"
                                },
                                {
                                    "authors": "Simon Singh",
                                    "title": "Big Bang: The Origin of the Universe",
                                    "average_rating": "4.14",
                                    "tag_id": "26857",
                                    "tag_name": "science-math"
                                },
                                {
                                    "authors": "Simon Singh",
                                    "title": "Big Bang: The Origin of the Universe",
                                    "average_rating": "4.14",
                                    "tag_id": "19450",
                                    "tag_name": "math-science"
                                },
                                {
                                    "authors": "Simon Singh",
                                    "title": "Big Bang: The Origin of the Universe",
                                    "average_rating": "4.14",
                                    "tag_id": "19446",
                                    "tag_name": "math-and-science"
                                },
                                {
                                    "authors": "Simon Singh",
                                    "title": "Big Bang: The Origin of the Universe",
                                    "average_rating": "4.14",
                                    "tag_id": "19456",
                                    "tag_name": "maths"
                                },
                                {
                                    "authors": "Simon Singh",
                                    "title": "Big Bang: The Origin of the Universe",
                                    "average_rating": "4.14",
                                    "tag_id": "23575",
                                    "tag_name": "physics-math"
                                },
                                {
                                    "authors": "Simon Singh",
                                    "title": "Big Bang: The Origin of the Universe",
                                    "average_rating": "4.14",
                                    "tag_id": "26820",
                                    "tag_name": "science-and-maths"
                                },
                                {
                                    "authors": "Stephen Hawking",
                                    "title": "The Universe in a Nutshell",
                                    "average_rating": "4.13",
                                    "tag_id": "19452",
                                    "tag_name": "mathematics"
                                },
                                {
                                    "authors": "Stephen Hawking",
                                    "title": "The Universe in a Nutshell",
                                    "average_rating": "4.13",
                                    "tag_id": "26857",
                                    "tag_name": "science-math"
                                },
                                {
                                    "authors": "Stephen Hawking",
                                    "title": "The Universe in a Nutshell",
                                    "average_rating": "4.13",
                                    "tag_id": "26819",
                                    "tag_name": "science-and-math"
                                },
                                {
                                    "authors": "Stephen Hawking",
                                    "title": "The Universe in a Nutshell",
                                    "average_rating": "4.13",
                                    "tag_id": "19450",
                                    "tag_name": "math-science"
                                },
                                {
                                    "authors": "Richard Dawkins",
                                    "title": "The Ancestor's Tale: A Pilgrimage to the Dawn of Evolution",
                                    "average_rating": "4.13",
                                    "tag_id": "19452",
                                    "tag_name": "mathematics"
                                },
                                {
                                    "authors": "Richard Dawkins",
                                    "title": "The Ancestor's Tale: A Pilgrimage to the Dawn of Evolution",
                                    "average_rating": "4.13",
                                    "tag_id": "26858",
                                    "tag_name": "science-mathematics"
                                },
                                {
                                    "authors": "Esphyr Slobodkina",
                                    "title": "Caps for Sale: A Tale of a Peddler, Some Monkeys and Their Monkey Business",
                                    "average_rating": "4.12",
                                    "tag_id": "19445",
                                    "tag_name": "math"
                                },
                                {
                                    "authors": "Dr. Seuss",
                                    "title": "One Fish, Two Fish, Red Fish, Blue Fish",
                                    "average_rating": "4.12",
                                    "tag_id": "19445",
                                    "tag_name": "math"
                                },
                                {
                                    "authors": "Sylvia Nasar",
                                    "title": "A Beautiful Mind",
                                    "average_rating": "4.12",
                                    "tag_id": "19452",
                                    "tag_name": "mathematics"
                                },
                                {
                                    "authors": "Sylvia Nasar",
                                    "title": "A Beautiful Mind",
                                    "average_rating": "4.12",
                                    "tag_id": "19445",
                                    "tag_name": "math"
                                },
                                {
                                    "authors": "Sylvia Nasar",
                                    "title": "A Beautiful Mind",
                                    "average_rating": "4.12",
                                    "tag_id": "19456",
                                    "tag_name": "maths"
                                },
                                {
                                    "authors": "Stephen Hawking, Cao Chi, Phạm Văn Thiều",
                                    "title": "A Brief History of Time",
                                    "average_rating": "4.12",
                                    "tag_id": "26857",
                                    "tag_name": "science-math"
                                },
                                {
                                    "authors": "Stephen Hawking, Cao Chi, Phạm Văn Thiều",
                                    "title": "A Brief History of Time",
                                    "average_rating": "4.12",
                                    "tag_id": "19450",
                                    "tag_name": "math-science"
                                },
                                {
                                    "authors": "Stephen Hawking, Cao Chi, Phạm Văn Thiều",
                                    "title": "A Brief History of Time",
                                    "average_rating": "4.12",
                                    "tag_id": "19452",
                                    "tag_name": "mathematics"
                                },
                                {
                                    "authors": "Stephen Hawking, Cao Chi, Phạm Văn Thiều",
                                    "title": "A Brief History of Time",
                                    "average_rating": "4.12",
                                    "tag_id": "26819",
                                    "tag_name": "science-and-math"
                                },
                                {
                                    "authors": "Daniel J. Boorstin",
                                    "title": "The Discoverers: A History of Man's Search to Know His World and Himself",
                                    "average_rating": "4.12",
                                    "tag_id": "26857",
                                    "tag_name": "science-math"
                                },
                                {
                                    "authors": "Daniel J. Boorstin",
                                    "title": "The Discoverers: A History of Man's Search to Know His World and Himself",
                                    "average_rating": "4.12",
                                    "tag_id": "19452",
                                    "tag_name": "mathematics"
                                },
                                {
                                    "authors": "Jean Lee Latham",
                                    "title": "Carry On, Mr. Bowditch",
                                    "average_rating": "4.11",
                                    "tag_id": "19445",
                                    "tag_name": "math"
                                },
                                {
                                    "authors": "Richard Dawkins",
                                    "title": "The Selfish Gene",
                                    "average_rating": "4.11",
                                    "tag_id": "19450",
                                    "tag_name": "math-science"
                                },
                                {
                                    "authors": "Michio Kaku",
                                    "title": "Hyperspace",
                                    "average_rating": "4.11",
                                    "tag_id": "19452",
                                    "tag_name": "mathematics"
                                },
                                {
                                    "authors": "Michio Kaku",
                                    "title": "Hyperspace",
                                    "average_rating": "4.11",
                                    "tag_id": "19450",
                                    "tag_name": "math-science"
                                },
                                {
                                    "authors": "Michio Kaku",
                                    "title": "Hyperspace",
                                    "average_rating": "4.11",
                                    "tag_id": "26819",
                                    "tag_name": "science-and-math"
                                },
                                {
                                    "authors": "Michio Kaku",
                                    "title": "Hyperspace",
                                    "average_rating": "4.11",
                                    "tag_id": "26857",
                                    "tag_name": "science-math"
                                },
                                {
                                    "authors": "Michio Kaku",
                                    "title": "Hyperspace",
                                    "average_rating": "4.11",
                                    "tag_id": "26858",
                                    "tag_name": "science-mathematics"
                                },
                                {
                                    "authors": "Michio Kaku",
                                    "title": "Hyperspace",
                                    "average_rating": "4.11",
                                    "tag_id": "19445",
                                    "tag_name": "math"
                                },
                                {
                                    "authors": "Michio Kaku",
                                    "title": "Hyperspace",
                                    "average_rating": "4.11",
                                    "tag_id": "19449",
                                    "tag_name": "math-physics"
                                },
                                {
                                    "authors": "Brian Greene",
                                    "title": "The Fabric of the Cosmos: Space, Time, and the Texture of Reality",
                                    "average_rating": "4.11",
                                    "tag_id": "26857",
                                    "tag_name": "science-math"
                                },
                                {
                                    "authors": "Brian Greene",
                                    "title": "The Fabric of the Cosmos: Space, Time, and the Texture of Reality",
                                    "average_rating": "4.11",
                                    "tag_id": "19450",
                                    "tag_name": "math-science"
                                },
                                {
                                    "authors": "Brian Greene",
                                    "title": "The Fabric of the Cosmos: Space, Time, and the Texture of Reality",
                                    "average_rating": "4.11",
                                    "tag_id": "26819",
                                    "tag_name": "science-and-math"
                                },
                                {
                                    "authors": "Brian Greene",
                                    "title": "The Fabric of the Cosmos: Space, Time, and the Texture of Reality",
                                    "average_rating": "4.11",
                                    "tag_id": "19452",
                                    "tag_name": "mathematics"
                                },
                                {
                                    "authors": "Brian Greene",
                                    "title": "The Fabric of the Cosmos: Space, Time, and the Texture of Reality",
                                    "average_rating": "4.11",
                                    "tag_id": "19446",
                                    "tag_name": "math-and-science"
                                },
                                {
                                    "authors": "Brian Greene",
                                    "title": "The Fabric of the Cosmos: Space, Time, and the Texture of Reality",
                                    "average_rating": "4.11",
                                    "tag_id": "26858",
                                    "tag_name": "science-mathematics"
                                },
                                {
                                    "authors": "Theo LeSieg, Roy McKie",
                                    "title": "Ten Apples Up On Top!",
                                    "average_rating": "4.11",
                                    "tag_id": "19445",
                                    "tag_name": "math"
                                },
                                {
                                    "authors": "Matthew Reilly",
                                    "title": "Ice Station (Shane Schofield, #1)",
                                    "average_rating": "4.1",
                                    "tag_id": "19454",
                                    "tag_name": "mathew-reilly"
                                },
                                {
                                    "authors": "Eric Carle",
                                    "title": "The Grouchy Ladybug",
                                    "average_rating": "4.09",
                                    "tag_id": "19445",
                                    "tag_name": "math"
                                },
                                {
                                    "authors": "Eric Carle",
                                    "title": "The Grouchy Ladybug",
                                    "average_rating": "4.09",
                                    "tag_id": "19447",
                                    "tag_name": "math-books"
                                },
                                {
                                    "authors": "Eric Carle",
                                    "title": "The Grouchy Ladybug",
                                    "average_rating": "4.09",
                                    "tag_id": "19452",
                                    "tag_name": "mathematics"
                                },
                                {
                                    "authors": "Stephen Hawking",
                                    "title": "Black Holes and Baby Universes",
                                    "average_rating": "4.09",
                                    "tag_id": "26857",
                                    "tag_name": "science-math"
                                },
                                {
                                    "authors": "Stephen Hawking",
                                    "title": "Black Holes and Baby Universes",
                                    "average_rating": "4.09",
                                    "tag_id": "26819",
                                    "tag_name": "science-and-math"
                                },
                                {
                                    "authors": "Stephen Hawking",
                                    "title": "Black Holes and Baby Universes",
                                    "average_rating": "4.09",
                                    "tag_id": "19452",
                                    "tag_name": "mathematics"
                                },
                                {
                                    "authors": "Stephen Hawking",
                                    "title": "Black Holes and Baby Universes",
                                    "average_rating": "4.09",
                                    "tag_id": "19450",
                                    "tag_name": "math-science"
                                },
                                {
                                    "authors": "Matthew Reilly",
                                    "title": "Area 7 (Shane Schofield, #2)",
                                    "average_rating": "4.08",
                                    "tag_id": "19454",
                                    "tag_name": "mathew-reilly"
                                },
                                {
                                    "authors": "Wanda Gág",
                                    "title": "Millions of Cats",
                                    "average_rating": "4.08",
                                    "tag_id": "19445",
                                    "tag_name": "math"
                                },
                                {
                                    "authors": "Richard Dawkins",
                                    "title": "The Blind Watchmaker: Why the Evidence of Evolution Reveals a Universe Without Design",
                                    "average_rating": "4.08",
                                    "tag_id": "19446",
                                    "tag_name": "math-and-science"
                                },
                                {
                                    "authors": "Matthew Reilly",
                                    "title": "Seven Deadly Wonders (Jack West Jr, #1)",
                                    "average_rating": "4.08",
                                    "tag_id": "19454",
                                    "tag_name": "mathew-reilly"
                                },
                                {
                                    "authors": "Walter Isaacson",
                                    "title": "Einstein: His Life and Universe",
                                    "average_rating": "4.08",
                                    "tag_id": "19452",
                                    "tag_name": "mathematics"
                                },
                                {
                                    "authors": "R.L. Mathewson",
                                    "title": "Playing for Keeps (Neighbor from Hell, #1)",
                                    "average_rating": "4.08",
                                    "tag_id": "24795",
                                    "tag_name": "r-l-mathewson"
                                },
                                {
                                    "authors": "R.L. Mathewson",
                                    "title": "Playing for Keeps (Neighbor from Hell, #1)",
                                    "average_rating": "4.08",
                                    "tag_id": "25976",
                                    "tag_name": "rl-mathewson"
                                },
                                {
                                    "authors": "Richard Matheson",
                                    "title": "I Am Legend",
                                    "average_rating": "4.07",
                                    "tag_id": "25893",
                                    "tag_name": "richard-matheson"
                                },
                                {
                                    "authors": "Matt Haig",
                                    "title": "The Humans",
                                    "average_rating": "4.07",
                                    "tag_id": "19452",
                                    "tag_name": "mathematics"
                                },
                                {
                                    "authors": "Michio Kaku",
                                    "title": "Physics of the Impossible: A Scientific Exploration into the World of Phasers, Force Fields, Teleportation, and Time Travel",
                                    "average_rating": "4.07",
                                    "tag_id": "19450",
                                    "tag_name": "math-science"
                                },
                                {
                                    "authors": "Michio Kaku",
                                    "title": "Physics of the Impossible: A Scientific Exploration into the World of Phasers, Force Fields, Teleportation, and Time Travel",
                                    "average_rating": "4.07",
                                    "tag_id": "26857",
                                    "tag_name": "science-math"
                                },
                                {
                                    "authors": "Steven Pinker",
                                    "title": "The Blank Slate: The Modern Denial of Human Nature",
                                    "average_rating": "4.07",
                                    "tag_id": "26857",
                                    "tag_name": "science-math"
                                },
                                {
                                    "authors": "Ludwig Wittgenstein",
                                    "title": "Tractatus Logico-Philosophicus",
                                    "average_rating": "4.06",
                                    "tag_id": "19452",
                                    "tag_name": "mathematics"
                                },
                                {
                                    "authors": "Ludwig Wittgenstein",
                                    "title": "Tractatus Logico-Philosophicus",
                                    "average_rating": "4.06",
                                    "tag_id": "19445",
                                    "tag_name": "math"
                                },
                                {
                                    "authors": "Burton G. Malkiel",
                                    "title": "A Random Walk Down Wall Street",
                                    "average_rating": "4.05",
                                    "tag_id": "19445",
                                    "tag_name": "math"
                                },
                                {
                                    "authors": "Brian Greene",
                                    "title": "The Hidden Reality: Parallel Universes and the Deep Laws of the Cosmos",
                                    "average_rating": "4.05",
                                    "tag_id": "19450",
                                    "tag_name": "math-science"
                                },
                                {
                                    "authors": "Brian Greene",
                                    "title": "The Hidden Reality: Parallel Universes and the Deep Laws of the Cosmos",
                                    "average_rating": "4.05",
                                    "tag_id": "26857",
                                    "tag_name": "science-math"
                                },
                                {
                                    "authors": "Brian Greene",
                                    "title": "The Hidden Reality: Parallel Universes and the Deep Laws of the Cosmos",
                                    "average_rating": "4.05",
                                    "tag_id": "19452",
                                    "tag_name": "mathematics"
                                },
                                {
                                    "authors": "Brian Greene",
                                    "title": "The Hidden Reality: Parallel Universes and the Deep Laws of the Cosmos",
                                    "average_rating": "4.05",
                                    "tag_id": "26819",
                                    "tag_name": "science-and-math"
                                },
                                {
                                    "authors": "Keigo Higashino, Alexander O. Smith",
                                    "title": "The Devotion of Suspect X",
                                    "average_rating": "4.05",
                                    "tag_id": "19452",
                                    "tag_name": "mathematics"
                                },
                                {
                                    "authors": "Nassim Nicholas Taleb",
                                    "title": "Fooled by Randomness: The Hidden Role of Chance in Life and in the Markets",
                                    "average_rating": "4.05",
                                    "tag_id": "19452",
                                    "tag_name": "mathematics"
                                },
                                {
                                    "authors": "Nassim Nicholas Taleb",
                                    "title": "Fooled by Randomness: The Hidden Role of Chance in Life and in the Markets",
                                    "average_rating": "4.05",
                                    "tag_id": "19445",
                                    "tag_name": "math"
                                },
                                {
                                    "authors": "Nassim Nicholas Taleb",
                                    "title": "Fooled by Randomness: The Hidden Role of Chance in Life and in the Markets",
                                    "average_rating": "4.05",
                                    "tag_id": "19456",
                                    "tag_name": "maths"
                                },
                                {
                                    "authors": "Richard Dawkins, Dave McKean",
                                    "title": "The Magic of Reality: How We Know What's Really True",
                                    "average_rating": "4.04",
                                    "tag_id": "26857",
                                    "tag_name": "science-math"
                                },
                                {
                                    "authors": "Jared Diamond",
                                    "title": "The Third Chimpanzee: The Evolution and Future of the Human Animal",
                                    "average_rating": "4.04",
                                    "tag_id": "26858",
                                    "tag_name": "science-mathematics"
                                },
                                {
                                    "authors": "Nassim Nicholas Taleb",
                                    "title": "Antifragile: Things That Gain from Disorder",
                                    "average_rating": "4.04",
                                    "tag_id": "19452",
                                    "tag_name": "mathematics"
                                },
                                {
                                    "authors": "Nassim Nicholas Taleb",
                                    "title": "Antifragile: Things That Gain from Disorder",
                                    "average_rating": "4.04",
                                    "tag_id": "19445",
                                    "tag_name": "math"
                                },
                                {
                                    "authors": "Matthew Reilly",
                                    "title": "Temple",
                                    "average_rating": "4.04",
                                    "tag_id": "19454",
                                    "tag_name": "mathew-reilly"
                                },
                                {
                                    "authors": "Matt Ridley",
                                    "title": "The Red Queen: Sex and the Evolution of Human Nature",
                                    "average_rating": "4.02",
                                    "tag_id": "26819",
                                    "tag_name": "science-and-math"
                                },
                                {
                                    "authors": "Gary Zukav",
                                    "title": "Dancing Wu Li Masters: An Overview of the New Physics (Perennial Classics)",
                                    "average_rating": "4.02",
                                    "tag_id": "26857",
                                    "tag_name": "science-math"
                                },
                                {
                                    "authors": "Gary Zukav",
                                    "title": "Dancing Wu Li Masters: An Overview of the New Physics (Perennial Classics)",
                                    "average_rating": "4.02",
                                    "tag_id": "19450",
                                    "tag_name": "math-science"
                                },
                                {
                                    "authors": "Gary Zukav",
                                    "title": "Dancing Wu Li Masters: An Overview of the New Physics (Perennial Classics)",
                                    "average_rating": "4.02",
                                    "tag_id": "26858",
                                    "tag_name": "science-mathematics"
                                },
                                {
                                    "authors": "Matt Ridley",
                                    "title": "Genome: the Autobiography of a Species in 23 Chapters",
                                    "average_rating": "4.02",
                                    "tag_id": "26857",
                                    "tag_name": "science-math"
                                },
                                {
                                    "authors": "Matt Ridley",
                                    "title": "Genome: the Autobiography of a Species in 23 Chapters",
                                    "average_rating": "4.02",
                                    "tag_id": "26819",
                                    "tag_name": "science-and-math"
                                },
                                {
                                    "authors": "Matt Ridley",
                                    "title": "Genome: the Autobiography of a Species in 23 Chapters",
                                    "average_rating": "4.02",
                                    "tag_id": "19450",
                                    "tag_name": "math-science"
                                },
                                {
                                    "authors": "Apostolos Doxiadis, Christos H. Papadimitriou, Alecos Papadatos, Annie Di Donna",
                                    "title": "Logicomix: An epic search for truth",
                                    "average_rating": "4.01",
                                    "tag_id": "19452",
                                    "tag_name": "mathematics"
                                },
                                {
                                    "authors": "Apostolos Doxiadis, Christos H. Papadimitriou, Alecos Papadatos, Annie Di Donna",
                                    "title": "Logicomix: An epic search for truth",
                                    "average_rating": "4.01",
                                    "tag_id": "19445",
                                    "tag_name": "math"
                                },
                                {
                                    "authors": "Apostolos Doxiadis, Christos H. Papadimitriou, Alecos Papadatos, Annie Di Donna",
                                    "title": "Logicomix: An epic search for truth",
                                    "average_rating": "4.01",
                                    "tag_id": "19456",
                                    "tag_name": "maths"
                                },
                                {
                                    "authors": "Apostolos Doxiadis, Christos H. Papadimitriou, Alecos Papadatos, Annie Di Donna",
                                    "title": "Logicomix: An epic search for truth",
                                    "average_rating": "4.01",
                                    "tag_id": "19446",
                                    "tag_name": "math-and-science"
                                },
                                {
                                    "authors": "Apostolos Doxiadis, Christos H. Papadimitriou, Alecos Papadatos, Annie Di Donna",
                                    "title": "Logicomix: An epic search for truth",
                                    "average_rating": "4.01",
                                    "tag_id": "19450",
                                    "tag_name": "math-science"
                                },
                                {
                                    "authors": "Apostolos Doxiadis, Christos H. Papadimitriou, Alecos Papadatos, Annie Di Donna",
                                    "title": "Logicomix: An epic search for truth",
                                    "average_rating": "4.01",
                                    "tag_id": "26857",
                                    "tag_name": "science-math"
                                },
                                {
                                    "authors": "Apostolos Doxiadis, Christos H. Papadimitriou, Alecos Papadatos, Annie Di Donna",
                                    "title": "Logicomix: An epic search for truth",
                                    "average_rating": "4.01",
                                    "tag_id": "26819",
                                    "tag_name": "science-and-math"
                                },
                                {
                                    "authors": "David Auburn",
                                    "title": "Proof",
                                    "average_rating": "4.01",
                                    "tag_id": "19452",
                                    "tag_name": "mathematics"
                                },
                                {
                                    "authors": "David Auburn",
                                    "title": "Proof",
                                    "average_rating": "4.01",
                                    "tag_id": "19445",
                                    "tag_name": "math"
                                },
                                {
                                    "authors": "David Auburn",
                                    "title": "Proof",
                                    "average_rating": "4.01",
                                    "tag_id": "19450",
                                    "tag_name": "math-science"
                                },
                                {
                                    "authors": "John Gribbin",
                                    "title": "In Search of Schrödinger's Cat: Quantum Physics and Reality",
                                    "average_rating": "4",
                                    "tag_id": "26819",
                                    "tag_name": "science-and-math"
                                },
                                {
                                    "authors": "John Gribbin",
                                    "title": "In Search of Schrödinger's Cat: Quantum Physics and Reality",
                                    "average_rating": "4",
                                    "tag_id": "26857",
                                    "tag_name": "science-math"
                                },
                                {
                                    "authors": "John Gribbin",
                                    "title": "In Search of Schrödinger's Cat: Quantum Physics and Reality",
                                    "average_rating": "4",
                                    "tag_id": "19446",
                                    "tag_name": "math-and-science"
                                },
                                {
                                    "authors": "John Gribbin",
                                    "title": "In Search of Schrödinger's Cat: Quantum Physics and Reality",
                                    "average_rating": "4",
                                    "tag_id": "19452",
                                    "tag_name": "mathematics"
                                },
                                {
                                    "authors": "John Gribbin",
                                    "title": "In Search of Schrödinger's Cat: Quantum Physics and Reality",
                                    "average_rating": "4",
                                    "tag_id": "19450",
                                    "tag_name": "math-science"
                                },
                                {
                                    "authors": "John Gribbin",
                                    "title": "In Search of Schrödinger's Cat: Quantum Physics and Reality",
                                    "average_rating": "4",
                                    "tag_id": "26820",
                                    "tag_name": "science-and-maths"
                                },
                                {
                                    "authors": "Stephen Hawking, Leonard Mlodinow",
                                    "title": "The Grand Design",
                                    "average_rating": "4",
                                    "tag_id": "19452",
                                    "tag_name": "mathematics"
                                },
                                {
                                    "authors": "Stephen Hawking, Leonard Mlodinow",
                                    "title": "The Grand Design",
                                    "average_rating": "4",
                                    "tag_id": "19450",
                                    "tag_name": "math-science"
                                },
                                {
                                    "authors": "Stephen Hawking, Leonard Mlodinow",
                                    "title": "The Grand Design",
                                    "average_rating": "4",
                                    "tag_id": "26857",
                                    "tag_name": "science-math"
                                },
                                {
                                    "authors": "Richard Matheson",
                                    "title": "I Am Legend and Other Stories",
                                    "average_rating": "3.99",
                                    "tag_id": "25893",
                                    "tag_name": "richard-matheson"
                                },
                                {
                                    "authors": "James Gleick",
                                    "title": "Chaos: Making a New Science",
                                    "average_rating": "3.98",
                                    "tag_id": "19452",
                                    "tag_name": "mathematics"
                                },
                                {
                                    "authors": "James Gleick",
                                    "title": "Chaos: Making a New Science",
                                    "average_rating": "3.98",
                                    "tag_id": "19445",
                                    "tag_name": "math"
                                },
                                {
                                    "authors": "James Gleick",
                                    "title": "Chaos: Making a New Science",
                                    "average_rating": "3.98",
                                    "tag_id": "19456",
                                    "tag_name": "maths"
                                },
                                {
                                    "authors": "James Gleick",
                                    "title": "Chaos: Making a New Science",
                                    "average_rating": "3.98",
                                    "tag_id": "19446",
                                    "tag_name": "math-and-science"
                                },
                                {
                                    "authors": "James Gleick",
                                    "title": "Chaos: Making a New Science",
                                    "average_rating": "3.98",
                                    "tag_id": "19450",
                                    "tag_name": "math-science"
                                },
                                {
                                    "authors": "James Gleick",
                                    "title": "Chaos: Making a New Science",
                                    "average_rating": "3.98",
                                    "tag_id": "26857",
                                    "tag_name": "science-math"
                                },
                                {
                                    "authors": "James Gleick",
                                    "title": "Chaos: Making a New Science",
                                    "average_rating": "3.98",
                                    "tag_id": "26819",
                                    "tag_name": "science-and-math"
                                },
                                {
                                    "authors": "James Gleick",
                                    "title": "Chaos: Making a New Science",
                                    "average_rating": "3.98",
                                    "tag_id": "26858",
                                    "tag_name": "science-mathematics"
                                },
                                {
                                    "authors": "Thomas S. Kuhn",
                                    "title": "The Structure of Scientific Revolutions",
                                    "average_rating": "3.98",
                                    "tag_id": "26857",
                                    "tag_name": "science-math"
                                },
                                {
                                    "authors": "Thomas S. Kuhn",
                                    "title": "The Structure of Scientific Revolutions",
                                    "average_rating": "3.98",
                                    "tag_id": "19450",
                                    "tag_name": "math-science"
                                },
                                {
                                    "authors": "Thomas S. Kuhn",
                                    "title": "The Structure of Scientific Revolutions",
                                    "average_rating": "3.98",
                                    "tag_id": "26858",
                                    "tag_name": "science-mathematics"
                                },
                                {
                                    "authors": "Michio Kaku",
                                    "title": "Physics of the Future: How Science Will Shape Human Destiny and Our Daily Lives by the Year 2100",
                                    "average_rating": "3.98",
                                    "tag_id": "19450",
                                    "tag_name": "math-science"
                                },
                                {
                                    "authors": "James Gleick",
                                    "title": "The Information: A History, a Theory, a Flood",
                                    "average_rating": "3.98",
                                    "tag_id": "19452",
                                    "tag_name": "mathematics"
                                },
                                {
                                    "authors": "James Gleick",
                                    "title": "The Information: A History, a Theory, a Flood",
                                    "average_rating": "3.98",
                                    "tag_id": "19445",
                                    "tag_name": "math"
                                },
                                {
                                    "authors": "James Gleick",
                                    "title": "The Information: A History, a Theory, a Flood",
                                    "average_rating": "3.98",
                                    "tag_id": "19456",
                                    "tag_name": "maths"
                                },
                                {
                                    "authors": "James Gleick",
                                    "title": "The Information: A History, a Theory, a Flood",
                                    "average_rating": "3.98",
                                    "tag_id": "26857",
                                    "tag_name": "science-math"
                                },
                                {
                                    "authors": "James Gleick",
                                    "title": "The Information: A History, a Theory, a Flood",
                                    "average_rating": "3.98",
                                    "tag_id": "19450",
                                    "tag_name": "math-science"
                                },
                                {
                                    "authors": "Fritjof Capra",
                                    "title": "The Tao of Physics: An Exploration of the Parallels between Modern Physics and Eastern Mysticism",
                                    "average_rating": "3.96",
                                    "tag_id": "26857",
                                    "tag_name": "science-math"
                                },
                                {
                                    "authors": "Fritjof Capra",
                                    "title": "The Tao of Physics: An Exploration of the Parallels between Modern Physics and Eastern Mysticism",
                                    "average_rating": "3.96",
                                    "tag_id": "19445",
                                    "tag_name": "math"
                                },
                                {
                                    "authors": "Fritjof Capra",
                                    "title": "The Tao of Physics: An Exploration of the Parallels between Modern Physics and Eastern Mysticism",
                                    "average_rating": "3.96",
                                    "tag_id": "26819",
                                    "tag_name": "science-and-math"
                                },
                                {
                                    "authors": "Nate Silver",
                                    "title": "The Signal and the Noise: Why So Many Predictions Fail - But Some Don't",
                                    "average_rating": "3.96",
                                    "tag_id": "19445",
                                    "tag_name": "math"
                                },
                                {
                                    "authors": "Nate Silver",
                                    "title": "The Signal and the Noise: Why So Many Predictions Fail - But Some Don't",
                                    "average_rating": "3.96",
                                    "tag_id": "19452",
                                    "tag_name": "mathematics"
                                },
                                {
                                    "authors": "Nate Silver",
                                    "title": "The Signal and the Noise: Why So Many Predictions Fail - But Some Don't",
                                    "average_rating": "3.96",
                                    "tag_id": "19456",
                                    "tag_name": "maths"
                                },
                                {
                                    "authors": "Nate Silver",
                                    "title": "The Signal and the Noise: Why So Many Predictions Fail - But Some Don't",
                                    "average_rating": "3.96",
                                    "tag_id": "19450",
                                    "tag_name": "math-science"
                                },
                                {
                                    "authors": "Nate Silver",
                                    "title": "The Signal and the Noise: Why So Many Predictions Fail - But Some Don't",
                                    "average_rating": "3.96",
                                    "tag_id": "26857",
                                    "tag_name": "science-math"
                                },
                                {
                                    "authors": "Nate Silver",
                                    "title": "The Signal and the Noise: Why So Many Predictions Fail - But Some Don't",
                                    "average_rating": "3.96",
                                    "tag_id": "26819",
                                    "tag_name": "science-and-math"
                                },
                                {
                                    "authors": "Dava Sobel, Neil Armstrong",
                                    "title": "Longitude: The True Story of a Lone Genius Who Solved the Greatest Scientific Problem of His Time",
                                    "average_rating": "3.95",
                                    "tag_id": "19452",
                                    "tag_name": "mathematics"
                                },
                                {
                                    "authors": "Dava Sobel, Neil Armstrong",
                                    "title": "Longitude: The True Story of a Lone Genius Who Solved the Greatest Scientific Problem of His Time",
                                    "average_rating": "3.95",
                                    "tag_id": "19445",
                                    "tag_name": "math"
                                },
                                {
                                    "authors": "Dava Sobel, Neil Armstrong",
                                    "title": "Longitude: The True Story of a Lone Genius Who Solved the Greatest Scientific Problem of His Time",
                                    "average_rating": "3.95",
                                    "tag_id": "26819",
                                    "tag_name": "science-and-math"
                                },
                                {
                                    "authors": "Dava Sobel, Neil Armstrong",
                                    "title": "Longitude: The True Story of a Lone Genius Who Solved the Greatest Scientific Problem of His Time",
                                    "average_rating": "3.95",
                                    "tag_id": "19450",
                                    "tag_name": "math-science"
                                },
                                {
                                    "authors": "Matthew Reilly",
                                    "title": "Contest",
                                    "average_rating": "3.95",
                                    "tag_id": "19454",
                                    "tag_name": "mathew-reilly"
                                },
                                {
                                    "authors": "Yōko Ogawa, Stephen Snyder",
                                    "title": "The Housekeeper and the Professor",
                                    "average_rating": "3.94",
                                    "tag_id": "19452",
                                    "tag_name": "mathematics"
                                },
                                {
                                    "authors": "Yōko Ogawa, Stephen Snyder",
                                    "title": "The Housekeeper and the Professor",
                                    "average_rating": "3.94",
                                    "tag_id": "19445",
                                    "tag_name": "math"
                                },
                                {
                                    "authors": "Yōko Ogawa, Stephen Snyder",
                                    "title": "The Housekeeper and the Professor",
                                    "average_rating": "3.94",
                                    "tag_id": "19456",
                                    "tag_name": "maths"
                                },
                                {
                                    "authors": "Mary Roach",
                                    "title": "Packing for Mars: The Curious Science of Life in the Void",
                                    "average_rating": "3.93",
                                    "tag_id": "19452",
                                    "tag_name": "mathematics"
                                },
                                {
                                    "authors": "M.C. Escher, Bruce Brooks Pfeiffer",
                                    "title": "M.C. Escher: The Graphic Work",
                                    "average_rating": "3.93",
                                    "tag_id": "19445",
                                    "tag_name": "math"
                                },
                                {
                                    "authors": "Steven D. Levitt, Stephen J. Dubner",
                                    "title": "Freakonomics: A Rogue Economist Explores the Hidden Side of Everything (Freakonomics, #1)",
                                    "average_rating": "3.93",
                                    "tag_id": "19452",
                                    "tag_name": "mathematics"
                                },
                                {
                                    "authors": "Margot Lee Shetterly",
                                    "title": "Hidden Figures: The American Dream and the Untold Story of the Black Women Mathematicians Who Helped Win the Space Race",
                                    "average_rating": "3.92",
                                    "tag_id": "19452",
                                    "tag_name": "mathematics"
                                },
                                {
                                    "authors": "Margot Lee Shetterly",
                                    "title": "Hidden Figures: The American Dream and the Untold Story of the Black Women Mathematicians Who Helped Win the Space Race",
                                    "average_rating": "3.92",
                                    "tag_id": "19445",
                                    "tag_name": "math"
                                },
                                {
                                    "authors": "Lawrence M. Krauss, Richard Dawkins",
                                    "title": "A Universe from Nothing: Why There Is Something Rather Than Nothing",
                                    "average_rating": "3.92",
                                    "tag_id": "26857",
                                    "tag_name": "science-math"
                                },
                                {
                                    "authors": "Lawrence M. Krauss, Richard Dawkins",
                                    "title": "A Universe from Nothing: Why There Is Something Rather Than Nothing",
                                    "average_rating": "3.92",
                                    "tag_id": "19450",
                                    "tag_name": "math-science"
                                },
                                {
                                    "authors": "Lawrence M. Krauss, Richard Dawkins",
                                    "title": "A Universe from Nothing: Why There Is Something Rather Than Nothing",
                                    "average_rating": "3.92",
                                    "tag_id": "26819",
                                    "tag_name": "science-and-math"
                                },
                                {
                                    "authors": "Simon Kuper, Stefan Szymanski",
                                    "title": "Soccernomics: Why England Loses, Why Germany and Brazil Win, and Why the U.S., Japan, Australia, Turkey--and Even Iraq--Are Destined to Become the Kings of the World's Most Popular Sport",
                                    "average_rating": "3.91",
                                    "tag_id": "19452",
                                    "tag_name": "mathematics"
                                },
                                {
                                    "authors": "Tom Angleberger",
                                    "title": "The Strange Case of Origami Yoda (Origami Yoda, #1)",
                                    "average_rating": "3.9",
                                    "tag_id": "19452",
                                    "tag_name": "mathematics"
                                },
                                {
                                    "authors": "Sam Kean",
                                    "title": "The Disappearing Spoon: And Other True Tales of Madness, Love, and the History of the World from the Periodic Table of the Elements",
                                    "average_rating": "3.9",
                                    "tag_id": "26857",
                                    "tag_name": "science-math"
                                },
                                {
                                    "authors": "Nassim Nicholas Taleb",
                                    "title": "The Black Swan: The Impact of the Highly Improbable",
                                    "average_rating": "3.88",
                                    "tag_id": "19452",
                                    "tag_name": "mathematics"
                                },
                                {
                                    "authors": "Nassim Nicholas Taleb",
                                    "title": "The Black Swan: The Impact of the Highly Improbable",
                                    "average_rating": "3.88",
                                    "tag_id": "19445",
                                    "tag_name": "math"
                                },
                                {
                                    "authors": "Leonard Mlodinow",
                                    "title": "The Drunkard's Walk: How Randomness Rules Our Lives",
                                    "average_rating": "3.88",
                                    "tag_id": "19445",
                                    "tag_name": "math"
                                },
                                {
                                    "authors": "Leonard Mlodinow",
                                    "title": "The Drunkard's Walk: How Randomness Rules Our Lives",
                                    "average_rating": "3.88",
                                    "tag_id": "19452",
                                    "tag_name": "mathematics"
                                },
                                {
                                    "authors": "Leonard Mlodinow",
                                    "title": "The Drunkard's Walk: How Randomness Rules Our Lives",
                                    "average_rating": "3.88",
                                    "tag_id": "26857",
                                    "tag_name": "science-math"
                                },
                                {
                                    "authors": "Leonard Mlodinow",
                                    "title": "The Drunkard's Walk: How Randomness Rules Our Lives",
                                    "average_rating": "3.88",
                                    "tag_id": "19456",
                                    "tag_name": "maths"
                                },
                                {
                                    "authors": "Leonard Mlodinow",
                                    "title": "The Drunkard's Walk: How Randomness Rules Our Lives",
                                    "average_rating": "3.88",
                                    "tag_id": "19450",
                                    "tag_name": "math-science"
                                },
                                {
                                    "authors": "Leonard Mlodinow",
                                    "title": "The Drunkard's Walk: How Randomness Rules Our Lives",
                                    "average_rating": "3.88",
                                    "tag_id": "19446",
                                    "tag_name": "math-and-science"
                                },
                                {
                                    "authors": "Leonard Mlodinow",
                                    "title": "The Drunkard's Walk: How Randomness Rules Our Lives",
                                    "average_rating": "3.88",
                                    "tag_id": "26819",
                                    "tag_name": "science-and-math"
                                },
                                {
                                    "authors": "Jacqueline Davies",
                                    "title": "The Lemonade War (The Lemonade War, #1)",
                                    "average_rating": "3.88",
                                    "tag_id": "19445",
                                    "tag_name": "math"
                                },
                                {
                                    "authors": "James D. Watson",
                                    "title": "The Double Helix",
                                    "average_rating": "3.87",
                                    "tag_id": "26819",
                                    "tag_name": "science-and-math"
                                },
                                {
                                    "authors": "James D. Watson",
                                    "title": "The Double Helix",
                                    "average_rating": "3.87",
                                    "tag_id": "19450",
                                    "tag_name": "math-science"
                                },
                                {
                                    "authors": "James D. Watson",
                                    "title": "The Double Helix",
                                    "average_rating": "3.87",
                                    "tag_id": "26857",
                                    "tag_name": "science-math"
                                },
                                {
                                    "authors": "James D. Watson",
                                    "title": "The Double Helix",
                                    "average_rating": "3.87",
                                    "tag_id": "19446",
                                    "tag_name": "math-and-science"
                                },
                                {
                                    "authors": "Ben Mezrich",
                                    "title": "Bringing Down the House: The Inside Story of Six M.I.T. Students Who Took Vegas for Millions",
                                    "average_rating": "3.87",
                                    "tag_id": "19445",
                                    "tag_name": "math"
                                },
                                {
                                    "authors": "Ben Mezrich",
                                    "title": "Bringing Down the House: The Inside Story of Six M.I.T. Students Who Took Vegas for Millions",
                                    "average_rating": "3.87",
                                    "tag_id": "19452",
                                    "tag_name": "mathematics"
                                },
                                {
                                    "authors": "Daniel J. Levitin",
                                    "title": "This Is Your Brain on Music: The Science of a Human Obsession",
                                    "average_rating": "3.86",
                                    "tag_id": "26819",
                                    "tag_name": "science-and-math"
                                },
                                {
                                    "authors": "Simon Winchester",
                                    "title": "Krakatoa: The Day the World Exploded",
                                    "average_rating": "3.86",
                                    "tag_id": "26819",
                                    "tag_name": "science-and-math"
                                },
                                {
                                    "authors": "Daniel Tammet",
                                    "title": "Born on a Blue Day: Inside the Extraordinary Mind of an Autistic Savant",
                                    "average_rating": "3.84",
                                    "tag_id": "19445",
                                    "tag_name": "math"
                                },
                                {
                                    "authors": "Daniel Tammet",
                                    "title": "Born on a Blue Day: Inside the Extraordinary Mind of an Autistic Savant",
                                    "average_rating": "3.84",
                                    "tag_id": "19452",
                                    "tag_name": "mathematics"
                                },
                                {
                                    "authors": "Richard Matheson",
                                    "title": "Hell House",
                                    "average_rating": "3.81",
                                    "tag_id": "25893",
                                    "tag_name": "richard-matheson"
                                },
                                {
                                    "authors": "Richard Matheson",
                                    "title": "Hell House",
                                    "average_rating": "3.81",
                                    "tag_id": "19453",
                                    "tag_name": "matheson"
                                },
                                {
                                    "authors": "Edwin A. Abbott, Banesh Hoffmann",
                                    "title": "Flatland: A Romance of Many Dimensions",
                                    "average_rating": "3.81",
                                    "tag_id": "19452",
                                    "tag_name": "mathematics"
                                },
                                {
                                    "authors": "Edwin A. Abbott, Banesh Hoffmann",
                                    "title": "Flatland: A Romance of Many Dimensions",
                                    "average_rating": "3.81",
                                    "tag_id": "19445",
                                    "tag_name": "math"
                                },
                                {
                                    "authors": "Edwin A. Abbott, Banesh Hoffmann",
                                    "title": "Flatland: A Romance of Many Dimensions",
                                    "average_rating": "3.81",
                                    "tag_id": "19456",
                                    "tag_name": "maths"
                                },
                                {
                                    "authors": "Edwin A. Abbott, Banesh Hoffmann",
                                    "title": "Flatland: A Romance of Many Dimensions",
                                    "average_rating": "3.81",
                                    "tag_id": "19450",
                                    "tag_name": "math-science"
                                },
                                {
                                    "authors": "Edwin A. Abbott, Banesh Hoffmann",
                                    "title": "Flatland: A Romance of Many Dimensions",
                                    "average_rating": "3.81",
                                    "tag_id": "13055",
                                    "tag_name": "geometry"
                                },
                                {
                                    "authors": "Edwin A. Abbott, Banesh Hoffmann",
                                    "title": "Flatland: A Romance of Many Dimensions",
                                    "average_rating": "3.81",
                                    "tag_id": "26857",
                                    "tag_name": "science-math"
                                },
                                {
                                    "authors": "Edwin A. Abbott, Banesh Hoffmann",
                                    "title": "Flatland: A Romance of Many Dimensions",
                                    "average_rating": "3.81",
                                    "tag_id": "26819",
                                    "tag_name": "science-and-math"
                                },
                                {
                                    "authors": "Edwin A. Abbott, Banesh Hoffmann",
                                    "title": "Flatland: A Romance of Many Dimensions",
                                    "average_rating": "3.81",
                                    "tag_id": "19446",
                                    "tag_name": "math-and-science"
                                },
                                {
                                    "authors": "Dava Sobel",
                                    "title": "Galileo's Daughter: A Historical Memoir of Science, Faith and Love",
                                    "average_rating": "3.74",
                                    "tag_id": "19450",
                                    "tag_name": "math-science"
                                },
                                {
                                    "authors": "Christian Rudder",
                                    "title": "Dataclysm: Who We Are (When We Think No One's Looking)",
                                    "average_rating": "3.72",
                                    "tag_id": "19445",
                                    "tag_name": "math"
                                },
                                {
                                    "authors": "Christian Rudder",
                                    "title": "Dataclysm: Who We Are (When We Think No One's Looking)",
                                    "average_rating": "3.72",
                                    "tag_id": "19452",
                                    "tag_name": "mathematics"
                                },
                                {
                                    "authors": "Blue Balliett, Brett Helquist",
                                    "title": "Chasing Vermeer (Chasing Vermeer, #1)",
                                    "average_rating": "3.71",
                                    "tag_id": "19445",
                                    "tag_name": "math"
                                },
                                {
                                    "authors": "Mathias Malzieu",
                                    "title": "La Mécanique du cœur",
                                    "average_rating": "3.6",
                                    "tag_id": "19455",
                                    "tag_name": "mathias-malzieu"
                                },
                                {
                                    "authors": "Paolo Giordano, Shaun Whiteside",
                                    "title": "The Solitude of Prime Numbers",
                                    "average_rating": "3.58",
                                    "tag_id": "19452",
                                    "tag_name": "mathematics"
                                },
                                {
                                    "authors": "Paolo Giordano, Shaun Whiteside",
                                    "title": "The Solitude of Prime Numbers",
                                    "average_rating": "3.58",
                                    "tag_id": "19445",
                                    "tag_name": "math"
                                },
                                {
                                    "authors": "Kate Alcott",
                                    "title": "The Dressmaker",
                                    "average_rating": "3.44",
                                    "tag_id": "1791",
                                    "tag_name": "aftermath-of-the-sinking"
                                },
                                {
                                    "authors": "Kate Alcott",
                                    "title": "The Dressmaker",
                                    "average_rating": "3.44",
                                    "tag_id": "1792",
                                    "tag_name": "aftermath-of-the-sinking-of-the-tit"
                                }
                            ]
                        },
                        "text/html": [
                            "<table>",
                            "<tr><th>authors</th><th>title</th><th>average_rating</th><th>tag_id</th><th>tag_name</th></tr>",
                            "<tr><td>Hervé Tullet, Christopher Franceschelli</td><td>Press Here</td><td>4.44</td><td>19445</td><td>math</td></tr>",
                            "<tr><td>Carl Sagan</td><td>Cosmos</td><td>4.35</td><td>19452</td><td>mathematics</td></tr>",
                            "<tr><td>Carl Sagan</td><td>Cosmos</td><td>4.35</td><td>26857</td><td>science-math</td></tr>",
                            "<tr><td>Carl Sagan</td><td>Cosmos</td><td>4.35</td><td>19450</td><td>math-science</td></tr>",
                            "<tr><td>R.L. Mathewson</td><td>Truce (Neighbor from Hell, #4)</td><td>4.34</td><td>24795</td><td>r-l-mathewson</td></tr>",
                            "<tr><td>R.L. Mathewson</td><td>Truce (Neighbor from Hell, #4)</td><td>4.34</td><td>25976</td><td>rl-mathewson</td></tr>",
                            "<tr><td>Douglas Adams, Mark Carwardine</td><td>Last Chance to See</td><td>4.33</td><td>19452</td><td>mathematics</td></tr>",
                            "<tr><td>Richard Rhodes</td><td>The Making of the Atomic Bomb</td><td>4.32</td><td>19450</td><td>math-science</td></tr>",
                            "<tr><td>Carl Sagan, Ann Druyan</td><td>Pale Blue Dot: A Vision of the Human Future in Space</td><td>4.32</td><td>19452</td><td>mathematics</td></tr>",
                            "<tr><td>Carl Sagan, Ann Druyan</td><td>Pale Blue Dot: A Vision of the Human Future in Space</td><td>4.32</td><td>26857</td><td>science-math</td></tr>",
                            "<tr><td>Kevin Henkes</td><td>Chrysanthemum</td><td>4.31</td><td>19445</td><td>math</td></tr>",
                            "<tr><td>Douglas R. Hofstadter</td><td>Gödel, Escher, Bach: An Eternal Golden Braid</td><td>4.3</td><td>19445</td><td>math</td></tr>",
                            "<tr><td>Douglas R. Hofstadter</td><td>Gödel, Escher, Bach: An Eternal Golden Braid</td><td>4.3</td><td>19452</td><td>mathematics</td></tr>",
                            "<tr><td>Douglas R. Hofstadter</td><td>Gödel, Escher, Bach: An Eternal Golden Braid</td><td>4.3</td><td>19456</td><td>maths</td></tr>",
                            "<tr><td>Douglas R. Hofstadter</td><td>Gödel, Escher, Bach: An Eternal Golden Braid</td><td>4.3</td><td>19450</td><td>math-science</td></tr>",
                            "<tr><td>Douglas R. Hofstadter</td><td>Gödel, Escher, Bach: An Eternal Golden Braid</td><td>4.3</td><td>26857</td><td>science-math</td></tr>",
                            "<tr><td>Douglas R. Hofstadter</td><td>Gödel, Escher, Bach: An Eternal Golden Braid</td><td>4.3</td><td>26819</td><td>science-and-math</td></tr>",
                            "<tr><td>Douglas R. Hofstadter</td><td>Gödel, Escher, Bach: An Eternal Golden Braid</td><td>4.3</td><td>26858</td><td>science-mathematics</td></tr>",
                            "<tr><td>Douglas R. Hofstadter</td><td>Gödel, Escher, Bach: An Eternal Golden Braid</td><td>4.3</td><td>19446</td><td>math-and-science</td></tr>",
                            "<tr><td>Eric Carle</td><td>The Very Hungry Caterpillar Board Book</td><td>4.29</td><td>19445</td><td>math</td></tr>",
                            "<tr><td>Richard Feynman</td><td>Surely You&#39;re Joking, Mr. Feynman!: Adventures of a Curious Character</td><td>4.29</td><td>19445</td><td>math</td></tr>",
                            "<tr><td>Richard Feynman</td><td>Surely You&#39;re Joking, Mr. Feynman!: Adventures of a Curious Character</td><td>4.29</td><td>19452</td><td>mathematics</td></tr>",
                            "<tr><td>Richard Feynman</td><td>Surely You&#39;re Joking, Mr. Feynman!: Adventures of a Curious Character</td><td>4.29</td><td>26857</td><td>science-math</td></tr>",
                            "<tr><td>Richard Feynman</td><td>Surely You&#39;re Joking, Mr. Feynman!: Adventures of a Curious Character</td><td>4.29</td><td>26819</td><td>science-and-math</td></tr>",
                            "<tr><td>Richard Feynman</td><td>Surely You&#39;re Joking, Mr. Feynman!: Adventures of a Curious Character</td><td>4.29</td><td>19450</td><td>math-science</td></tr>",
                            "<tr><td>Richard Feynman</td><td>What Do You Care What Other People Think?</td><td>4.28</td><td>19452</td><td>mathematics</td></tr>",
                            "<tr><td>Richard Feynman</td><td>What Do You Care What Other People Think?</td><td>4.28</td><td>19450</td><td>math-science</td></tr>",
                            "<tr><td>Simon Singh</td><td>The Code Book: The Science of Secrecy from Ancient Egypt to Quantum Cryptography</td><td>4.28</td><td>19452</td><td>mathematics</td></tr>",
                            "<tr><td>Simon Singh</td><td>The Code Book: The Science of Secrecy from Ancient Egypt to Quantum Cryptography</td><td>4.28</td><td>19445</td><td>math</td></tr>",
                            "<tr><td>Simon Singh</td><td>The Code Book: The Science of Secrecy from Ancient Egypt to Quantum Cryptography</td><td>4.28</td><td>19456</td><td>maths</td></tr>",
                            "<tr><td>Simon Singh</td><td>The Code Book: The Science of Secrecy from Ancient Egypt to Quantum Cryptography</td><td>4.28</td><td>26857</td><td>science-math</td></tr>",
                            "<tr><td>Simon Singh</td><td>The Code Book: The Science of Secrecy from Ancient Egypt to Quantum Cryptography</td><td>4.28</td><td>19450</td><td>math-science</td></tr>",
                            "<tr><td>Simon Singh</td><td>The Code Book: The Science of Secrecy from Ancient Egypt to Quantum Cryptography</td><td>4.28</td><td>26819</td><td>science-and-math</td></tr>",
                            "<tr><td>Barbara Ann Brennan, Jos. A. Smith</td><td>Hands Of Light</td><td>4.27</td><td>2926</td><td>aromatherapy-reiki</td></tr>",
                            "<tr><td>Carl Sagan, Ann Druyan</td><td>The Demon-Haunted World: Science as a Candle in the Dark</td><td>4.27</td><td>19452</td><td>mathematics</td></tr>",
                            "<tr><td>Carl Sagan, Ann Druyan</td><td>The Demon-Haunted World: Science as a Candle in the Dark</td><td>4.27</td><td>26857</td><td>science-math</td></tr>",
                            "<tr><td>Audrey Wood, Don    Wood</td><td>The Napping House</td><td>4.27</td><td>19445</td><td>math</td></tr>",
                            "<tr><td>Carl Sagan, Ann Druyan</td><td>Billions &amp; Billions: Thoughts on Life and Death at the Brink of the Millennium</td><td>4.26</td><td>26857</td><td>science-math</td></tr>",
                            "<tr><td>Carl Sagan, Ann Druyan</td><td>Billions &amp; Billions: Thoughts on Life and Death at the Brink of the Millennium</td><td>4.26</td><td>19450</td><td>math-science</td></tr>",
                            "<tr><td>Neal Stephenson</td><td>Cryptonomicon</td><td>4.25</td><td>19452</td><td>mathematics</td></tr>",
                            "<tr><td>Neal Stephenson</td><td>Cryptonomicon</td><td>4.25</td><td>19445</td><td>math</td></tr>",
                            "<tr><td>Michael   Lewis</td><td>Moneyball: The Art of Winning an Unfair Game</td><td>4.24</td><td>19452</td><td>mathematics</td></tr>",
                            "<tr><td>Michael   Lewis</td><td>Moneyball: The Art of Winning an Unfair Game</td><td>4.24</td><td>19445</td><td>math</td></tr>",
                            "<tr><td>Matthew Reilly</td><td>The 5 Greatest Warriors (Jack West Jr, #3)</td><td>4.24</td><td>19454</td><td>mathew-reilly</td></tr>",
                            "<tr><td>Richard Feynman</td><td>QED: The Strange Theory of Light and Matter</td><td>4.23</td><td>26857</td><td>science-math</td></tr>",
                            "<tr><td>Richard Feynman</td><td>QED: The Strange Theory of Light and Matter</td><td>4.23</td><td>19452</td><td>mathematics</td></tr>",
                            "<tr><td>Richard Feynman</td><td>QED: The Strange Theory of Light and Matter</td><td>4.23</td><td>26819</td><td>science-and-math</td></tr>",
                            "<tr><td>Richard Feynman</td><td>QED: The Strange Theory of Light and Matter</td><td>4.23</td><td>19450</td><td>math-science</td></tr>",
                            "<tr><td>Richard Feynman</td><td>QED: The Strange Theory of Light and Matter</td><td>4.23</td><td>23575</td><td>physics-math</td></tr>",
                            "<tr><td>Richard Feynman</td><td>QED: The Strange Theory of Light and Matter</td><td>4.23</td><td>19445</td><td>math</td></tr>",
                            "<tr><td>Richard Feynman</td><td>QED: The Strange Theory of Light and Matter</td><td>4.23</td><td>19446</td><td>math-and-science</td></tr>",
                            "<tr><td>Richard Feynman</td><td>QED: The Strange Theory of Light and Matter</td><td>4.23</td><td>26858</td><td>science-mathematics</td></tr>",
                            "<tr><td>Richard Feynman</td><td>QED: The Strange Theory of Light and Matter</td><td>4.23</td><td>19449</td><td>math-physics</td></tr>",
                            "<tr><td>Richard Feynman</td><td>QED: The Strange Theory of Light and Matter</td><td>4.23</td><td>26859</td><td>science-maths</td></tr>",
                            "<tr><td>Richard Feynman</td><td>QED: The Strange Theory of Light and Matter</td><td>4.23</td><td>23576</td><td>physics-mathematics</td></tr>",
                            "<tr><td>Kevin Henkes</td><td>Wemberly Worried</td><td>4.22</td><td>19445</td><td>math</td></tr>",
                            "<tr><td>Norton Juster, Jules Feiffer</td><td>The Phantom Tollbooth</td><td>4.22</td><td>19445</td><td>math</td></tr>",
                            "<tr><td>Simon Singh</td><td>Fermat&#39;s Enigma: The Epic Quest to Solve the World&#39;s Greatest Mathematical Problem</td><td>4.22</td><td>19452</td><td>mathematics</td></tr>",
                            "<tr><td>Simon Singh</td><td>Fermat&#39;s Enigma: The Epic Quest to Solve the World&#39;s Greatest Mathematical Problem</td><td>4.22</td><td>19445</td><td>math</td></tr>",
                            "<tr><td>Simon Singh</td><td>Fermat&#39;s Enigma: The Epic Quest to Solve the World&#39;s Greatest Mathematical Problem</td><td>4.22</td><td>19456</td><td>maths</td></tr>",
                            "<tr><td>Simon Singh</td><td>Fermat&#39;s Enigma: The Epic Quest to Solve the World&#39;s Greatest Mathematical Problem</td><td>4.22</td><td>19450</td><td>math-science</td></tr>",
                            "<tr><td>Simon Singh</td><td>Fermat&#39;s Enigma: The Epic Quest to Solve the World&#39;s Greatest Mathematical Problem</td><td>4.22</td><td>26857</td><td>science-math</td></tr>",
                            "<tr><td>Simon Singh</td><td>Fermat&#39;s Enigma: The Epic Quest to Solve the World&#39;s Greatest Mathematical Problem</td><td>4.22</td><td>19446</td><td>math-and-science</td></tr>",
                            "<tr><td>Simon Singh</td><td>Fermat&#39;s Enigma: The Epic Quest to Solve the World&#39;s Greatest Mathematical Problem</td><td>4.22</td><td>26819</td><td>science-and-math</td></tr>",
                            "<tr><td>Simon Singh</td><td>Fermat&#39;s Enigma: The Epic Quest to Solve the World&#39;s Greatest Mathematical Problem</td><td>4.22</td><td>26858</td><td>science-mathematics</td></tr>",
                            "<tr><td>Simon Singh</td><td>Fermat&#39;s Enigma: The Epic Quest to Solve the World&#39;s Greatest Mathematical Problem</td><td>4.22</td><td>19457</td><td>maths-science</td></tr>",
                            "<tr><td>Simon Singh</td><td>Fermat&#39;s Enigma: The Epic Quest to Solve the World&#39;s Greatest Mathematical Problem</td><td>4.22</td><td>26820</td><td>science-and-maths</td></tr>",
                            "<tr><td>Simon Singh</td><td>Fermat&#39;s Enigma: The Epic Quest to Solve the World&#39;s Greatest Mathematical Problem</td><td>4.22</td><td>19449</td><td>math-physics</td></tr>",
                            "<tr><td>Simon Singh</td><td>Fermat&#39;s Enigma: The Epic Quest to Solve the World&#39;s Greatest Mathematical Problem</td><td>4.22</td><td>19448</td><td>math-history</td></tr>",
                            "<tr><td>Matthew Reilly</td><td>Scarecrow (Shane Schofield, #3)</td><td>4.21</td><td>19454</td><td>mathew-reilly</td></tr>",
                            "<tr><td>Vera B. Williams</td><td>A Chair for My Mother</td><td>4.2</td><td>19445</td><td>math</td></tr>",
                            "<tr><td>Vera B. Williams</td><td>A Chair for My Mother</td><td>4.2</td><td>19452</td><td>mathematics</td></tr>",
                            "<tr><td>Richard Feynman</td><td>Six Easy Pieces: Essentials of Physics By Its Most Brilliant Teacher</td><td>4.19</td><td>26857</td><td>science-math</td></tr>",
                            "<tr><td>Richard Feynman</td><td>Six Easy Pieces: Essentials of Physics By Its Most Brilliant Teacher</td><td>4.19</td><td>26819</td><td>science-and-math</td></tr>",
                            "<tr><td>Richard Feynman</td><td>Six Easy Pieces: Essentials of Physics By Its Most Brilliant Teacher</td><td>4.19</td><td>19450</td><td>math-science</td></tr>",
                            "<tr><td>Richard Feynman</td><td>Six Easy Pieces: Essentials of Physics By Its Most Brilliant Teacher</td><td>4.19</td><td>19452</td><td>mathematics</td></tr>",
                            "<tr><td>Richard Feynman</td><td>Six Easy Pieces: Essentials of Physics By Its Most Brilliant Teacher</td><td>4.19</td><td>19445</td><td>math</td></tr>",
                            "<tr><td>Richard Feynman</td><td>Six Easy Pieces: Essentials of Physics By Its Most Brilliant Teacher</td><td>4.19</td><td>23576</td><td>physics-mathematics</td></tr>",
                            "<tr><td>Richard Feynman</td><td>Six Easy Pieces: Essentials of Physics By Its Most Brilliant Teacher</td><td>4.19</td><td>19446</td><td>math-and-science</td></tr>",
                            "<tr><td>Richard Feynman</td><td>Six Easy Pieces: Essentials of Physics By Its Most Brilliant Teacher</td><td>4.19</td><td>23575</td><td>physics-math</td></tr>",
                            "<tr><td>Tom Stoppard</td><td>Arcadia</td><td>4.19</td><td>19452</td><td>mathematics</td></tr>",
                            "<tr><td>Tom Stoppard</td><td>Arcadia</td><td>4.19</td><td>19445</td><td>math</td></tr>",
                            "<tr><td>Stephen Hawking, Leonard Mlodinow</td><td>A Briefer History of Time</td><td>4.19</td><td>19452</td><td>mathematics</td></tr>",
                            "<tr><td>Stephen Hawking, Leonard Mlodinow</td><td>A Briefer History of Time</td><td>4.19</td><td>26857</td><td>science-math</td></tr>",
                            "<tr><td>Stephen Hawking, Leonard Mlodinow</td><td>A Briefer History of Time</td><td>4.19</td><td>19450</td><td>math-science</td></tr>",
                            "<tr><td>Neal Stephenson</td><td>Anathem</td><td>4.18</td><td>19452</td><td>mathematics</td></tr>",
                            "<tr><td>Neal Stephenson</td><td>Anathem</td><td>4.18</td><td>19445</td><td>math</td></tr>",
                            "<tr><td>Randall Munroe</td><td>What If?: Serious Scientific Answers to Absurd Hypothetical Questions</td><td>4.17</td><td>19445</td><td>math</td></tr>",
                            "<tr><td>Randall Munroe</td><td>What If?: Serious Scientific Answers to Absurd Hypothetical Questions</td><td>4.17</td><td>19452</td><td>mathematics</td></tr>",
                            "<tr><td>Randall Munroe</td><td>What If?: Serious Scientific Answers to Absurd Hypothetical Questions</td><td>4.17</td><td>26857</td><td>science-math</td></tr>",
                            "<tr><td>Michio Kaku</td><td>Parallel Worlds: A Journey Through Creation, Higher Dimensions, and the Future of the Cosmos</td><td>4.17</td><td>26857</td><td>science-math</td></tr>",
                            "<tr><td>Michio Kaku</td><td>Parallel Worlds: A Journey Through Creation, Higher Dimensions, and the Future of the Cosmos</td><td>4.17</td><td>19450</td><td>math-science</td></tr>",
                            "<tr><td>Michio Kaku</td><td>Parallel Worlds: A Journey Through Creation, Higher Dimensions, and the Future of the Cosmos</td><td>4.17</td><td>19452</td><td>mathematics</td></tr>",
                            "<tr><td>Michio Kaku</td><td>Parallel Worlds: A Journey Through Creation, Higher Dimensions, and the Future of the Cosmos</td><td>4.17</td><td>26858</td><td>science-mathematics</td></tr>",
                            "<tr><td>Albert Einstein, Nigel Calder, Robert W. Lawson</td><td>Relativity: The Special and the General Theory</td><td>4.17</td><td>19452</td><td>mathematics</td></tr>",
                            "<tr><td>Albert Einstein, Nigel Calder, Robert W. Lawson</td><td>Relativity: The Special and the General Theory</td><td>4.17</td><td>19445</td><td>math</td></tr>",
                            "<tr><td>Albert Einstein, Nigel Calder, Robert W. Lawson</td><td>Relativity: The Special and the General Theory</td><td>4.17</td><td>26819</td><td>science-and-math</td></tr>",
                            "<tr><td>Albert Einstein, Nigel Calder, Robert W. Lawson</td><td>Relativity: The Special and the General Theory</td><td>4.17</td><td>26857</td><td>science-math</td></tr>",
                            "<tr><td>Albert Einstein, Nigel Calder, Robert W. Lawson</td><td>Relativity: The Special and the General Theory</td><td>4.17</td><td>19450</td><td>math-science</td></tr>",
                            "<tr><td>Albert Einstein, Nigel Calder, Robert W. Lawson</td><td>Relativity: The Special and the General Theory</td><td>4.17</td><td>19446</td><td>math-and-science</td></tr>",
                            "<tr><td>Albert Einstein, Nigel Calder, Robert W. Lawson</td><td>Relativity: The Special and the General Theory</td><td>4.17</td><td>26858</td><td>science-mathematics</td></tr>",
                            "<tr><td>Albert Einstein, Nigel Calder, Robert W. Lawson</td><td>Relativity: The Special and the General Theory</td><td>4.17</td><td>23957</td><td>polymath</td></tr>",
                            "<tr><td>Carl Sagan</td><td>Dragons of Eden: Speculations on the Evolution of Human Intelligence</td><td>4.16</td><td>26857</td><td>science-math</td></tr>",
                            "<tr><td>Carl Sagan</td><td>Dragons of Eden: Speculations on the Evolution of Human Intelligence</td><td>4.16</td><td>26858</td><td>science-mathematics</td></tr>",
                            "<tr><td>R.L. Mathewson</td><td>Perfection (Neighbor from Hell, #2)</td><td>4.16</td><td>24795</td><td>r-l-mathewson</td></tr>",
                            "<tr><td>R.L. Mathewson</td><td>Perfection (Neighbor from Hell, #2)</td><td>4.16</td><td>25976</td><td>rl-mathewson</td></tr>",
                            "<tr><td>Matthew Reilly</td><td>The Six Sacred Stones (Jack West Jr, #2)</td><td>4.16</td><td>19454</td><td>mathew-reilly</td></tr>",
                            "<tr><td>James Gleick</td><td>Genius: The Life and Science of Richard Feynman</td><td>4.16</td><td>19452</td><td>mathematics</td></tr>",
                            "<tr><td>James Gleick</td><td>Genius: The Life and Science of Richard Feynman</td><td>4.16</td><td>26857</td><td>science-math</td></tr>",
                            "<tr><td>James Gleick</td><td>Genius: The Life and Science of Richard Feynman</td><td>4.16</td><td>19445</td><td>math</td></tr>",
                            "<tr><td>James Gleick</td><td>Genius: The Life and Science of Richard Feynman</td><td>4.16</td><td>26819</td><td>science-and-math</td></tr>",
                            "<tr><td>James Gleick</td><td>Genius: The Life and Science of Richard Feynman</td><td>4.16</td><td>19450</td><td>math-science</td></tr>",
                            "<tr><td>James Gleick</td><td>Genius: The Life and Science of Richard Feynman</td><td>4.16</td><td>26858</td><td>science-mathematics</td></tr>",
                            "<tr><td>Jerry A. Coyne</td><td>Why Evolution Is True</td><td>4.15</td><td>26819</td><td>science-and-math</td></tr>",
                            "<tr><td>R.L. Mathewson</td><td>Checkmate (Neighbor from Hell, #3)</td><td>4.15</td><td>24795</td><td>r-l-mathewson</td></tr>",
                            "<tr><td>R.L. Mathewson</td><td>Checkmate (Neighbor from Hell, #3)</td><td>4.15</td><td>25976</td><td>rl-mathewson</td></tr>",
                            "<tr><td>Bruno Ernst, M.C. Escher, John E. Brigham</td><td>The Magic Mirror of M.C. Escher</td><td>4.15</td><td>19452</td><td>mathematics</td></tr>",
                            "<tr><td>Bruno Ernst, M.C. Escher, John E. Brigham</td><td>The Magic Mirror of M.C. Escher</td><td>4.15</td><td>19445</td><td>math</td></tr>",
                            "<tr><td>Ellen Stoll Walsh</td><td>Mouse Paint</td><td>4.15</td><td>19445</td><td>math</td></tr>",
                            "<tr><td>Simon Singh</td><td>Big Bang: The Origin of the Universe</td><td>4.14</td><td>19452</td><td>mathematics</td></tr>",
                            "<tr><td>Simon Singh</td><td>Big Bang: The Origin of the Universe</td><td>4.14</td><td>26857</td><td>science-math</td></tr>",
                            "<tr><td>Simon Singh</td><td>Big Bang: The Origin of the Universe</td><td>4.14</td><td>19450</td><td>math-science</td></tr>",
                            "<tr><td>Simon Singh</td><td>Big Bang: The Origin of the Universe</td><td>4.14</td><td>19446</td><td>math-and-science</td></tr>",
                            "<tr><td>Simon Singh</td><td>Big Bang: The Origin of the Universe</td><td>4.14</td><td>19456</td><td>maths</td></tr>",
                            "<tr><td>Simon Singh</td><td>Big Bang: The Origin of the Universe</td><td>4.14</td><td>23575</td><td>physics-math</td></tr>",
                            "<tr><td>Simon Singh</td><td>Big Bang: The Origin of the Universe</td><td>4.14</td><td>26820</td><td>science-and-maths</td></tr>",
                            "<tr><td>Stephen Hawking</td><td>The Universe in a Nutshell</td><td>4.13</td><td>19452</td><td>mathematics</td></tr>",
                            "<tr><td>Stephen Hawking</td><td>The Universe in a Nutshell</td><td>4.13</td><td>26857</td><td>science-math</td></tr>",
                            "<tr><td>Stephen Hawking</td><td>The Universe in a Nutshell</td><td>4.13</td><td>26819</td><td>science-and-math</td></tr>",
                            "<tr><td>Stephen Hawking</td><td>The Universe in a Nutshell</td><td>4.13</td><td>19450</td><td>math-science</td></tr>",
                            "<tr><td>Richard Dawkins</td><td>The Ancestor&#39;s Tale: A Pilgrimage to the Dawn of Evolution</td><td>4.13</td><td>19452</td><td>mathematics</td></tr>",
                            "<tr><td>Richard Dawkins</td><td>The Ancestor&#39;s Tale: A Pilgrimage to the Dawn of Evolution</td><td>4.13</td><td>26858</td><td>science-mathematics</td></tr>",
                            "<tr><td>Esphyr Slobodkina</td><td>Caps for Sale: A Tale of a Peddler, Some Monkeys and Their Monkey Business</td><td>4.12</td><td>19445</td><td>math</td></tr>",
                            "<tr><td>Dr. Seuss</td><td>One Fish, Two Fish, Red Fish, Blue Fish</td><td>4.12</td><td>19445</td><td>math</td></tr>",
                            "<tr><td>Sylvia Nasar</td><td>A Beautiful Mind</td><td>4.12</td><td>19452</td><td>mathematics</td></tr>",
                            "<tr><td>Sylvia Nasar</td><td>A Beautiful Mind</td><td>4.12</td><td>19445</td><td>math</td></tr>",
                            "<tr><td>Sylvia Nasar</td><td>A Beautiful Mind</td><td>4.12</td><td>19456</td><td>maths</td></tr>",
                            "<tr><td>Stephen Hawking, Cao Chi, Phạm Văn Thiều</td><td>A Brief History of Time</td><td>4.12</td><td>26857</td><td>science-math</td></tr>",
                            "<tr><td>Stephen Hawking, Cao Chi, Phạm Văn Thiều</td><td>A Brief History of Time</td><td>4.12</td><td>19450</td><td>math-science</td></tr>",
                            "<tr><td>Stephen Hawking, Cao Chi, Phạm Văn Thiều</td><td>A Brief History of Time</td><td>4.12</td><td>19452</td><td>mathematics</td></tr>",
                            "<tr><td>Stephen Hawking, Cao Chi, Phạm Văn Thiều</td><td>A Brief History of Time</td><td>4.12</td><td>26819</td><td>science-and-math</td></tr>",
                            "<tr><td>Daniel J. Boorstin</td><td>The Discoverers: A History of Man&#39;s Search to Know His World and Himself</td><td>4.12</td><td>26857</td><td>science-math</td></tr>",
                            "<tr><td>Daniel J. Boorstin</td><td>The Discoverers: A History of Man&#39;s Search to Know His World and Himself</td><td>4.12</td><td>19452</td><td>mathematics</td></tr>",
                            "<tr><td>Jean Lee Latham</td><td>Carry On, Mr. Bowditch</td><td>4.11</td><td>19445</td><td>math</td></tr>",
                            "<tr><td>Richard Dawkins</td><td>The Selfish Gene</td><td>4.11</td><td>19450</td><td>math-science</td></tr>",
                            "<tr><td>Michio Kaku</td><td>Hyperspace</td><td>4.11</td><td>19452</td><td>mathematics</td></tr>",
                            "<tr><td>Michio Kaku</td><td>Hyperspace</td><td>4.11</td><td>19450</td><td>math-science</td></tr>",
                            "<tr><td>Michio Kaku</td><td>Hyperspace</td><td>4.11</td><td>26819</td><td>science-and-math</td></tr>",
                            "<tr><td>Michio Kaku</td><td>Hyperspace</td><td>4.11</td><td>26857</td><td>science-math</td></tr>",
                            "<tr><td>Michio Kaku</td><td>Hyperspace</td><td>4.11</td><td>26858</td><td>science-mathematics</td></tr>",
                            "<tr><td>Michio Kaku</td><td>Hyperspace</td><td>4.11</td><td>19445</td><td>math</td></tr>",
                            "<tr><td>Michio Kaku</td><td>Hyperspace</td><td>4.11</td><td>19449</td><td>math-physics</td></tr>",
                            "<tr><td>Brian Greene</td><td>The Fabric of the Cosmos: Space, Time, and the Texture of Reality</td><td>4.11</td><td>26857</td><td>science-math</td></tr>",
                            "<tr><td>Brian Greene</td><td>The Fabric of the Cosmos: Space, Time, and the Texture of Reality</td><td>4.11</td><td>19450</td><td>math-science</td></tr>",
                            "<tr><td>Brian Greene</td><td>The Fabric of the Cosmos: Space, Time, and the Texture of Reality</td><td>4.11</td><td>26819</td><td>science-and-math</td></tr>",
                            "<tr><td>Brian Greene</td><td>The Fabric of the Cosmos: Space, Time, and the Texture of Reality</td><td>4.11</td><td>19452</td><td>mathematics</td></tr>",
                            "<tr><td>Brian Greene</td><td>The Fabric of the Cosmos: Space, Time, and the Texture of Reality</td><td>4.11</td><td>19446</td><td>math-and-science</td></tr>",
                            "<tr><td>Brian Greene</td><td>The Fabric of the Cosmos: Space, Time, and the Texture of Reality</td><td>4.11</td><td>26858</td><td>science-mathematics</td></tr>",
                            "<tr><td>Theo LeSieg, Roy McKie</td><td>Ten Apples Up On Top!</td><td>4.11</td><td>19445</td><td>math</td></tr>",
                            "<tr><td>Matthew Reilly</td><td>Ice Station (Shane Schofield, #1)</td><td>4.1</td><td>19454</td><td>mathew-reilly</td></tr>",
                            "<tr><td>Eric Carle</td><td>The Grouchy Ladybug</td><td>4.09</td><td>19445</td><td>math</td></tr>",
                            "<tr><td>Eric Carle</td><td>The Grouchy Ladybug</td><td>4.09</td><td>19447</td><td>math-books</td></tr>",
                            "<tr><td>Eric Carle</td><td>The Grouchy Ladybug</td><td>4.09</td><td>19452</td><td>mathematics</td></tr>",
                            "<tr><td>Stephen Hawking</td><td>Black Holes and Baby Universes</td><td>4.09</td><td>26857</td><td>science-math</td></tr>",
                            "<tr><td>Stephen Hawking</td><td>Black Holes and Baby Universes</td><td>4.09</td><td>26819</td><td>science-and-math</td></tr>",
                            "<tr><td>Stephen Hawking</td><td>Black Holes and Baby Universes</td><td>4.09</td><td>19452</td><td>mathematics</td></tr>",
                            "<tr><td>Stephen Hawking</td><td>Black Holes and Baby Universes</td><td>4.09</td><td>19450</td><td>math-science</td></tr>",
                            "<tr><td>Matthew Reilly</td><td>Area 7 (Shane Schofield, #2)</td><td>4.08</td><td>19454</td><td>mathew-reilly</td></tr>",
                            "<tr><td>Wanda Gág</td><td>Millions of Cats</td><td>4.08</td><td>19445</td><td>math</td></tr>",
                            "<tr><td>Richard Dawkins</td><td>The Blind Watchmaker: Why the Evidence of Evolution Reveals a Universe Without Design</td><td>4.08</td><td>19446</td><td>math-and-science</td></tr>",
                            "<tr><td>Matthew Reilly</td><td>Seven Deadly Wonders (Jack West Jr, #1)</td><td>4.08</td><td>19454</td><td>mathew-reilly</td></tr>",
                            "<tr><td>Walter Isaacson</td><td>Einstein: His Life and Universe</td><td>4.08</td><td>19452</td><td>mathematics</td></tr>",
                            "<tr><td>R.L. Mathewson</td><td>Playing for Keeps (Neighbor from Hell, #1)</td><td>4.08</td><td>24795</td><td>r-l-mathewson</td></tr>",
                            "<tr><td>R.L. Mathewson</td><td>Playing for Keeps (Neighbor from Hell, #1)</td><td>4.08</td><td>25976</td><td>rl-mathewson</td></tr>",
                            "<tr><td>Richard Matheson</td><td>I Am Legend</td><td>4.07</td><td>25893</td><td>richard-matheson</td></tr>",
                            "<tr><td>Matt Haig</td><td>The Humans</td><td>4.07</td><td>19452</td><td>mathematics</td></tr>",
                            "<tr><td>Michio Kaku</td><td>Physics of the Impossible: A Scientific Exploration into the World of Phasers, Force Fields, Teleportation, and Time Travel</td><td>4.07</td><td>19450</td><td>math-science</td></tr>",
                            "<tr><td>Michio Kaku</td><td>Physics of the Impossible: A Scientific Exploration into the World of Phasers, Force Fields, Teleportation, and Time Travel</td><td>4.07</td><td>26857</td><td>science-math</td></tr>",
                            "<tr><td>Steven Pinker</td><td>The Blank Slate: The Modern Denial of Human Nature</td><td>4.07</td><td>26857</td><td>science-math</td></tr>",
                            "<tr><td>Ludwig Wittgenstein</td><td>Tractatus Logico-Philosophicus</td><td>4.06</td><td>19452</td><td>mathematics</td></tr>",
                            "<tr><td>Ludwig Wittgenstein</td><td>Tractatus Logico-Philosophicus</td><td>4.06</td><td>19445</td><td>math</td></tr>",
                            "<tr><td>Burton G. Malkiel</td><td>A Random Walk Down Wall Street</td><td>4.05</td><td>19445</td><td>math</td></tr>",
                            "<tr><td>Brian Greene</td><td>The Hidden Reality: Parallel Universes and the Deep Laws of the Cosmos</td><td>4.05</td><td>19450</td><td>math-science</td></tr>",
                            "<tr><td>Brian Greene</td><td>The Hidden Reality: Parallel Universes and the Deep Laws of the Cosmos</td><td>4.05</td><td>26857</td><td>science-math</td></tr>",
                            "<tr><td>Brian Greene</td><td>The Hidden Reality: Parallel Universes and the Deep Laws of the Cosmos</td><td>4.05</td><td>19452</td><td>mathematics</td></tr>",
                            "<tr><td>Brian Greene</td><td>The Hidden Reality: Parallel Universes and the Deep Laws of the Cosmos</td><td>4.05</td><td>26819</td><td>science-and-math</td></tr>",
                            "<tr><td>Keigo Higashino, Alexander O. Smith</td><td>The Devotion of Suspect X</td><td>4.05</td><td>19452</td><td>mathematics</td></tr>",
                            "<tr><td>Nassim Nicholas Taleb</td><td>Fooled by Randomness: The Hidden Role of Chance in Life and in the Markets</td><td>4.05</td><td>19452</td><td>mathematics</td></tr>",
                            "<tr><td>Nassim Nicholas Taleb</td><td>Fooled by Randomness: The Hidden Role of Chance in Life and in the Markets</td><td>4.05</td><td>19445</td><td>math</td></tr>",
                            "<tr><td>Nassim Nicholas Taleb</td><td>Fooled by Randomness: The Hidden Role of Chance in Life and in the Markets</td><td>4.05</td><td>19456</td><td>maths</td></tr>",
                            "<tr><td>Richard Dawkins, Dave McKean</td><td>The Magic of Reality: How We Know What&#39;s Really True</td><td>4.04</td><td>26857</td><td>science-math</td></tr>",
                            "<tr><td>Jared Diamond</td><td>The Third Chimpanzee: The Evolution and Future of the Human Animal</td><td>4.04</td><td>26858</td><td>science-mathematics</td></tr>",
                            "<tr><td>Nassim Nicholas Taleb</td><td>Antifragile: Things That Gain from Disorder</td><td>4.04</td><td>19452</td><td>mathematics</td></tr>",
                            "<tr><td>Nassim Nicholas Taleb</td><td>Antifragile: Things That Gain from Disorder</td><td>4.04</td><td>19445</td><td>math</td></tr>",
                            "<tr><td>Matthew Reilly</td><td>Temple</td><td>4.04</td><td>19454</td><td>mathew-reilly</td></tr>",
                            "<tr><td>Matt Ridley</td><td>The Red Queen: Sex and the Evolution of Human Nature</td><td>4.02</td><td>26819</td><td>science-and-math</td></tr>",
                            "<tr><td>Gary Zukav</td><td>Dancing Wu Li Masters: An Overview of the New Physics (Perennial Classics)</td><td>4.02</td><td>26857</td><td>science-math</td></tr>",
                            "<tr><td>Gary Zukav</td><td>Dancing Wu Li Masters: An Overview of the New Physics (Perennial Classics)</td><td>4.02</td><td>19450</td><td>math-science</td></tr>",
                            "<tr><td>Gary Zukav</td><td>Dancing Wu Li Masters: An Overview of the New Physics (Perennial Classics)</td><td>4.02</td><td>26858</td><td>science-mathematics</td></tr>",
                            "<tr><td>Matt Ridley</td><td>Genome: the Autobiography of a Species in 23 Chapters</td><td>4.02</td><td>26857</td><td>science-math</td></tr>",
                            "<tr><td>Matt Ridley</td><td>Genome: the Autobiography of a Species in 23 Chapters</td><td>4.02</td><td>26819</td><td>science-and-math</td></tr>",
                            "<tr><td>Matt Ridley</td><td>Genome: the Autobiography of a Species in 23 Chapters</td><td>4.02</td><td>19450</td><td>math-science</td></tr>",
                            "<tr><td>Apostolos Doxiadis, Christos H. Papadimitriou, Alecos Papadatos, Annie Di Donna</td><td>Logicomix: An epic search for truth</td><td>4.01</td><td>19452</td><td>mathematics</td></tr>",
                            "<tr><td>Apostolos Doxiadis, Christos H. Papadimitriou, Alecos Papadatos, Annie Di Donna</td><td>Logicomix: An epic search for truth</td><td>4.01</td><td>19445</td><td>math</td></tr>",
                            "<tr><td>Apostolos Doxiadis, Christos H. Papadimitriou, Alecos Papadatos, Annie Di Donna</td><td>Logicomix: An epic search for truth</td><td>4.01</td><td>19456</td><td>maths</td></tr>",
                            "<tr><td>Apostolos Doxiadis, Christos H. Papadimitriou, Alecos Papadatos, Annie Di Donna</td><td>Logicomix: An epic search for truth</td><td>4.01</td><td>19446</td><td>math-and-science</td></tr>",
                            "<tr><td>Apostolos Doxiadis, Christos H. Papadimitriou, Alecos Papadatos, Annie Di Donna</td><td>Logicomix: An epic search for truth</td><td>4.01</td><td>19450</td><td>math-science</td></tr>",
                            "<tr><td>Apostolos Doxiadis, Christos H. Papadimitriou, Alecos Papadatos, Annie Di Donna</td><td>Logicomix: An epic search for truth</td><td>4.01</td><td>26857</td><td>science-math</td></tr>",
                            "<tr><td>Apostolos Doxiadis, Christos H. Papadimitriou, Alecos Papadatos, Annie Di Donna</td><td>Logicomix: An epic search for truth</td><td>4.01</td><td>26819</td><td>science-and-math</td></tr>",
                            "<tr><td>David Auburn</td><td>Proof</td><td>4.01</td><td>19452</td><td>mathematics</td></tr>",
                            "<tr><td>David Auburn</td><td>Proof</td><td>4.01</td><td>19445</td><td>math</td></tr>",
                            "<tr><td>David Auburn</td><td>Proof</td><td>4.01</td><td>19450</td><td>math-science</td></tr>",
                            "<tr><td>John Gribbin</td><td>In Search of Schrödinger&#39;s Cat: Quantum Physics and Reality</td><td>4</td><td>26819</td><td>science-and-math</td></tr>",
                            "<tr><td>John Gribbin</td><td>In Search of Schrödinger&#39;s Cat: Quantum Physics and Reality</td><td>4</td><td>26857</td><td>science-math</td></tr>",
                            "<tr><td>John Gribbin</td><td>In Search of Schrödinger&#39;s Cat: Quantum Physics and Reality</td><td>4</td><td>19446</td><td>math-and-science</td></tr>",
                            "<tr><td>John Gribbin</td><td>In Search of Schrödinger&#39;s Cat: Quantum Physics and Reality</td><td>4</td><td>19452</td><td>mathematics</td></tr>",
                            "<tr><td>John Gribbin</td><td>In Search of Schrödinger&#39;s Cat: Quantum Physics and Reality</td><td>4</td><td>19450</td><td>math-science</td></tr>",
                            "<tr><td>John Gribbin</td><td>In Search of Schrödinger&#39;s Cat: Quantum Physics and Reality</td><td>4</td><td>26820</td><td>science-and-maths</td></tr>",
                            "<tr><td>Stephen Hawking, Leonard Mlodinow</td><td>The Grand Design</td><td>4</td><td>19452</td><td>mathematics</td></tr>",
                            "<tr><td>Stephen Hawking, Leonard Mlodinow</td><td>The Grand Design</td><td>4</td><td>19450</td><td>math-science</td></tr>",
                            "<tr><td>Stephen Hawking, Leonard Mlodinow</td><td>The Grand Design</td><td>4</td><td>26857</td><td>science-math</td></tr>",
                            "<tr><td>Richard Matheson</td><td>I Am Legend and Other Stories</td><td>3.99</td><td>25893</td><td>richard-matheson</td></tr>",
                            "<tr><td>James Gleick</td><td>Chaos: Making a New Science</td><td>3.98</td><td>19452</td><td>mathematics</td></tr>",
                            "<tr><td>James Gleick</td><td>Chaos: Making a New Science</td><td>3.98</td><td>19445</td><td>math</td></tr>",
                            "<tr><td>James Gleick</td><td>Chaos: Making a New Science</td><td>3.98</td><td>19456</td><td>maths</td></tr>",
                            "<tr><td>James Gleick</td><td>Chaos: Making a New Science</td><td>3.98</td><td>19446</td><td>math-and-science</td></tr>",
                            "<tr><td>James Gleick</td><td>Chaos: Making a New Science</td><td>3.98</td><td>19450</td><td>math-science</td></tr>",
                            "<tr><td>James Gleick</td><td>Chaos: Making a New Science</td><td>3.98</td><td>26857</td><td>science-math</td></tr>",
                            "<tr><td>James Gleick</td><td>Chaos: Making a New Science</td><td>3.98</td><td>26819</td><td>science-and-math</td></tr>",
                            "<tr><td>James Gleick</td><td>Chaos: Making a New Science</td><td>3.98</td><td>26858</td><td>science-mathematics</td></tr>",
                            "<tr><td>Thomas S. Kuhn</td><td>The Structure of Scientific Revolutions</td><td>3.98</td><td>26857</td><td>science-math</td></tr>",
                            "<tr><td>Thomas S. Kuhn</td><td>The Structure of Scientific Revolutions</td><td>3.98</td><td>19450</td><td>math-science</td></tr>",
                            "<tr><td>Thomas S. Kuhn</td><td>The Structure of Scientific Revolutions</td><td>3.98</td><td>26858</td><td>science-mathematics</td></tr>",
                            "<tr><td>Michio Kaku</td><td>Physics of the Future: How Science Will Shape Human Destiny and Our Daily Lives by the Year 2100</td><td>3.98</td><td>19450</td><td>math-science</td></tr>",
                            "<tr><td>James Gleick</td><td>The Information: A History, a Theory, a Flood</td><td>3.98</td><td>19452</td><td>mathematics</td></tr>",
                            "<tr><td>James Gleick</td><td>The Information: A History, a Theory, a Flood</td><td>3.98</td><td>19445</td><td>math</td></tr>",
                            "<tr><td>James Gleick</td><td>The Information: A History, a Theory, a Flood</td><td>3.98</td><td>19456</td><td>maths</td></tr>",
                            "<tr><td>James Gleick</td><td>The Information: A History, a Theory, a Flood</td><td>3.98</td><td>26857</td><td>science-math</td></tr>",
                            "<tr><td>James Gleick</td><td>The Information: A History, a Theory, a Flood</td><td>3.98</td><td>19450</td><td>math-science</td></tr>",
                            "<tr><td>Fritjof Capra</td><td>The Tao of Physics: An Exploration of the Parallels between Modern Physics and Eastern Mysticism</td><td>3.96</td><td>26857</td><td>science-math</td></tr>",
                            "<tr><td>Fritjof Capra</td><td>The Tao of Physics: An Exploration of the Parallels between Modern Physics and Eastern Mysticism</td><td>3.96</td><td>19445</td><td>math</td></tr>",
                            "<tr><td>Fritjof Capra</td><td>The Tao of Physics: An Exploration of the Parallels between Modern Physics and Eastern Mysticism</td><td>3.96</td><td>26819</td><td>science-and-math</td></tr>",
                            "<tr><td>Nate Silver</td><td>The Signal and the Noise: Why So Many Predictions Fail - But Some Don&#39;t</td><td>3.96</td><td>19445</td><td>math</td></tr>",
                            "<tr><td>Nate Silver</td><td>The Signal and the Noise: Why So Many Predictions Fail - But Some Don&#39;t</td><td>3.96</td><td>19452</td><td>mathematics</td></tr>",
                            "<tr><td>Nate Silver</td><td>The Signal and the Noise: Why So Many Predictions Fail - But Some Don&#39;t</td><td>3.96</td><td>19456</td><td>maths</td></tr>",
                            "<tr><td>Nate Silver</td><td>The Signal and the Noise: Why So Many Predictions Fail - But Some Don&#39;t</td><td>3.96</td><td>19450</td><td>math-science</td></tr>",
                            "<tr><td>Nate Silver</td><td>The Signal and the Noise: Why So Many Predictions Fail - But Some Don&#39;t</td><td>3.96</td><td>26857</td><td>science-math</td></tr>",
                            "<tr><td>Nate Silver</td><td>The Signal and the Noise: Why So Many Predictions Fail - But Some Don&#39;t</td><td>3.96</td><td>26819</td><td>science-and-math</td></tr>",
                            "<tr><td>Dava Sobel, Neil Armstrong</td><td>Longitude: The True Story of a Lone Genius Who Solved the Greatest Scientific Problem of His Time</td><td>3.95</td><td>19452</td><td>mathematics</td></tr>",
                            "<tr><td>Dava Sobel, Neil Armstrong</td><td>Longitude: The True Story of a Lone Genius Who Solved the Greatest Scientific Problem of His Time</td><td>3.95</td><td>19445</td><td>math</td></tr>",
                            "<tr><td>Dava Sobel, Neil Armstrong</td><td>Longitude: The True Story of a Lone Genius Who Solved the Greatest Scientific Problem of His Time</td><td>3.95</td><td>26819</td><td>science-and-math</td></tr>",
                            "<tr><td>Dava Sobel, Neil Armstrong</td><td>Longitude: The True Story of a Lone Genius Who Solved the Greatest Scientific Problem of His Time</td><td>3.95</td><td>19450</td><td>math-science</td></tr>",
                            "<tr><td>Matthew Reilly</td><td>Contest</td><td>3.95</td><td>19454</td><td>mathew-reilly</td></tr>",
                            "<tr><td>Yōko Ogawa, Stephen Snyder</td><td>The Housekeeper and the Professor</td><td>3.94</td><td>19452</td><td>mathematics</td></tr>",
                            "<tr><td>Yōko Ogawa, Stephen Snyder</td><td>The Housekeeper and the Professor</td><td>3.94</td><td>19445</td><td>math</td></tr>",
                            "<tr><td>Yōko Ogawa, Stephen Snyder</td><td>The Housekeeper and the Professor</td><td>3.94</td><td>19456</td><td>maths</td></tr>",
                            "<tr><td>Mary Roach</td><td>Packing for Mars: The Curious Science of Life in the Void</td><td>3.93</td><td>19452</td><td>mathematics</td></tr>",
                            "<tr><td>M.C. Escher, Bruce Brooks Pfeiffer</td><td>M.C. Escher: The Graphic Work</td><td>3.93</td><td>19445</td><td>math</td></tr>",
                            "<tr><td>Steven D. Levitt, Stephen J. Dubner</td><td>Freakonomics: A Rogue Economist Explores the Hidden Side of Everything (Freakonomics, #1)</td><td>3.93</td><td>19452</td><td>mathematics</td></tr>",
                            "<tr><td>Margot Lee Shetterly</td><td>Hidden Figures: The American Dream and the Untold Story of the Black Women Mathematicians Who Helped Win the Space Race</td><td>3.92</td><td>19452</td><td>mathematics</td></tr>",
                            "<tr><td>Margot Lee Shetterly</td><td>Hidden Figures: The American Dream and the Untold Story of the Black Women Mathematicians Who Helped Win the Space Race</td><td>3.92</td><td>19445</td><td>math</td></tr>",
                            "<tr><td>Lawrence M. Krauss, Richard Dawkins</td><td>A Universe from Nothing: Why There Is Something Rather Than Nothing</td><td>3.92</td><td>26857</td><td>science-math</td></tr>",
                            "<tr><td>Lawrence M. Krauss, Richard Dawkins</td><td>A Universe from Nothing: Why There Is Something Rather Than Nothing</td><td>3.92</td><td>19450</td><td>math-science</td></tr>",
                            "<tr><td>Lawrence M. Krauss, Richard Dawkins</td><td>A Universe from Nothing: Why There Is Something Rather Than Nothing</td><td>3.92</td><td>26819</td><td>science-and-math</td></tr>",
                            "<tr><td>Simon Kuper, Stefan Szymanski</td><td>Soccernomics: Why England Loses, Why Germany and Brazil Win, and Why the U.S., Japan, Australia, Turkey--and Even Iraq--Are Destined to Become the Kings of the World&#39;s Most Popular Sport</td><td>3.91</td><td>19452</td><td>mathematics</td></tr>",
                            "<tr><td>Tom Angleberger</td><td>The Strange Case of Origami Yoda (Origami Yoda, #1)</td><td>3.9</td><td>19452</td><td>mathematics</td></tr>",
                            "<tr><td>Sam Kean</td><td>The Disappearing Spoon: And Other True Tales of Madness, Love, and the History of the World from the Periodic Table of the Elements</td><td>3.9</td><td>26857</td><td>science-math</td></tr>",
                            "<tr><td>Nassim Nicholas Taleb</td><td>The Black Swan: The Impact of the Highly Improbable</td><td>3.88</td><td>19452</td><td>mathematics</td></tr>",
                            "<tr><td>Nassim Nicholas Taleb</td><td>The Black Swan: The Impact of the Highly Improbable</td><td>3.88</td><td>19445</td><td>math</td></tr>",
                            "<tr><td>Leonard Mlodinow</td><td>The Drunkard&#39;s Walk: How Randomness Rules Our Lives</td><td>3.88</td><td>19445</td><td>math</td></tr>",
                            "<tr><td>Leonard Mlodinow</td><td>The Drunkard&#39;s Walk: How Randomness Rules Our Lives</td><td>3.88</td><td>19452</td><td>mathematics</td></tr>",
                            "<tr><td>Leonard Mlodinow</td><td>The Drunkard&#39;s Walk: How Randomness Rules Our Lives</td><td>3.88</td><td>26857</td><td>science-math</td></tr>",
                            "<tr><td>Leonard Mlodinow</td><td>The Drunkard&#39;s Walk: How Randomness Rules Our Lives</td><td>3.88</td><td>19456</td><td>maths</td></tr>",
                            "<tr><td>Leonard Mlodinow</td><td>The Drunkard&#39;s Walk: How Randomness Rules Our Lives</td><td>3.88</td><td>19450</td><td>math-science</td></tr>",
                            "<tr><td>Leonard Mlodinow</td><td>The Drunkard&#39;s Walk: How Randomness Rules Our Lives</td><td>3.88</td><td>19446</td><td>math-and-science</td></tr>",
                            "<tr><td>Leonard Mlodinow</td><td>The Drunkard&#39;s Walk: How Randomness Rules Our Lives</td><td>3.88</td><td>26819</td><td>science-and-math</td></tr>",
                            "<tr><td>Jacqueline Davies</td><td>The Lemonade War (The Lemonade War, #1)</td><td>3.88</td><td>19445</td><td>math</td></tr>",
                            "<tr><td>James D. Watson</td><td>The Double Helix</td><td>3.87</td><td>26819</td><td>science-and-math</td></tr>",
                            "<tr><td>James D. Watson</td><td>The Double Helix</td><td>3.87</td><td>19450</td><td>math-science</td></tr>",
                            "<tr><td>James D. Watson</td><td>The Double Helix</td><td>3.87</td><td>26857</td><td>science-math</td></tr>",
                            "<tr><td>James D. Watson</td><td>The Double Helix</td><td>3.87</td><td>19446</td><td>math-and-science</td></tr>",
                            "<tr><td>Ben Mezrich</td><td>Bringing Down the House: The Inside Story of Six M.I.T. Students Who Took Vegas for Millions</td><td>3.87</td><td>19445</td><td>math</td></tr>",
                            "<tr><td>Ben Mezrich</td><td>Bringing Down the House: The Inside Story of Six M.I.T. Students Who Took Vegas for Millions</td><td>3.87</td><td>19452</td><td>mathematics</td></tr>",
                            "<tr><td>Daniel J. Levitin</td><td>This Is Your Brain on Music: The Science of a Human Obsession</td><td>3.86</td><td>26819</td><td>science-and-math</td></tr>",
                            "<tr><td>Simon Winchester</td><td>Krakatoa: The Day the World Exploded</td><td>3.86</td><td>26819</td><td>science-and-math</td></tr>",
                            "<tr><td>Daniel Tammet</td><td>Born on a Blue Day: Inside the Extraordinary Mind of an Autistic Savant</td><td>3.84</td><td>19445</td><td>math</td></tr>",
                            "<tr><td>Daniel Tammet</td><td>Born on a Blue Day: Inside the Extraordinary Mind of an Autistic Savant</td><td>3.84</td><td>19452</td><td>mathematics</td></tr>",
                            "<tr><td>Richard Matheson</td><td>Hell House</td><td>3.81</td><td>25893</td><td>richard-matheson</td></tr>",
                            "<tr><td>Richard Matheson</td><td>Hell House</td><td>3.81</td><td>19453</td><td>matheson</td></tr>",
                            "<tr><td>Edwin A. Abbott, Banesh Hoffmann</td><td>Flatland: A Romance of Many Dimensions</td><td>3.81</td><td>19452</td><td>mathematics</td></tr>",
                            "<tr><td>Edwin A. Abbott, Banesh Hoffmann</td><td>Flatland: A Romance of Many Dimensions</td><td>3.81</td><td>19445</td><td>math</td></tr>",
                            "<tr><td>Edwin A. Abbott, Banesh Hoffmann</td><td>Flatland: A Romance of Many Dimensions</td><td>3.81</td><td>19456</td><td>maths</td></tr>",
                            "<tr><td>Edwin A. Abbott, Banesh Hoffmann</td><td>Flatland: A Romance of Many Dimensions</td><td>3.81</td><td>19450</td><td>math-science</td></tr>",
                            "<tr><td>Edwin A. Abbott, Banesh Hoffmann</td><td>Flatland: A Romance of Many Dimensions</td><td>3.81</td><td>13055</td><td>geometry</td></tr>",
                            "<tr><td>Edwin A. Abbott, Banesh Hoffmann</td><td>Flatland: A Romance of Many Dimensions</td><td>3.81</td><td>26857</td><td>science-math</td></tr>",
                            "<tr><td>Edwin A. Abbott, Banesh Hoffmann</td><td>Flatland: A Romance of Many Dimensions</td><td>3.81</td><td>26819</td><td>science-and-math</td></tr>",
                            "<tr><td>Edwin A. Abbott, Banesh Hoffmann</td><td>Flatland: A Romance of Many Dimensions</td><td>3.81</td><td>19446</td><td>math-and-science</td></tr>",
                            "<tr><td>Dava Sobel</td><td>Galileo&#39;s Daughter: A Historical Memoir of Science, Faith and Love</td><td>3.74</td><td>19450</td><td>math-science</td></tr>",
                            "<tr><td>Christian Rudder</td><td>Dataclysm: Who We Are (When We Think No One&#39;s Looking)</td><td>3.72</td><td>19445</td><td>math</td></tr>",
                            "<tr><td>Christian Rudder</td><td>Dataclysm: Who We Are (When We Think No One&#39;s Looking)</td><td>3.72</td><td>19452</td><td>mathematics</td></tr>",
                            "<tr><td>Blue Balliett, Brett Helquist</td><td>Chasing Vermeer (Chasing Vermeer, #1)</td><td>3.71</td><td>19445</td><td>math</td></tr>",
                            "<tr><td>Mathias Malzieu</td><td>La Mécanique du cœur</td><td>3.6</td><td>19455</td><td>mathias-malzieu</td></tr>",
                            "<tr><td>Paolo Giordano, Shaun Whiteside</td><td>The Solitude of Prime Numbers</td><td>3.58</td><td>19452</td><td>mathematics</td></tr>",
                            "<tr><td>Paolo Giordano, Shaun Whiteside</td><td>The Solitude of Prime Numbers</td><td>3.58</td><td>19445</td><td>math</td></tr>",
                            "<tr><td>Kate Alcott</td><td>The Dressmaker</td><td>3.44</td><td>1791</td><td>aftermath-of-the-sinking</td></tr>",
                            "<tr><td>Kate Alcott</td><td>The Dressmaker</td><td>3.44</td><td>1792</td><td>aftermath-of-the-sinking-of-the-tit</td></tr>",
                            "</table>"
                        ]
                    }
                }
            ],
            "execution_count": 21
        },
        {
            "cell_type": "markdown",
            "source": [
                "Record your thoughts about why you wrote the query the way you did.\n",
                "\n",
                "<span style=\"color: #6a9955;\">-- I chose pi day 3.14</span>\n",
                "\n",
                "<span style=\"color: rgb(106, 153, 85); font-family: -apple-system, BlinkMacSystemFont, sans-serif;\">-- only using one database means its faster for me to just type \"BooksDB\" once instead of with every reference</span>\n",
                "\n",
                "<span style=\"color: #569cd6;\">USE</span> BooksDB\n",
                "\n",
                "<span style=\"color: #6a9955;\">-- minimum requirements by direction</span>\n",
                "\n",
                "<span style=\"color: #569cd6;\">SELECT</span> b.authors, b.title, b.average\\_rating, bt.tag\\_id, t.tag\\_name\n",
                "\n",
                "<span style=\"color: #6a9955;\">--the table with a majority of my needed information, thus my left table</span>\n",
                "\n",
                "<span style=\"color: #569cd6;\">FROM</span> books <span style=\"color: #569cd6;\">AS</span> b\n",
                "\n",
                "<span style=\"color: #6a9955;\">--joining book_tags to books lets me connect book titles to tag_id via a 3rd linking table 'tags' which is joined next.</span>\n",
                "\n",
                "<span style=\"color: #569cd6;\">INNER JOIN</span> book\\_tags <span style=\"color: #569cd6;\">AS</span> bt <span style=\"color: #569cd6;\">ON</span> bt.goodreads\\_book\\_id = b.best\\_book\\_id\n",
                "\n",
                "<span style=\"color: #6a9955;\">--the table tags provides tag_names so I can use a where clause to filter books with relevance to my chosen event 'pi day'</span>\n",
                "\n",
                "<span style=\"color: #569cd6;\">INNER JOIN</span> tags <span style=\"color: #569cd6;\">AS</span> t <span style=\"color: #569cd6;\">ON</span> bt.tag\\_id = t.tag\\_id\n",
                "\n",
                "<span style=\"color: #6a9955;\">--the where clause provides a filter for relevant titles to my event based on key words(I tried 'pi' but it made the filtering more broad)</span>\n",
                "\n",
                "<span style=\"color: #569cd6;\">WHERE</span> t.tag\\_name <span style=\"color: #569cd6;\">LIKE</span> <span style=\"color: #ce9178;\">'%math%'</span> <span style=\"color: #569cd6;\">OR</span> t.tag\\_name <span style=\"color: #569cd6;\">LIKE</span> <span style=\"color: #ce9178;\">'%geometry%'</span>\n",
                "\n",
                "<span style=\"color: #6a9955;\">--ordered by highest average rating</span>\n",
                "\n",
                "<span style=\"color: #569cd6;\">ORDER BY</span> b.average\\_rating <span style=\"color: #569cd6;\">DESC</span>;"
            ],
            "metadata": {
                "azdata_cell_guid": "264e6613-9a4a-4ffb-a241-69b7d30f0cf4"
            },
            "attachments": {}
        },
        {
            "cell_type": "markdown",
            "source": [
                "# Part 2: Choose Another Month\n",
                "\n",
                "Choose another month and plan at least 2 events / promotions and answer the following questions:\n",
                "\n",
                "1. Which month did you choose?\n",
                "2. What 2 events / promotions are you highlighting?\n",
                "\n",
                "> <span style=\"font-family: -apple-system, BlinkMacSystemFont, sans-serif; color: var(--vscode-foreground);\">Halloween/boss's day</span>"
            ],
            "metadata": {
                "azdata_cell_guid": "aa8a1b9f-74b5-46f8-925b-d8926c9c4000"
            },
            "attachments": {}
        },
        {
            "cell_type": "markdown",
            "source": [
                "# Part 3: Summarize your Work\n",
                "\n",
                "For each event write at least one query that joins any two tables in `BooksDB` to support your choice and record you thoughts as to why you used the paticlular query. At least one of your queries needs to include a `HAVING` clause."
            ],
            "metadata": {
                "azdata_cell_guid": "af822613-4f01-42a2-9a49-c39c8aa2c722"
            }
        },
        {
            "cell_type": "code",
            "source": [
                "-- Event 1 Query\n",
                "\n",
                "-- I chose October and am reusing my work from the previous promotion because its easier and effective as opposed to rewriting the same function in a different way\n",
                "\n",
                "-- only using one database means its faster for me to just type \"BooksDB\" once instead of with every reference\n",
                "USE BooksDB\n",
                "\n",
                "SELECT b.authors, b.title, b.average_rating, bt.tag_id, t.tag_name\n",
                "--the table with a majority of my needed information, thus my left table\n",
                "FROM books AS b\n",
                "--joining book_tags to books lets me connect book titles to tag_id via a 3rd linking table 'tags' which is joined next.\n",
                "INNER JOIN book_tags AS bt ON bt.goodreads_book_id = b.best_book_id\n",
                "--the table tags provides tag_names so I can use a where clause to filter books with relevance to my chosen event\n",
                "INNER JOIN tags AS t ON bt.tag_id = t.tag_id\n",
                "--the where clause provides a filter for relevant titles to my event based on key words\n",
                "WHERE t.tag_name LIKE '%pumpkin%' OR t.tag_name LIKE '%halloween%'\n",
                "--ordered by highest average rating\n",
                "ORDER BY b.average_rating DESC;"
            ],
            "metadata": {
                "vscode": {
                    "languageId": "sql"
                },
                "azdata_cell_guid": "be38158a-8d45-4201-b149-daa5d458e7f0",
                "language": "sql"
            },
            "outputs": [
                {
                    "output_type": "display_data",
                    "data": {
                        "text/html": "(76 rows affected)"
                    },
                    "metadata": {}
                },
                {
                    "output_type": "display_data",
                    "data": {
                        "text/html": "Total execution time: 00:00:00.402"
                    },
                    "metadata": {}
                },
                {
                    "output_type": "execute_result",
                    "metadata": {},
                    "execution_count": 22,
                    "data": {
                        "application/vnd.dataresource+json": {
                            "schema": {
                                "fields": [
                                    {
                                        "name": "authors"
                                    },
                                    {
                                        "name": "title"
                                    },
                                    {
                                        "name": "average_rating"
                                    },
                                    {
                                        "name": "tag_id"
                                    },
                                    {
                                        "name": "tag_name"
                                    }
                                ]
                            },
                            "data": [
                                {
                                    "authors": "Stephen King",
                                    "title": "Carrie / 'Salem's Lot / The Shining",
                                    "average_rating": "4.52",
                                    "tag_id": "13875",
                                    "tag_name": "halloween-reading"
                                },
                                {
                                    "authors": "Edgar Allan Poe",
                                    "title": "The Complete Stories and Poems",
                                    "average_rating": "4.37",
                                    "tag_id": "13873",
                                    "tag_name": "halloween"
                                },
                                {
                                    "authors": "H.P. Lovecraft, August Derleth, Robert Bloch",
                                    "title": "The Best of H.P. Lovecraft: Bloodcurdling Tales of Horror and the Macabre",
                                    "average_rating": "4.31",
                                    "tag_id": "13873",
                                    "tag_name": "halloween"
                                },
                                {
                                    "authors": "Edgar Allan Poe, Philip Pullman",
                                    "title": "The Raven and other poems",
                                    "average_rating": "4.3",
                                    "tag_id": "13873",
                                    "tag_name": "halloween"
                                },
                                {
                                    "authors": "Jeph Loeb, Tim Sale, Gregory Wright, Richard Starkings",
                                    "title": "Batman: The Long Halloween",
                                    "average_rating": "4.29",
                                    "tag_id": "13873",
                                    "tag_name": "halloween"
                                },
                                {
                                    "authors": "Rachel Renée Russell",
                                    "title": "Tales from a Not-So-Popular Party Girl (Dork Diaries, #2)",
                                    "average_rating": "4.28",
                                    "tag_id": "13873",
                                    "tag_name": "halloween"
                                },
                                {
                                    "authors": "H.P. Lovecraft, S.T. Joshi",
                                    "title": "The Call of Cthulhu and Other Weird Stories",
                                    "average_rating": "4.25",
                                    "tag_id": "13873",
                                    "tag_name": "halloween"
                                },
                                {
                                    "authors": "Judy Schachner",
                                    "title": "Skippyjon Jones in Mummy Trouble (Skippyjon Jones, #3)",
                                    "average_rating": "4.25",
                                    "tag_id": "13873",
                                    "tag_name": "halloween"
                                },
                                {
                                    "authors": "Linda Williams, Megan Lloyd",
                                    "title": "The Little Old Lady Who Was Not Afraid of Anything",
                                    "average_rating": "4.25",
                                    "tag_id": "13873",
                                    "tag_name": "halloween"
                                },
                                {
                                    "authors": "Linda Williams, Megan Lloyd",
                                    "title": "The Little Old Lady Who Was Not Afraid of Anything",
                                    "average_rating": "4.25",
                                    "tag_id": "24652",
                                    "tag_name": "pumpkins"
                                },
                                {
                                    "authors": "Linda Williams, Megan Lloyd",
                                    "title": "The Little Old Lady Who Was Not Afraid of Anything",
                                    "average_rating": "4.25",
                                    "tag_id": "14698",
                                    "tag_name": "holiday-halloween"
                                },
                                {
                                    "authors": "Linda Williams, Megan Lloyd",
                                    "title": "The Little Old Lady Who Was Not Afraid of Anything",
                                    "average_rating": "4.25",
                                    "tag_id": "13874",
                                    "tag_name": "halloween-books"
                                },
                                {
                                    "authors": "Linda Williams, Megan Lloyd",
                                    "title": "The Little Old Lady Who Was Not Afraid of Anything",
                                    "average_rating": "4.25",
                                    "tag_id": "14706",
                                    "tag_name": "holidays-halloween"
                                },
                                {
                                    "authors": "Linda Williams, Megan Lloyd",
                                    "title": "The Little Old Lady Who Was Not Afraid of Anything",
                                    "average_rating": "4.25",
                                    "tag_id": "13877",
                                    "tag_name": "halloween-storytime"
                                },
                                {
                                    "authors": "Edward Gorey",
                                    "title": "The Gashlycrumb Tinies (The Vinegar Works, #1)",
                                    "average_rating": "4.23",
                                    "tag_id": "13873",
                                    "tag_name": "halloween"
                                },
                                {
                                    "authors": "Janell Cannon",
                                    "title": "Stellaluna",
                                    "average_rating": "4.22",
                                    "tag_id": "13873",
                                    "tag_name": "halloween"
                                },
                                {
                                    "authors": "Mercer Mayer",
                                    "title": "There's a Nightmare in My Closet",
                                    "average_rating": "4.22",
                                    "tag_id": "13873",
                                    "tag_name": "halloween"
                                },
                                {
                                    "authors": "Ed Emberley",
                                    "title": "Go Away, Big Green Monster!",
                                    "average_rating": "4.21",
                                    "tag_id": "13873",
                                    "tag_name": "halloween"
                                },
                                {
                                    "authors": "Clive Barker",
                                    "title": "Books of Blood: Volumes One to Three (Books of Blood #1-3)",
                                    "average_rating": "4.16",
                                    "tag_id": "13873",
                                    "tag_name": "halloween"
                                },
                                {
                                    "authors": "Norman Bridwell",
                                    "title": "Clifford's Halloween",
                                    "average_rating": "4.14",
                                    "tag_id": "13873",
                                    "tag_name": "halloween"
                                },
                                {
                                    "authors": "Norman Bridwell",
                                    "title": "Clifford's Halloween",
                                    "average_rating": "4.14",
                                    "tag_id": "13874",
                                    "tag_name": "halloween-books"
                                },
                                {
                                    "authors": "Mary Downing Hahn",
                                    "title": "Wait Till Helen Comes",
                                    "average_rating": "4.14",
                                    "tag_id": "13873",
                                    "tag_name": "halloween"
                                },
                                {
                                    "authors": "William Peter Blatty",
                                    "title": "The Exorcist",
                                    "average_rating": "4.14",
                                    "tag_id": "13873",
                                    "tag_name": "halloween"
                                },
                                {
                                    "authors": "Robert Bloch",
                                    "title": "Psycho",
                                    "average_rating": "4.09",
                                    "tag_id": "13873",
                                    "tag_name": "halloween"
                                },
                                {
                                    "authors": "Alvin Schwartz, Stephen Gammell",
                                    "title": "Scary Stories to Tell in the Dark (Scary Stories, #1)",
                                    "average_rating": "4.05",
                                    "tag_id": "13873",
                                    "tag_name": "halloween"
                                },
                                {
                                    "authors": "Shirley Jackson, Jonathan Lethem",
                                    "title": "We Have Always Lived in the Castle",
                                    "average_rating": "4.05",
                                    "tag_id": "13873",
                                    "tag_name": "halloween"
                                },
                                {
                                    "authors": "William March, Elaine Showalter",
                                    "title": "The Bad Seed",
                                    "average_rating": "4.05",
                                    "tag_id": "13873",
                                    "tag_name": "halloween"
                                },
                                {
                                    "authors": "Neil Gaiman",
                                    "title": "Coraline",
                                    "average_rating": "4.03",
                                    "tag_id": "13873",
                                    "tag_name": "halloween"
                                },
                                {
                                    "authors": "Clive Barker",
                                    "title": "The Hellbound Heart",
                                    "average_rating": "4.02",
                                    "tag_id": "13873",
                                    "tag_name": "halloween"
                                },
                                {
                                    "authors": "Dan Simmons",
                                    "title": "Summer of Night",
                                    "average_rating": "4",
                                    "tag_id": "13873",
                                    "tag_name": "halloween"
                                },
                                {
                                    "authors": "Diane Arbus, Stan Grossfeld, Doon Arbus, Marvin Israel",
                                    "title": "Diane Arbus: Monograph",
                                    "average_rating": "4",
                                    "tag_id": "13873",
                                    "tag_name": "halloween"
                                },
                                {
                                    "authors": "Clive Barker",
                                    "title": "Books of Blood: Volume One (Books of Blood #1)",
                                    "average_rating": "4",
                                    "tag_id": "13873",
                                    "tag_name": "halloween"
                                },
                                {
                                    "authors": "Thomas Tryon",
                                    "title": "The Other",
                                    "average_rating": "3.99",
                                    "tag_id": "13873",
                                    "tag_name": "halloween"
                                },
                                {
                                    "authors": "Brian Lumley",
                                    "title": "Necroscope (Necroscope, #1)",
                                    "average_rating": "3.99",
                                    "tag_id": "13873",
                                    "tag_name": "halloween"
                                },
                                {
                                    "authors": "Stephen King",
                                    "title": "'Salem's Lot",
                                    "average_rating": "3.99",
                                    "tag_id": "13873",
                                    "tag_name": "halloween"
                                },
                                {
                                    "authors": "Josh Malerman",
                                    "title": "Bird Box",
                                    "average_rating": "3.98",
                                    "tag_id": "13873",
                                    "tag_name": "halloween"
                                },
                                {
                                    "authors": "Bo Hampton, Tracey Hampton, Washington Irving",
                                    "title": "The Legend of Sleepy Hollow (Graphic Novel)",
                                    "average_rating": "3.96",
                                    "tag_id": "13873",
                                    "tag_name": "halloween"
                                },
                                {
                                    "authors": "Ira Levin",
                                    "title": "Rosemary's Baby",
                                    "average_rating": "3.96",
                                    "tag_id": "13873",
                                    "tag_name": "halloween"
                                },
                                {
                                    "authors": "Peter Straub",
                                    "title": "Ghost Story",
                                    "average_rating": "3.95",
                                    "tag_id": "13873",
                                    "tag_name": "halloween"
                                },
                                {
                                    "authors": "Peter Straub",
                                    "title": "Ghost Story",
                                    "average_rating": "3.95",
                                    "tag_id": "13876",
                                    "tag_name": "halloween-reads"
                                },
                                {
                                    "authors": "Ray Bradbury",
                                    "title": "Something Wicked This Way Comes (Green Town, #2)",
                                    "average_rating": "3.95",
                                    "tag_id": "13873",
                                    "tag_name": "halloween"
                                },
                                {
                                    "authors": "Jill Murphy",
                                    "title": "The Worst Witch (Worst Witch, #1)",
                                    "average_rating": "3.94",
                                    "tag_id": "13873",
                                    "tag_name": "halloween"
                                },
                                {
                                    "authors": "Geoffrey Crayon, Washington Irving, William L. Hedges",
                                    "title": "The Legend of Sleepy Hollow and Other Stories",
                                    "average_rating": "3.93",
                                    "tag_id": "13873",
                                    "tag_name": "halloween"
                                },
                                {
                                    "authors": "Emily Carroll",
                                    "title": "Through the Woods",
                                    "average_rating": "3.92",
                                    "tag_id": "13873",
                                    "tag_name": "halloween"
                                },
                                {
                                    "authors": "James Herbert",
                                    "title": "The Rats (Rats, #1)",
                                    "average_rating": "3.92",
                                    "tag_id": "13876",
                                    "tag_name": "halloween-reads"
                                },
                                {
                                    "authors": "Gary Brandner",
                                    "title": "The Howling",
                                    "average_rating": "3.92",
                                    "tag_id": "28416",
                                    "tag_name": "spooky-reads-for-halloween"
                                },
                                {
                                    "authors": "John Saul",
                                    "title": "Suffer the Children",
                                    "average_rating": "3.9",
                                    "tag_id": "13876",
                                    "tag_name": "halloween-reads"
                                },
                                {
                                    "authors": "Dan Simmons",
                                    "title": "Carrion Comfort",
                                    "average_rating": "3.89",
                                    "tag_id": "13873",
                                    "tag_name": "halloween"
                                },
                                {
                                    "authors": "Rick Yancey",
                                    "title": "The Monstrumologist (The Monstrumologist, #1)",
                                    "average_rating": "3.89",
                                    "tag_id": "13873",
                                    "tag_name": "halloween"
                                },
                                {
                                    "authors": "Poppy Z. Brite",
                                    "title": "Lost Souls",
                                    "average_rating": "3.89",
                                    "tag_id": "13873",
                                    "tag_name": "halloween"
                                },
                                {
                                    "authors": "Shirley Jackson, Laura   Miller",
                                    "title": "The Haunting of Hill House",
                                    "average_rating": "3.89",
                                    "tag_id": "13873",
                                    "tag_name": "halloween"
                                },
                                {
                                    "authors": "Shirley Jackson, Laura   Miller",
                                    "title": "The Haunting of Hill House",
                                    "average_rating": "3.89",
                                    "tag_id": "13876",
                                    "tag_name": "halloween-reads"
                                },
                                {
                                    "authors": "Frank De Felitta",
                                    "title": "Audrey Rose",
                                    "average_rating": "3.86",
                                    "tag_id": "13873",
                                    "tag_name": "halloween"
                                },
                                {
                                    "authors": "Diane Mowat, W.W. Jacobs",
                                    "title": "The Monkey's Paw (Oxford Bookworms)",
                                    "average_rating": "3.85",
                                    "tag_id": "13873",
                                    "tag_name": "halloween"
                                },
                                {
                                    "authors": "Diane Mott Davidson",
                                    "title": "Catering to Nobody (A Goldy Bear Culinary Mystery, #1)",
                                    "average_rating": "3.85",
                                    "tag_id": "13873",
                                    "tag_name": "halloween"
                                },
                                {
                                    "authors": "J. Sheridan Le Fanu",
                                    "title": "Carmilla",
                                    "average_rating": "3.83",
                                    "tag_id": "13873",
                                    "tag_name": "halloween"
                                },
                                {
                                    "authors": "James Howe, Deborah Howe, Alan Daniel",
                                    "title": "Bunnicula (Bunnicula, #1)",
                                    "average_rating": "3.83",
                                    "tag_id": "13873",
                                    "tag_name": "halloween"
                                },
                                {
                                    "authors": "Joe Hill",
                                    "title": "Heart-Shaped Box",
                                    "average_rating": "3.82",
                                    "tag_id": "13873",
                                    "tag_name": "halloween"
                                },
                                {
                                    "authors": "Jay Anson",
                                    "title": "The Amityville Horror",
                                    "average_rating": "3.82",
                                    "tag_id": "13873",
                                    "tag_name": "halloween"
                                },
                                {
                                    "authors": "Jay Anson",
                                    "title": "The Amityville Horror",
                                    "average_rating": "3.82",
                                    "tag_id": "13876",
                                    "tag_name": "halloween-reads"
                                },
                                {
                                    "authors": "Paul Tremblay",
                                    "title": "A Head Full of Ghosts",
                                    "average_rating": "3.82",
                                    "tag_id": "13873",
                                    "tag_name": "halloween"
                                },
                                {
                                    "authors": "Richard Matheson",
                                    "title": "Hell House",
                                    "average_rating": "3.81",
                                    "tag_id": "13873",
                                    "tag_name": "halloween"
                                },
                                {
                                    "authors": "R.L. Stine",
                                    "title": "Night of the Living Dummy (Goosebumps, #7)",
                                    "average_rating": "3.8",
                                    "tag_id": "13873",
                                    "tag_name": "halloween"
                                },
                                {
                                    "authors": "Alice Hoffman",
                                    "title": "Practical Magic",
                                    "average_rating": "3.8",
                                    "tag_id": "13873",
                                    "tag_name": "halloween"
                                },
                                {
                                    "authors": "R.L. Stine",
                                    "title": "The Haunted Mask (Goosebumps, #11)",
                                    "average_rating": "3.77",
                                    "tag_id": "13873",
                                    "tag_name": "halloween"
                                },
                                {
                                    "authors": "Washington Irving",
                                    "title": "The Legend of Sleepy Hollow",
                                    "average_rating": "3.74",
                                    "tag_id": "13873",
                                    "tag_name": "halloween"
                                },
                                {
                                    "authors": "H.G. Wells",
                                    "title": "The Island of Dr. Moreau",
                                    "average_rating": "3.72",
                                    "tag_id": "13873",
                                    "tag_name": "halloween"
                                },
                                {
                                    "authors": "Holly Black, Eliza Wheeler",
                                    "title": "Doll Bones",
                                    "average_rating": "3.7",
                                    "tag_id": "13873",
                                    "tag_name": "halloween"
                                },
                                {
                                    "authors": "Susan Hill, John Lawrence",
                                    "title": "The Woman in Black",
                                    "average_rating": "3.68",
                                    "tag_id": "13873",
                                    "tag_name": "halloween"
                                },
                                {
                                    "authors": "Agatha Christie",
                                    "title": "Hallowe'en Party (Hercule Poirot, #36)",
                                    "average_rating": "3.66",
                                    "tag_id": "13873",
                                    "tag_name": "halloween"
                                },
                                {
                                    "authors": "R.L. Stine",
                                    "title": "Stay Out of the Basement  (Goosebumps, #2)",
                                    "average_rating": "3.64",
                                    "tag_id": "13873",
                                    "tag_name": "halloween"
                                },
                                {
                                    "authors": "Madeleine Roux",
                                    "title": "Asylum (Asylum, #1)",
                                    "average_rating": "3.64",
                                    "tag_id": "13873",
                                    "tag_name": "halloween"
                                },
                                {
                                    "authors": "Madeleine Roux",
                                    "title": "Asylum (Asylum, #1)",
                                    "average_rating": "3.64",
                                    "tag_id": "13876",
                                    "tag_name": "halloween-reads"
                                },
                                {
                                    "authors": "Grady Hendrix, Michael Rogalski",
                                    "title": "Horrorstör",
                                    "average_rating": "3.59",
                                    "tag_id": "13873",
                                    "tag_name": "halloween"
                                },
                                {
                                    "authors": "Robert W. Chambers, E.F. Bleiler",
                                    "title": "The King in Yellow and Other Horror Stories",
                                    "average_rating": "3.57",
                                    "tag_id": "13873",
                                    "tag_name": "halloween"
                                },
                                {
                                    "authors": "Brenna Yovanoff",
                                    "title": "The Replacement",
                                    "average_rating": "3.56",
                                    "tag_id": "13873",
                                    "tag_name": "halloween"
                                }
                            ]
                        },
                        "text/html": [
                            "<table>",
                            "<tr><th>authors</th><th>title</th><th>average_rating</th><th>tag_id</th><th>tag_name</th></tr>",
                            "<tr><td>Stephen King</td><td>Carrie / &#39;Salem&#39;s Lot / The Shining</td><td>4.52</td><td>13875</td><td>halloween-reading</td></tr>",
                            "<tr><td>Edgar Allan Poe</td><td>The Complete Stories and Poems</td><td>4.37</td><td>13873</td><td>halloween</td></tr>",
                            "<tr><td>H.P. Lovecraft, August Derleth, Robert Bloch</td><td>The Best of H.P. Lovecraft: Bloodcurdling Tales of Horror and the Macabre</td><td>4.31</td><td>13873</td><td>halloween</td></tr>",
                            "<tr><td>Edgar Allan Poe, Philip Pullman</td><td>The Raven and other poems</td><td>4.3</td><td>13873</td><td>halloween</td></tr>",
                            "<tr><td>Jeph Loeb, Tim Sale, Gregory Wright, Richard Starkings</td><td>Batman: The Long Halloween</td><td>4.29</td><td>13873</td><td>halloween</td></tr>",
                            "<tr><td>Rachel Renée Russell</td><td>Tales from a Not-So-Popular Party Girl (Dork Diaries, #2)</td><td>4.28</td><td>13873</td><td>halloween</td></tr>",
                            "<tr><td>H.P. Lovecraft, S.T. Joshi</td><td>The Call of Cthulhu and Other Weird Stories</td><td>4.25</td><td>13873</td><td>halloween</td></tr>",
                            "<tr><td>Judy Schachner</td><td>Skippyjon Jones in Mummy Trouble (Skippyjon Jones, #3)</td><td>4.25</td><td>13873</td><td>halloween</td></tr>",
                            "<tr><td>Linda Williams, Megan Lloyd</td><td>The Little Old Lady Who Was Not Afraid of Anything</td><td>4.25</td><td>13873</td><td>halloween</td></tr>",
                            "<tr><td>Linda Williams, Megan Lloyd</td><td>The Little Old Lady Who Was Not Afraid of Anything</td><td>4.25</td><td>24652</td><td>pumpkins</td></tr>",
                            "<tr><td>Linda Williams, Megan Lloyd</td><td>The Little Old Lady Who Was Not Afraid of Anything</td><td>4.25</td><td>14698</td><td>holiday-halloween</td></tr>",
                            "<tr><td>Linda Williams, Megan Lloyd</td><td>The Little Old Lady Who Was Not Afraid of Anything</td><td>4.25</td><td>13874</td><td>halloween-books</td></tr>",
                            "<tr><td>Linda Williams, Megan Lloyd</td><td>The Little Old Lady Who Was Not Afraid of Anything</td><td>4.25</td><td>14706</td><td>holidays-halloween</td></tr>",
                            "<tr><td>Linda Williams, Megan Lloyd</td><td>The Little Old Lady Who Was Not Afraid of Anything</td><td>4.25</td><td>13877</td><td>halloween-storytime</td></tr>",
                            "<tr><td>Edward Gorey</td><td>The Gashlycrumb Tinies (The Vinegar Works, #1)</td><td>4.23</td><td>13873</td><td>halloween</td></tr>",
                            "<tr><td>Janell Cannon</td><td>Stellaluna</td><td>4.22</td><td>13873</td><td>halloween</td></tr>",
                            "<tr><td>Mercer Mayer</td><td>There&#39;s a Nightmare in My Closet</td><td>4.22</td><td>13873</td><td>halloween</td></tr>",
                            "<tr><td>Ed Emberley</td><td>Go Away, Big Green Monster!</td><td>4.21</td><td>13873</td><td>halloween</td></tr>",
                            "<tr><td>Clive Barker</td><td>Books of Blood: Volumes One to Three (Books of Blood #1-3)</td><td>4.16</td><td>13873</td><td>halloween</td></tr>",
                            "<tr><td>Norman Bridwell</td><td>Clifford&#39;s Halloween</td><td>4.14</td><td>13873</td><td>halloween</td></tr>",
                            "<tr><td>Norman Bridwell</td><td>Clifford&#39;s Halloween</td><td>4.14</td><td>13874</td><td>halloween-books</td></tr>",
                            "<tr><td>Mary Downing Hahn</td><td>Wait Till Helen Comes</td><td>4.14</td><td>13873</td><td>halloween</td></tr>",
                            "<tr><td>William Peter Blatty</td><td>The Exorcist</td><td>4.14</td><td>13873</td><td>halloween</td></tr>",
                            "<tr><td>Robert Bloch</td><td>Psycho</td><td>4.09</td><td>13873</td><td>halloween</td></tr>",
                            "<tr><td>Alvin Schwartz, Stephen Gammell</td><td>Scary Stories to Tell in the Dark (Scary Stories, #1)</td><td>4.05</td><td>13873</td><td>halloween</td></tr>",
                            "<tr><td>Shirley Jackson, Jonathan Lethem</td><td>We Have Always Lived in the Castle</td><td>4.05</td><td>13873</td><td>halloween</td></tr>",
                            "<tr><td>William March, Elaine Showalter</td><td>The Bad Seed</td><td>4.05</td><td>13873</td><td>halloween</td></tr>",
                            "<tr><td>Neil Gaiman</td><td>Coraline</td><td>4.03</td><td>13873</td><td>halloween</td></tr>",
                            "<tr><td>Clive Barker</td><td>The Hellbound Heart</td><td>4.02</td><td>13873</td><td>halloween</td></tr>",
                            "<tr><td>Dan Simmons</td><td>Summer of Night</td><td>4</td><td>13873</td><td>halloween</td></tr>",
                            "<tr><td>Diane Arbus, Stan Grossfeld, Doon Arbus, Marvin Israel</td><td>Diane Arbus: Monograph</td><td>4</td><td>13873</td><td>halloween</td></tr>",
                            "<tr><td>Clive Barker</td><td>Books of Blood: Volume One (Books of Blood #1)</td><td>4</td><td>13873</td><td>halloween</td></tr>",
                            "<tr><td>Thomas Tryon</td><td>The Other</td><td>3.99</td><td>13873</td><td>halloween</td></tr>",
                            "<tr><td>Brian Lumley</td><td>Necroscope (Necroscope, #1)</td><td>3.99</td><td>13873</td><td>halloween</td></tr>",
                            "<tr><td>Stephen King</td><td>&#39;Salem&#39;s Lot</td><td>3.99</td><td>13873</td><td>halloween</td></tr>",
                            "<tr><td>Josh Malerman</td><td>Bird Box</td><td>3.98</td><td>13873</td><td>halloween</td></tr>",
                            "<tr><td>Bo Hampton, Tracey Hampton, Washington Irving</td><td>The Legend of Sleepy Hollow (Graphic Novel)</td><td>3.96</td><td>13873</td><td>halloween</td></tr>",
                            "<tr><td>Ira Levin</td><td>Rosemary&#39;s Baby</td><td>3.96</td><td>13873</td><td>halloween</td></tr>",
                            "<tr><td>Peter Straub</td><td>Ghost Story</td><td>3.95</td><td>13873</td><td>halloween</td></tr>",
                            "<tr><td>Peter Straub</td><td>Ghost Story</td><td>3.95</td><td>13876</td><td>halloween-reads</td></tr>",
                            "<tr><td>Ray Bradbury</td><td>Something Wicked This Way Comes (Green Town, #2)</td><td>3.95</td><td>13873</td><td>halloween</td></tr>",
                            "<tr><td>Jill Murphy</td><td>The Worst Witch (Worst Witch, #1)</td><td>3.94</td><td>13873</td><td>halloween</td></tr>",
                            "<tr><td>Geoffrey Crayon, Washington Irving, William L. Hedges</td><td>The Legend of Sleepy Hollow and Other Stories</td><td>3.93</td><td>13873</td><td>halloween</td></tr>",
                            "<tr><td>Emily Carroll</td><td>Through the Woods</td><td>3.92</td><td>13873</td><td>halloween</td></tr>",
                            "<tr><td>James Herbert</td><td>The Rats (Rats, #1)</td><td>3.92</td><td>13876</td><td>halloween-reads</td></tr>",
                            "<tr><td>Gary Brandner</td><td>The Howling</td><td>3.92</td><td>28416</td><td>spooky-reads-for-halloween</td></tr>",
                            "<tr><td>John Saul</td><td>Suffer the Children</td><td>3.9</td><td>13876</td><td>halloween-reads</td></tr>",
                            "<tr><td>Dan Simmons</td><td>Carrion Comfort</td><td>3.89</td><td>13873</td><td>halloween</td></tr>",
                            "<tr><td>Rick Yancey</td><td>The Monstrumologist (The Monstrumologist, #1)</td><td>3.89</td><td>13873</td><td>halloween</td></tr>",
                            "<tr><td>Poppy Z. Brite</td><td>Lost Souls</td><td>3.89</td><td>13873</td><td>halloween</td></tr>",
                            "<tr><td>Shirley Jackson, Laura   Miller</td><td>The Haunting of Hill House</td><td>3.89</td><td>13873</td><td>halloween</td></tr>",
                            "<tr><td>Shirley Jackson, Laura   Miller</td><td>The Haunting of Hill House</td><td>3.89</td><td>13876</td><td>halloween-reads</td></tr>",
                            "<tr><td>Frank De Felitta</td><td>Audrey Rose</td><td>3.86</td><td>13873</td><td>halloween</td></tr>",
                            "<tr><td>Diane Mowat, W.W. Jacobs</td><td>The Monkey&#39;s Paw (Oxford Bookworms)</td><td>3.85</td><td>13873</td><td>halloween</td></tr>",
                            "<tr><td>Diane Mott Davidson</td><td>Catering to Nobody (A Goldy Bear Culinary Mystery, #1)</td><td>3.85</td><td>13873</td><td>halloween</td></tr>",
                            "<tr><td>J. Sheridan Le Fanu</td><td>Carmilla</td><td>3.83</td><td>13873</td><td>halloween</td></tr>",
                            "<tr><td>James Howe, Deborah Howe, Alan Daniel</td><td>Bunnicula (Bunnicula, #1)</td><td>3.83</td><td>13873</td><td>halloween</td></tr>",
                            "<tr><td>Joe Hill</td><td>Heart-Shaped Box</td><td>3.82</td><td>13873</td><td>halloween</td></tr>",
                            "<tr><td>Jay Anson</td><td>The Amityville Horror</td><td>3.82</td><td>13873</td><td>halloween</td></tr>",
                            "<tr><td>Jay Anson</td><td>The Amityville Horror</td><td>3.82</td><td>13876</td><td>halloween-reads</td></tr>",
                            "<tr><td>Paul Tremblay</td><td>A Head Full of Ghosts</td><td>3.82</td><td>13873</td><td>halloween</td></tr>",
                            "<tr><td>Richard Matheson</td><td>Hell House</td><td>3.81</td><td>13873</td><td>halloween</td></tr>",
                            "<tr><td>R.L. Stine</td><td>Night of the Living Dummy (Goosebumps, #7)</td><td>3.8</td><td>13873</td><td>halloween</td></tr>",
                            "<tr><td>Alice Hoffman</td><td>Practical Magic</td><td>3.8</td><td>13873</td><td>halloween</td></tr>",
                            "<tr><td>R.L. Stine</td><td>The Haunted Mask (Goosebumps, #11)</td><td>3.77</td><td>13873</td><td>halloween</td></tr>",
                            "<tr><td>Washington Irving</td><td>The Legend of Sleepy Hollow</td><td>3.74</td><td>13873</td><td>halloween</td></tr>",
                            "<tr><td>H.G. Wells</td><td>The Island of Dr. Moreau</td><td>3.72</td><td>13873</td><td>halloween</td></tr>",
                            "<tr><td>Holly Black, Eliza Wheeler</td><td>Doll Bones</td><td>3.7</td><td>13873</td><td>halloween</td></tr>",
                            "<tr><td>Susan Hill, John Lawrence</td><td>The Woman in Black</td><td>3.68</td><td>13873</td><td>halloween</td></tr>",
                            "<tr><td>Agatha Christie</td><td>Hallowe&#39;en Party (Hercule Poirot, #36)</td><td>3.66</td><td>13873</td><td>halloween</td></tr>",
                            "<tr><td>R.L. Stine</td><td>Stay Out of the Basement  (Goosebumps, #2)</td><td>3.64</td><td>13873</td><td>halloween</td></tr>",
                            "<tr><td>Madeleine Roux</td><td>Asylum (Asylum, #1)</td><td>3.64</td><td>13873</td><td>halloween</td></tr>",
                            "<tr><td>Madeleine Roux</td><td>Asylum (Asylum, #1)</td><td>3.64</td><td>13876</td><td>halloween-reads</td></tr>",
                            "<tr><td>Grady Hendrix, Michael Rogalski</td><td>Horrorstör</td><td>3.59</td><td>13873</td><td>halloween</td></tr>",
                            "<tr><td>Robert W. Chambers, E.F. Bleiler</td><td>The King in Yellow and Other Horror Stories</td><td>3.57</td><td>13873</td><td>halloween</td></tr>",
                            "<tr><td>Brenna Yovanoff</td><td>The Replacement</td><td>3.56</td><td>13873</td><td>halloween</td></tr>",
                            "</table>"
                        ]
                    }
                }
            ],
            "execution_count": 22
        },
        {
            "cell_type": "markdown",
            "source": [
                "### Summarize Event 1\n",
                "\n",
                "<span style=\"color: #6a9955;\">-- I chose October and am reusing my work from the previous promotion because its easier and effective as opposed to rewriting the same function in a different way</span>\n",
                "\n",
                "  \n",
                "\n",
                "<span style=\"color: #6a9955;\">-- only using one database means its faster for me to just type \"BooksDB\" once instead of with every reference</span>\n",
                "\n",
                "<span style=\"color: #569cd6;\">USE</span> BooksDB\n",
                "\n",
                "  \n",
                "\n",
                "<span style=\"color: #569cd6;\">SELECT</span> b.authors, b.title, b.average\\_rating, bt.tag\\_id, t.tag\\_name\n",
                "\n",
                "<span style=\"color: #6a9955;\">--the table with a majority of my needed information, thus my left table</span>\n",
                "\n",
                "<span style=\"color: #569cd6;\">FROM</span> books <span style=\"color: #569cd6;\">AS</span> b\n",
                "\n",
                "<span style=\"color: #6a9955;\">--joining book_tags to books lets me connect book titles to tag_id via a 3rd linking table 'tags' which is joined next.</span>\n",
                "\n",
                "<span style=\"color: #569cd6;\">INNER JOIN</span> book\\_tags <span style=\"color: #569cd6;\">AS</span> bt <span style=\"color: #569cd6;\">ON</span> bt.goodreads\\_book\\_id = b.best\\_book\\_id\n",
                "\n",
                "<span style=\"color: #6a9955;\">--the table tags provides tag_names so I can use a where clause to filter books with relevance to my chosen event</span>\n",
                "\n",
                "<span style=\"color: #569cd6;\">INNER JOIN</span> tags <span style=\"color: #569cd6;\">AS</span> t <span style=\"color: #569cd6;\">ON</span> bt.tag\\_id = t.tag\\_id\n",
                "\n",
                "<span style=\"color: #6a9955;\">--the where clause provides a filter for relevant titles to my event based on key words</span>\n",
                "\n",
                "<span style=\"color: #569cd6;\">WHERE</span> t.tag\\_name <span style=\"color: #569cd6;\">LIKE</span> <span style=\"color: #ce9178;\">'%pumpkin%'</span> <span style=\"color: #569cd6;\">OR</span> t.tag\\_name <span style=\"color: #569cd6;\">LIKE</span> <span style=\"color: #ce9178;\">'%halloween%'</span>\n",
                "\n",
                "<span style=\"color: #6a9955;\">--ordered by highest average rating</span>\n",
                "\n",
                "<span style=\"color: #569cd6;\">ORDER BY</span> b.average\\_rating <span style=\"color: #569cd6;\">DESC</span>;"
            ],
            "metadata": {
                "azdata_cell_guid": "645a8ed8-ae60-4f4c-8bb3-6ff34fd42ccd"
            },
            "attachments": {}
        },
        {
            "cell_type": "code",
            "source": [
                "-- Event 2 Query\n",
                "-- I chose October and am reusing my work from the previous promotion because its easier and effective as opposed to rewriting the same function in a different way\n",
                "\n",
                "-- only using one database means its faster for me to just type \"BooksDB\" once instead of with every reference\n",
                "USE BooksDB\n",
                "\n",
                "SELECT b.authors, b.title, b.average_rating, bt.tag_id, t.tag_name\n",
                "--the table with a majority of my needed information, thus my left table\n",
                "FROM books AS b\n",
                "--joining book_tags to books lets me connect book titles to tag_id via a 3rd linking table 'tags' which is joined next.\n",
                "INNER JOIN book_tags AS bt ON bt.goodreads_book_id = b.best_book_id\n",
                "--the table tags provides tag_names so I can use a where clause to filter books with relevance to my chosen event\n",
                "INNER JOIN tags AS t ON bt.tag_id = t.tag_id\n",
                "--the where clause provides a filter for relevant titles to my event based on key words\n",
                "WHERE t.tag_name LIKE '%coworker%' OR t.tag_name LIKE '%boss%'\n",
                "--ordered by highest average rating\n",
                "ORDER BY b.average_rating DESC;"
            ],
            "metadata": {
                "vscode": {
                    "languageId": "sql"
                },
                "azdata_cell_guid": "ab667988-1198-498b-b1b1-752992d44fbf",
                "language": "sql"
            },
            "outputs": [
                {
                    "output_type": "display_data",
                    "data": {
                        "text/html": "(584 rows affected)"
                    },
                    "metadata": {}
                },
                {
                    "output_type": "display_data",
                    "data": {
                        "text/html": "Total execution time: 00:00:00.329"
                    },
                    "metadata": {}
                },
                {
                    "output_type": "execute_result",
                    "metadata": {},
                    "execution_count": 23,
                    "data": {
                        "application/vnd.dataresource+json": {
                            "schema": {
                                "fields": [
                                    {
                                        "name": "authors"
                                    },
                                    {
                                        "name": "title"
                                    },
                                    {
                                        "name": "average_rating"
                                    },
                                    {
                                        "name": "tag_id"
                                    },
                                    {
                                        "name": "tag_name"
                                    }
                                ]
                            },
                            "data": [
                                {
                                    "authors": "Michelle Alexander",
                                    "title": "The New Jim Crow: Mass Incarceration in the Age of Colorblindness",
                                    "average_rating": "4.49",
                                    "tag_id": "28038",
                                    "tag_name": "social-work"
                                },
                                {
                                    "authors": "Phil Knight",
                                    "title": "Shoe Dog: A Memoir by the Creator of NIKE",
                                    "average_rating": "4.46",
                                    "tag_id": "32766",
                                    "tag_name": "work"
                                },
                                {
                                    "authors": "Oscar Wilde, Merlin Holland",
                                    "title": "Complete Works of Oscar Wilde",
                                    "average_rating": "4.45",
                                    "tag_id": "7919",
                                    "tag_name": "complete-works"
                                },
                                {
                                    "authors": "Timothy J. Keller, Kathy  Keller",
                                    "title": "The Meaning of Marriage: Facing the Complexities of Commitment with the Wisdom of God",
                                    "average_rating": "4.43",
                                    "tag_id": "32766",
                                    "tag_name": "work"
                                },
                                {
                                    "authors": "E.L. James",
                                    "title": "Fifty Shades Duo: Fifty Shades Darker / Fifty Shades Freed (Fifty Shades, #2-3)",
                                    "average_rating": "4.41",
                                    "tag_id": "32783",
                                    "tag_name": "workplace-romance"
                                },
                                {
                                    "authors": "The Church of Jesus Christ of Latter-day Saints",
                                    "title": "Book of Mormon, Doctrine and Covenants, Pearl of Great Price",
                                    "average_rating": "4.36",
                                    "tag_id": "17771",
                                    "tag_name": "lds-standard-works"
                                },
                                {
                                    "authors": "Carl Sagan",
                                    "title": "Cosmos",
                                    "average_rating": "4.35",
                                    "tag_id": "32784",
                                    "tag_name": "works"
                                },
                                {
                                    "authors": "Vi Keeland",
                                    "title": "Egomaniac",
                                    "average_rating": "4.34",
                                    "tag_id": "32783",
                                    "tag_name": "workplace-romance"
                                },
                                {
                                    "authors": "Mariana Zapata",
                                    "title": "The Wall of Winnipeg and Me",
                                    "average_rating": "4.34",
                                    "tag_id": "5498",
                                    "tag_name": "boss"
                                },
                                {
                                    "authors": "Henry T. Blackaby, Claude V. King, Richard Blackaby",
                                    "title": "Experiencing God: Knowing and Doing the Will of God, Workbook",
                                    "average_rating": "4.32",
                                    "tag_id": "32779",
                                    "tag_name": "workbook"
                                },
                                {
                                    "authors": "Carl Sagan, Ann Druyan",
                                    "title": "Pale Blue Dot: A Vision of the Human Future in Space",
                                    "average_rating": "4.32",
                                    "tag_id": "32784",
                                    "tag_name": "works"
                                },
                                {
                                    "authors": "Vernor Vinge",
                                    "title": "A Deepness in the Sky (Zones of Thought, #2)",
                                    "average_rating": "4.32",
                                    "tag_id": "27405",
                                    "tag_name": "sf-masterworks"
                                },
                                {
                                    "authors": "Andrew Hunt, Dave Thomas",
                                    "title": "The Pragmatic Programmer: From Journeyman to Master",
                                    "average_rating": "4.31",
                                    "tag_id": "32766",
                                    "tag_name": "work"
                                },
                                {
                                    "authors": "Andrew Hunt, Dave Thomas",
                                    "title": "The Pragmatic Programmer: From Journeyman to Master",
                                    "average_rating": "4.31",
                                    "tag_id": "32775",
                                    "tag_name": "work-related"
                                },
                                {
                                    "authors": "Dietrich Bonhoeffer",
                                    "title": "Life Together: The Classic Exploration of Christian Community",
                                    "average_rating": "4.29",
                                    "tag_id": "32766",
                                    "tag_name": "work"
                                },
                                {
                                    "authors": "Lynley Dodd",
                                    "title": "Hairy Maclary from Donaldson's Dairy",
                                    "average_rating": "4.28",
                                    "tag_id": "32766",
                                    "tag_name": "work"
                                },
                                {
                                    "authors": "Barbara Ann Brennan, Jos. A. Smith",
                                    "title": "Hands Of Light",
                                    "average_rating": "4.27",
                                    "tag_id": "10621",
                                    "tag_name": "energy-work"
                                },
                                {
                                    "authors": "Barbara Ann Brennan, Jos. A. Smith",
                                    "title": "Hands Of Light",
                                    "average_rating": "4.27",
                                    "tag_id": "32766",
                                    "tag_name": "work"
                                },
                                {
                                    "authors": "Robert Greene",
                                    "title": "Mastery",
                                    "average_rating": "4.27",
                                    "tag_id": "32766",
                                    "tag_name": "work"
                                },
                                {
                                    "authors": "Benjamin Graham, Jason Zweig, Warren Buffett",
                                    "title": "The Intelligent Investor (Collins Business Essentials)",
                                    "average_rating": "4.27",
                                    "tag_id": "32766",
                                    "tag_name": "work"
                                },
                                {
                                    "authors": "Carl Sagan, Ann Druyan",
                                    "title": "The Demon-Haunted World: Science as a Candle in the Dark",
                                    "average_rating": "4.27",
                                    "tag_id": "32784",
                                    "tag_name": "works"
                                },
                                {
                                    "authors": "Jack Canfield, Janet Switzer",
                                    "title": "The Success Principles: How to Get from Where You Are to Where You Want to Be",
                                    "average_rating": "4.26",
                                    "tag_id": "21347",
                                    "tag_name": "network-marketing"
                                },
                                {
                                    "authors": "Andrew Solomon",
                                    "title": "Far from the Tree: Parents, Children, and the Search for Identity",
                                    "average_rating": "4.26",
                                    "tag_id": "28038",
                                    "tag_name": "social-work"
                                },
                                {
                                    "authors": "Andrew Solomon",
                                    "title": "Far from the Tree: Parents, Children, and the Search for Identity",
                                    "average_rating": "4.26",
                                    "tag_id": "32766",
                                    "tag_name": "work"
                                },
                                {
                                    "authors": "Alan Lee, Ian McKellen",
                                    "title": "The Lord of the Rings Sketchbook",
                                    "average_rating": "4.26",
                                    "tag_id": "3186",
                                    "tag_name": "artwork"
                                },
                                {
                                    "authors": "Michael J. Sandel",
                                    "title": "Justice: What's the Right Thing to Do?",
                                    "average_rating": "4.25",
                                    "tag_id": "28038",
                                    "tag_name": "social-work"
                                },
                                {
                                    "authors": "Margret Rey, H.A. Rey, Martha Weston",
                                    "title": "Curious George Visits the Library",
                                    "average_rating": "4.25",
                                    "tag_id": "7892",
                                    "tag_name": "community-workers"
                                },
                                {
                                    "authors": "Frank Bettger",
                                    "title": "How I Raised Myself from Failure to Success in Selling",
                                    "average_rating": "4.25",
                                    "tag_id": "32766",
                                    "tag_name": "work"
                                },
                                {
                                    "authors": "Zig Ziglar, Al Mayton",
                                    "title": "See You at the Top",
                                    "average_rating": "4.25",
                                    "tag_id": "1100",
                                    "tag_name": "48-days-to-the-work-you-love"
                                },
                                {
                                    "authors": "Alex Kotlowitz",
                                    "title": "There are No Children Here: The Story of Two Boys Growing Up in the Other America",
                                    "average_rating": "4.25",
                                    "tag_id": "28038",
                                    "tag_name": "social-work"
                                },
                                {
                                    "authors": "Ted Andrews, Winston Allen, Margaret K. Andrews",
                                    "title": "Animal-Speak: The Spiritual & Magical Powers of Creatures Great & Small",
                                    "average_rating": "4.25",
                                    "tag_id": "28170",
                                    "tag_name": "soul-work"
                                },
                                {
                                    "authors": "V.S. Ramachandran, Sandra Blakeslee, Oliver Sacks",
                                    "title": "Phantoms in the Brain: Probing the Mysteries of the Human Mind",
                                    "average_rating": "4.25",
                                    "tag_id": "32766",
                                    "tag_name": "work"
                                },
                                {
                                    "authors": "Paulo Freire, Myra Bergman Ramos, Donaldo Macedo, Richard Shaull",
                                    "title": "Pedagogy of the Oppressed",
                                    "average_rating": "4.25",
                                    "tag_id": "28038",
                                    "tag_name": "social-work"
                                },
                                {
                                    "authors": "Paulo Freire, Myra Bergman Ramos, Donaldo Macedo, Richard Shaull",
                                    "title": "Pedagogy of the Oppressed",
                                    "average_rating": "4.25",
                                    "tag_id": "32766",
                                    "tag_name": "work"
                                },
                                {
                                    "authors": "Betty Crocker",
                                    "title": "Betty Crocker's Cookbook",
                                    "average_rating": "4.25",
                                    "tag_id": "25580",
                                    "tag_name": "reference-work"
                                },
                                {
                                    "authors": "Vi Keeland",
                                    "title": "Bossman",
                                    "average_rating": "4.25",
                                    "tag_id": "5498",
                                    "tag_name": "boss"
                                },
                                {
                                    "authors": "Vi Keeland",
                                    "title": "Bossman",
                                    "average_rating": "4.25",
                                    "tag_id": "5499",
                                    "tag_name": "boss-employee"
                                },
                                {
                                    "authors": "Vi Keeland",
                                    "title": "Bossman",
                                    "average_rating": "4.25",
                                    "tag_id": "32776",
                                    "tag_name": "work-romance"
                                },
                                {
                                    "authors": "Eckhart Tolle",
                                    "title": "Practicing the Power of Now: Essential Teachings, Meditations, and Exercises from the Power of Now",
                                    "average_rating": "4.25",
                                    "tag_id": "32766",
                                    "tag_name": "work"
                                },
                                {
                                    "authors": "Ashlee Vance",
                                    "title": "Elon Musk: Inventing the Future",
                                    "average_rating": "4.25",
                                    "tag_id": "32766",
                                    "tag_name": "work"
                                },
                                {
                                    "authors": "Brené Brown",
                                    "title": "Daring Greatly: How the Courage to Be Vulnerable Transforms the Way We Live, Love, Parent, and Lead",
                                    "average_rating": "4.24",
                                    "tag_id": "32766",
                                    "tag_name": "work"
                                },
                                {
                                    "authors": "Brené Brown",
                                    "title": "Daring Greatly: How the Courage to Be Vulnerable Transforms the Way We Live, Love, Parent, and Lead",
                                    "average_rating": "4.24",
                                    "tag_id": "28038",
                                    "tag_name": "social-work"
                                },
                                {
                                    "authors": "Ed Catmull, Amy Wallace",
                                    "title": "Creativity, Inc.: Overcoming the Unseen Forces That Stand in the Way of True Inspiration",
                                    "average_rating": "4.24",
                                    "tag_id": "32766",
                                    "tag_name": "work"
                                },
                                {
                                    "authors": "Ed Catmull, Amy Wallace",
                                    "title": "Creativity, Inc.: Overcoming the Unseen Forces That Stand in the Way of True Inspiration",
                                    "average_rating": "4.24",
                                    "tag_id": "32775",
                                    "tag_name": "work-related"
                                },
                                {
                                    "authors": "Adele Faber, Elaine Mazlish, Kimberly Ann Coe",
                                    "title": "How to Talk So Kids Will Listen & Listen So Kids Will Talk",
                                    "average_rating": "4.24",
                                    "tag_id": "32766",
                                    "tag_name": "work"
                                },
                                {
                                    "authors": "Gene Kim, Kevin Behr, George Spafford",
                                    "title": "The Phoenix Project: A Novel About IT, DevOps, and Helping Your Business Win",
                                    "average_rating": "4.24",
                                    "tag_id": "32766",
                                    "tag_name": "work"
                                },
                                {
                                    "authors": "Gene Kim, Kevin Behr, George Spafford",
                                    "title": "The Phoenix Project: A Novel About IT, DevOps, and Helping Your Business Win",
                                    "average_rating": "4.24",
                                    "tag_id": "32775",
                                    "tag_name": "work-related"
                                },
                                {
                                    "authors": "Gene Kim, Kevin Behr, George Spafford",
                                    "title": "The Phoenix Project: A Novel About IT, DevOps, and Helping Your Business Win",
                                    "average_rating": "4.24",
                                    "tag_id": "32769",
                                    "tag_name": "work-books"
                                },
                                {
                                    "authors": "Gene Kim, Kevin Behr, George Spafford",
                                    "title": "The Phoenix Project: A Novel About IT, DevOps, and Helping Your Business Win",
                                    "average_rating": "4.24",
                                    "tag_id": "12329",
                                    "tag_name": "for-work"
                                },
                                {
                                    "authors": "Adrian Nicole LeBlanc",
                                    "title": "Random Family: Love, Drugs, Trouble, and Coming of Age in the Bronx",
                                    "average_rating": "4.23",
                                    "tag_id": "28038",
                                    "tag_name": "social-work"
                                },
                                {
                                    "authors": "William Zinsser",
                                    "title": "On Writing Well: The Classic Guide to Writing Nonfiction",
                                    "average_rating": "4.23",
                                    "tag_id": "32766",
                                    "tag_name": "work"
                                },
                                {
                                    "authors": "Jonathan Kozol",
                                    "title": "Savage Inequalities: Children in America's Schools",
                                    "average_rating": "4.23",
                                    "tag_id": "28038",
                                    "tag_name": "social-work"
                                },
                                {
                                    "authors": "Jonathan Kozol",
                                    "title": "Savage Inequalities: Children in America's Schools",
                                    "average_rating": "4.23",
                                    "tag_id": "32766",
                                    "tag_name": "work"
                                },
                                {
                                    "authors": "Philip Yancey",
                                    "title": "Where Is God When It Hurts?",
                                    "average_rating": "4.22",
                                    "tag_id": "30850",
                                    "tag_name": "to-read-work"
                                },
                                {
                                    "authors": "Irvin D. Yalom, Nicola Ferguson",
                                    "title": "The Gift of Therapy: An Open Letter to a New Generation of Therapists and Their Patients",
                                    "average_rating": "4.22",
                                    "tag_id": "28038",
                                    "tag_name": "social-work"
                                },
                                {
                                    "authors": "Irvin D. Yalom, Nicola Ferguson",
                                    "title": "The Gift of Therapy: An Open Letter to a New Generation of Therapists and Their Patients",
                                    "average_rating": "4.22",
                                    "tag_id": "32766",
                                    "tag_name": "work"
                                },
                                {
                                    "authors": "Irvin D. Yalom, Nicola Ferguson",
                                    "title": "The Gift of Therapy: An Open Letter to a New Generation of Therapists and Their Patients",
                                    "average_rating": "4.22",
                                    "tag_id": "32775",
                                    "tag_name": "work-related"
                                },
                                {
                                    "authors": "Irvin D. Yalom, Nicola Ferguson",
                                    "title": "The Gift of Therapy: An Open Letter to a New Generation of Therapists and Their Patients",
                                    "average_rating": "4.22",
                                    "tag_id": "32770",
                                    "tag_name": "work-books-to-read"
                                },
                                {
                                    "authors": "Rusty Young, Thomas McFadden",
                                    "title": "Marching Powder: A True Story of Friendship, Cocaine, and South America's Strangest Jail",
                                    "average_rating": "4.22",
                                    "tag_id": "29673",
                                    "tag_name": "the-boss-s-recommendations"
                                },
                                {
                                    "authors": "Elyn R. Saks",
                                    "title": "The Center Cannot Hold: My Journey Through Madness",
                                    "average_rating": "4.22",
                                    "tag_id": "28038",
                                    "tag_name": "social-work"
                                },
                                {
                                    "authors": "Elyn R. Saks",
                                    "title": "The Center Cannot Hold: My Journey Through Madness",
                                    "average_rating": "4.22",
                                    "tag_id": "32766",
                                    "tag_name": "work"
                                },
                                {
                                    "authors": "Elyn R. Saks",
                                    "title": "The Center Cannot Hold: My Journey Through Madness",
                                    "average_rating": "4.22",
                                    "tag_id": "12329",
                                    "tag_name": "for-work"
                                },
                                {
                                    "authors": "Bryan Burrough, John Helyar",
                                    "title": "Barbarians at the Gate: The Fall of RJR Nabisco",
                                    "average_rating": "4.22",
                                    "tag_id": "32766",
                                    "tag_name": "work"
                                },
                                {
                                    "authors": "Anthony Robbins, Kenneth H. Blanchard, Jason Winters",
                                    "title": "Unlimited Power : The New Science Of Personal Achievement",
                                    "average_rating": "4.21",
                                    "tag_id": "32766",
                                    "tag_name": "work"
                                },
                                {
                                    "authors": "Arkady Strugatsky, Boris Strugatsky, Antonina W. Bouis, Antonina W. Bouis, Theodore Sturgeon",
                                    "title": "Roadside Picnic",
                                    "average_rating": "4.21",
                                    "tag_id": "27405",
                                    "tag_name": "sf-masterworks"
                                },
                                {
                                    "authors": "Dan Simmons",
                                    "title": "Hyperion (Hyperion Cantos, #1)",
                                    "average_rating": "4.21",
                                    "tag_id": "27405",
                                    "tag_name": "sf-masterworks"
                                },
                                {
                                    "authors": "Chris Ryall, Gabriel Rodríguez, Clive Barker",
                                    "title": "The Complete Clive Barker's The Great And Secret Show",
                                    "average_rating": "4.21",
                                    "tag_id": "21524",
                                    "tag_name": "nice-artwork"
                                },
                                {
                                    "authors": "Alton Brown",
                                    "title": "I'm Just Here for the Food: Food + Heat = Cooking",
                                    "average_rating": "4.21",
                                    "tag_id": "21346",
                                    "tag_name": "network"
                                },
                                {
                                    "authors": "Rose Levy Beranbaum, Maria Guarnaschelli, Vincent Lee, Manuela Paul, Dean G. Bornstein",
                                    "title": "The Cake Bible",
                                    "average_rating": "4.2",
                                    "tag_id": "12329",
                                    "tag_name": "for-work"
                                },
                                {
                                    "authors": "Norman Doidge",
                                    "title": "The Brain That Changes Itself: Stories of Personal Triumph from the Frontiers of Brain Science",
                                    "average_rating": "4.2",
                                    "tag_id": "32766",
                                    "tag_name": "work"
                                },
                                {
                                    "authors": "Norman Doidge",
                                    "title": "The Brain That Changes Itself: Stories of Personal Triumph from the Frontiers of Brain Science",
                                    "average_rating": "4.2",
                                    "tag_id": "32775",
                                    "tag_name": "work-related"
                                },
                                {
                                    "authors": "Ben Horowitz",
                                    "title": "The Hard Thing About Hard Things: Building a Business When There Are No Easy Answers",
                                    "average_rating": "4.2",
                                    "tag_id": "32766",
                                    "tag_name": "work"
                                },
                                {
                                    "authors": "Dan Brown",
                                    "title": "Angels and Demons / The Da Vinci Code (Robert Langdon, #1-2)",
                                    "average_rating": "4.19",
                                    "tag_id": "8083",
                                    "tag_name": "contemporary-works"
                                },
                                {
                                    "authors": "Frank Herbert",
                                    "title": "Dune (Dune Chronicles #1)",
                                    "average_rating": "4.19",
                                    "tag_id": "27405",
                                    "tag_name": "sf-masterworks"
                                },
                                {
                                    "authors": "David J. Schwartz",
                                    "title": "The Magic of Thinking Big",
                                    "average_rating": "4.19",
                                    "tag_id": "32766",
                                    "tag_name": "work"
                                },
                                {
                                    "authors": "William Strunk Jr., E.B. White",
                                    "title": "The Elements of Style",
                                    "average_rating": "4.19",
                                    "tag_id": "32766",
                                    "tag_name": "work"
                                },
                                {
                                    "authors": "Og Mandino",
                                    "title": "The Greatest Salesman in the World",
                                    "average_rating": "4.19",
                                    "tag_id": "32766",
                                    "tag_name": "work"
                                },
                                {
                                    "authors": "Randall Wallace",
                                    "title": "Braveheart",
                                    "average_rating": "4.19",
                                    "tag_id": "1628",
                                    "tag_name": "adopted-works"
                                },
                                {
                                    "authors": "John M. Gottman, Nan Silver",
                                    "title": "The Seven Principles for Making Marriage Work: A Practical Guide from the Country's Foremost Relationship Expert",
                                    "average_rating": "4.19",
                                    "tag_id": "28038",
                                    "tag_name": "social-work"
                                },
                                {
                                    "authors": "John M. Gottman, Nan Silver",
                                    "title": "The Seven Principles for Making Marriage Work: A Practical Guide from the Country's Foremost Relationship Expert",
                                    "average_rating": "4.19",
                                    "tag_id": "32766",
                                    "tag_name": "work"
                                },
                                {
                                    "authors": "Dave Ramsey",
                                    "title": "EntreLeadership: 20 Years of Practical Business Wisdom from the Trenches",
                                    "average_rating": "4.19",
                                    "tag_id": "32766",
                                    "tag_name": "work"
                                },
                                {
                                    "authors": "Gavin de Becker",
                                    "title": "The Gift of Fear: Survival Signals That Protect Us from Violence",
                                    "average_rating": "4.19",
                                    "tag_id": "32766",
                                    "tag_name": "work"
                                },
                                {
                                    "authors": "Brené Brown",
                                    "title": "Rising Strong",
                                    "average_rating": "4.19",
                                    "tag_id": "28038",
                                    "tag_name": "social-work"
                                },
                                {
                                    "authors": "Liz Murray",
                                    "title": "Breaking Night: A Memoir of Forgiveness, Survival, and My Journey from Homeless to Harvard",
                                    "average_rating": "4.19",
                                    "tag_id": "28038",
                                    "tag_name": "social-work"
                                },
                                {
                                    "authors": "Donald A. Norman",
                                    "title": "The Design of Everyday Things",
                                    "average_rating": "4.18",
                                    "tag_id": "32766",
                                    "tag_name": "work"
                                },
                                {
                                    "authors": "Donald A. Norman",
                                    "title": "The Design of Everyday Things",
                                    "average_rating": "4.18",
                                    "tag_id": "32775",
                                    "tag_name": "work-related"
                                },
                                {
                                    "authors": "Eric Carle",
                                    "title": "From Head to Toe",
                                    "average_rating": "4.18",
                                    "tag_id": "32766",
                                    "tag_name": "work"
                                },
                                {
                                    "authors": "Irvin D. Yalom",
                                    "title": "Love's Executioner and Other Tales of Psychotherapy",
                                    "average_rating": "4.18",
                                    "tag_id": "28038",
                                    "tag_name": "social-work"
                                },
                                {
                                    "authors": "Irvin D. Yalom",
                                    "title": "Love's Executioner and Other Tales of Psychotherapy",
                                    "average_rating": "4.18",
                                    "tag_id": "32766",
                                    "tag_name": "work"
                                },
                                {
                                    "authors": "Irvin D. Yalom",
                                    "title": "Love's Executioner and Other Tales of Psychotherapy",
                                    "average_rating": "4.18",
                                    "tag_id": "32775",
                                    "tag_name": "work-related"
                                },
                                {
                                    "authors": "Robert Greene, Joost Elffers",
                                    "title": "The 48 Laws of Power",
                                    "average_rating": "4.18",
                                    "tag_id": "32766",
                                    "tag_name": "work"
                                },
                                {
                                    "authors": "Robert B. Cialdini",
                                    "title": "Influence: The Psychology of Persuasion",
                                    "average_rating": "4.18",
                                    "tag_id": "32766",
                                    "tag_name": "work"
                                },
                                {
                                    "authors": "Ursula K. Le Guin",
                                    "title": "The Dispossessed",
                                    "average_rating": "4.18",
                                    "tag_id": "27405",
                                    "tag_name": "sf-masterworks"
                                },
                                {
                                    "authors": "Kurt Vonnegut Jr.",
                                    "title": "Cat's Cradle",
                                    "average_rating": "4.18",
                                    "tag_id": "27405",
                                    "tag_name": "sf-masterworks"
                                },
                                {
                                    "authors": "Dan Simmons",
                                    "title": "The Fall of Hyperion (Hyperion Cantos, #2)",
                                    "average_rating": "4.18",
                                    "tag_id": "27405",
                                    "tag_name": "sf-masterworks"
                                },
                                {
                                    "authors": "John C. Maxwell",
                                    "title": "Developing the Leader Within You",
                                    "average_rating": "4.18",
                                    "tag_id": "32766",
                                    "tag_name": "work"
                                },
                                {
                                    "authors": "John C. Maxwell",
                                    "title": "Developing the Leader Within You",
                                    "average_rating": "4.18",
                                    "tag_id": "32769",
                                    "tag_name": "work-books"
                                },
                                {
                                    "authors": "John C. Maxwell",
                                    "title": "Developing the Leader Within You",
                                    "average_rating": "4.18",
                                    "tag_id": "32778",
                                    "tag_name": "work-to-read"
                                },
                                {
                                    "authors": "John C. Maxwell",
                                    "title": "Developing the Leader Within You",
                                    "average_rating": "4.18",
                                    "tag_id": "32774",
                                    "tag_name": "work-reading"
                                },
                                {
                                    "authors": "Wallace D. Wattles",
                                    "title": "The Science of Getting Rich",
                                    "average_rating": "4.18",
                                    "tag_id": "32766",
                                    "tag_name": "work"
                                },
                                {
                                    "authors": "Robert A. Heinlein",
                                    "title": "The Moon is a Harsh Mistress",
                                    "average_rating": "4.17",
                                    "tag_id": "27405",
                                    "tag_name": "sf-masterworks"
                                },
                                {
                                    "authors": "Peter Thiel, Blake  Masters",
                                    "title": "Zero to One: Notes on Startups, or How to Build the Future",
                                    "average_rating": "4.17",
                                    "tag_id": "32766",
                                    "tag_name": "work"
                                },
                                {
                                    "authors": "Brené Brown",
                                    "title": "The Gifts of Imperfection: Let Go of Who You Think You're Supposed to Be and Embrace Who You Are",
                                    "average_rating": "4.17",
                                    "tag_id": "32766",
                                    "tag_name": "work"
                                },
                                {
                                    "authors": "Brené Brown",
                                    "title": "The Gifts of Imperfection: Let Go of Who You Think You're Supposed to Be and Embrace Who You Are",
                                    "average_rating": "4.17",
                                    "tag_id": "28038",
                                    "tag_name": "social-work"
                                },
                                {
                                    "authors": "Robert Descharnes, Gilles Néret",
                                    "title": "Dali: The Paintings",
                                    "average_rating": "4.17",
                                    "tag_id": "32766",
                                    "tag_name": "work"
                                },
                                {
                                    "authors": "Robert Descharnes, Gilles Néret",
                                    "title": "Dali: The Paintings",
                                    "average_rating": "4.17",
                                    "tag_id": "7740",
                                    "tag_name": "comic-and-artwork"
                                },
                                {
                                    "authors": "John Sandford",
                                    "title": "Stolen Prey (Lucas Davenport, #22)",
                                    "average_rating": "4.17",
                                    "tag_id": "6340",
                                    "tag_name": "cartel-boss"
                                },
                                {
                                    "authors": "Gary Keller, Jay Papasan",
                                    "title": "The One Thing: The Surprisingly Simple Truth Behind Extraordinary Results",
                                    "average_rating": "4.17",
                                    "tag_id": "32766",
                                    "tag_name": "work"
                                },
                                {
                                    "authors": "Roger Zelazny",
                                    "title": "The Guns of Avalon (The Chronicles of Amber #2)",
                                    "average_rating": "4.16",
                                    "tag_id": "11358",
                                    "tag_name": "fantasy-masterworks"
                                },
                                {
                                    "authors": "Roger Lowenstein",
                                    "title": "When Genius Failed: The Rise and Fall of Long-Term Capital Management",
                                    "average_rating": "4.16",
                                    "tag_id": "32766",
                                    "tag_name": "work"
                                },
                                {
                                    "authors": "Jonathan Haidt",
                                    "title": "The Righteous Mind: Why Good People are Divided by Politics and Religion",
                                    "average_rating": "4.16",
                                    "tag_id": "32766",
                                    "tag_name": "work"
                                },
                                {
                                    "authors": "Kurt Vonnegut Jr.",
                                    "title": "The Sirens of Titan",
                                    "average_rating": "4.16",
                                    "tag_id": "27405",
                                    "tag_name": "sf-masterworks"
                                },
                                {
                                    "authors": "Alexander Osterwalder, Yves Pigneur",
                                    "title": "Business Model Generation",
                                    "average_rating": "4.16",
                                    "tag_id": "32766",
                                    "tag_name": "work"
                                },
                                {
                                    "authors": "Alexander Osterwalder, Yves Pigneur",
                                    "title": "Business Model Generation",
                                    "average_rating": "4.16",
                                    "tag_id": "32775",
                                    "tag_name": "work-related"
                                },
                                {
                                    "authors": "Alexander Osterwalder, Yves Pigneur",
                                    "title": "Business Model Generation",
                                    "average_rating": "4.16",
                                    "tag_id": "30850",
                                    "tag_name": "to-read-work"
                                },
                                {
                                    "authors": "Ken Grimwood",
                                    "title": "Replay",
                                    "average_rating": "4.16",
                                    "tag_id": "11358",
                                    "tag_name": "fantasy-masterworks"
                                },
                                {
                                    "authors": "Peggy Rathmann",
                                    "title": "Officer Buckle & Gloria",
                                    "average_rating": "4.16",
                                    "tag_id": "29400",
                                    "tag_name": "teamwork"
                                },
                                {
                                    "authors": "Elisabeth Kübler-Ross",
                                    "title": "On Death and Dying",
                                    "average_rating": "4.15",
                                    "tag_id": "28038",
                                    "tag_name": "social-work"
                                },
                                {
                                    "authors": "Elisabeth Kübler-Ross",
                                    "title": "On Death and Dying",
                                    "average_rating": "4.15",
                                    "tag_id": "32766",
                                    "tag_name": "work"
                                },
                                {
                                    "authors": "Elisabeth Kübler-Ross",
                                    "title": "On Death and Dying",
                                    "average_rating": "4.15",
                                    "tag_id": "32775",
                                    "tag_name": "work-related"
                                },
                                {
                                    "authors": "Cupcake Brown",
                                    "title": "A Piece of Cake",
                                    "average_rating": "4.15",
                                    "tag_id": "28038",
                                    "tag_name": "social-work"
                                },
                                {
                                    "authors": "Joe Haldeman",
                                    "title": "The Forever War (The Forever War, #1)",
                                    "average_rating": "4.15",
                                    "tag_id": "27405",
                                    "tag_name": "sf-masterworks"
                                },
                                {
                                    "authors": "Byron Katie, Stephen Mitchell",
                                    "title": "Loving What Is: Four Questions That Can Change Your Life",
                                    "average_rating": "4.15",
                                    "tag_id": "32766",
                                    "tag_name": "work"
                                },
                                {
                                    "authors": "Shawn Achor",
                                    "title": "The Happiness Advantage: The Seven Principles of Positive Psychology That Fuel Success and Performance at Work",
                                    "average_rating": "4.15",
                                    "tag_id": "32766",
                                    "tag_name": "work"
                                },
                                {
                                    "authors": "Shawn Achor",
                                    "title": "The Happiness Advantage: The Seven Principles of Positive Psychology That Fuel Success and Performance at Work",
                                    "average_rating": "4.15",
                                    "tag_id": "32775",
                                    "tag_name": "work-related"
                                },
                                {
                                    "authors": "Shawn Achor",
                                    "title": "The Happiness Advantage: The Seven Principles of Positive Psychology That Fuel Success and Performance at Work",
                                    "average_rating": "4.15",
                                    "tag_id": "32769",
                                    "tag_name": "work-books"
                                },
                                {
                                    "authors": "Whitney G.",
                                    "title": "Reasonable Doubt: Volume 2 (Reasonable Doubt, #2)",
                                    "average_rating": "4.14",
                                    "tag_id": "5498",
                                    "tag_name": "boss"
                                },
                                {
                                    "authors": "Michael E. Porter",
                                    "title": "Competitive Strategy: Techniques for Analyzing Industries and Competitors",
                                    "average_rating": "4.14",
                                    "tag_id": "32766",
                                    "tag_name": "work"
                                },
                                {
                                    "authors": "Michael E. Porter",
                                    "title": "Competitive Strategy: Techniques for Analyzing Industries and Competitors",
                                    "average_rating": "4.14",
                                    "tag_id": "32771",
                                    "tag_name": "work-business-and-finance"
                                },
                                {
                                    "authors": "Cynthia J. McGean",
                                    "title": "Henry & Ramona",
                                    "average_rating": "4.14",
                                    "tag_id": "17095",
                                    "tag_name": "kid-s-books-for-work"
                                },
                                {
                                    "authors": "Bethany McLean, Peter Elkind",
                                    "title": "The Smartest Guys in the Room: The Amazing Rise and Scandalous Fall of Enron",
                                    "average_rating": "4.14",
                                    "tag_id": "32766",
                                    "tag_name": "work"
                                },
                                {
                                    "authors": "Anne Fadiman",
                                    "title": "The Spirit Catches You and You Fall Down: A Hmong Child, Her American Doctors, and the Collision of Two Cultures",
                                    "average_rating": "4.14",
                                    "tag_id": "28038",
                                    "tag_name": "social-work"
                                },
                                {
                                    "authors": "Vernor Vinge",
                                    "title": "A Fire Upon the Deep (Zones of Thought, #1)",
                                    "average_rating": "4.13",
                                    "tag_id": "27405",
                                    "tag_name": "sf-masterworks"
                                },
                                {
                                    "authors": "Dale Carnegie",
                                    "title": "How to Win Friends and Influence People",
                                    "average_rating": "4.13",
                                    "tag_id": "32766",
                                    "tag_name": "work"
                                },
                                {
                                    "authors": "Dale Carnegie",
                                    "title": "How to Win Friends and Influence People",
                                    "average_rating": "4.13",
                                    "tag_id": "32775",
                                    "tag_name": "work-related"
                                },
                                {
                                    "authors": "Dale Carnegie",
                                    "title": "How to Win Friends and Influence People",
                                    "average_rating": "4.13",
                                    "tag_id": "21348",
                                    "tag_name": "networking"
                                },
                                {
                                    "authors": "Alfred Bester, Neil Gaiman",
                                    "title": "The Stars My Destination",
                                    "average_rating": "4.13",
                                    "tag_id": "27405",
                                    "tag_name": "sf-masterworks"
                                },
                                {
                                    "authors": "Alfred Bester, Neil Gaiman",
                                    "title": "The Stars My Destination",
                                    "average_rating": "4.13",
                                    "tag_id": "26795",
                                    "tag_name": "sci-fi-masterworks"
                                },
                                {
                                    "authors": "Melody Beattie",
                                    "title": "Codependent No More: How to Stop Controlling Others and Start Caring for Yourself",
                                    "average_rating": "4.13",
                                    "tag_id": "32766",
                                    "tag_name": "work"
                                },
                                {
                                    "authors": "Melody Beattie",
                                    "title": "Codependent No More: How to Stop Controlling Others and Start Caring for Yourself",
                                    "average_rating": "4.13",
                                    "tag_id": "32775",
                                    "tag_name": "work-related"
                                },
                                {
                                    "authors": "Connie Willis",
                                    "title": "To Say Nothing of the Dog (Oxford Time Travel, #2)",
                                    "average_rating": "4.13",
                                    "tag_id": "27405",
                                    "tag_name": "sf-masterworks"
                                },
                                {
                                    "authors": "Virginia M. Axline",
                                    "title": "Dibs in Search of Self",
                                    "average_rating": "4.13",
                                    "tag_id": "28038",
                                    "tag_name": "social-work"
                                },
                                {
                                    "authors": "Virginia M. Axline",
                                    "title": "Dibs in Search of Self",
                                    "average_rating": "4.13",
                                    "tag_id": "32775",
                                    "tag_name": "work-related"
                                },
                                {
                                    "authors": "Virginia M. Axline",
                                    "title": "Dibs in Search of Self",
                                    "average_rating": "4.13",
                                    "tag_id": "32766",
                                    "tag_name": "work"
                                },
                                {
                                    "authors": "Leo Lionni",
                                    "title": "Swimmy",
                                    "average_rating": "4.13",
                                    "tag_id": "29400",
                                    "tag_name": "teamwork"
                                },
                                {
                                    "authors": "Peter Lynch, John Rothchild",
                                    "title": "One Up On Wall Street: How To Use What You Already Know To Make Money In The Market",
                                    "average_rating": "4.12",
                                    "tag_id": "12329",
                                    "tag_name": "for-work"
                                },
                                {
                                    "authors": "Peter Lynch, John Rothchild",
                                    "title": "One Up On Wall Street: How To Use What You Already Know To Make Money In The Market",
                                    "average_rating": "4.12",
                                    "tag_id": "32766",
                                    "tag_name": "work"
                                },
                                {
                                    "authors": "Gilles Néret",
                                    "title": "Gustav Klimt: 1862-1918",
                                    "average_rating": "4.12",
                                    "tag_id": "3156",
                                    "tag_name": "artist-bios-works"
                                },
                                {
                                    "authors": "Caroline Myss",
                                    "title": "Anatomy of the Spirit: The Seven Stages of Power and Healing",
                                    "average_rating": "4.12",
                                    "tag_id": "10621",
                                    "tag_name": "energy-work"
                                },
                                {
                                    "authors": "John C. Maxwell, Zig Ziglar",
                                    "title": "The 21 Irrefutable Laws of Leadership: Follow Them and People Will Follow You",
                                    "average_rating": "4.12",
                                    "tag_id": "32766",
                                    "tag_name": "work"
                                },
                                {
                                    "authors": "John C. Maxwell, Zig Ziglar",
                                    "title": "The 21 Irrefutable Laws of Leadership: Follow Them and People Will Follow You",
                                    "average_rating": "4.12",
                                    "tag_id": "32775",
                                    "tag_name": "work-related"
                                },
                                {
                                    "authors": "Malcolm Gladwell",
                                    "title": "Outliers: The Story of Success",
                                    "average_rating": "4.11",
                                    "tag_id": "32766",
                                    "tag_name": "work"
                                },
                                {
                                    "authors": "Jon Kabat-Zinn",
                                    "title": "Wherever You Go, There You Are: Mindfulness Meditation in Everyday Life",
                                    "average_rating": "4.11",
                                    "tag_id": "32766",
                                    "tag_name": "work"
                                },
                                {
                                    "authors": "Jon Kabat-Zinn",
                                    "title": "Wherever You Go, There You Are: Mindfulness Meditation in Everyday Life",
                                    "average_rating": "4.11",
                                    "tag_id": "28038",
                                    "tag_name": "social-work"
                                },
                                {
                                    "authors": "Meg Jay",
                                    "title": "The Defining Decade: Why Your Twenties Matter--And How to Make the Most of Them Now",
                                    "average_rating": "4.11",
                                    "tag_id": "32766",
                                    "tag_name": "work"
                                },
                                {
                                    "authors": "Ryan Holiday",
                                    "title": "The Obstacle Is the Way: The Timeless Art of Turning Trials into Triumph",
                                    "average_rating": "4.11",
                                    "tag_id": "32766",
                                    "tag_name": "work"
                                },
                                {
                                    "authors": "Nancy E. Shaw, Margot Apple",
                                    "title": "Sheep in a Jeep",
                                    "average_rating": "4.11",
                                    "tag_id": "29400",
                                    "tag_name": "teamwork"
                                },
                                {
                                    "authors": "Carl R. Rogers, Peter D. Kramer",
                                    "title": "On Becoming a Person: A Therapist's View of Psychotherapy",
                                    "average_rating": "4.11",
                                    "tag_id": "32766",
                                    "tag_name": "work"
                                },
                                {
                                    "authors": "Carl R. Rogers, Peter D. Kramer",
                                    "title": "On Becoming a Person: A Therapist's View of Psychotherapy",
                                    "average_rating": "4.11",
                                    "tag_id": "28038",
                                    "tag_name": "social-work"
                                },
                                {
                                    "authors": "Carl R. Rogers, Peter D. Kramer",
                                    "title": "On Becoming a Person: A Therapist's View of Psychotherapy",
                                    "average_rating": "4.11",
                                    "tag_id": "32775",
                                    "tag_name": "work-related"
                                },
                                {
                                    "authors": "Carl R. Rogers, Peter D. Kramer",
                                    "title": "On Becoming a Person: A Therapist's View of Psychotherapy",
                                    "average_rating": "4.11",
                                    "tag_id": "28039",
                                    "tag_name": "social-work-books"
                                },
                                {
                                    "authors": "Kelly McGonigal",
                                    "title": "The Willpower Instinct: How Self-Control Works, Why It Matters, and What You Can Do to Get More of It",
                                    "average_rating": "4.11",
                                    "tag_id": "32766",
                                    "tag_name": "work"
                                },
                                {
                                    "authors": "Peter F. Drucker",
                                    "title": "The Effective Executive: The Definitive Guide to Getting the Right Things Done (Harperbusiness Essentials)",
                                    "average_rating": "4.11",
                                    "tag_id": "32766",
                                    "tag_name": "work"
                                },
                                {
                                    "authors": "Peter F. Drucker",
                                    "title": "The Effective Executive: The Definitive Guide to Getting the Right Things Done (Harperbusiness Essentials)",
                                    "average_rating": "4.11",
                                    "tag_id": "32775",
                                    "tag_name": "work-related"
                                },
                                {
                                    "authors": "The Arbinger Institute",
                                    "title": "Leadership and Self-Deception: Getting Out of the Box",
                                    "average_rating": "4.11",
                                    "tag_id": "32766",
                                    "tag_name": "work"
                                },
                                {
                                    "authors": "The Arbinger Institute",
                                    "title": "Leadership and Self-Deception: Getting Out of the Box",
                                    "average_rating": "4.11",
                                    "tag_id": "32775",
                                    "tag_name": "work-related"
                                },
                                {
                                    "authors": "The Arbinger Institute",
                                    "title": "Leadership and Self-Deception: Getting Out of the Box",
                                    "average_rating": "4.11",
                                    "tag_id": "32769",
                                    "tag_name": "work-books"
                                },
                                {
                                    "authors": "The Arbinger Institute",
                                    "title": "Leadership and Self-Deception: Getting Out of the Box",
                                    "average_rating": "4.11",
                                    "tag_id": "5156",
                                    "tag_name": "books-for-work"
                                },
                                {
                                    "authors": "William McDonough, Michael Braungart",
                                    "title": "Cradle to Cradle: Remaking the Way We Make Things",
                                    "average_rating": "4.1",
                                    "tag_id": "32766",
                                    "tag_name": "work"
                                },
                                {
                                    "authors": "Roger Zelazny",
                                    "title": "Nine Princes in Amber (The Chronicles of Amber #1)",
                                    "average_rating": "4.1",
                                    "tag_id": "11358",
                                    "tag_name": "fantasy-masterworks"
                                },
                                {
                                    "authors": "Mihaly Csikszentmihalyi",
                                    "title": "Flow: The Psychology of Optimal Experience",
                                    "average_rating": "4.1",
                                    "tag_id": "32766",
                                    "tag_name": "work"
                                },
                                {
                                    "authors": "Roger Zelazny, Sönmez Güven",
                                    "title": "Lord of Light",
                                    "average_rating": "4.1",
                                    "tag_id": "27405",
                                    "tag_name": "sf-masterworks"
                                },
                                {
                                    "authors": "Dan Ariely",
                                    "title": "Predictably Irrational: The Hidden Forces That Shape Our Decisions",
                                    "average_rating": "4.1",
                                    "tag_id": "32766",
                                    "tag_name": "work"
                                },
                                {
                                    "authors": "Anthony Robbins, Tony Robbins, Frederick L. Covan",
                                    "title": "Awaken the Giant Within: How to Take Immediate Control of Your Mental, Emotional, Physical and Financial Destiny!",
                                    "average_rating": "4.1",
                                    "tag_id": "32766",
                                    "tag_name": "work"
                                },
                                {
                                    "authors": "Philip K. Dick, David Alabort, Manuel Espín",
                                    "title": "Ubik",
                                    "average_rating": "4.1",
                                    "tag_id": "27405",
                                    "tag_name": "sf-masterworks"
                                },
                                {
                                    "authors": "Arthur C. Clarke",
                                    "title": "Childhood's End",
                                    "average_rating": "4.09",
                                    "tag_id": "27405",
                                    "tag_name": "sf-masterworks"
                                },
                                {
                                    "authors": "Walter Isaacson",
                                    "title": "Steve Jobs",
                                    "average_rating": "4.09",
                                    "tag_id": "32766",
                                    "tag_name": "work"
                                },
                                {
                                    "authors": "Ursula K. Le Guin",
                                    "title": "The Lathe of Heaven",
                                    "average_rating": "4.09",
                                    "tag_id": "27405",
                                    "tag_name": "sf-masterworks"
                                },
                                {
                                    "authors": "Alice  Miller, Ruth Ward",
                                    "title": "The Drama of the Gifted Child: The Search for the True Self",
                                    "average_rating": "4.09",
                                    "tag_id": "28038",
                                    "tag_name": "social-work"
                                },
                                {
                                    "authors": "Alice  Miller, Ruth Ward",
                                    "title": "The Drama of the Gifted Child: The Search for the True Self",
                                    "average_rating": "4.09",
                                    "tag_id": "12329",
                                    "tag_name": "for-work"
                                },
                                {
                                    "authors": "Garr Reynolds",
                                    "title": "Presentation Zen: Simple Ideas on Presentation Design and Delivery",
                                    "average_rating": "4.08",
                                    "tag_id": "32766",
                                    "tag_name": "work"
                                },
                                {
                                    "authors": "Garr Reynolds",
                                    "title": "Presentation Zen: Simple Ideas on Presentation Design and Delivery",
                                    "average_rating": "4.08",
                                    "tag_id": "32775",
                                    "tag_name": "work-related"
                                },
                                {
                                    "authors": "Garr Reynolds",
                                    "title": "Presentation Zen: Simple Ideas on Presentation Design and Delivery",
                                    "average_rating": "4.08",
                                    "tag_id": "32769",
                                    "tag_name": "work-books"
                                },
                                {
                                    "authors": "Arthur C. Clarke",
                                    "title": "The City and the Stars",
                                    "average_rating": "4.08",
                                    "tag_id": "27405",
                                    "tag_name": "sf-masterworks"
                                },
                                {
                                    "authors": "Arthur C. Clarke",
                                    "title": "The City and the Stars",
                                    "average_rating": "4.08",
                                    "tag_id": "26433",
                                    "tag_name": "s-f-masterworks"
                                },
                                {
                                    "authors": "Daniel Kahneman",
                                    "title": "Thinking, Fast and Slow",
                                    "average_rating": "4.08",
                                    "tag_id": "32766",
                                    "tag_name": "work"
                                },
                                {
                                    "authors": "Dave Pelzer",
                                    "title": "A Child Called \"It\" (Dave Pelzer #1)",
                                    "average_rating": "4.08",
                                    "tag_id": "28038",
                                    "tag_name": "social-work"
                                },
                                {
                                    "authors": "Philip K. Dick, Roger Zelazny",
                                    "title": "Do Androids Dream of Electric Sheep?",
                                    "average_rating": "4.08",
                                    "tag_id": "27405",
                                    "tag_name": "sf-masterworks"
                                },
                                {
                                    "authors": "Dale Carnegie",
                                    "title": "How to Stop Worrying and Start Living",
                                    "average_rating": "4.08",
                                    "tag_id": "32766",
                                    "tag_name": "work"
                                },
                                {
                                    "authors": "Dave Pelzer",
                                    "title": "The Lost Boy (Dave Pelzer #2)",
                                    "average_rating": "4.08",
                                    "tag_id": "28038",
                                    "tag_name": "social-work"
                                },
                                {
                                    "authors": "Isaac Asimov",
                                    "title": "The Gods Themselves",
                                    "average_rating": "4.08",
                                    "tag_id": "27405",
                                    "tag_name": "sf-masterworks"
                                },
                                {
                                    "authors": "Steven Pressfield, Robert McKee",
                                    "title": "The War of Art: Break Through the Blocks & Win Your Inner Creative Battles",
                                    "average_rating": "4.07",
                                    "tag_id": "32766",
                                    "tag_name": "work"
                                },
                                {
                                    "authors": "Deepak Chopra",
                                    "title": "The Seven Spiritual Laws of Success: A Practical Guide to the Fulfillment of Your Dreams",
                                    "average_rating": "4.07",
                                    "tag_id": "32766",
                                    "tag_name": "work"
                                },
                                {
                                    "authors": "Richard Matheson",
                                    "title": "I Am Legend",
                                    "average_rating": "4.07",
                                    "tag_id": "27405",
                                    "tag_name": "sf-masterworks"
                                },
                                {
                                    "authors": "Daniel Keyes",
                                    "title": "Flowers for Algernon",
                                    "average_rating": "4.07",
                                    "tag_id": "27405",
                                    "tag_name": "sf-masterworks"
                                },
                                {
                                    "authors": "Frederik Pohl",
                                    "title": "Gateway (Heechee Saga, #1)",
                                    "average_rating": "4.07",
                                    "tag_id": "27405",
                                    "tag_name": "sf-masterworks"
                                },
                                {
                                    "authors": "Simon Sinek",
                                    "title": "Start with Why: How Great Leaders Inspire Everyone to Take Action",
                                    "average_rating": "4.07",
                                    "tag_id": "32766",
                                    "tag_name": "work"
                                },
                                {
                                    "authors": "Simon Sinek",
                                    "title": "Start with Why: How Great Leaders Inspire Everyone to Take Action",
                                    "average_rating": "4.07",
                                    "tag_id": "32775",
                                    "tag_name": "work-related"
                                },
                                {
                                    "authors": "James C. Collins, Morten T. Hansen",
                                    "title": "Great by Choice: Uncertainty, Chaos, and Luck--Why Some Thrive Despite Them All",
                                    "average_rating": "4.07",
                                    "tag_id": "32766",
                                    "tag_name": "work"
                                },
                                {
                                    "authors": "James C. Collins, Morten T. Hansen",
                                    "title": "Great by Choice: Uncertainty, Chaos, and Luck--Why Some Thrive Despite Them All",
                                    "average_rating": "4.07",
                                    "tag_id": "32775",
                                    "tag_name": "work-related"
                                },
                                {
                                    "authors": "James C. Collins, Morten T. Hansen",
                                    "title": "Great by Choice: Uncertainty, Chaos, and Luck--Why Some Thrive Despite Them All",
                                    "average_rating": "4.07",
                                    "tag_id": "5156",
                                    "tag_name": "books-for-work"
                                },
                                {
                                    "authors": "Stephen R. Covey",
                                    "title": "Principle-Centered Leadership",
                                    "average_rating": "4.07",
                                    "tag_id": "32766",
                                    "tag_name": "work"
                                },
                                {
                                    "authors": "Michael Patrick MacDonald",
                                    "title": "All Souls: A Family Story from Southie",
                                    "average_rating": "4.07",
                                    "tag_id": "28038",
                                    "tag_name": "social-work"
                                },
                                {
                                    "authors": "Daniel Coyle, John Farrell",
                                    "title": "The Talent Code: Unlocking the Secret of Skill in Sports, Art, Music, Math, and Just About Everything Else",
                                    "average_rating": "4.07",
                                    "tag_id": "32766",
                                    "tag_name": "work"
                                },
                                {
                                    "authors": "Al Ries, Jack Trout",
                                    "title": "Positioning: The Battle for Your Mind: How to Be Seen and Heard in the Overcrowded Marketplace",
                                    "average_rating": "4.06",
                                    "tag_id": "32766",
                                    "tag_name": "work"
                                },
                                {
                                    "authors": "Al Ries, Jack Trout",
                                    "title": "Positioning: The Battle for Your Mind: How to Be Seen and Heard in the Overcrowded Marketplace",
                                    "average_rating": "4.06",
                                    "tag_id": "30850",
                                    "tag_name": "to-read-work"
                                },
                                {
                                    "authors": "Adam M. Grant",
                                    "title": "Give and Take: A Revolutionary Approach to Success",
                                    "average_rating": "4.06",
                                    "tag_id": "32766",
                                    "tag_name": "work"
                                },
                                {
                                    "authors": "Adam M. Grant",
                                    "title": "Give and Take: A Revolutionary Approach to Success",
                                    "average_rating": "4.06",
                                    "tag_id": "32775",
                                    "tag_name": "work-related"
                                },
                                {
                                    "authors": "Adam M. Grant",
                                    "title": "Give and Take: A Revolutionary Approach to Success",
                                    "average_rating": "4.06",
                                    "tag_id": "12329",
                                    "tag_name": "for-work"
                                },
                                {
                                    "authors": "Adam M. Grant",
                                    "title": "Give and Take: A Revolutionary Approach to Success",
                                    "average_rating": "4.06",
                                    "tag_id": "21348",
                                    "tag_name": "networking"
                                },
                                {
                                    "authors": "Roger Zelazny",
                                    "title": "Trumps of Doom (The Chronicles of Amber, #6)",
                                    "average_rating": "4.06",
                                    "tag_id": "11358",
                                    "tag_name": "fantasy-masterworks"
                                },
                                {
                                    "authors": "Clayton M. Christensen, James Allworth, Karen Dillon",
                                    "title": "How Will You Measure Your Life?",
                                    "average_rating": "4.06",
                                    "tag_id": "32766",
                                    "tag_name": "work"
                                },
                                {
                                    "authors": "Clayton M. Christensen, James Allworth, Karen Dillon",
                                    "title": "How Will You Measure Your Life?",
                                    "average_rating": "4.06",
                                    "tag_id": "32775",
                                    "tag_name": "work-related"
                                },
                                {
                                    "authors": "Stephen R. Covey, A. Roger Merrill, Rebecca R. Merrill",
                                    "title": "First Things First",
                                    "average_rating": "4.06",
                                    "tag_id": "32766",
                                    "tag_name": "work"
                                },
                                {
                                    "authors": "Brad Stone",
                                    "title": "The Everything Store: Jeff Bezos and the Age of Amazon",
                                    "average_rating": "4.06",
                                    "tag_id": "32766",
                                    "tag_name": "work"
                                },
                                {
                                    "authors": "Arthur C. Clarke",
                                    "title": "Rendezvous with Rama (Rama, #1)",
                                    "average_rating": "4.06",
                                    "tag_id": "27405",
                                    "tag_name": "sf-masterworks"
                                },
                                {
                                    "authors": "Stephen R. Covey",
                                    "title": "The 7 Habits of Highly Effective People: Powerful Lessons in Personal Change",
                                    "average_rating": "4.05",
                                    "tag_id": "32766",
                                    "tag_name": "work"
                                },
                                {
                                    "authors": "Stephen R. Covey",
                                    "title": "The 7 Habits of Highly Effective People: Powerful Lessons in Personal Change",
                                    "average_rating": "4.05",
                                    "tag_id": "32775",
                                    "tag_name": "work-related"
                                },
                                {
                                    "authors": "Ursula K. Le Guin, Lech Jęczmyk",
                                    "title": "The Left Hand of Darkness",
                                    "average_rating": "4.05",
                                    "tag_id": "27405",
                                    "tag_name": "sf-masterworks"
                                },
                                {
                                    "authors": "Nassim Nicholas Taleb",
                                    "title": "Fooled by Randomness: The Hidden Role of Chance in Life and in the Markets",
                                    "average_rating": "4.05",
                                    "tag_id": "32766",
                                    "tag_name": "work"
                                },
                                {
                                    "authors": "Burton G. Malkiel",
                                    "title": "A Random Walk Down Wall Street",
                                    "average_rating": "4.05",
                                    "tag_id": "32766",
                                    "tag_name": "work"
                                },
                                {
                                    "authors": "Dr. Seuss, Maurice Sendak, Audrey Geisel",
                                    "title": "The Secret Art of Dr. Seuss",
                                    "average_rating": "4.05",
                                    "tag_id": "22651",
                                    "tag_name": "own-art-artist-s-works"
                                },
                                {
                                    "authors": "Gene Wolfe",
                                    "title": "Shadow & Claw (The Book of the New Sun #1-2)",
                                    "average_rating": "4.04",
                                    "tag_id": "11358",
                                    "tag_name": "fantasy-masterworks"
                                },
                                {
                                    "authors": "Gene Wolfe",
                                    "title": "Shadow & Claw (The Book of the New Sun #1-2)",
                                    "average_rating": "4.04",
                                    "tag_id": "27405",
                                    "tag_name": "sf-masterworks"
                                },
                                {
                                    "authors": "Ramit Sethi",
                                    "title": "I Will Teach You To Be Rich",
                                    "average_rating": "4.04",
                                    "tag_id": "32766",
                                    "tag_name": "work"
                                },
                                {
                                    "authors": "Jen Sincero",
                                    "title": "You Are a Badass: How to Stop Doubting Your Greatness and Start Living an Awesome Life",
                                    "average_rating": "4.04",
                                    "tag_id": "32766",
                                    "tag_name": "work"
                                },
                                {
                                    "authors": "Nassim Nicholas Taleb",
                                    "title": "Antifragile: Things That Gain from Disorder",
                                    "average_rating": "4.04",
                                    "tag_id": "32766",
                                    "tag_name": "work"
                                },
                                {
                                    "authors": "Josh Kaufman",
                                    "title": "The Personal MBA: Master the Art of Business",
                                    "average_rating": "4.04",
                                    "tag_id": "32766",
                                    "tag_name": "work"
                                },
                                {
                                    "authors": "Caroline Knapp",
                                    "title": "Drinking: A Love Story",
                                    "average_rating": "4.04",
                                    "tag_id": "28038",
                                    "tag_name": "social-work"
                                },
                                {
                                    "authors": "Po Bronson, Ashley Merryman",
                                    "title": "NurtureShock: New Thinking About Children",
                                    "average_rating": "4.04",
                                    "tag_id": "32775",
                                    "tag_name": "work-related"
                                },
                                {
                                    "authors": "Philip K. Dick",
                                    "title": "A Scanner Darkly",
                                    "average_rating": "4.04",
                                    "tag_id": "27405",
                                    "tag_name": "sf-masterworks"
                                },
                                {
                                    "authors": "Eric Ries",
                                    "title": "The Lean Startup: How Today's Entrepreneurs Use Continuous Innovation to Create Radically Successful Businesses",
                                    "average_rating": "4.04",
                                    "tag_id": "32766",
                                    "tag_name": "work"
                                },
                                {
                                    "authors": "Eric Ries",
                                    "title": "The Lean Startup: How Today's Entrepreneurs Use Continuous Innovation to Create Radically Successful Businesses",
                                    "average_rating": "4.04",
                                    "tag_id": "32775",
                                    "tag_name": "work-related"
                                },
                                {
                                    "authors": "James C. Collins",
                                    "title": "Good to Great: Why Some Companies Make the Leap... and Others Don't",
                                    "average_rating": "4.04",
                                    "tag_id": "32775",
                                    "tag_name": "work-related"
                                },
                                {
                                    "authors": "James C. Collins",
                                    "title": "Good to Great: Why Some Companies Make the Leap... and Others Don't",
                                    "average_rating": "4.04",
                                    "tag_id": "32769",
                                    "tag_name": "work-books"
                                },
                                {
                                    "authors": "James C. Collins",
                                    "title": "Good to Great: Why Some Companies Make the Leap... and Others Don't",
                                    "average_rating": "4.04",
                                    "tag_id": "12329",
                                    "tag_name": "for-work"
                                },
                                {
                                    "authors": "James C. Collins",
                                    "title": "Good to Great: Why Some Companies Make the Leap... and Others Don't",
                                    "average_rating": "4.04",
                                    "tag_id": "32766",
                                    "tag_name": "work"
                                },
                                {
                                    "authors": "Susan Cain",
                                    "title": "Quiet: The Power of Introverts in a World That Can't Stop Talking",
                                    "average_rating": "4.04",
                                    "tag_id": "32766",
                                    "tag_name": "work"
                                },
                                {
                                    "authors": "Susan Cain",
                                    "title": "Quiet: The Power of Introverts in a World That Can't Stop Talking",
                                    "average_rating": "4.04",
                                    "tag_id": "32775",
                                    "tag_name": "work-related"
                                },
                                {
                                    "authors": "Carol S. Dweck",
                                    "title": "Mindset: The New Psychology of Success",
                                    "average_rating": "4.04",
                                    "tag_id": "32766",
                                    "tag_name": "work"
                                },
                                {
                                    "authors": "Carol S. Dweck",
                                    "title": "Mindset: The New Psychology of Success",
                                    "average_rating": "4.04",
                                    "tag_id": "32775",
                                    "tag_name": "work-related"
                                },
                                {
                                    "authors": "Carol S. Dweck",
                                    "title": "Mindset: The New Psychology of Success",
                                    "average_rating": "4.04",
                                    "tag_id": "12329",
                                    "tag_name": "for-work"
                                },
                                {
                                    "authors": "David Sheff",
                                    "title": "Beautiful Boy: A Father's Journey Through His Son's Addiction",
                                    "average_rating": "4.03",
                                    "tag_id": "32766",
                                    "tag_name": "work"
                                },
                                {
                                    "authors": "David Sheff",
                                    "title": "Beautiful Boy: A Father's Journey Through His Son's Addiction",
                                    "average_rating": "4.03",
                                    "tag_id": "28038",
                                    "tag_name": "social-work"
                                },
                                {
                                    "authors": "Kay Redfield Jamison",
                                    "title": "An Unquiet Mind: A Memoir of Moods and Madness",
                                    "average_rating": "4.03",
                                    "tag_id": "28038",
                                    "tag_name": "social-work"
                                },
                                {
                                    "authors": "Kay Redfield Jamison",
                                    "title": "An Unquiet Mind: A Memoir of Moods and Madness",
                                    "average_rating": "4.03",
                                    "tag_id": "32775",
                                    "tag_name": "work-related"
                                },
                                {
                                    "authors": "Kay Redfield Jamison",
                                    "title": "An Unquiet Mind: A Memoir of Moods and Madness",
                                    "average_rating": "4.03",
                                    "tag_id": "32766",
                                    "tag_name": "work"
                                },
                                {
                                    "authors": "Charles Duhigg",
                                    "title": "The Power of Habit: Why We Do What We Do in Life and Business",
                                    "average_rating": "4.03",
                                    "tag_id": "32766",
                                    "tag_name": "work"
                                },
                                {
                                    "authors": "Charles Duhigg",
                                    "title": "The Power of Habit: Why We Do What We Do in Life and Business",
                                    "average_rating": "4.03",
                                    "tag_id": "32775",
                                    "tag_name": "work-related"
                                },
                                {
                                    "authors": "Connie Willis",
                                    "title": "Doomsday Book (Oxford Time Travel, #1)",
                                    "average_rating": "4.03",
                                    "tag_id": "27405",
                                    "tag_name": "sf-masterworks"
                                },
                                {
                                    "authors": "Eric Schmidt, Jonathan Rosenberg",
                                    "title": "How Google Works",
                                    "average_rating": "4.03",
                                    "tag_id": "32766",
                                    "tag_name": "work"
                                },
                                {
                                    "authors": "Eric Schmidt, Jonathan Rosenberg",
                                    "title": "How Google Works",
                                    "average_rating": "4.03",
                                    "tag_id": "12329",
                                    "tag_name": "for-work"
                                },
                                {
                                    "authors": "Walter Isaacson",
                                    "title": "The Innovators: How a Group of  Hackers, Geniuses and Geeks Created the Digital Revolution",
                                    "average_rating": "4.03",
                                    "tag_id": "32766",
                                    "tag_name": "work"
                                },
                                {
                                    "authors": "Truddi Chase, Robert A. Phillips Jr.",
                                    "title": "When Rabbit Howls",
                                    "average_rating": "4.03",
                                    "tag_id": "28038",
                                    "tag_name": "social-work"
                                },
                                {
                                    "authors": "Jim Loehr, Tony Schwartz",
                                    "title": "The Power of Full Engagement: Managing Energy, Not Time, Is the Key to High Performance and Personal Renewal",
                                    "average_rating": "4.03",
                                    "tag_id": "32766",
                                    "tag_name": "work"
                                },
                                {
                                    "authors": "Jim Loehr, Tony Schwartz",
                                    "title": "The Power of Full Engagement: Managing Energy, Not Time, Is the Key to High Performance and Personal Renewal",
                                    "average_rating": "4.03",
                                    "tag_id": "30850",
                                    "tag_name": "to-read-work"
                                },
                                {
                                    "authors": "Steven Johnson",
                                    "title": "Where Good Ideas Come From: The Natural History of Innovation",
                                    "average_rating": "4.03",
                                    "tag_id": "32766",
                                    "tag_name": "work"
                                },
                                {
                                    "authors": "Steven Johnson",
                                    "title": "Where Good Ideas Come From: The Natural History of Innovation",
                                    "average_rating": "4.03",
                                    "tag_id": "32775",
                                    "tag_name": "work-related"
                                },
                                {
                                    "authors": "Harold S. Kushner",
                                    "title": "When Bad Things Happen to Good People",
                                    "average_rating": "4.02",
                                    "tag_id": "28038",
                                    "tag_name": "social-work"
                                },
                                {
                                    "authors": "Harriet Lerner",
                                    "title": "The Dance Of Anger: A Woman's Guide to Changing the Patterns of Intimate Relationships",
                                    "average_rating": "4.02",
                                    "tag_id": "32766",
                                    "tag_name": "work"
                                },
                                {
                                    "authors": "Harriet Lerner",
                                    "title": "The Dance Of Anger: A Woman's Guide to Changing the Patterns of Intimate Relationships",
                                    "average_rating": "4.02",
                                    "tag_id": "28038",
                                    "tag_name": "social-work"
                                },
                                {
                                    "authors": "Harriet Lerner",
                                    "title": "The Dance Of Anger: A Woman's Guide to Changing the Patterns of Intimate Relationships",
                                    "average_rating": "4.02",
                                    "tag_id": "28039",
                                    "tag_name": "social-work-books"
                                },
                                {
                                    "authors": "Al Ries, Jack Trout",
                                    "title": "The 22 Immutable Laws of Marketing: Violate Them at Your Own Risk",
                                    "average_rating": "4.02",
                                    "tag_id": "32766",
                                    "tag_name": "work"
                                },
                                {
                                    "authors": "Atul Gawande",
                                    "title": "The Checklist Manifesto: How to Get Things Right",
                                    "average_rating": "4.02",
                                    "tag_id": "32766",
                                    "tag_name": "work"
                                },
                                {
                                    "authors": "Atul Gawande",
                                    "title": "The Checklist Manifesto: How to Get Things Right",
                                    "average_rating": "4.02",
                                    "tag_id": "32775",
                                    "tag_name": "work-related"
                                },
                                {
                                    "authors": "Atul Gawande",
                                    "title": "The Checklist Manifesto: How to Get Things Right",
                                    "average_rating": "4.02",
                                    "tag_id": "32769",
                                    "tag_name": "work-books"
                                },
                                {
                                    "authors": "Chip Heath, Dan Heath",
                                    "title": "Switch: How to Change Things When Change Is Hard",
                                    "average_rating": "4.02",
                                    "tag_id": "32766",
                                    "tag_name": "work"
                                },
                                {
                                    "authors": "Chip Heath, Dan Heath",
                                    "title": "Switch: How to Change Things When Change Is Hard",
                                    "average_rating": "4.02",
                                    "tag_id": "32775",
                                    "tag_name": "work-related"
                                },
                                {
                                    "authors": "Chip Heath, Dan Heath",
                                    "title": "Switch: How to Change Things When Change Is Hard",
                                    "average_rating": "4.02",
                                    "tag_id": "12329",
                                    "tag_name": "for-work"
                                },
                                {
                                    "authors": "Chip Heath, Dan Heath",
                                    "title": "Switch: How to Change Things When Change Is Hard",
                                    "average_rating": "4.02",
                                    "tag_id": "32769",
                                    "tag_name": "work-books"
                                },
                                {
                                    "authors": "Sudhir Venkatesh",
                                    "title": "Gang Leader for a Day: A Rogue Sociologist Takes to the Streets",
                                    "average_rating": "4.01",
                                    "tag_id": "28038",
                                    "tag_name": "social-work"
                                },
                                {
                                    "authors": "Sean Covey",
                                    "title": "The 7 Habits of Highly Effective Teens: The Ultimate Teenage Success Guide",
                                    "average_rating": "4.01",
                                    "tag_id": "32769",
                                    "tag_name": "work-books"
                                },
                                {
                                    "authors": "Philip K. Dick",
                                    "title": "The Three Stigmata of Palmer Eldritch",
                                    "average_rating": "4.01",
                                    "tag_id": "27405",
                                    "tag_name": "sf-masterworks"
                                },
                                {
                                    "authors": "Patrick Lencioni",
                                    "title": "The Five Dysfunctions of a Team: A Leadership Fable",
                                    "average_rating": "4.01",
                                    "tag_id": "32766",
                                    "tag_name": "work"
                                },
                                {
                                    "authors": "Patrick Lencioni",
                                    "title": "The Five Dysfunctions of a Team: A Leadership Fable",
                                    "average_rating": "4.01",
                                    "tag_id": "32775",
                                    "tag_name": "work-related"
                                },
                                {
                                    "authors": "Patrick Lencioni",
                                    "title": "The Five Dysfunctions of a Team: A Leadership Fable",
                                    "average_rating": "4.01",
                                    "tag_id": "29400",
                                    "tag_name": "teamwork"
                                },
                                {
                                    "authors": "Patrick Lencioni",
                                    "title": "The Five Dysfunctions of a Team: A Leadership Fable",
                                    "average_rating": "4.01",
                                    "tag_id": "12329",
                                    "tag_name": "for-work"
                                },
                                {
                                    "authors": "Patrick Lencioni",
                                    "title": "The Five Dysfunctions of a Team: A Leadership Fable",
                                    "average_rating": "4.01",
                                    "tag_id": "32769",
                                    "tag_name": "work-books"
                                },
                                {
                                    "authors": "Patrick Lencioni",
                                    "title": "The Five Dysfunctions of a Team: A Leadership Fable",
                                    "average_rating": "4.01",
                                    "tag_id": "32777",
                                    "tag_name": "work-stuff"
                                },
                                {
                                    "authors": "Tony Hsieh",
                                    "title": "Delivering Happiness: A Path to Profits, Passion, and Purpose",
                                    "average_rating": "4.01",
                                    "tag_id": "32766",
                                    "tag_name": "work"
                                },
                                {
                                    "authors": "Tony Hsieh",
                                    "title": "Delivering Happiness: A Path to Profits, Passion, and Purpose",
                                    "average_rating": "4.01",
                                    "tag_id": "32775",
                                    "tag_name": "work-related"
                                },
                                {
                                    "authors": "Thomas Piketty, Arthur Goldhammer",
                                    "title": "Capital in the Twenty-First Century",
                                    "average_rating": "4.01",
                                    "tag_id": "32766",
                                    "tag_name": "work"
                                },
                                {
                                    "authors": "John P. Kotter",
                                    "title": "Leading Change",
                                    "average_rating": "4.01",
                                    "tag_id": "32766",
                                    "tag_name": "work"
                                },
                                {
                                    "authors": "John P. Kotter",
                                    "title": "Leading Change",
                                    "average_rating": "4.01",
                                    "tag_id": "30850",
                                    "tag_name": "to-read-work"
                                },
                                {
                                    "authors": "Robert A. Heinlein",
                                    "title": "The Door Into Summer",
                                    "average_rating": "4",
                                    "tag_id": "27405",
                                    "tag_name": "sf-masterworks"
                                },
                                {
                                    "authors": "Geoffrey A. Moore, Regis McKenna",
                                    "title": "Crossing the Chasm: Marketing and Selling High-Tech Products to Mainstream Customers",
                                    "average_rating": "4",
                                    "tag_id": "32766",
                                    "tag_name": "work"
                                },
                                {
                                    "authors": "Geoffrey A. Moore, Regis McKenna",
                                    "title": "Crossing the Chasm: Marketing and Selling High-Tech Products to Mainstream Customers",
                                    "average_rating": "4",
                                    "tag_id": "32775",
                                    "tag_name": "work-related"
                                },
                                {
                                    "authors": "Geoffrey A. Moore, Regis McKenna",
                                    "title": "Crossing the Chasm: Marketing and Selling High-Tech Products to Mainstream Customers",
                                    "average_rating": "4",
                                    "tag_id": "32778",
                                    "tag_name": "work-to-read"
                                },
                                {
                                    "authors": "Geoffrey A. Moore, Regis McKenna",
                                    "title": "Crossing the Chasm: Marketing and Selling High-Tech Products to Mainstream Customers",
                                    "average_rating": "4",
                                    "tag_id": "32769",
                                    "tag_name": "work-books"
                                },
                                {
                                    "authors": "Bert Dodson",
                                    "title": "Keys to Drawing",
                                    "average_rating": "4",
                                    "tag_id": "32766",
                                    "tag_name": "work"
                                },
                                {
                                    "authors": "Bert Dodson",
                                    "title": "Keys to Drawing",
                                    "average_rating": "4",
                                    "tag_id": "32773",
                                    "tag_name": "work-material"
                                },
                                {
                                    "authors": "Paula H. Deen, John Berendt",
                                    "title": "The Lady & Sons Savannah Country Cookbook",
                                    "average_rating": "4",
                                    "tag_id": "12236",
                                    "tag_name": "food-network"
                                },
                                {
                                    "authors": "Twyla Tharp",
                                    "title": "The Creative Habit: Learn It and Use It for Life",
                                    "average_rating": "4",
                                    "tag_id": "32766",
                                    "tag_name": "work"
                                },
                                {
                                    "authors": "John Wyndham",
                                    "title": "The Day of the Triffids",
                                    "average_rating": "4",
                                    "tag_id": "27405",
                                    "tag_name": "sf-masterworks"
                                },
                                {
                                    "authors": "Eliyahu M. Goldratt, Jeff Cox",
                                    "title": "The Goal: A Process of Ongoing Improvement",
                                    "average_rating": "4",
                                    "tag_id": "32766",
                                    "tag_name": "work"
                                },
                                {
                                    "authors": "Eliyahu M. Goldratt, Jeff Cox",
                                    "title": "The Goal: A Process of Ongoing Improvement",
                                    "average_rating": "4",
                                    "tag_id": "32775",
                                    "tag_name": "work-related"
                                },
                                {
                                    "authors": "Eliyahu M. Goldratt, Jeff Cox",
                                    "title": "The Goal: A Process of Ongoing Improvement",
                                    "average_rating": "4",
                                    "tag_id": "32778",
                                    "tag_name": "work-to-read"
                                },
                                {
                                    "authors": "Dan Ariely",
                                    "title": "The Upside of Irrationality: The Unexpected Benefits of Defying Logic at Work and at Home",
                                    "average_rating": "4",
                                    "tag_id": "32766",
                                    "tag_name": "work"
                                },
                                {
                                    "authors": "John Medina",
                                    "title": "Brain Rules: 12 Principles for Surviving and Thriving at Work, Home, and School",
                                    "average_rating": "4",
                                    "tag_id": "32766",
                                    "tag_name": "work"
                                },
                                {
                                    "authors": "John Medina",
                                    "title": "Brain Rules: 12 Principles for Surviving and Thriving at Work, Home, and School",
                                    "average_rating": "4",
                                    "tag_id": "32775",
                                    "tag_name": "work-related"
                                },
                                {
                                    "authors": "Clayton M. Christensen",
                                    "title": "The Innovator's Dilemma: The Revolutionary Book that Will Change the Way You Do Business (Collins Business Essentials)",
                                    "average_rating": "4",
                                    "tag_id": "32766",
                                    "tag_name": "work"
                                },
                                {
                                    "authors": "Clayton M. Christensen",
                                    "title": "The Innovator's Dilemma: The Revolutionary Book that Will Change the Way You Do Business (Collins Business Essentials)",
                                    "average_rating": "4",
                                    "tag_id": "32775",
                                    "tag_name": "work-related"
                                },
                                {
                                    "authors": "Clayton M. Christensen",
                                    "title": "The Innovator's Dilemma: The Revolutionary Book that Will Change the Way You Do Business (Collins Business Essentials)",
                                    "average_rating": "4",
                                    "tag_id": "12329",
                                    "tag_name": "for-work"
                                },
                                {
                                    "authors": "Clayton M. Christensen",
                                    "title": "The Innovator's Dilemma: The Revolutionary Book that Will Change the Way You Do Business (Collins Business Essentials)",
                                    "average_rating": "4",
                                    "tag_id": "32778",
                                    "tag_name": "work-to-read"
                                },
                                {
                                    "authors": "Kerry Patterson, Joseph Grenny, Ron McMillan, Al Switzler, Stephen R. Covey",
                                    "title": "Crucial Conversations: Tools for Talking When Stakes Are High",
                                    "average_rating": "4",
                                    "tag_id": "32766",
                                    "tag_name": "work"
                                },
                                {
                                    "authors": "Kerry Patterson, Joseph Grenny, Ron McMillan, Al Switzler, Stephen R. Covey",
                                    "title": "Crucial Conversations: Tools for Talking When Stakes Are High",
                                    "average_rating": "4",
                                    "tag_id": "32775",
                                    "tag_name": "work-related"
                                },
                                {
                                    "authors": "Kerry Patterson, Joseph Grenny, Ron McMillan, Al Switzler, Stephen R. Covey",
                                    "title": "Crucial Conversations: Tools for Talking When Stakes Are High",
                                    "average_rating": "4",
                                    "tag_id": "12329",
                                    "tag_name": "for-work"
                                },
                                {
                                    "authors": "Marya Hornbacher",
                                    "title": "Wasted: A Memoir of Anorexia and Bulimia",
                                    "average_rating": "3.99",
                                    "tag_id": "28038",
                                    "tag_name": "social-work"
                                },
                                {
                                    "authors": "Alfred Bester",
                                    "title": "The Demolished Man",
                                    "average_rating": "3.99",
                                    "tag_id": "27405",
                                    "tag_name": "sf-masterworks"
                                },
                                {
                                    "authors": "Hillary Jordan",
                                    "title": "Mudbound",
                                    "average_rating": "3.99",
                                    "tag_id": "2221",
                                    "tag_name": "amazing-first-work-by-author"
                                },
                                {
                                    "authors": "Richard Matheson",
                                    "title": "I Am Legend and Other Stories",
                                    "average_rating": "3.99",
                                    "tag_id": "27405",
                                    "tag_name": "sf-masterworks"
                                },
                                {
                                    "authors": "Flora Rheta Schreiber",
                                    "title": "Sybil: The Classic True Story of a Woman Possessed by Sixteen Personalities",
                                    "average_rating": "3.99",
                                    "tag_id": "28038",
                                    "tag_name": "social-work"
                                },
                                {
                                    "authors": "Stephen R. Covey",
                                    "title": "The 8th Habit: From Effectiveness to Greatness",
                                    "average_rating": "3.99",
                                    "tag_id": "32766",
                                    "tag_name": "work"
                                },
                                {
                                    "authors": "Stephen R. Covey",
                                    "title": "The 8th Habit: From Effectiveness to Greatness",
                                    "average_rating": "3.99",
                                    "tag_id": "32775",
                                    "tag_name": "work-related"
                                },
                                {
                                    "authors": "Carol Tavris, Elliot Aronson",
                                    "title": "Mistakes Were Made (But Not by Me): Why We Justify Foolish Beliefs, Bad Decisions, and Hurtful Acts",
                                    "average_rating": "3.99",
                                    "tag_id": "32766",
                                    "tag_name": "work"
                                },
                                {
                                    "authors": "Greg McKeown",
                                    "title": "Essentialism: The Disciplined Pursuit of Less",
                                    "average_rating": "3.99",
                                    "tag_id": "32766",
                                    "tag_name": "work"
                                },
                                {
                                    "authors": "Richard Koch",
                                    "title": "The 80/20 Principle: The Secret to Achieving More with Less",
                                    "average_rating": "3.99",
                                    "tag_id": "32766",
                                    "tag_name": "work"
                                },
                                {
                                    "authors": "Richard Koch",
                                    "title": "The 80/20 Principle: The Secret to Achieving More with Less",
                                    "average_rating": "3.99",
                                    "tag_id": "32769",
                                    "tag_name": "work-books"
                                },
                                {
                                    "authors": "Giada De Laurentiis, Victoria Pearson",
                                    "title": "Giada's Family Dinners",
                                    "average_rating": "3.99",
                                    "tag_id": "12329",
                                    "tag_name": "for-work"
                                },
                                {
                                    "authors": "Giada De Laurentiis, Victoria Pearson",
                                    "title": "Giada's Family Dinners",
                                    "average_rating": "3.99",
                                    "tag_id": "12236",
                                    "tag_name": "food-network"
                                },
                                {
                                    "authors": "Giada De Laurentiis, Victoria Pearson",
                                    "title": "Giada's Family Dinners",
                                    "average_rating": "3.99",
                                    "tag_id": "9560",
                                    "tag_name": "discovered-at-work"
                                },
                                {
                                    "authors": "Martin E.P. Seligman",
                                    "title": "Learned Optimism: How to Change Your Mind and Your Life",
                                    "average_rating": "3.98",
                                    "tag_id": "32766",
                                    "tag_name": "work"
                                },
                                {
                                    "authors": "Martin E.P. Seligman",
                                    "title": "Learned Optimism: How to Change Your Mind and Your Life",
                                    "average_rating": "3.98",
                                    "tag_id": "12329",
                                    "tag_name": "for-work"
                                },
                                {
                                    "authors": "James Gleick",
                                    "title": "The Information: A History, a Theory, a Flood",
                                    "average_rating": "3.98",
                                    "tag_id": "32766",
                                    "tag_name": "work"
                                },
                                {
                                    "authors": "Jack Finney",
                                    "title": "Time and Again (Time, #1)",
                                    "average_rating": "3.98",
                                    "tag_id": "11358",
                                    "tag_name": "fantasy-masterworks"
                                },
                                {
                                    "authors": "Theodore Sturgeon",
                                    "title": "More Than Human",
                                    "average_rating": "3.98",
                                    "tag_id": "27405",
                                    "tag_name": "sf-masterworks"
                                },
                                {
                                    "authors": "Theodore Sturgeon",
                                    "title": "More Than Human",
                                    "average_rating": "3.98",
                                    "tag_id": "26795",
                                    "tag_name": "sci-fi-masterworks"
                                },
                                {
                                    "authors": "Theodore Sturgeon",
                                    "title": "More Than Human",
                                    "average_rating": "3.98",
                                    "tag_id": "19431",
                                    "tag_name": "masterworks"
                                },
                                {
                                    "authors": "Holly Black",
                                    "title": "Red Glove (Curse Workers, #2)",
                                    "average_rating": "3.98",
                                    "tag_id": "8723",
                                    "tag_name": "curse-workers"
                                },
                                {
                                    "authors": "Kerry Patterson, Joseph Grenny, David Maxfield, Ron McMillan, Al Switzler",
                                    "title": "Influencer: The Power to Change Anything",
                                    "average_rating": "3.98",
                                    "tag_id": "32766",
                                    "tag_name": "work"
                                },
                                {
                                    "authors": "Kerry Patterson, Joseph Grenny, David Maxfield, Ron McMillan, Al Switzler",
                                    "title": "Influencer: The Power to Change Anything",
                                    "average_rating": "3.98",
                                    "tag_id": "32775",
                                    "tag_name": "work-related"
                                },
                                {
                                    "authors": "Kerry Patterson, Joseph Grenny, David Maxfield, Ron McMillan, Al Switzler",
                                    "title": "Influencer: The Power to Change Anything",
                                    "average_rating": "3.98",
                                    "tag_id": "12329",
                                    "tag_name": "for-work"
                                },
                                {
                                    "authors": "Kerry Patterson, Joseph Grenny, David Maxfield, Ron McMillan, Al Switzler",
                                    "title": "Influencer: The Power to Change Anything",
                                    "average_rating": "3.98",
                                    "tag_id": "32769",
                                    "tag_name": "work-books"
                                },
                                {
                                    "authors": "Kerry Patterson, Joseph Grenny, David Maxfield, Ron McMillan, Al Switzler",
                                    "title": "Influencer: The Power to Change Anything",
                                    "average_rating": "3.98",
                                    "tag_id": "28038",
                                    "tag_name": "social-work"
                                },
                                {
                                    "authors": "Kerry Patterson, Joseph Grenny, David Maxfield, Ron McMillan, Al Switzler",
                                    "title": "Influencer: The Power to Change Anything",
                                    "average_rating": "3.98",
                                    "tag_id": "32778",
                                    "tag_name": "work-to-read"
                                },
                                {
                                    "authors": "Kerry Patterson, Joseph Grenny, David Maxfield, Ron McMillan, Al Switzler",
                                    "title": "Influencer: The Power to Change Anything",
                                    "average_rating": "3.98",
                                    "tag_id": "30850",
                                    "tag_name": "to-read-work"
                                },
                                {
                                    "authors": "David    Allen",
                                    "title": "Getting Things Done: The Art of Stress-Free Productivity",
                                    "average_rating": "3.98",
                                    "tag_id": "32766",
                                    "tag_name": "work"
                                },
                                {
                                    "authors": "David    Allen",
                                    "title": "Getting Things Done: The Art of Stress-Free Productivity",
                                    "average_rating": "3.98",
                                    "tag_id": "32775",
                                    "tag_name": "work-related"
                                },
                                {
                                    "authors": "Scott McCloud",
                                    "title": "Understanding Comics: The Invisible Art",
                                    "average_rating": "3.98",
                                    "tag_id": "32766",
                                    "tag_name": "work"
                                },
                                {
                                    "authors": "Daniel Goleman",
                                    "title": "Emotional Intelligence: Why It Can Matter More Than IQ",
                                    "average_rating": "3.98",
                                    "tag_id": "32766",
                                    "tag_name": "work"
                                },
                                {
                                    "authors": "Daniel Goleman",
                                    "title": "Emotional Intelligence: Why It Can Matter More Than IQ",
                                    "average_rating": "3.98",
                                    "tag_id": "32775",
                                    "tag_name": "work-related"
                                },
                                {
                                    "authors": "James C. Collins, Jerry I. Porras",
                                    "title": "Built to Last: Successful Habits of Visionary Companies",
                                    "average_rating": "3.98",
                                    "tag_id": "32766",
                                    "tag_name": "work"
                                },
                                {
                                    "authors": "James C. Collins, Jerry I. Porras",
                                    "title": "Built to Last: Successful Habits of Visionary Companies",
                                    "average_rating": "3.98",
                                    "tag_id": "32775",
                                    "tag_name": "work-related"
                                },
                                {
                                    "authors": "Michael E. Gerber",
                                    "title": "The E-Myth Revisited: Why Most Small Businesses Don't Work and What to Do About It",
                                    "average_rating": "3.98",
                                    "tag_id": "32766",
                                    "tag_name": "work"
                                },
                                {
                                    "authors": "Giada De Laurentiis",
                                    "title": "Everyday Italian: 125 Simple and Delicious Recipes",
                                    "average_rating": "3.97",
                                    "tag_id": "21346",
                                    "tag_name": "network"
                                },
                                {
                                    "authors": "Chip Heath, Dan Heath",
                                    "title": "Made to Stick: Why Some Ideas Survive and Others Die",
                                    "average_rating": "3.97",
                                    "tag_id": "32766",
                                    "tag_name": "work"
                                },
                                {
                                    "authors": "Chip Heath, Dan Heath",
                                    "title": "Made to Stick: Why Some Ideas Survive and Others Die",
                                    "average_rating": "3.97",
                                    "tag_id": "32775",
                                    "tag_name": "work-related"
                                },
                                {
                                    "authors": "Walter M. Miller Jr.",
                                    "title": "A Canticle for Leibowitz",
                                    "average_rating": "3.97",
                                    "tag_id": "27405",
                                    "tag_name": "sf-masterworks"
                                },
                                {
                                    "authors": "Amanda Palmer",
                                    "title": "The Art of Asking; or, How I Learned to Stop Worrying and Let People Help",
                                    "average_rating": "3.97",
                                    "tag_id": "32766",
                                    "tag_name": "work"
                                },
                                {
                                    "authors": "Jenő Barcsay",
                                    "title": "Anatomy for the Artist",
                                    "average_rating": "3.97",
                                    "tag_id": "32766",
                                    "tag_name": "work"
                                },
                                {
                                    "authors": "Jenő Barcsay",
                                    "title": "Anatomy for the Artist",
                                    "average_rating": "3.97",
                                    "tag_id": "3112",
                                    "tag_name": "art-work"
                                },
                                {
                                    "authors": "Jenő Barcsay",
                                    "title": "Anatomy for the Artist",
                                    "average_rating": "3.97",
                                    "tag_id": "18489",
                                    "tag_name": "location-work"
                                },
                                {
                                    "authors": "Alastair Reynolds",
                                    "title": "Revelation Space",
                                    "average_rating": "3.97",
                                    "tag_id": "27405",
                                    "tag_name": "sf-masterworks"
                                },
                                {
                                    "authors": "Daniel Goleman",
                                    "title": "Social Intelligence: The New Science of Human Relationships",
                                    "average_rating": "3.97",
                                    "tag_id": "32766",
                                    "tag_name": "work"
                                },
                                {
                                    "authors": "Daniel Goleman",
                                    "title": "Social Intelligence: The New Science of Human Relationships",
                                    "average_rating": "3.97",
                                    "tag_id": "21348",
                                    "tag_name": "networking"
                                },
                                {
                                    "authors": "Stephen M.R. Covey",
                                    "title": "The Speed of Trust: The One Thing that Changes Everything",
                                    "average_rating": "3.97",
                                    "tag_id": "32766",
                                    "tag_name": "work"
                                },
                                {
                                    "authors": "Stephen M.R. Covey",
                                    "title": "The Speed of Trust: The One Thing that Changes Everything",
                                    "average_rating": "3.97",
                                    "tag_id": "32775",
                                    "tag_name": "work-related"
                                },
                                {
                                    "authors": "Stephen M.R. Covey",
                                    "title": "The Speed of Trust: The One Thing that Changes Everything",
                                    "average_rating": "3.97",
                                    "tag_id": "5156",
                                    "tag_name": "books-for-work"
                                },
                                {
                                    "authors": "Stephen M.R. Covey",
                                    "title": "The Speed of Trust: The One Thing that Changes Everything",
                                    "average_rating": "3.97",
                                    "tag_id": "32769",
                                    "tag_name": "work-books"
                                },
                                {
                                    "authors": "Stephen M.R. Covey",
                                    "title": "The Speed of Trust: The One Thing that Changes Everything",
                                    "average_rating": "3.97",
                                    "tag_id": "32774",
                                    "tag_name": "work-reading"
                                },
                                {
                                    "authors": "Allan Pease, Barbara Pease",
                                    "title": "The Definitive Book of Body Language",
                                    "average_rating": "3.97",
                                    "tag_id": "32766",
                                    "tag_name": "work"
                                },
                                {
                                    "authors": "George R. Stewart",
                                    "title": "Earth Abides",
                                    "average_rating": "3.96",
                                    "tag_id": "27405",
                                    "tag_name": "sf-masterworks"
                                },
                                {
                                    "authors": "Geoff Colvin",
                                    "title": "Talent is Overrated: What Really Separates World-Class Performers from Everybody Else",
                                    "average_rating": "3.96",
                                    "tag_id": "32766",
                                    "tag_name": "work"
                                },
                                {
                                    "authors": "Geoff Colvin",
                                    "title": "Talent is Overrated: What Really Separates World-Class Performers from Everybody Else",
                                    "average_rating": "3.96",
                                    "tag_id": "32775",
                                    "tag_name": "work-related"
                                },
                                {
                                    "authors": "John Brunner",
                                    "title": "Stand on Zanzibar",
                                    "average_rating": "3.96",
                                    "tag_id": "27405",
                                    "tag_name": "sf-masterworks"
                                },
                                {
                                    "authors": "John Brunner",
                                    "title": "Stand on Zanzibar",
                                    "average_rating": "3.96",
                                    "tag_id": "26795",
                                    "tag_name": "sci-fi-masterworks"
                                },
                                {
                                    "authors": "John Brunner",
                                    "title": "Stand on Zanzibar",
                                    "average_rating": "3.96",
                                    "tag_id": "19431",
                                    "tag_name": "masterworks"
                                },
                                {
                                    "authors": "Nate Silver",
                                    "title": "The Signal and the Noise: Why So Many Predictions Fail - But Some Don't",
                                    "average_rating": "3.96",
                                    "tag_id": "32766",
                                    "tag_name": "work"
                                },
                                {
                                    "authors": "Nigella Lawson",
                                    "title": "Nigella Express: Good Food, Fast",
                                    "average_rating": "3.96",
                                    "tag_id": "5484",
                                    "tag_name": "borrowed-from-family-friends-work"
                                },
                                {
                                    "authors": "Arthur C. Clarke",
                                    "title": "The Fountains of Paradise",
                                    "average_rating": "3.96",
                                    "tag_id": "27405",
                                    "tag_name": "sf-masterworks"
                                },
                                {
                                    "authors": "Larry Niven",
                                    "title": "Ringworld (Ringworld, #1)",
                                    "average_rating": "3.96",
                                    "tag_id": "27405",
                                    "tag_name": "sf-masterworks"
                                },
                                {
                                    "authors": "Richard Carlson",
                                    "title": "Don't Sweat the Small Stuff ... and it's all small stuff: Simple Ways to Keep the Little Things from Taking Over Your Life",
                                    "average_rating": "3.95",
                                    "tag_id": "32766",
                                    "tag_name": "work"
                                },
                                {
                                    "authors": "Richard Carlson",
                                    "title": "Don't Sweat the Small Stuff ... and it's all small stuff: Simple Ways to Keep the Little Things from Taking Over Your Life",
                                    "average_rating": "3.95",
                                    "tag_id": "32775",
                                    "tag_name": "work-related"
                                },
                                {
                                    "authors": "Daniel H. Pink",
                                    "title": "Drive: The Surprising Truth About What Motivates Us",
                                    "average_rating": "3.95",
                                    "tag_id": "32766",
                                    "tag_name": "work"
                                },
                                {
                                    "authors": "Daniel H. Pink",
                                    "title": "Drive: The Surprising Truth About What Motivates Us",
                                    "average_rating": "3.95",
                                    "tag_id": "32775",
                                    "tag_name": "work-related"
                                },
                                {
                                    "authors": "Daniel H. Pink",
                                    "title": "Drive: The Surprising Truth About What Motivates Us",
                                    "average_rating": "3.95",
                                    "tag_id": "32769",
                                    "tag_name": "work-books"
                                },
                                {
                                    "authors": "Ray Bradbury",
                                    "title": "Something Wicked This Way Comes (Green Town, #2)",
                                    "average_rating": "3.95",
                                    "tag_id": "11358",
                                    "tag_name": "fantasy-masterworks"
                                },
                                {
                                    "authors": "Marcus Buckingham, Donald O. Clifton",
                                    "title": "Now, Discover Your Strengths",
                                    "average_rating": "3.95",
                                    "tag_id": "32766",
                                    "tag_name": "work"
                                },
                                {
                                    "authors": "Marcus Buckingham, Donald O. Clifton",
                                    "title": "Now, Discover Your Strengths",
                                    "average_rating": "3.95",
                                    "tag_id": "32769",
                                    "tag_name": "work-books"
                                },
                                {
                                    "authors": "Marcus Buckingham, Donald O. Clifton",
                                    "title": "Now, Discover Your Strengths",
                                    "average_rating": "3.95",
                                    "tag_id": "32775",
                                    "tag_name": "work-related"
                                },
                                {
                                    "authors": "David D. Burns",
                                    "title": "Feeling Good: The New Mood Therapy",
                                    "average_rating": "3.95",
                                    "tag_id": "28038",
                                    "tag_name": "social-work"
                                },
                                {
                                    "authors": "David D. Burns",
                                    "title": "Feeling Good: The New Mood Therapy",
                                    "average_rating": "3.95",
                                    "tag_id": "14926",
                                    "tag_name": "how-the-brain-works"
                                },
                                {
                                    "authors": "Daniel H. Pink",
                                    "title": "A Whole New Mind: Why Right-Brainers Will Rule the Future",
                                    "average_rating": "3.95",
                                    "tag_id": "32766",
                                    "tag_name": "work"
                                },
                                {
                                    "authors": "Daniel H. Pink",
                                    "title": "A Whole New Mind: Why Right-Brainers Will Rule the Future",
                                    "average_rating": "3.95",
                                    "tag_id": "32775",
                                    "tag_name": "work-related"
                                },
                                {
                                    "authors": "Philip K. Dick",
                                    "title": "VALIS (VALIS Trilogy, #1)",
                                    "average_rating": "3.94",
                                    "tag_id": "27405",
                                    "tag_name": "sf-masterworks"
                                },
                                {
                                    "authors": "Marshall Goldsmith, Mark Reiter",
                                    "title": "What Got You Here Won't Get You There: How Successful People Become Even More Successful",
                                    "average_rating": "3.94",
                                    "tag_id": "32766",
                                    "tag_name": "work"
                                },
                                {
                                    "authors": "Marshall Goldsmith, Mark Reiter",
                                    "title": "What Got You Here Won't Get You There: How Successful People Become Even More Successful",
                                    "average_rating": "3.94",
                                    "tag_id": "32775",
                                    "tag_name": "work-related"
                                },
                                {
                                    "authors": "Marshall Goldsmith, Mark Reiter",
                                    "title": "What Got You Here Won't Get You There: How Successful People Become Even More Successful",
                                    "average_rating": "3.94",
                                    "tag_id": "32769",
                                    "tag_name": "work-books"
                                },
                                {
                                    "authors": "Marshall Goldsmith, Mark Reiter",
                                    "title": "What Got You Here Won't Get You There: How Successful People Become Even More Successful",
                                    "average_rating": "3.94",
                                    "tag_id": "30850",
                                    "tag_name": "to-read-work"
                                },
                                {
                                    "authors": "Marshall Goldsmith, Mark Reiter",
                                    "title": "What Got You Here Won't Get You There: How Successful People Become Even More Successful",
                                    "average_rating": "3.94",
                                    "tag_id": "5156",
                                    "tag_name": "books-for-work"
                                },
                                {
                                    "authors": "Marshall Goldsmith, Mark Reiter",
                                    "title": "What Got You Here Won't Get You There: How Successful People Become Even More Successful",
                                    "average_rating": "3.94",
                                    "tag_id": "32782",
                                    "tag_name": "workplace-challenges"
                                },
                                {
                                    "authors": "Philip José Farmer",
                                    "title": "To Your Scattered Bodies Go (Riverworld, #1)",
                                    "average_rating": "3.94",
                                    "tag_id": "27405",
                                    "tag_name": "sf-masterworks"
                                },
                                {
                                    "authors": "Jeanette Winterson",
                                    "title": "Why Be Happy When You Could Be Normal?",
                                    "average_rating": "3.94",
                                    "tag_id": "28038",
                                    "tag_name": "social-work"
                                },
                                {
                                    "authors": "Sheryl Sandberg, Nell Scovell",
                                    "title": "Lean In: Women, Work, and the Will to Lead",
                                    "average_rating": "3.94",
                                    "tag_id": "32766",
                                    "tag_name": "work"
                                },
                                {
                                    "authors": "Sheryl Sandberg, Nell Scovell",
                                    "title": "Lean In: Women, Work, and the Will to Lead",
                                    "average_rating": "3.94",
                                    "tag_id": "32775",
                                    "tag_name": "work-related"
                                },
                                {
                                    "authors": "Shoichi Aoki, Mark Sanders, Shoich Aoki",
                                    "title": "FRUiTS",
                                    "average_rating": "3.94",
                                    "tag_id": "32768",
                                    "tag_name": "work-b-visible-project"
                                },
                                {
                                    "authors": "L.D. Davis",
                                    "title": "Accidentally on Purpose (Accidentally on Purpose, #1)",
                                    "average_rating": "3.94",
                                    "tag_id": "5498",
                                    "tag_name": "boss"
                                },
                                {
                                    "authors": "Charles Harrison, Paul Wood",
                                    "title": "Art in Theory 1900 - 2000: An Anthology of Changing Ideas",
                                    "average_rating": "3.94",
                                    "tag_id": "7920",
                                    "tag_name": "complete-works-anthologies"
                                },
                                {
                                    "authors": "Charles Harrison, Paul Wood",
                                    "title": "Art in Theory 1900 - 2000: An Anthology of Changing Ideas",
                                    "average_rating": "3.94",
                                    "tag_id": "25581",
                                    "tag_name": "reference-works"
                                },
                                {
                                    "authors": "Scott Belsky",
                                    "title": "Making Ideas Happen: Overcoming the Obstacles Between Vision and Reality",
                                    "average_rating": "3.94",
                                    "tag_id": "32766",
                                    "tag_name": "work"
                                },
                                {
                                    "authors": "Scott Belsky",
                                    "title": "Making Ideas Happen: Overcoming the Obstacles Between Vision and Reality",
                                    "average_rating": "3.94",
                                    "tag_id": "32775",
                                    "tag_name": "work-related"
                                },
                                {
                                    "authors": "Scott Belsky",
                                    "title": "Making Ideas Happen: Overcoming the Obstacles Between Vision and Reality",
                                    "average_rating": "3.94",
                                    "tag_id": "32769",
                                    "tag_name": "work-books"
                                },
                                {
                                    "authors": "Seth Godin",
                                    "title": "Permission Marketing: Turning Strangers Into Friends And Friends Into Customers",
                                    "average_rating": "3.94",
                                    "tag_id": "32766",
                                    "tag_name": "work"
                                },
                                {
                                    "authors": "Seth Godin",
                                    "title": "Permission Marketing: Turning Strangers Into Friends And Friends Into Customers",
                                    "average_rating": "3.94",
                                    "tag_id": "21348",
                                    "tag_name": "networking"
                                },
                                {
                                    "authors": "Phaidon Press",
                                    "title": "The 20th Century Art Book",
                                    "average_rating": "3.94",
                                    "tag_id": "32766",
                                    "tag_name": "work"
                                },
                                {
                                    "authors": "Jessica Livingston",
                                    "title": "Founders at Work: Stories of Startups' Early Days",
                                    "average_rating": "3.94",
                                    "tag_id": "32766",
                                    "tag_name": "work"
                                },
                                {
                                    "authors": "Jessica Livingston",
                                    "title": "Founders at Work: Stories of Startups' Early Days",
                                    "average_rating": "3.94",
                                    "tag_id": "32775",
                                    "tag_name": "work-related"
                                },
                                {
                                    "authors": "Jessica Livingston",
                                    "title": "Founders at Work: Stories of Startups' Early Days",
                                    "average_rating": "3.94",
                                    "tag_id": "3305",
                                    "tag_name": "at-work"
                                },
                                {
                                    "authors": "Peter M. Senge",
                                    "title": "The Fifth Discipline: The Art & Practice of The Learning Organization",
                                    "average_rating": "3.93",
                                    "tag_id": "32766",
                                    "tag_name": "work"
                                },
                                {
                                    "authors": "Peter M. Senge",
                                    "title": "The Fifth Discipline: The Art & Practice of The Learning Organization",
                                    "average_rating": "3.93",
                                    "tag_id": "32775",
                                    "tag_name": "work-related"
                                },
                                {
                                    "authors": "Peter M. Senge",
                                    "title": "The Fifth Discipline: The Art & Practice of The Learning Organization",
                                    "average_rating": "3.93",
                                    "tag_id": "32769",
                                    "tag_name": "work-books"
                                },
                                {
                                    "authors": "Richard Branson",
                                    "title": "Screw It, Let's Do It: Lessons In Life",
                                    "average_rating": "3.93",
                                    "tag_id": "32766",
                                    "tag_name": "work"
                                },
                                {
                                    "authors": "John Wyndham",
                                    "title": "The Midwich Cuckoos",
                                    "average_rating": "3.93",
                                    "tag_id": "27405",
                                    "tag_name": "sf-masterworks"
                                },
                                {
                                    "authors": "Jason Fried, David Heinemeier Hansson",
                                    "title": "Rework",
                                    "average_rating": "3.93",
                                    "tag_id": "32766",
                                    "tag_name": "work"
                                },
                                {
                                    "authors": "Jason Fried, David Heinemeier Hansson",
                                    "title": "Rework",
                                    "average_rating": "3.93",
                                    "tag_id": "32775",
                                    "tag_name": "work-related"
                                },
                                {
                                    "authors": "Dan   Harris",
                                    "title": "10% Happier: How I Tamed the Voice in My Head, Reduced Stress Without Losing My Edge, and Found Self-Help That Actually Works",
                                    "average_rating": "3.93",
                                    "tag_id": "32766",
                                    "tag_name": "work"
                                },
                                {
                                    "authors": "Mary Roach",
                                    "title": "Packing for Mars: The Curious Science of Life in the Void",
                                    "average_rating": "3.93",
                                    "tag_id": "32784",
                                    "tag_name": "works"
                                },
                                {
                                    "authors": "Leigh Nichols, Dean Koontz",
                                    "title": "The Key to Midnight",
                                    "average_rating": "3.93",
                                    "tag_id": "9357",
                                    "tag_name": "detective-work"
                                },
                                {
                                    "authors": "Philip K. Dick",
                                    "title": "Flow My Tears, the Policeman Said",
                                    "average_rating": "3.93",
                                    "tag_id": "27405",
                                    "tag_name": "sf-masterworks"
                                },
                                {
                                    "authors": "Stephen C. Lundin, Harry Paul, John Christensen, Kenneth H. Blanchard",
                                    "title": "Fish: A Proven Way to Boost Morale and Improve Results",
                                    "average_rating": "3.92",
                                    "tag_id": "32766",
                                    "tag_name": "work"
                                },
                                {
                                    "authors": "Stephen C. Lundin, Harry Paul, John Christensen, Kenneth H. Blanchard",
                                    "title": "Fish: A Proven Way to Boost Morale and Improve Results",
                                    "average_rating": "3.92",
                                    "tag_id": "32775",
                                    "tag_name": "work-related"
                                },
                                {
                                    "authors": "Stephen C. Lundin, Harry Paul, John Christensen, Kenneth H. Blanchard",
                                    "title": "Fish: A Proven Way to Boost Morale and Improve Results",
                                    "average_rating": "3.92",
                                    "tag_id": "32769",
                                    "tag_name": "work-books"
                                },
                                {
                                    "authors": "Stephen C. Lundin, Harry Paul, John Christensen, Kenneth H. Blanchard",
                                    "title": "Fish: A Proven Way to Boost Morale and Improve Results",
                                    "average_rating": "3.92",
                                    "tag_id": "25118",
                                    "tag_name": "read-for-work"
                                },
                                {
                                    "authors": "Frederick Franck",
                                    "title": "Zen of Seeing: Seeing/Drawing as Meditation",
                                    "average_rating": "3.92",
                                    "tag_id": "4939",
                                    "tag_name": "book-arts-workshop"
                                },
                                {
                                    "authors": "Marcus Buckingham, Curt Coffman",
                                    "title": "First, Break All the Rules: What the World's Greatest Managers Do Differently",
                                    "average_rating": "3.92",
                                    "tag_id": "32766",
                                    "tag_name": "work"
                                },
                                {
                                    "authors": "Marcus Buckingham, Curt Coffman",
                                    "title": "First, Break All the Rules: What the World's Greatest Managers Do Differently",
                                    "average_rating": "3.92",
                                    "tag_id": "32775",
                                    "tag_name": "work-related"
                                },
                                {
                                    "authors": "Marcus Buckingham, Curt Coffman",
                                    "title": "First, Break All the Rules: What the World's Greatest Managers Do Differently",
                                    "average_rating": "3.92",
                                    "tag_id": "32769",
                                    "tag_name": "work-books"
                                },
                                {
                                    "authors": "Marcus Buckingham, Curt Coffman",
                                    "title": "First, Break All the Rules: What the World's Greatest Managers Do Differently",
                                    "average_rating": "3.92",
                                    "tag_id": "12329",
                                    "tag_name": "for-work"
                                },
                                {
                                    "authors": "John Wyndham",
                                    "title": "The Chrysalids",
                                    "average_rating": "3.92",
                                    "tag_id": "27405",
                                    "tag_name": "sf-masterworks"
                                },
                                {
                                    "authors": "Tom Rath",
                                    "title": "Strengths Finder 2.0",
                                    "average_rating": "3.92",
                                    "tag_id": "32766",
                                    "tag_name": "work"
                                },
                                {
                                    "authors": "Tom Rath",
                                    "title": "Strengths Finder 2.0",
                                    "average_rating": "3.92",
                                    "tag_id": "32775",
                                    "tag_name": "work-related"
                                },
                                {
                                    "authors": "Tom Rath",
                                    "title": "Strengths Finder 2.0",
                                    "average_rating": "3.92",
                                    "tag_id": "12329",
                                    "tag_name": "for-work"
                                },
                                {
                                    "authors": "Tom Rath",
                                    "title": "Strengths Finder 2.0",
                                    "average_rating": "3.92",
                                    "tag_id": "32769",
                                    "tag_name": "work-books"
                                },
                                {
                                    "authors": "Malcolm Gladwell",
                                    "title": "The Tipping Point: How Little Things Can Make a Big Difference",
                                    "average_rating": "3.92",
                                    "tag_id": "32766",
                                    "tag_name": "work"
                                },
                                {
                                    "authors": "Jack London",
                                    "title": "To Build a Fire",
                                    "average_rating": "3.92",
                                    "tag_id": "27688",
                                    "tag_name": "short-works"
                                },
                                {
                                    "authors": "Tom Peters, Robert H. Waterman Jr.",
                                    "title": "In Search of Excellence: Lessons from America's Best-Run Companies",
                                    "average_rating": "3.91",
                                    "tag_id": "32766",
                                    "tag_name": "work"
                                },
                                {
                                    "authors": "Tom Peters, Robert H. Waterman Jr.",
                                    "title": "In Search of Excellence: Lessons from America's Best-Run Companies",
                                    "average_rating": "3.91",
                                    "tag_id": "32775",
                                    "tag_name": "work-related"
                                },
                                {
                                    "authors": "Tom Peters, Robert H. Waterman Jr.",
                                    "title": "In Search of Excellence: Lessons from America's Best-Run Companies",
                                    "average_rating": "3.91",
                                    "tag_id": "32778",
                                    "tag_name": "work-to-read"
                                },
                                {
                                    "authors": "Dan Ariely",
                                    "title": "The Honest Truth About Dishonesty: How We Lie to Everyone - Especially Ourselves",
                                    "average_rating": "3.91",
                                    "tag_id": "32766",
                                    "tag_name": "work"
                                },
                                {
                                    "authors": "John Elder Robison",
                                    "title": "Look Me in the Eye: My Life with Asperger's",
                                    "average_rating": "3.91",
                                    "tag_id": "32775",
                                    "tag_name": "work-related"
                                },
                                {
                                    "authors": "John Elder Robison",
                                    "title": "Look Me in the Eye: My Life with Asperger's",
                                    "average_rating": "3.91",
                                    "tag_id": "28038",
                                    "tag_name": "social-work"
                                },
                                {
                                    "authors": "Paul Tough",
                                    "title": "How Children Succeed: Grit, Curiosity, and the Hidden Power of Character",
                                    "average_rating": "3.91",
                                    "tag_id": "32766",
                                    "tag_name": "work"
                                },
                                {
                                    "authors": "Paul Tough",
                                    "title": "How Children Succeed: Grit, Curiosity, and the Hidden Power of Character",
                                    "average_rating": "3.91",
                                    "tag_id": "32775",
                                    "tag_name": "work-related"
                                },
                                {
                                    "authors": "Malcolm Gladwell",
                                    "title": "David and Goliath: Underdogs, Misfits, and the Art of Battling Giants",
                                    "average_rating": "3.9",
                                    "tag_id": "32766",
                                    "tag_name": "work"
                                },
                                {
                                    "authors": "Joe Navarro, Marvin Karlins",
                                    "title": "What Every Body is Saying: An Ex-FBI Agent's Guide to Speed-Reading People",
                                    "average_rating": "3.9",
                                    "tag_id": "32766",
                                    "tag_name": "work"
                                },
                                {
                                    "authors": "Joe Navarro, Marvin Karlins",
                                    "title": "What Every Body is Saying: An Ex-FBI Agent's Guide to Speed-Reading People",
                                    "average_rating": "3.9",
                                    "tag_id": "32775",
                                    "tag_name": "work-related"
                                },
                                {
                                    "authors": "Daniel H. Pink",
                                    "title": "To Sell Is Human: The Surprising Truth About Moving Others",
                                    "average_rating": "3.89",
                                    "tag_id": "32766",
                                    "tag_name": "work"
                                },
                                {
                                    "authors": "Daniel H. Pink",
                                    "title": "To Sell Is Human: The Surprising Truth About Moving Others",
                                    "average_rating": "3.89",
                                    "tag_id": "32775",
                                    "tag_name": "work-related"
                                },
                                {
                                    "authors": "Ken Robinson, Lou Aronica",
                                    "title": "The Element: How Finding Your Passion Changes Everything",
                                    "average_rating": "3.89",
                                    "tag_id": "32766",
                                    "tag_name": "work"
                                },
                                {
                                    "authors": "Malcolm Gladwell",
                                    "title": "Blink: The Power of Thinking Without Thinking",
                                    "average_rating": "3.89",
                                    "tag_id": "32766",
                                    "tag_name": "work"
                                },
                                {
                                    "authors": "Julia Cameron",
                                    "title": "The Artist's Way: A Spiritual Path to Higher Creativity",
                                    "average_rating": "3.89",
                                    "tag_id": "32766",
                                    "tag_name": "work"
                                },
                                {
                                    "authors": "Nassim Nicholas Taleb",
                                    "title": "The Black Swan: The Impact of the Highly Improbable",
                                    "average_rating": "3.88",
                                    "tag_id": "32766",
                                    "tag_name": "work"
                                },
                                {
                                    "authors": "Roger Fisher, William Ury, Bruce Patton",
                                    "title": "Getting to Yes: Negotiating an Agreement Without Giving In",
                                    "average_rating": "3.88",
                                    "tag_id": "32766",
                                    "tag_name": "work"
                                },
                                {
                                    "authors": "Roger Fisher, William Ury, Bruce Patton",
                                    "title": "Getting to Yes: Negotiating an Agreement Without Giving In",
                                    "average_rating": "3.88",
                                    "tag_id": "32775",
                                    "tag_name": "work-related"
                                },
                                {
                                    "authors": "Roger Fisher, William Ury, Bruce Patton",
                                    "title": "Getting to Yes: Negotiating an Agreement Without Giving In",
                                    "average_rating": "3.88",
                                    "tag_id": "12329",
                                    "tag_name": "for-work"
                                },
                                {
                                    "authors": "Christopher Chabris, Daniel Simons",
                                    "title": "The Invisible Gorilla: And Other Ways Our Intuitions Deceive Us",
                                    "average_rating": "3.88",
                                    "tag_id": "32766",
                                    "tag_name": "work"
                                },
                                {
                                    "authors": "Christopher Chabris, Daniel Simons",
                                    "title": "The Invisible Gorilla: And Other Ways Our Intuitions Deceive Us",
                                    "average_rating": "3.88",
                                    "tag_id": "32775",
                                    "tag_name": "work-related"
                                },
                                {
                                    "authors": "Neil A. Fiore",
                                    "title": "The Now Habit: A Strategic Program for Overcoming Procrastination and Enjoying Guilt-Free Play",
                                    "average_rating": "3.88",
                                    "tag_id": "32775",
                                    "tag_name": "work-related"
                                },
                                {
                                    "authors": "Neil A. Fiore",
                                    "title": "The Now Habit: A Strategic Program for Overcoming Procrastination and Enjoying Guilt-Free Play",
                                    "average_rating": "3.88",
                                    "tag_id": "32766",
                                    "tag_name": "work"
                                },
                                {
                                    "authors": "Seth Godin",
                                    "title": "All Marketers Are Liars: The Power of Telling Authentic Stories in a Low-Trust World",
                                    "average_rating": "3.88",
                                    "tag_id": "32766",
                                    "tag_name": "work"
                                },
                                {
                                    "authors": "Jonah Berger",
                                    "title": "Contagious: Why Things Catch On",
                                    "average_rating": "3.88",
                                    "tag_id": "32766",
                                    "tag_name": "work"
                                },
                                {
                                    "authors": "Robert A. Heinlein",
                                    "title": "Double Star",
                                    "average_rating": "3.88",
                                    "tag_id": "27405",
                                    "tag_name": "sf-masterworks"
                                },
                                {
                                    "authors": "Marti Olsen Laney",
                                    "title": "The Introvert Advantage: How to Thrive in an Extrovert World",
                                    "average_rating": "3.88",
                                    "tag_id": "32766",
                                    "tag_name": "work"
                                },
                                {
                                    "authors": "Marti Olsen Laney",
                                    "title": "The Introvert Advantage: How to Thrive in an Extrovert World",
                                    "average_rating": "3.88",
                                    "tag_id": "32775",
                                    "tag_name": "work-related"
                                },
                                {
                                    "authors": "Miranda July, Brigitte Sire",
                                    "title": "It Chooses You",
                                    "average_rating": "3.88",
                                    "tag_id": "32766",
                                    "tag_name": "work"
                                },
                                {
                                    "authors": "Niall Ferguson",
                                    "title": "The Ascent of Money: A Financial History of the World",
                                    "average_rating": "3.88",
                                    "tag_id": "32766",
                                    "tag_name": "work"
                                },
                                {
                                    "authors": "Leonard Mlodinow",
                                    "title": "The Drunkard's Walk: How Randomness Rules Our Lives",
                                    "average_rating": "3.88",
                                    "tag_id": "32766",
                                    "tag_name": "work"
                                },
                                {
                                    "authors": "Jack Finney",
                                    "title": "Invasion of the Body Snatchers",
                                    "average_rating": "3.88",
                                    "tag_id": "27405",
                                    "tag_name": "sf-masterworks"
                                },
                                {
                                    "authors": "Jack Finney",
                                    "title": "Invasion of the Body Snatchers",
                                    "average_rating": "3.88",
                                    "tag_id": "26795",
                                    "tag_name": "sci-fi-masterworks"
                                },
                                {
                                    "authors": "American Psychiatric Association",
                                    "title": "Diagnostic and Statistical Manual of Mental Disorders DSM-IV-TR",
                                    "average_rating": "3.87",
                                    "tag_id": "28038",
                                    "tag_name": "social-work"
                                },
                                {
                                    "authors": "American Psychiatric Association",
                                    "title": "Diagnostic and Statistical Manual of Mental Disorders DSM-IV-TR",
                                    "average_rating": "3.87",
                                    "tag_id": "32766",
                                    "tag_name": "work"
                                },
                                {
                                    "authors": "American Psychiatric Association",
                                    "title": "Diagnostic and Statistical Manual of Mental Disorders DSM-IV-TR",
                                    "average_rating": "3.87",
                                    "tag_id": "32775",
                                    "tag_name": "work-related"
                                },
                                {
                                    "authors": "American Psychiatric Association",
                                    "title": "Diagnostic and Statistical Manual of Mental Disorders DSM-IV-TR",
                                    "average_rating": "3.87",
                                    "tag_id": "24544",
                                    "tag_name": "psychology-social-work"
                                },
                                {
                                    "authors": "American Psychiatric Association",
                                    "title": "Diagnostic and Statistical Manual of Mental Disorders DSM-IV-TR",
                                    "average_rating": "3.87",
                                    "tag_id": "28040",
                                    "tag_name": "social-work-reads"
                                },
                                {
                                    "authors": "Christopher Priest",
                                    "title": "The Prestige",
                                    "average_rating": "3.87",
                                    "tag_id": "27405",
                                    "tag_name": "sf-masterworks"
                                },
                                {
                                    "authors": "H.G. Wells, Greg Bear, Carlo Pagetti",
                                    "title": "The Time Machine",
                                    "average_rating": "3.87",
                                    "tag_id": "27405",
                                    "tag_name": "sf-masterworks"
                                },
                                {
                                    "authors": "Robert Henri, Forbes Watson, Margery A. Ryerson",
                                    "title": "The Art Spirit: Notes, Articles, Fragments of Letters and Talks to Students, Bearing on the Concept and Technique of Picture Making, the Study of Art (Icon Editions)",
                                    "average_rating": "3.87",
                                    "tag_id": "32766",
                                    "tag_name": "work"
                                },
                                {
                                    "authors": "Simon Schama",
                                    "title": "The Power of Art",
                                    "average_rating": "3.87",
                                    "tag_id": "32766",
                                    "tag_name": "work"
                                },
                                {
                                    "authors": "Simon Schama",
                                    "title": "The Power of Art",
                                    "average_rating": "3.87",
                                    "tag_id": "32769",
                                    "tag_name": "work-books"
                                },
                                {
                                    "authors": "Seth Godin",
                                    "title": "Linchpin: Are You Indispensable?",
                                    "average_rating": "3.87",
                                    "tag_id": "32766",
                                    "tag_name": "work"
                                },
                                {
                                    "authors": "Seth Godin",
                                    "title": "Linchpin: Are You Indispensable?",
                                    "average_rating": "3.87",
                                    "tag_id": "32775",
                                    "tag_name": "work-related"
                                },
                                {
                                    "authors": "Mary Pipher",
                                    "title": "Reviving Ophelia: Saving the Selves of Adolescent Girls",
                                    "average_rating": "3.86",
                                    "tag_id": "32766",
                                    "tag_name": "work"
                                },
                                {
                                    "authors": "Mary Pipher",
                                    "title": "Reviving Ophelia: Saving the Selves of Adolescent Girls",
                                    "average_rating": "3.86",
                                    "tag_id": "28038",
                                    "tag_name": "social-work"
                                },
                                {
                                    "authors": "Mary Pipher",
                                    "title": "Reviving Ophelia: Saving the Selves of Adolescent Girls",
                                    "average_rating": "3.86",
                                    "tag_id": "32775",
                                    "tag_name": "work-related"
                                },
                                {
                                    "authors": "Greg Bear",
                                    "title": "Eon (The Way, #1)",
                                    "average_rating": "3.86",
                                    "tag_id": "27405",
                                    "tag_name": "sf-masterworks"
                                },
                                {
                                    "authors": "Greg Bear",
                                    "title": "Eon (The Way, #1)",
                                    "average_rating": "3.86",
                                    "tag_id": "26795",
                                    "tag_name": "sci-fi-masterworks"
                                },
                                {
                                    "authors": "Austin Kleon",
                                    "title": "Steal Like an Artist: 10 Things Nobody Told You About Being Creative",
                                    "average_rating": "3.86",
                                    "tag_id": "32766",
                                    "tag_name": "work"
                                },
                                {
                                    "authors": "W. Chan Kim, Renée Mauborgne",
                                    "title": "Blue Ocean Strategy: How To Create Uncontested Market Space And Make The Competition Irrelevant",
                                    "average_rating": "3.86",
                                    "tag_id": "32766",
                                    "tag_name": "work"
                                },
                                {
                                    "authors": "W. Chan Kim, Renée Mauborgne",
                                    "title": "Blue Ocean Strategy: How To Create Uncontested Market Space And Make The Competition Irrelevant",
                                    "average_rating": "3.86",
                                    "tag_id": "32775",
                                    "tag_name": "work-related"
                                },
                                {
                                    "authors": "Greg Bear",
                                    "title": "The Forge of God (Forge of God, #1)",
                                    "average_rating": "3.86",
                                    "tag_id": "27405",
                                    "tag_name": "sf-masterworks"
                                },
                                {
                                    "authors": "Diane Mowat, W.W. Jacobs",
                                    "title": "The Monkey's Paw (Oxford Bookworms)",
                                    "average_rating": "3.85",
                                    "tag_id": "27688",
                                    "tag_name": "short-works"
                                },
                                {
                                    "authors": "Gary Vaynerchuk",
                                    "title": "Crush It!: Why Now Is the Time to Cash In on Your Passion",
                                    "average_rating": "3.85",
                                    "tag_id": "32766",
                                    "tag_name": "work"
                                },
                                {
                                    "authors": "Gary Vaynerchuk",
                                    "title": "Crush It!: Why Now Is the Time to Cash In on Your Passion",
                                    "average_rating": "3.85",
                                    "tag_id": "28027",
                                    "tag_name": "social-networking"
                                },
                                {
                                    "authors": "George R.R. Martin",
                                    "title": "Fevre Dream",
                                    "average_rating": "3.85",
                                    "tag_id": "11358",
                                    "tag_name": "fantasy-masterworks"
                                },
                                {
                                    "authors": "Kenneth H. Blanchard, Spencer Johnson",
                                    "title": "The One Minute Manager",
                                    "average_rating": "3.85",
                                    "tag_id": "32775",
                                    "tag_name": "work-related"
                                },
                                {
                                    "authors": "Kenneth H. Blanchard, Spencer Johnson",
                                    "title": "The One Minute Manager",
                                    "average_rating": "3.85",
                                    "tag_id": "32769",
                                    "tag_name": "work-books"
                                },
                                {
                                    "authors": "Chris Guillebeau",
                                    "title": "The $100 Startup: Reinvent the Way You Make a Living, Do What You Love, and Create a New Future",
                                    "average_rating": "3.85",
                                    "tag_id": "32766",
                                    "tag_name": "work"
                                },
                                {
                                    "authors": "Seth Godin",
                                    "title": "Tribes: We Need You to Lead Us",
                                    "average_rating": "3.84",
                                    "tag_id": "32766",
                                    "tag_name": "work"
                                },
                                {
                                    "authors": "Seth Godin",
                                    "title": "Tribes: We Need You to Lead Us",
                                    "average_rating": "3.84",
                                    "tag_id": "21348",
                                    "tag_name": "networking"
                                },
                                {
                                    "authors": "Seth Godin",
                                    "title": "Tribes: We Need You to Lead Us",
                                    "average_rating": "3.84",
                                    "tag_id": "32775",
                                    "tag_name": "work-related"
                                },
                                {
                                    "authors": "Brian Tracy",
                                    "title": "Eat That Frog!: 21 Great Ways to Stop Procrastinating and Get More Done in Less Time",
                                    "average_rating": "3.84",
                                    "tag_id": "32766",
                                    "tag_name": "work"
                                },
                                {
                                    "authors": "Brian Tracy",
                                    "title": "Eat That Frog!: 21 Great Ways to Stop Procrastinating and Get More Done in Less Time",
                                    "average_rating": "3.84",
                                    "tag_id": "32775",
                                    "tag_name": "work-related"
                                },
                                {
                                    "authors": "Barry Schwartz",
                                    "title": "The Paradox of Choice: Why More Is Less",
                                    "average_rating": "3.84",
                                    "tag_id": "32766",
                                    "tag_name": "work"
                                },
                                {
                                    "authors": "Timothy Ferriss",
                                    "title": "The 4-Hour Workweek",
                                    "average_rating": "3.84",
                                    "tag_id": "32766",
                                    "tag_name": "work"
                                },
                                {
                                    "authors": "Daniel Tammet",
                                    "title": "Born on a Blue Day: Inside the Extraordinary Mind of an Autistic Savant",
                                    "average_rating": "3.84",
                                    "tag_id": "32775",
                                    "tag_name": "work-related"
                                },
                                {
                                    "authors": "Steven Levy",
                                    "title": "In the Plex: How Google Thinks, Works, and Shapes Our Lives",
                                    "average_rating": "3.83",
                                    "tag_id": "32766",
                                    "tag_name": "work"
                                },
                                {
                                    "authors": "Seth Godin",
                                    "title": "The Dip: A Little Book That Teaches You When to Quit (and When to Stick)",
                                    "average_rating": "3.83",
                                    "tag_id": "32766",
                                    "tag_name": "work"
                                },
                                {
                                    "authors": "Seth Godin",
                                    "title": "The Dip: A Little Book That Teaches You When to Quit (and When to Stick)",
                                    "average_rating": "3.83",
                                    "tag_id": "32775",
                                    "tag_name": "work-related"
                                },
                                {
                                    "authors": "Smith Henderson",
                                    "title": "Fourth of July Creek",
                                    "average_rating": "3.83",
                                    "tag_id": "28038",
                                    "tag_name": "social-work"
                                },
                                {
                                    "authors": "Chris Anderson",
                                    "title": "Free: The Future of a Radical Price",
                                    "average_rating": "3.83",
                                    "tag_id": "32766",
                                    "tag_name": "work"
                                },
                                {
                                    "authors": "Chris Anderson",
                                    "title": "The Long Tail: Why the Future of Business is Selling Less of More",
                                    "average_rating": "3.83",
                                    "tag_id": "32766",
                                    "tag_name": "work"
                                },
                                {
                                    "authors": "Larry Bossidy, Ram Charan, Charles Burck",
                                    "title": "Execution: The Discipline of Getting Things Done",
                                    "average_rating": "3.83",
                                    "tag_id": "32766",
                                    "tag_name": "work"
                                },
                                {
                                    "authors": "Larry Bossidy, Ram Charan, Charles Burck",
                                    "title": "Execution: The Discipline of Getting Things Done",
                                    "average_rating": "3.83",
                                    "tag_id": "32775",
                                    "tag_name": "work-related"
                                },
                                {
                                    "authors": "Larry Bossidy, Ram Charan, Charles Burck",
                                    "title": "Execution: The Discipline of Getting Things Done",
                                    "average_rating": "3.83",
                                    "tag_id": "32778",
                                    "tag_name": "work-to-read"
                                },
                                {
                                    "authors": "Guy Kawasaki",
                                    "title": "The Art of the Start: The Time-Tested, Battle-Hardened Guide for Anyone Starting Anything",
                                    "average_rating": "3.82",
                                    "tag_id": "32766",
                                    "tag_name": "work"
                                },
                                {
                                    "authors": "Guy Kawasaki",
                                    "title": "The Art of the Start: The Time-Tested, Battle-Hardened Guide for Anyone Starting Anything",
                                    "average_rating": "3.82",
                                    "tag_id": "32775",
                                    "tag_name": "work-related"
                                },
                                {
                                    "authors": "Steven D. Levitt, Stephen J. Dubner",
                                    "title": "Think Like a Freak",
                                    "average_rating": "3.82",
                                    "tag_id": "32766",
                                    "tag_name": "work"
                                },
                                {
                                    "authors": "Jonah Lehrer",
                                    "title": "How We Decide",
                                    "average_rating": "3.81",
                                    "tag_id": "32766",
                                    "tag_name": "work"
                                },
                                {
                                    "authors": "Travis Bradberry, Jean Greaves, Patrick Lencioni",
                                    "title": "Emotional Intelligence 2.0",
                                    "average_rating": "3.81",
                                    "tag_id": "32766",
                                    "tag_name": "work"
                                },
                                {
                                    "authors": "Travis Bradberry, Jean Greaves, Patrick Lencioni",
                                    "title": "Emotional Intelligence 2.0",
                                    "average_rating": "3.81",
                                    "tag_id": "32775",
                                    "tag_name": "work-related"
                                },
                                {
                                    "authors": "Travis Bradberry, Jean Greaves, Patrick Lencioni",
                                    "title": "Emotional Intelligence 2.0",
                                    "average_rating": "3.81",
                                    "tag_id": "12329",
                                    "tag_name": "for-work"
                                },
                                {
                                    "authors": "Travis Bradberry, Jean Greaves, Patrick Lencioni",
                                    "title": "Emotional Intelligence 2.0",
                                    "average_rating": "3.81",
                                    "tag_id": "32769",
                                    "tag_name": "work-books"
                                },
                                {
                                    "authors": "Travis Bradberry, Jean Greaves, Patrick Lencioni",
                                    "title": "Emotional Intelligence 2.0",
                                    "average_rating": "3.81",
                                    "tag_id": "5156",
                                    "tag_name": "books-for-work"
                                },
                                {
                                    "authors": "Eric Berne",
                                    "title": "Games People Play",
                                    "average_rating": "3.81",
                                    "tag_id": "32766",
                                    "tag_name": "work"
                                },
                                {
                                    "authors": "Eric Berne",
                                    "title": "Games People Play",
                                    "average_rating": "3.81",
                                    "tag_id": "32775",
                                    "tag_name": "work-related"
                                },
                                {
                                    "authors": "Holly Black",
                                    "title": "White Cat (Curse Workers, #1)",
                                    "average_rating": "3.81",
                                    "tag_id": "8723",
                                    "tag_name": "curse-workers"
                                },
                                {
                                    "authors": "Michael D. Watkins",
                                    "title": "The First 90 Days, Updated and Expanded: Critical Success Strategies for New Leaders at All Levels",
                                    "average_rating": "3.81",
                                    "tag_id": "32766",
                                    "tag_name": "work"
                                },
                                {
                                    "authors": "Michael D. Watkins",
                                    "title": "The First 90 Days, Updated and Expanded: Critical Success Strategies for New Leaders at All Levels",
                                    "average_rating": "3.81",
                                    "tag_id": "32777",
                                    "tag_name": "work-stuff"
                                },
                                {
                                    "authors": "Michael D. Watkins",
                                    "title": "The First 90 Days, Updated and Expanded: Critical Success Strategies for New Leaders at All Levels",
                                    "average_rating": "3.81",
                                    "tag_id": "32775",
                                    "tag_name": "work-related"
                                },
                                {
                                    "authors": "Michael D. Watkins",
                                    "title": "The First 90 Days, Updated and Expanded: Critical Success Strategies for New Leaders at All Levels",
                                    "average_rating": "3.81",
                                    "tag_id": "12329",
                                    "tag_name": "for-work"
                                },
                                {
                                    "authors": "Michael D. Watkins",
                                    "title": "The First 90 Days, Updated and Expanded: Critical Success Strategies for New Leaders at All Levels",
                                    "average_rating": "3.81",
                                    "tag_id": "32769",
                                    "tag_name": "work-books"
                                },
                                {
                                    "authors": "Michael D. Watkins",
                                    "title": "The First 90 Days, Updated and Expanded: Critical Success Strategies for New Leaders at All Levels",
                                    "average_rating": "3.81",
                                    "tag_id": "17793",
                                    "tag_name": "leadership-work"
                                },
                                {
                                    "authors": "David A. Vise",
                                    "title": "The Google Story: Inside the Hottest Business, Media, and Technology Success of Our Time",
                                    "average_rating": "3.81",
                                    "tag_id": "32766",
                                    "tag_name": "work"
                                },
                                {
                                    "authors": "Leil Lowndes",
                                    "title": "How to Talk to Anyone: 92 Little Tricks for Big Success in Relationships",
                                    "average_rating": "3.8",
                                    "tag_id": "21348",
                                    "tag_name": "networking"
                                },
                                {
                                    "authors": "Leil Lowndes",
                                    "title": "How to Talk to Anyone: 92 Little Tricks for Big Success in Relationships",
                                    "average_rating": "3.8",
                                    "tag_id": "32766",
                                    "tag_name": "work"
                                },
                                {
                                    "authors": "James Surowiecki",
                                    "title": "The Wisdom of Crowds",
                                    "average_rating": "3.8",
                                    "tag_id": "32766",
                                    "tag_name": "work"
                                },
                                {
                                    "authors": "James Surowiecki",
                                    "title": "The Wisdom of Crowds",
                                    "average_rating": "3.8",
                                    "tag_id": "28028",
                                    "tag_name": "social-networks"
                                },
                                {
                                    "authors": "Keith Ferrazzi",
                                    "title": "Never Eat Alone: And Other Secrets to Success, One Relationship at a Time",
                                    "average_rating": "3.8",
                                    "tag_id": "21348",
                                    "tag_name": "networking"
                                },
                                {
                                    "authors": "Keith Ferrazzi",
                                    "title": "Never Eat Alone: And Other Secrets to Success, One Relationship at a Time",
                                    "average_rating": "3.8",
                                    "tag_id": "32766",
                                    "tag_name": "work"
                                },
                                {
                                    "authors": "Keith Ferrazzi",
                                    "title": "Never Eat Alone: And Other Secrets to Success, One Relationship at a Time",
                                    "average_rating": "3.8",
                                    "tag_id": "32775",
                                    "tag_name": "work-related"
                                },
                                {
                                    "authors": "H.G. Wells, Arthur C. Clarke",
                                    "title": "The War of the Worlds",
                                    "average_rating": "3.8",
                                    "tag_id": "27405",
                                    "tag_name": "sf-masterworks"
                                },
                                {
                                    "authors": "Jack Welch, Suzy Welch",
                                    "title": "Winning",
                                    "average_rating": "3.8",
                                    "tag_id": "32766",
                                    "tag_name": "work"
                                },
                                {
                                    "authors": "Richard H. Thaler, Cass R. Sunstein",
                                    "title": "Nudge: Improving Decisions About Health, Wealth, and Happiness",
                                    "average_rating": "3.8",
                                    "tag_id": "32766",
                                    "tag_name": "work"
                                },
                                {
                                    "authors": "Howard Schultz, Joanne Gordon",
                                    "title": "Onward: How Starbucks Fought for Its Life without Losing Its Soul",
                                    "average_rating": "3.79",
                                    "tag_id": "32766",
                                    "tag_name": "work"
                                },
                                {
                                    "authors": "Jack Welch, John A. Byrne, Mike Barnicle",
                                    "title": "Jack: Straight from the Gut",
                                    "average_rating": "3.79",
                                    "tag_id": "32766",
                                    "tag_name": "work"
                                },
                                {
                                    "authors": "Maeve Binchy",
                                    "title": "Minding Frankie",
                                    "average_rating": "3.78",
                                    "tag_id": "28041",
                                    "tag_name": "social-worker"
                                },
                                {
                                    "authors": "Seth Godin",
                                    "title": "Purple Cow: Transform Your Business by Being Remarkable",
                                    "average_rating": "3.78",
                                    "tag_id": "32766",
                                    "tag_name": "work"
                                },
                                {
                                    "authors": "Seth Godin",
                                    "title": "Purple Cow: Transform Your Business by Being Remarkable",
                                    "average_rating": "3.78",
                                    "tag_id": "12329",
                                    "tag_name": "for-work"
                                },
                                {
                                    "authors": "Ellis Avery",
                                    "title": "The Last Nude",
                                    "average_rating": "3.77",
                                    "tag_id": "27381",
                                    "tag_name": "sex-work"
                                },
                                {
                                    "authors": "Franklin Foer",
                                    "title": "How Soccer Explains the World",
                                    "average_rating": "3.76",
                                    "tag_id": "32766",
                                    "tag_name": "work"
                                },
                                {
                                    "authors": "Jenna Jameson, Neil Strauss",
                                    "title": "How to Make Love Like a Porn Star: A Cautionary Tale",
                                    "average_rating": "3.75",
                                    "tag_id": "27381",
                                    "tag_name": "sex-work"
                                },
                                {
                                    "authors": "Ori Brafman, Rom Brafman",
                                    "title": "Sway: The Irresistible Pull of Irrational Behavior",
                                    "average_rating": "3.75",
                                    "tag_id": "32766",
                                    "tag_name": "work"
                                },
                                {
                                    "authors": "Jonah Lehrer",
                                    "title": "Imagine: How Creativity Works",
                                    "average_rating": "3.75",
                                    "tag_id": "32766",
                                    "tag_name": "work"
                                },
                                {
                                    "authors": "Martha Stout",
                                    "title": "The Sociopath Next Door",
                                    "average_rating": "3.75",
                                    "tag_id": "28038",
                                    "tag_name": "social-work"
                                },
                                {
                                    "authors": "Spencer Johnson, Kenneth H. Blanchard",
                                    "title": "Who Moved My Cheese?",
                                    "average_rating": "3.74",
                                    "tag_id": "32766",
                                    "tag_name": "work"
                                },
                                {
                                    "authors": "Spencer Johnson, Kenneth H. Blanchard",
                                    "title": "Who Moved My Cheese?",
                                    "average_rating": "3.74",
                                    "tag_id": "32775",
                                    "tag_name": "work-related"
                                },
                                {
                                    "authors": "H.G. Wells",
                                    "title": "The Island of Dr. Moreau",
                                    "average_rating": "3.72",
                                    "tag_id": "27405",
                                    "tag_name": "sf-masterworks"
                                },
                                {
                                    "authors": "Julie Gregory",
                                    "title": "Sickened: The Memoir of a Munchausen by Proxy Childhood",
                                    "average_rating": "3.72",
                                    "tag_id": "28038",
                                    "tag_name": "social-work"
                                },
                                {
                                    "authors": "Sophia Amoruso",
                                    "title": "#GIRLBOSS",
                                    "average_rating": "3.71",
                                    "tag_id": "13230",
                                    "tag_name": "girlboss"
                                },
                                {
                                    "authors": "Sophia Amoruso",
                                    "title": "#GIRLBOSS",
                                    "average_rating": "3.71",
                                    "tag_id": "32766",
                                    "tag_name": "work"
                                },
                                {
                                    "authors": "John Gardner",
                                    "title": "Grendel",
                                    "average_rating": "3.69",
                                    "tag_id": "11358",
                                    "tag_name": "fantasy-masterworks"
                                },
                                {
                                    "authors": "Emma Donoghue",
                                    "title": "Slammerkin",
                                    "average_rating": "3.69",
                                    "tag_id": "27381",
                                    "tag_name": "sex-work"
                                },
                                {
                                    "authors": "Arianna Huffington",
                                    "title": "Thrive: The Third Metric to Redefining Success and Creating a Life of Well-Being, Wisdom, and Wonder",
                                    "average_rating": "3.68",
                                    "tag_id": "32766",
                                    "tag_name": "work"
                                },
                                {
                                    "authors": "Arianna Huffington",
                                    "title": "Thrive: The Third Metric to Redefining Success and Creating a Life of Well-Being, Wisdom, and Wonder",
                                    "average_rating": "3.68",
                                    "tag_id": "13230",
                                    "tag_name": "girlboss"
                                },
                                {
                                    "authors": "David Bayles, Ted Orland",
                                    "title": "Art and Fear: Observations on the Perils (and Rewards) of Artmaking",
                                    "average_rating": "3.67",
                                    "tag_id": "32766",
                                    "tag_name": "work"
                                },
                                {
                                    "authors": "Thomas L. Friedman",
                                    "title": "The World Is Flat: A Brief History of the Twenty-first Century",
                                    "average_rating": "3.66",
                                    "tag_id": "32766",
                                    "tag_name": "work"
                                },
                                {
                                    "authors": "Philip K. Dick",
                                    "title": "The Man in the High Castle",
                                    "average_rating": "3.66",
                                    "tag_id": "27405",
                                    "tag_name": "sf-masterworks"
                                },
                                {
                                    "authors": "Jeffrey D. Sachs, Bono",
                                    "title": "The End of Poverty",
                                    "average_rating": "3.66",
                                    "tag_id": "32766",
                                    "tag_name": "work"
                                },
                                {
                                    "authors": "Mason Currey",
                                    "title": "Daily Rituals: How Artists Work",
                                    "average_rating": "3.66",
                                    "tag_id": "32766",
                                    "tag_name": "work"
                                },
                                {
                                    "authors": "David  Brooks",
                                    "title": "The Road to Character",
                                    "average_rating": "3.66",
                                    "tag_id": "32766",
                                    "tag_name": "work"
                                },
                                {
                                    "authors": "H.G. Wells",
                                    "title": "The Invisible Man",
                                    "average_rating": "3.62",
                                    "tag_id": "27405",
                                    "tag_name": "sf-masterworks"
                                },
                                {
                                    "authors": "D.H. Lawrence, Geoff Dyer",
                                    "title": "Sons and Lovers",
                                    "average_rating": "3.61",
                                    "tag_id": "32780",
                                    "tag_name": "working"
                                },
                                {
                                    "authors": "Barbara Ehrenreich",
                                    "title": "Nickel and Dimed: On (Not) Getting By in America",
                                    "average_rating": "3.6",
                                    "tag_id": "32766",
                                    "tag_name": "work"
                                },
                                {
                                    "authors": "Barbara Ehrenreich",
                                    "title": "Nickel and Dimed: On (Not) Getting By in America",
                                    "average_rating": "3.6",
                                    "tag_id": "28038",
                                    "tag_name": "social-work"
                                },
                                {
                                    "authors": "Elizabeth Wurtzel",
                                    "title": "Prozac Nation",
                                    "average_rating": "3.57",
                                    "tag_id": "28038",
                                    "tag_name": "social-work"
                                },
                                {
                                    "authors": "Sarah Thornton",
                                    "title": "Seven Days in the Art World",
                                    "average_rating": "3.54",
                                    "tag_id": "32766",
                                    "tag_name": "work"
                                },
                                {
                                    "authors": "Diablo Cody",
                                    "title": "Candy Girl: A Year in the Life of an Unlikely Stripper",
                                    "average_rating": "3.54",
                                    "tag_id": "27381",
                                    "tag_name": "sex-work"
                                },
                                {
                                    "authors": "Diablo Cody",
                                    "title": "Candy Girl: A Year in the Life of an Unlikely Stripper",
                                    "average_rating": "3.54",
                                    "tag_id": "27390",
                                    "tag_name": "sexwork"
                                },
                                {
                                    "authors": "Ben Mezrich",
                                    "title": "The Accidental Billionaires: The Founding of Facebook, a Tale of Sex, Money, Genius and Betrayal",
                                    "average_rating": "3.5",
                                    "tag_id": "21348",
                                    "tag_name": "networking"
                                },
                                {
                                    "authors": "Ben Mezrich",
                                    "title": "The Accidental Billionaires: The Founding of Facebook, a Tale of Sex, Money, Genius and Betrayal",
                                    "average_rating": "3.5",
                                    "tag_id": "28027",
                                    "tag_name": "social-networking"
                                },
                                {
                                    "authors": "Cherie Priest",
                                    "title": "Boneshaker (The Clockwork Century, #1)",
                                    "average_rating": "3.5",
                                    "tag_id": "7547",
                                    "tag_name": "clockwork-century"
                                },
                                {
                                    "authors": "Joshua Ferris",
                                    "title": "Then We Came to the End",
                                    "average_rating": "3.45",
                                    "tag_id": "32781",
                                    "tag_name": "workplace"
                                },
                                {
                                    "authors": "Joshua Ferris",
                                    "title": "Then We Came to the End",
                                    "average_rating": "3.45",
                                    "tag_id": "32766",
                                    "tag_name": "work"
                                },
                                {
                                    "authors": "William Gibson, Bruce Sterling",
                                    "title": "The Difference Engine ",
                                    "average_rating": "3.41",
                                    "tag_id": "27405",
                                    "tag_name": "sf-masterworks"
                                }
                            ]
                        },
                        "text/html": [
                            "<table>",
                            "<tr><th>authors</th><th>title</th><th>average_rating</th><th>tag_id</th><th>tag_name</th></tr>",
                            "<tr><td>Michelle Alexander</td><td>The New Jim Crow: Mass Incarceration in the Age of Colorblindness</td><td>4.49</td><td>28038</td><td>social-work</td></tr>",
                            "<tr><td>Phil Knight</td><td>Shoe Dog: A Memoir by the Creator of NIKE</td><td>4.46</td><td>32766</td><td>work</td></tr>",
                            "<tr><td>Oscar Wilde, Merlin Holland</td><td>Complete Works of Oscar Wilde</td><td>4.45</td><td>7919</td><td>complete-works</td></tr>",
                            "<tr><td>Timothy J. Keller, Kathy  Keller</td><td>The Meaning of Marriage: Facing the Complexities of Commitment with the Wisdom of God</td><td>4.43</td><td>32766</td><td>work</td></tr>",
                            "<tr><td>E.L. James</td><td>Fifty Shades Duo: Fifty Shades Darker / Fifty Shades Freed (Fifty Shades, #2-3)</td><td>4.41</td><td>32783</td><td>workplace-romance</td></tr>",
                            "<tr><td>The Church of Jesus Christ of Latter-day Saints</td><td>Book of Mormon, Doctrine and Covenants, Pearl of Great Price</td><td>4.36</td><td>17771</td><td>lds-standard-works</td></tr>",
                            "<tr><td>Carl Sagan</td><td>Cosmos</td><td>4.35</td><td>32784</td><td>works</td></tr>",
                            "<tr><td>Vi Keeland</td><td>Egomaniac</td><td>4.34</td><td>32783</td><td>workplace-romance</td></tr>",
                            "<tr><td>Mariana Zapata</td><td>The Wall of Winnipeg and Me</td><td>4.34</td><td>5498</td><td>boss</td></tr>",
                            "<tr><td>Henry T. Blackaby, Claude V. King, Richard Blackaby</td><td>Experiencing God: Knowing and Doing the Will of God, Workbook</td><td>4.32</td><td>32779</td><td>workbook</td></tr>",
                            "<tr><td>Carl Sagan, Ann Druyan</td><td>Pale Blue Dot: A Vision of the Human Future in Space</td><td>4.32</td><td>32784</td><td>works</td></tr>",
                            "<tr><td>Vernor Vinge</td><td>A Deepness in the Sky (Zones of Thought, #2)</td><td>4.32</td><td>27405</td><td>sf-masterworks</td></tr>",
                            "<tr><td>Andrew Hunt, Dave Thomas</td><td>The Pragmatic Programmer: From Journeyman to Master</td><td>4.31</td><td>32766</td><td>work</td></tr>",
                            "<tr><td>Andrew Hunt, Dave Thomas</td><td>The Pragmatic Programmer: From Journeyman to Master</td><td>4.31</td><td>32775</td><td>work-related</td></tr>",
                            "<tr><td>Dietrich Bonhoeffer</td><td>Life Together: The Classic Exploration of Christian Community</td><td>4.29</td><td>32766</td><td>work</td></tr>",
                            "<tr><td>Lynley Dodd</td><td>Hairy Maclary from Donaldson&#39;s Dairy</td><td>4.28</td><td>32766</td><td>work</td></tr>",
                            "<tr><td>Barbara Ann Brennan, Jos. A. Smith</td><td>Hands Of Light</td><td>4.27</td><td>10621</td><td>energy-work</td></tr>",
                            "<tr><td>Barbara Ann Brennan, Jos. A. Smith</td><td>Hands Of Light</td><td>4.27</td><td>32766</td><td>work</td></tr>",
                            "<tr><td>Robert Greene</td><td>Mastery</td><td>4.27</td><td>32766</td><td>work</td></tr>",
                            "<tr><td>Benjamin Graham, Jason Zweig, Warren Buffett</td><td>The Intelligent Investor (Collins Business Essentials)</td><td>4.27</td><td>32766</td><td>work</td></tr>",
                            "<tr><td>Carl Sagan, Ann Druyan</td><td>The Demon-Haunted World: Science as a Candle in the Dark</td><td>4.27</td><td>32784</td><td>works</td></tr>",
                            "<tr><td>Jack Canfield, Janet Switzer</td><td>The Success Principles: How to Get from Where You Are to Where You Want to Be</td><td>4.26</td><td>21347</td><td>network-marketing</td></tr>",
                            "<tr><td>Andrew Solomon</td><td>Far from the Tree: Parents, Children, and the Search for Identity</td><td>4.26</td><td>28038</td><td>social-work</td></tr>",
                            "<tr><td>Andrew Solomon</td><td>Far from the Tree: Parents, Children, and the Search for Identity</td><td>4.26</td><td>32766</td><td>work</td></tr>",
                            "<tr><td>Alan Lee, Ian McKellen</td><td>The Lord of the Rings Sketchbook</td><td>4.26</td><td>3186</td><td>artwork</td></tr>",
                            "<tr><td>Michael J. Sandel</td><td>Justice: What&#39;s the Right Thing to Do?</td><td>4.25</td><td>28038</td><td>social-work</td></tr>",
                            "<tr><td>Margret Rey, H.A. Rey, Martha Weston</td><td>Curious George Visits the Library</td><td>4.25</td><td>7892</td><td>community-workers</td></tr>",
                            "<tr><td>Frank Bettger</td><td>How I Raised Myself from Failure to Success in Selling</td><td>4.25</td><td>32766</td><td>work</td></tr>",
                            "<tr><td>Zig Ziglar, Al Mayton</td><td>See You at the Top</td><td>4.25</td><td>1100</td><td>48-days-to-the-work-you-love</td></tr>",
                            "<tr><td>Alex Kotlowitz</td><td>There are No Children Here: The Story of Two Boys Growing Up in the Other America</td><td>4.25</td><td>28038</td><td>social-work</td></tr>",
                            "<tr><td>Ted Andrews, Winston Allen, Margaret K. Andrews</td><td>Animal-Speak: The Spiritual &amp; Magical Powers of Creatures Great &amp; Small</td><td>4.25</td><td>28170</td><td>soul-work</td></tr>",
                            "<tr><td>V.S. Ramachandran, Sandra Blakeslee, Oliver Sacks</td><td>Phantoms in the Brain: Probing the Mysteries of the Human Mind</td><td>4.25</td><td>32766</td><td>work</td></tr>",
                            "<tr><td>Paulo Freire, Myra Bergman Ramos, Donaldo Macedo, Richard Shaull</td><td>Pedagogy of the Oppressed</td><td>4.25</td><td>28038</td><td>social-work</td></tr>",
                            "<tr><td>Paulo Freire, Myra Bergman Ramos, Donaldo Macedo, Richard Shaull</td><td>Pedagogy of the Oppressed</td><td>4.25</td><td>32766</td><td>work</td></tr>",
                            "<tr><td>Betty Crocker</td><td>Betty Crocker&#39;s Cookbook</td><td>4.25</td><td>25580</td><td>reference-work</td></tr>",
                            "<tr><td>Vi Keeland</td><td>Bossman</td><td>4.25</td><td>5498</td><td>boss</td></tr>",
                            "<tr><td>Vi Keeland</td><td>Bossman</td><td>4.25</td><td>5499</td><td>boss-employee</td></tr>",
                            "<tr><td>Vi Keeland</td><td>Bossman</td><td>4.25</td><td>32776</td><td>work-romance</td></tr>",
                            "<tr><td>Eckhart Tolle</td><td>Practicing the Power of Now: Essential Teachings, Meditations, and Exercises from the Power of Now</td><td>4.25</td><td>32766</td><td>work</td></tr>",
                            "<tr><td>Ashlee Vance</td><td>Elon Musk: Inventing the Future</td><td>4.25</td><td>32766</td><td>work</td></tr>",
                            "<tr><td>Brené Brown</td><td>Daring Greatly: How the Courage to Be Vulnerable Transforms the Way We Live, Love, Parent, and Lead</td><td>4.24</td><td>32766</td><td>work</td></tr>",
                            "<tr><td>Brené Brown</td><td>Daring Greatly: How the Courage to Be Vulnerable Transforms the Way We Live, Love, Parent, and Lead</td><td>4.24</td><td>28038</td><td>social-work</td></tr>",
                            "<tr><td>Ed Catmull, Amy Wallace</td><td>Creativity, Inc.: Overcoming the Unseen Forces That Stand in the Way of True Inspiration</td><td>4.24</td><td>32766</td><td>work</td></tr>",
                            "<tr><td>Ed Catmull, Amy Wallace</td><td>Creativity, Inc.: Overcoming the Unseen Forces That Stand in the Way of True Inspiration</td><td>4.24</td><td>32775</td><td>work-related</td></tr>",
                            "<tr><td>Adele Faber, Elaine Mazlish, Kimberly Ann Coe</td><td>How to Talk So Kids Will Listen &amp; Listen So Kids Will Talk</td><td>4.24</td><td>32766</td><td>work</td></tr>",
                            "<tr><td>Gene Kim, Kevin Behr, George Spafford</td><td>The Phoenix Project: A Novel About IT, DevOps, and Helping Your Business Win</td><td>4.24</td><td>32766</td><td>work</td></tr>",
                            "<tr><td>Gene Kim, Kevin Behr, George Spafford</td><td>The Phoenix Project: A Novel About IT, DevOps, and Helping Your Business Win</td><td>4.24</td><td>32775</td><td>work-related</td></tr>",
                            "<tr><td>Gene Kim, Kevin Behr, George Spafford</td><td>The Phoenix Project: A Novel About IT, DevOps, and Helping Your Business Win</td><td>4.24</td><td>32769</td><td>work-books</td></tr>",
                            "<tr><td>Gene Kim, Kevin Behr, George Spafford</td><td>The Phoenix Project: A Novel About IT, DevOps, and Helping Your Business Win</td><td>4.24</td><td>12329</td><td>for-work</td></tr>",
                            "<tr><td>Adrian Nicole LeBlanc</td><td>Random Family: Love, Drugs, Trouble, and Coming of Age in the Bronx</td><td>4.23</td><td>28038</td><td>social-work</td></tr>",
                            "<tr><td>William Zinsser</td><td>On Writing Well: The Classic Guide to Writing Nonfiction</td><td>4.23</td><td>32766</td><td>work</td></tr>",
                            "<tr><td>Jonathan Kozol</td><td>Savage Inequalities: Children in America&#39;s Schools</td><td>4.23</td><td>28038</td><td>social-work</td></tr>",
                            "<tr><td>Jonathan Kozol</td><td>Savage Inequalities: Children in America&#39;s Schools</td><td>4.23</td><td>32766</td><td>work</td></tr>",
                            "<tr><td>Philip Yancey</td><td>Where Is God When It Hurts?</td><td>4.22</td><td>30850</td><td>to-read-work</td></tr>",
                            "<tr><td>Irvin D. Yalom, Nicola Ferguson</td><td>The Gift of Therapy: An Open Letter to a New Generation of Therapists and Their Patients</td><td>4.22</td><td>28038</td><td>social-work</td></tr>",
                            "<tr><td>Irvin D. Yalom, Nicola Ferguson</td><td>The Gift of Therapy: An Open Letter to a New Generation of Therapists and Their Patients</td><td>4.22</td><td>32766</td><td>work</td></tr>",
                            "<tr><td>Irvin D. Yalom, Nicola Ferguson</td><td>The Gift of Therapy: An Open Letter to a New Generation of Therapists and Their Patients</td><td>4.22</td><td>32775</td><td>work-related</td></tr>",
                            "<tr><td>Irvin D. Yalom, Nicola Ferguson</td><td>The Gift of Therapy: An Open Letter to a New Generation of Therapists and Their Patients</td><td>4.22</td><td>32770</td><td>work-books-to-read</td></tr>",
                            "<tr><td>Rusty Young, Thomas McFadden</td><td>Marching Powder: A True Story of Friendship, Cocaine, and South America&#39;s Strangest Jail</td><td>4.22</td><td>29673</td><td>the-boss-s-recommendations</td></tr>",
                            "<tr><td>Elyn R. Saks</td><td>The Center Cannot Hold: My Journey Through Madness</td><td>4.22</td><td>28038</td><td>social-work</td></tr>",
                            "<tr><td>Elyn R. Saks</td><td>The Center Cannot Hold: My Journey Through Madness</td><td>4.22</td><td>32766</td><td>work</td></tr>",
                            "<tr><td>Elyn R. Saks</td><td>The Center Cannot Hold: My Journey Through Madness</td><td>4.22</td><td>12329</td><td>for-work</td></tr>",
                            "<tr><td>Bryan Burrough, John Helyar</td><td>Barbarians at the Gate: The Fall of RJR Nabisco</td><td>4.22</td><td>32766</td><td>work</td></tr>",
                            "<tr><td>Anthony Robbins, Kenneth H. Blanchard, Jason Winters</td><td>Unlimited Power : The New Science Of Personal Achievement</td><td>4.21</td><td>32766</td><td>work</td></tr>",
                            "<tr><td>Arkady Strugatsky, Boris Strugatsky, Antonina W. Bouis, Antonina W. Bouis, Theodore Sturgeon</td><td>Roadside Picnic</td><td>4.21</td><td>27405</td><td>sf-masterworks</td></tr>",
                            "<tr><td>Dan Simmons</td><td>Hyperion (Hyperion Cantos, #1)</td><td>4.21</td><td>27405</td><td>sf-masterworks</td></tr>",
                            "<tr><td>Chris Ryall, Gabriel Rodríguez, Clive Barker</td><td>The Complete Clive Barker&#39;s The Great And Secret Show</td><td>4.21</td><td>21524</td><td>nice-artwork</td></tr>",
                            "<tr><td>Alton Brown</td><td>I&#39;m Just Here for the Food: Food + Heat = Cooking</td><td>4.21</td><td>21346</td><td>network</td></tr>",
                            "<tr><td>Rose Levy Beranbaum, Maria Guarnaschelli, Vincent Lee, Manuela Paul, Dean G. Bornstein</td><td>The Cake Bible</td><td>4.2</td><td>12329</td><td>for-work</td></tr>",
                            "<tr><td>Norman Doidge</td><td>The Brain That Changes Itself: Stories of Personal Triumph from the Frontiers of Brain Science</td><td>4.2</td><td>32766</td><td>work</td></tr>",
                            "<tr><td>Norman Doidge</td><td>The Brain That Changes Itself: Stories of Personal Triumph from the Frontiers of Brain Science</td><td>4.2</td><td>32775</td><td>work-related</td></tr>",
                            "<tr><td>Ben Horowitz</td><td>The Hard Thing About Hard Things: Building a Business When There Are No Easy Answers</td><td>4.2</td><td>32766</td><td>work</td></tr>",
                            "<tr><td>Dan Brown</td><td>Angels and Demons / The Da Vinci Code (Robert Langdon, #1-2)</td><td>4.19</td><td>8083</td><td>contemporary-works</td></tr>",
                            "<tr><td>Frank Herbert</td><td>Dune (Dune Chronicles #1)</td><td>4.19</td><td>27405</td><td>sf-masterworks</td></tr>",
                            "<tr><td>David J. Schwartz</td><td>The Magic of Thinking Big</td><td>4.19</td><td>32766</td><td>work</td></tr>",
                            "<tr><td>William Strunk Jr., E.B. White</td><td>The Elements of Style</td><td>4.19</td><td>32766</td><td>work</td></tr>",
                            "<tr><td>Og Mandino</td><td>The Greatest Salesman in the World</td><td>4.19</td><td>32766</td><td>work</td></tr>",
                            "<tr><td>Randall Wallace</td><td>Braveheart</td><td>4.19</td><td>1628</td><td>adopted-works</td></tr>",
                            "<tr><td>John M. Gottman, Nan Silver</td><td>The Seven Principles for Making Marriage Work: A Practical Guide from the Country&#39;s Foremost Relationship Expert</td><td>4.19</td><td>28038</td><td>social-work</td></tr>",
                            "<tr><td>John M. Gottman, Nan Silver</td><td>The Seven Principles for Making Marriage Work: A Practical Guide from the Country&#39;s Foremost Relationship Expert</td><td>4.19</td><td>32766</td><td>work</td></tr>",
                            "<tr><td>Dave Ramsey</td><td>EntreLeadership: 20 Years of Practical Business Wisdom from the Trenches</td><td>4.19</td><td>32766</td><td>work</td></tr>",
                            "<tr><td>Gavin de Becker</td><td>The Gift of Fear: Survival Signals That Protect Us from Violence</td><td>4.19</td><td>32766</td><td>work</td></tr>",
                            "<tr><td>Brené Brown</td><td>Rising Strong</td><td>4.19</td><td>28038</td><td>social-work</td></tr>",
                            "<tr><td>Liz Murray</td><td>Breaking Night: A Memoir of Forgiveness, Survival, and My Journey from Homeless to Harvard</td><td>4.19</td><td>28038</td><td>social-work</td></tr>",
                            "<tr><td>Donald A. Norman</td><td>The Design of Everyday Things</td><td>4.18</td><td>32766</td><td>work</td></tr>",
                            "<tr><td>Donald A. Norman</td><td>The Design of Everyday Things</td><td>4.18</td><td>32775</td><td>work-related</td></tr>",
                            "<tr><td>Eric Carle</td><td>From Head to Toe</td><td>4.18</td><td>32766</td><td>work</td></tr>",
                            "<tr><td>Irvin D. Yalom</td><td>Love&#39;s Executioner and Other Tales of Psychotherapy</td><td>4.18</td><td>28038</td><td>social-work</td></tr>",
                            "<tr><td>Irvin D. Yalom</td><td>Love&#39;s Executioner and Other Tales of Psychotherapy</td><td>4.18</td><td>32766</td><td>work</td></tr>",
                            "<tr><td>Irvin D. Yalom</td><td>Love&#39;s Executioner and Other Tales of Psychotherapy</td><td>4.18</td><td>32775</td><td>work-related</td></tr>",
                            "<tr><td>Robert Greene, Joost Elffers</td><td>The 48 Laws of Power</td><td>4.18</td><td>32766</td><td>work</td></tr>",
                            "<tr><td>Robert B. Cialdini</td><td>Influence: The Psychology of Persuasion</td><td>4.18</td><td>32766</td><td>work</td></tr>",
                            "<tr><td>Ursula K. Le Guin</td><td>The Dispossessed</td><td>4.18</td><td>27405</td><td>sf-masterworks</td></tr>",
                            "<tr><td>Kurt Vonnegut Jr.</td><td>Cat&#39;s Cradle</td><td>4.18</td><td>27405</td><td>sf-masterworks</td></tr>",
                            "<tr><td>Dan Simmons</td><td>The Fall of Hyperion (Hyperion Cantos, #2)</td><td>4.18</td><td>27405</td><td>sf-masterworks</td></tr>",
                            "<tr><td>John C. Maxwell</td><td>Developing the Leader Within You</td><td>4.18</td><td>32766</td><td>work</td></tr>",
                            "<tr><td>John C. Maxwell</td><td>Developing the Leader Within You</td><td>4.18</td><td>32769</td><td>work-books</td></tr>",
                            "<tr><td>John C. Maxwell</td><td>Developing the Leader Within You</td><td>4.18</td><td>32778</td><td>work-to-read</td></tr>",
                            "<tr><td>John C. Maxwell</td><td>Developing the Leader Within You</td><td>4.18</td><td>32774</td><td>work-reading</td></tr>",
                            "<tr><td>Wallace D. Wattles</td><td>The Science of Getting Rich</td><td>4.18</td><td>32766</td><td>work</td></tr>",
                            "<tr><td>Robert A. Heinlein</td><td>The Moon is a Harsh Mistress</td><td>4.17</td><td>27405</td><td>sf-masterworks</td></tr>",
                            "<tr><td>Peter Thiel, Blake  Masters</td><td>Zero to One: Notes on Startups, or How to Build the Future</td><td>4.17</td><td>32766</td><td>work</td></tr>",
                            "<tr><td>Brené Brown</td><td>The Gifts of Imperfection: Let Go of Who You Think You&#39;re Supposed to Be and Embrace Who You Are</td><td>4.17</td><td>32766</td><td>work</td></tr>",
                            "<tr><td>Brené Brown</td><td>The Gifts of Imperfection: Let Go of Who You Think You&#39;re Supposed to Be and Embrace Who You Are</td><td>4.17</td><td>28038</td><td>social-work</td></tr>",
                            "<tr><td>Robert Descharnes, Gilles Néret</td><td>Dali: The Paintings</td><td>4.17</td><td>32766</td><td>work</td></tr>",
                            "<tr><td>Robert Descharnes, Gilles Néret</td><td>Dali: The Paintings</td><td>4.17</td><td>7740</td><td>comic-and-artwork</td></tr>",
                            "<tr><td>John Sandford</td><td>Stolen Prey (Lucas Davenport, #22)</td><td>4.17</td><td>6340</td><td>cartel-boss</td></tr>",
                            "<tr><td>Gary Keller, Jay Papasan</td><td>The One Thing: The Surprisingly Simple Truth Behind Extraordinary Results</td><td>4.17</td><td>32766</td><td>work</td></tr>",
                            "<tr><td>Roger Zelazny</td><td>The Guns of Avalon (The Chronicles of Amber #2)</td><td>4.16</td><td>11358</td><td>fantasy-masterworks</td></tr>",
                            "<tr><td>Roger Lowenstein</td><td>When Genius Failed: The Rise and Fall of Long-Term Capital Management</td><td>4.16</td><td>32766</td><td>work</td></tr>",
                            "<tr><td>Jonathan Haidt</td><td>The Righteous Mind: Why Good People are Divided by Politics and Religion</td><td>4.16</td><td>32766</td><td>work</td></tr>",
                            "<tr><td>Kurt Vonnegut Jr.</td><td>The Sirens of Titan</td><td>4.16</td><td>27405</td><td>sf-masterworks</td></tr>",
                            "<tr><td>Alexander Osterwalder, Yves Pigneur</td><td>Business Model Generation</td><td>4.16</td><td>32766</td><td>work</td></tr>",
                            "<tr><td>Alexander Osterwalder, Yves Pigneur</td><td>Business Model Generation</td><td>4.16</td><td>32775</td><td>work-related</td></tr>",
                            "<tr><td>Alexander Osterwalder, Yves Pigneur</td><td>Business Model Generation</td><td>4.16</td><td>30850</td><td>to-read-work</td></tr>",
                            "<tr><td>Ken Grimwood</td><td>Replay</td><td>4.16</td><td>11358</td><td>fantasy-masterworks</td></tr>",
                            "<tr><td>Peggy Rathmann</td><td>Officer Buckle &amp; Gloria</td><td>4.16</td><td>29400</td><td>teamwork</td></tr>",
                            "<tr><td>Elisabeth Kübler-Ross</td><td>On Death and Dying</td><td>4.15</td><td>28038</td><td>social-work</td></tr>",
                            "<tr><td>Elisabeth Kübler-Ross</td><td>On Death and Dying</td><td>4.15</td><td>32766</td><td>work</td></tr>",
                            "<tr><td>Elisabeth Kübler-Ross</td><td>On Death and Dying</td><td>4.15</td><td>32775</td><td>work-related</td></tr>",
                            "<tr><td>Cupcake Brown</td><td>A Piece of Cake</td><td>4.15</td><td>28038</td><td>social-work</td></tr>",
                            "<tr><td>Joe Haldeman</td><td>The Forever War (The Forever War, #1)</td><td>4.15</td><td>27405</td><td>sf-masterworks</td></tr>",
                            "<tr><td>Byron Katie, Stephen Mitchell</td><td>Loving What Is: Four Questions That Can Change Your Life</td><td>4.15</td><td>32766</td><td>work</td></tr>",
                            "<tr><td>Shawn Achor</td><td>The Happiness Advantage: The Seven Principles of Positive Psychology That Fuel Success and Performance at Work</td><td>4.15</td><td>32766</td><td>work</td></tr>",
                            "<tr><td>Shawn Achor</td><td>The Happiness Advantage: The Seven Principles of Positive Psychology That Fuel Success and Performance at Work</td><td>4.15</td><td>32775</td><td>work-related</td></tr>",
                            "<tr><td>Shawn Achor</td><td>The Happiness Advantage: The Seven Principles of Positive Psychology That Fuel Success and Performance at Work</td><td>4.15</td><td>32769</td><td>work-books</td></tr>",
                            "<tr><td>Whitney G.</td><td>Reasonable Doubt: Volume 2 (Reasonable Doubt, #2)</td><td>4.14</td><td>5498</td><td>boss</td></tr>",
                            "<tr><td>Michael E. Porter</td><td>Competitive Strategy: Techniques for Analyzing Industries and Competitors</td><td>4.14</td><td>32766</td><td>work</td></tr>",
                            "<tr><td>Michael E. Porter</td><td>Competitive Strategy: Techniques for Analyzing Industries and Competitors</td><td>4.14</td><td>32771</td><td>work-business-and-finance</td></tr>",
                            "<tr><td>Cynthia J. McGean</td><td>Henry &amp; Ramona</td><td>4.14</td><td>17095</td><td>kid-s-books-for-work</td></tr>",
                            "<tr><td>Bethany McLean, Peter Elkind</td><td>The Smartest Guys in the Room: The Amazing Rise and Scandalous Fall of Enron</td><td>4.14</td><td>32766</td><td>work</td></tr>",
                            "<tr><td>Anne Fadiman</td><td>The Spirit Catches You and You Fall Down: A Hmong Child, Her American Doctors, and the Collision of Two Cultures</td><td>4.14</td><td>28038</td><td>social-work</td></tr>",
                            "<tr><td>Vernor Vinge</td><td>A Fire Upon the Deep (Zones of Thought, #1)</td><td>4.13</td><td>27405</td><td>sf-masterworks</td></tr>",
                            "<tr><td>Dale Carnegie</td><td>How to Win Friends and Influence People</td><td>4.13</td><td>32766</td><td>work</td></tr>",
                            "<tr><td>Dale Carnegie</td><td>How to Win Friends and Influence People</td><td>4.13</td><td>32775</td><td>work-related</td></tr>",
                            "<tr><td>Dale Carnegie</td><td>How to Win Friends and Influence People</td><td>4.13</td><td>21348</td><td>networking</td></tr>",
                            "<tr><td>Alfred Bester, Neil Gaiman</td><td>The Stars My Destination</td><td>4.13</td><td>27405</td><td>sf-masterworks</td></tr>",
                            "<tr><td>Alfred Bester, Neil Gaiman</td><td>The Stars My Destination</td><td>4.13</td><td>26795</td><td>sci-fi-masterworks</td></tr>",
                            "<tr><td>Melody Beattie</td><td>Codependent No More: How to Stop Controlling Others and Start Caring for Yourself</td><td>4.13</td><td>32766</td><td>work</td></tr>",
                            "<tr><td>Melody Beattie</td><td>Codependent No More: How to Stop Controlling Others and Start Caring for Yourself</td><td>4.13</td><td>32775</td><td>work-related</td></tr>",
                            "<tr><td>Connie Willis</td><td>To Say Nothing of the Dog (Oxford Time Travel, #2)</td><td>4.13</td><td>27405</td><td>sf-masterworks</td></tr>",
                            "<tr><td>Virginia M. Axline</td><td>Dibs in Search of Self</td><td>4.13</td><td>28038</td><td>social-work</td></tr>",
                            "<tr><td>Virginia M. Axline</td><td>Dibs in Search of Self</td><td>4.13</td><td>32775</td><td>work-related</td></tr>",
                            "<tr><td>Virginia M. Axline</td><td>Dibs in Search of Self</td><td>4.13</td><td>32766</td><td>work</td></tr>",
                            "<tr><td>Leo Lionni</td><td>Swimmy</td><td>4.13</td><td>29400</td><td>teamwork</td></tr>",
                            "<tr><td>Peter Lynch, John Rothchild</td><td>One Up On Wall Street: How To Use What You Already Know To Make Money In The Market</td><td>4.12</td><td>12329</td><td>for-work</td></tr>",
                            "<tr><td>Peter Lynch, John Rothchild</td><td>One Up On Wall Street: How To Use What You Already Know To Make Money In The Market</td><td>4.12</td><td>32766</td><td>work</td></tr>",
                            "<tr><td>Gilles Néret</td><td>Gustav Klimt: 1862-1918</td><td>4.12</td><td>3156</td><td>artist-bios-works</td></tr>",
                            "<tr><td>Caroline Myss</td><td>Anatomy of the Spirit: The Seven Stages of Power and Healing</td><td>4.12</td><td>10621</td><td>energy-work</td></tr>",
                            "<tr><td>John C. Maxwell, Zig Ziglar</td><td>The 21 Irrefutable Laws of Leadership: Follow Them and People Will Follow You</td><td>4.12</td><td>32766</td><td>work</td></tr>",
                            "<tr><td>John C. Maxwell, Zig Ziglar</td><td>The 21 Irrefutable Laws of Leadership: Follow Them and People Will Follow You</td><td>4.12</td><td>32775</td><td>work-related</td></tr>",
                            "<tr><td>Malcolm Gladwell</td><td>Outliers: The Story of Success</td><td>4.11</td><td>32766</td><td>work</td></tr>",
                            "<tr><td>Jon Kabat-Zinn</td><td>Wherever You Go, There You Are: Mindfulness Meditation in Everyday Life</td><td>4.11</td><td>32766</td><td>work</td></tr>",
                            "<tr><td>Jon Kabat-Zinn</td><td>Wherever You Go, There You Are: Mindfulness Meditation in Everyday Life</td><td>4.11</td><td>28038</td><td>social-work</td></tr>",
                            "<tr><td>Meg Jay</td><td>The Defining Decade: Why Your Twenties Matter--And How to Make the Most of Them Now</td><td>4.11</td><td>32766</td><td>work</td></tr>",
                            "<tr><td>Ryan Holiday</td><td>The Obstacle Is the Way: The Timeless Art of Turning Trials into Triumph</td><td>4.11</td><td>32766</td><td>work</td></tr>",
                            "<tr><td>Nancy E. Shaw, Margot Apple</td><td>Sheep in a Jeep</td><td>4.11</td><td>29400</td><td>teamwork</td></tr>",
                            "<tr><td>Carl R. Rogers, Peter D. Kramer</td><td>On Becoming a Person: A Therapist&#39;s View of Psychotherapy</td><td>4.11</td><td>32766</td><td>work</td></tr>",
                            "<tr><td>Carl R. Rogers, Peter D. Kramer</td><td>On Becoming a Person: A Therapist&#39;s View of Psychotherapy</td><td>4.11</td><td>28038</td><td>social-work</td></tr>",
                            "<tr><td>Carl R. Rogers, Peter D. Kramer</td><td>On Becoming a Person: A Therapist&#39;s View of Psychotherapy</td><td>4.11</td><td>32775</td><td>work-related</td></tr>",
                            "<tr><td>Carl R. Rogers, Peter D. Kramer</td><td>On Becoming a Person: A Therapist&#39;s View of Psychotherapy</td><td>4.11</td><td>28039</td><td>social-work-books</td></tr>",
                            "<tr><td>Kelly McGonigal</td><td>The Willpower Instinct: How Self-Control Works, Why It Matters, and What You Can Do to Get More of It</td><td>4.11</td><td>32766</td><td>work</td></tr>",
                            "<tr><td>Peter F. Drucker</td><td>The Effective Executive: The Definitive Guide to Getting the Right Things Done (Harperbusiness Essentials)</td><td>4.11</td><td>32766</td><td>work</td></tr>",
                            "<tr><td>Peter F. Drucker</td><td>The Effective Executive: The Definitive Guide to Getting the Right Things Done (Harperbusiness Essentials)</td><td>4.11</td><td>32775</td><td>work-related</td></tr>",
                            "<tr><td>The Arbinger Institute</td><td>Leadership and Self-Deception: Getting Out of the Box</td><td>4.11</td><td>32766</td><td>work</td></tr>",
                            "<tr><td>The Arbinger Institute</td><td>Leadership and Self-Deception: Getting Out of the Box</td><td>4.11</td><td>32775</td><td>work-related</td></tr>",
                            "<tr><td>The Arbinger Institute</td><td>Leadership and Self-Deception: Getting Out of the Box</td><td>4.11</td><td>32769</td><td>work-books</td></tr>",
                            "<tr><td>The Arbinger Institute</td><td>Leadership and Self-Deception: Getting Out of the Box</td><td>4.11</td><td>5156</td><td>books-for-work</td></tr>",
                            "<tr><td>William McDonough, Michael Braungart</td><td>Cradle to Cradle: Remaking the Way We Make Things</td><td>4.1</td><td>32766</td><td>work</td></tr>",
                            "<tr><td>Roger Zelazny</td><td>Nine Princes in Amber (The Chronicles of Amber #1)</td><td>4.1</td><td>11358</td><td>fantasy-masterworks</td></tr>",
                            "<tr><td>Mihaly Csikszentmihalyi</td><td>Flow: The Psychology of Optimal Experience</td><td>4.1</td><td>32766</td><td>work</td></tr>",
                            "<tr><td>Roger Zelazny, Sönmez Güven</td><td>Lord of Light</td><td>4.1</td><td>27405</td><td>sf-masterworks</td></tr>",
                            "<tr><td>Dan Ariely</td><td>Predictably Irrational: The Hidden Forces That Shape Our Decisions</td><td>4.1</td><td>32766</td><td>work</td></tr>",
                            "<tr><td>Anthony Robbins, Tony Robbins, Frederick L. Covan</td><td>Awaken the Giant Within: How to Take Immediate Control of Your Mental, Emotional, Physical and Financial Destiny!</td><td>4.1</td><td>32766</td><td>work</td></tr>",
                            "<tr><td>Philip K. Dick, David Alabort, Manuel Espín</td><td>Ubik</td><td>4.1</td><td>27405</td><td>sf-masterworks</td></tr>",
                            "<tr><td>Arthur C. Clarke</td><td>Childhood&#39;s End</td><td>4.09</td><td>27405</td><td>sf-masterworks</td></tr>",
                            "<tr><td>Walter Isaacson</td><td>Steve Jobs</td><td>4.09</td><td>32766</td><td>work</td></tr>",
                            "<tr><td>Ursula K. Le Guin</td><td>The Lathe of Heaven</td><td>4.09</td><td>27405</td><td>sf-masterworks</td></tr>",
                            "<tr><td>Alice  Miller, Ruth Ward</td><td>The Drama of the Gifted Child: The Search for the True Self</td><td>4.09</td><td>28038</td><td>social-work</td></tr>",
                            "<tr><td>Alice  Miller, Ruth Ward</td><td>The Drama of the Gifted Child: The Search for the True Self</td><td>4.09</td><td>12329</td><td>for-work</td></tr>",
                            "<tr><td>Garr Reynolds</td><td>Presentation Zen: Simple Ideas on Presentation Design and Delivery</td><td>4.08</td><td>32766</td><td>work</td></tr>",
                            "<tr><td>Garr Reynolds</td><td>Presentation Zen: Simple Ideas on Presentation Design and Delivery</td><td>4.08</td><td>32775</td><td>work-related</td></tr>",
                            "<tr><td>Garr Reynolds</td><td>Presentation Zen: Simple Ideas on Presentation Design and Delivery</td><td>4.08</td><td>32769</td><td>work-books</td></tr>",
                            "<tr><td>Arthur C. Clarke</td><td>The City and the Stars</td><td>4.08</td><td>27405</td><td>sf-masterworks</td></tr>",
                            "<tr><td>Arthur C. Clarke</td><td>The City and the Stars</td><td>4.08</td><td>26433</td><td>s-f-masterworks</td></tr>",
                            "<tr><td>Daniel Kahneman</td><td>Thinking, Fast and Slow</td><td>4.08</td><td>32766</td><td>work</td></tr>",
                            "<tr><td>Dave Pelzer</td><td>A Child Called &quot;It&quot; (Dave Pelzer #1)</td><td>4.08</td><td>28038</td><td>social-work</td></tr>",
                            "<tr><td>Philip K. Dick, Roger Zelazny</td><td>Do Androids Dream of Electric Sheep?</td><td>4.08</td><td>27405</td><td>sf-masterworks</td></tr>",
                            "<tr><td>Dale Carnegie</td><td>How to Stop Worrying and Start Living</td><td>4.08</td><td>32766</td><td>work</td></tr>",
                            "<tr><td>Dave Pelzer</td><td>The Lost Boy (Dave Pelzer #2)</td><td>4.08</td><td>28038</td><td>social-work</td></tr>",
                            "<tr><td>Isaac Asimov</td><td>The Gods Themselves</td><td>4.08</td><td>27405</td><td>sf-masterworks</td></tr>",
                            "<tr><td>Steven Pressfield, Robert McKee</td><td>The War of Art: Break Through the Blocks &amp; Win Your Inner Creative Battles</td><td>4.07</td><td>32766</td><td>work</td></tr>",
                            "<tr><td>Deepak Chopra</td><td>The Seven Spiritual Laws of Success: A Practical Guide to the Fulfillment of Your Dreams</td><td>4.07</td><td>32766</td><td>work</td></tr>",
                            "<tr><td>Richard Matheson</td><td>I Am Legend</td><td>4.07</td><td>27405</td><td>sf-masterworks</td></tr>",
                            "<tr><td>Daniel Keyes</td><td>Flowers for Algernon</td><td>4.07</td><td>27405</td><td>sf-masterworks</td></tr>",
                            "<tr><td>Frederik Pohl</td><td>Gateway (Heechee Saga, #1)</td><td>4.07</td><td>27405</td><td>sf-masterworks</td></tr>",
                            "<tr><td>Simon Sinek</td><td>Start with Why: How Great Leaders Inspire Everyone to Take Action</td><td>4.07</td><td>32766</td><td>work</td></tr>",
                            "<tr><td>Simon Sinek</td><td>Start with Why: How Great Leaders Inspire Everyone to Take Action</td><td>4.07</td><td>32775</td><td>work-related</td></tr>",
                            "<tr><td>James C. Collins, Morten T. Hansen</td><td>Great by Choice: Uncertainty, Chaos, and Luck--Why Some Thrive Despite Them All</td><td>4.07</td><td>32766</td><td>work</td></tr>",
                            "<tr><td>James C. Collins, Morten T. Hansen</td><td>Great by Choice: Uncertainty, Chaos, and Luck--Why Some Thrive Despite Them All</td><td>4.07</td><td>32775</td><td>work-related</td></tr>",
                            "<tr><td>James C. Collins, Morten T. Hansen</td><td>Great by Choice: Uncertainty, Chaos, and Luck--Why Some Thrive Despite Them All</td><td>4.07</td><td>5156</td><td>books-for-work</td></tr>",
                            "<tr><td>Stephen R. Covey</td><td>Principle-Centered Leadership</td><td>4.07</td><td>32766</td><td>work</td></tr>",
                            "<tr><td>Michael Patrick MacDonald</td><td>All Souls: A Family Story from Southie</td><td>4.07</td><td>28038</td><td>social-work</td></tr>",
                            "<tr><td>Daniel Coyle, John Farrell</td><td>The Talent Code: Unlocking the Secret of Skill in Sports, Art, Music, Math, and Just About Everything Else</td><td>4.07</td><td>32766</td><td>work</td></tr>",
                            "<tr><td>Al Ries, Jack Trout</td><td>Positioning: The Battle for Your Mind: How to Be Seen and Heard in the Overcrowded Marketplace</td><td>4.06</td><td>32766</td><td>work</td></tr>",
                            "<tr><td>Al Ries, Jack Trout</td><td>Positioning: The Battle for Your Mind: How to Be Seen and Heard in the Overcrowded Marketplace</td><td>4.06</td><td>30850</td><td>to-read-work</td></tr>",
                            "<tr><td>Adam M. Grant</td><td>Give and Take: A Revolutionary Approach to Success</td><td>4.06</td><td>32766</td><td>work</td></tr>",
                            "<tr><td>Adam M. Grant</td><td>Give and Take: A Revolutionary Approach to Success</td><td>4.06</td><td>32775</td><td>work-related</td></tr>",
                            "<tr><td>Adam M. Grant</td><td>Give and Take: A Revolutionary Approach to Success</td><td>4.06</td><td>12329</td><td>for-work</td></tr>",
                            "<tr><td>Adam M. Grant</td><td>Give and Take: A Revolutionary Approach to Success</td><td>4.06</td><td>21348</td><td>networking</td></tr>",
                            "<tr><td>Roger Zelazny</td><td>Trumps of Doom (The Chronicles of Amber, #6)</td><td>4.06</td><td>11358</td><td>fantasy-masterworks</td></tr>",
                            "<tr><td>Clayton M. Christensen, James Allworth, Karen Dillon</td><td>How Will You Measure Your Life?</td><td>4.06</td><td>32766</td><td>work</td></tr>",
                            "<tr><td>Clayton M. Christensen, James Allworth, Karen Dillon</td><td>How Will You Measure Your Life?</td><td>4.06</td><td>32775</td><td>work-related</td></tr>",
                            "<tr><td>Stephen R. Covey, A. Roger Merrill, Rebecca R. Merrill</td><td>First Things First</td><td>4.06</td><td>32766</td><td>work</td></tr>",
                            "<tr><td>Brad Stone</td><td>The Everything Store: Jeff Bezos and the Age of Amazon</td><td>4.06</td><td>32766</td><td>work</td></tr>",
                            "<tr><td>Arthur C. Clarke</td><td>Rendezvous with Rama (Rama, #1)</td><td>4.06</td><td>27405</td><td>sf-masterworks</td></tr>",
                            "<tr><td>Stephen R. Covey</td><td>The 7 Habits of Highly Effective People: Powerful Lessons in Personal Change</td><td>4.05</td><td>32766</td><td>work</td></tr>",
                            "<tr><td>Stephen R. Covey</td><td>The 7 Habits of Highly Effective People: Powerful Lessons in Personal Change</td><td>4.05</td><td>32775</td><td>work-related</td></tr>",
                            "<tr><td>Ursula K. Le Guin, Lech Jęczmyk</td><td>The Left Hand of Darkness</td><td>4.05</td><td>27405</td><td>sf-masterworks</td></tr>",
                            "<tr><td>Nassim Nicholas Taleb</td><td>Fooled by Randomness: The Hidden Role of Chance in Life and in the Markets</td><td>4.05</td><td>32766</td><td>work</td></tr>",
                            "<tr><td>Burton G. Malkiel</td><td>A Random Walk Down Wall Street</td><td>4.05</td><td>32766</td><td>work</td></tr>",
                            "<tr><td>Dr. Seuss, Maurice Sendak, Audrey Geisel</td><td>The Secret Art of Dr. Seuss</td><td>4.05</td><td>22651</td><td>own-art-artist-s-works</td></tr>",
                            "<tr><td>Gene Wolfe</td><td>Shadow &amp; Claw (The Book of the New Sun #1-2)</td><td>4.04</td><td>11358</td><td>fantasy-masterworks</td></tr>",
                            "<tr><td>Gene Wolfe</td><td>Shadow &amp; Claw (The Book of the New Sun #1-2)</td><td>4.04</td><td>27405</td><td>sf-masterworks</td></tr>",
                            "<tr><td>Ramit Sethi</td><td>I Will Teach You To Be Rich</td><td>4.04</td><td>32766</td><td>work</td></tr>",
                            "<tr><td>Jen Sincero</td><td>You Are a Badass: How to Stop Doubting Your Greatness and Start Living an Awesome Life</td><td>4.04</td><td>32766</td><td>work</td></tr>",
                            "<tr><td>Nassim Nicholas Taleb</td><td>Antifragile: Things That Gain from Disorder</td><td>4.04</td><td>32766</td><td>work</td></tr>",
                            "<tr><td>Josh Kaufman</td><td>The Personal MBA: Master the Art of Business</td><td>4.04</td><td>32766</td><td>work</td></tr>",
                            "<tr><td>Caroline Knapp</td><td>Drinking: A Love Story</td><td>4.04</td><td>28038</td><td>social-work</td></tr>",
                            "<tr><td>Po Bronson, Ashley Merryman</td><td>NurtureShock: New Thinking About Children</td><td>4.04</td><td>32775</td><td>work-related</td></tr>",
                            "<tr><td>Philip K. Dick</td><td>A Scanner Darkly</td><td>4.04</td><td>27405</td><td>sf-masterworks</td></tr>",
                            "<tr><td>Eric Ries</td><td>The Lean Startup: How Today&#39;s Entrepreneurs Use Continuous Innovation to Create Radically Successful Businesses</td><td>4.04</td><td>32766</td><td>work</td></tr>",
                            "<tr><td>Eric Ries</td><td>The Lean Startup: How Today&#39;s Entrepreneurs Use Continuous Innovation to Create Radically Successful Businesses</td><td>4.04</td><td>32775</td><td>work-related</td></tr>",
                            "<tr><td>James C. Collins</td><td>Good to Great: Why Some Companies Make the Leap... and Others Don&#39;t</td><td>4.04</td><td>32775</td><td>work-related</td></tr>",
                            "<tr><td>James C. Collins</td><td>Good to Great: Why Some Companies Make the Leap... and Others Don&#39;t</td><td>4.04</td><td>32769</td><td>work-books</td></tr>",
                            "<tr><td>James C. Collins</td><td>Good to Great: Why Some Companies Make the Leap... and Others Don&#39;t</td><td>4.04</td><td>12329</td><td>for-work</td></tr>",
                            "<tr><td>James C. Collins</td><td>Good to Great: Why Some Companies Make the Leap... and Others Don&#39;t</td><td>4.04</td><td>32766</td><td>work</td></tr>",
                            "<tr><td>Susan Cain</td><td>Quiet: The Power of Introverts in a World That Can&#39;t Stop Talking</td><td>4.04</td><td>32766</td><td>work</td></tr>",
                            "<tr><td>Susan Cain</td><td>Quiet: The Power of Introverts in a World That Can&#39;t Stop Talking</td><td>4.04</td><td>32775</td><td>work-related</td></tr>",
                            "<tr><td>Carol S. Dweck</td><td>Mindset: The New Psychology of Success</td><td>4.04</td><td>32766</td><td>work</td></tr>",
                            "<tr><td>Carol S. Dweck</td><td>Mindset: The New Psychology of Success</td><td>4.04</td><td>32775</td><td>work-related</td></tr>",
                            "<tr><td>Carol S. Dweck</td><td>Mindset: The New Psychology of Success</td><td>4.04</td><td>12329</td><td>for-work</td></tr>",
                            "<tr><td>David Sheff</td><td>Beautiful Boy: A Father&#39;s Journey Through His Son&#39;s Addiction</td><td>4.03</td><td>32766</td><td>work</td></tr>",
                            "<tr><td>David Sheff</td><td>Beautiful Boy: A Father&#39;s Journey Through His Son&#39;s Addiction</td><td>4.03</td><td>28038</td><td>social-work</td></tr>",
                            "<tr><td>Kay Redfield Jamison</td><td>An Unquiet Mind: A Memoir of Moods and Madness</td><td>4.03</td><td>28038</td><td>social-work</td></tr>",
                            "<tr><td>Kay Redfield Jamison</td><td>An Unquiet Mind: A Memoir of Moods and Madness</td><td>4.03</td><td>32775</td><td>work-related</td></tr>",
                            "<tr><td>Kay Redfield Jamison</td><td>An Unquiet Mind: A Memoir of Moods and Madness</td><td>4.03</td><td>32766</td><td>work</td></tr>",
                            "<tr><td>Charles Duhigg</td><td>The Power of Habit: Why We Do What We Do in Life and Business</td><td>4.03</td><td>32766</td><td>work</td></tr>",
                            "<tr><td>Charles Duhigg</td><td>The Power of Habit: Why We Do What We Do in Life and Business</td><td>4.03</td><td>32775</td><td>work-related</td></tr>",
                            "<tr><td>Connie Willis</td><td>Doomsday Book (Oxford Time Travel, #1)</td><td>4.03</td><td>27405</td><td>sf-masterworks</td></tr>",
                            "<tr><td>Eric Schmidt, Jonathan Rosenberg</td><td>How Google Works</td><td>4.03</td><td>32766</td><td>work</td></tr>",
                            "<tr><td>Eric Schmidt, Jonathan Rosenberg</td><td>How Google Works</td><td>4.03</td><td>12329</td><td>for-work</td></tr>",
                            "<tr><td>Walter Isaacson</td><td>The Innovators: How a Group of  Hackers, Geniuses and Geeks Created the Digital Revolution</td><td>4.03</td><td>32766</td><td>work</td></tr>",
                            "<tr><td>Truddi Chase, Robert A. Phillips Jr.</td><td>When Rabbit Howls</td><td>4.03</td><td>28038</td><td>social-work</td></tr>",
                            "<tr><td>Jim Loehr, Tony Schwartz</td><td>The Power of Full Engagement: Managing Energy, Not Time, Is the Key to High Performance and Personal Renewal</td><td>4.03</td><td>32766</td><td>work</td></tr>",
                            "<tr><td>Jim Loehr, Tony Schwartz</td><td>The Power of Full Engagement: Managing Energy, Not Time, Is the Key to High Performance and Personal Renewal</td><td>4.03</td><td>30850</td><td>to-read-work</td></tr>",
                            "<tr><td>Steven Johnson</td><td>Where Good Ideas Come From: The Natural History of Innovation</td><td>4.03</td><td>32766</td><td>work</td></tr>",
                            "<tr><td>Steven Johnson</td><td>Where Good Ideas Come From: The Natural History of Innovation</td><td>4.03</td><td>32775</td><td>work-related</td></tr>",
                            "<tr><td>Harold S. Kushner</td><td>When Bad Things Happen to Good People</td><td>4.02</td><td>28038</td><td>social-work</td></tr>",
                            "<tr><td>Harriet Lerner</td><td>The Dance Of Anger: A Woman&#39;s Guide to Changing the Patterns of Intimate Relationships</td><td>4.02</td><td>32766</td><td>work</td></tr>",
                            "<tr><td>Harriet Lerner</td><td>The Dance Of Anger: A Woman&#39;s Guide to Changing the Patterns of Intimate Relationships</td><td>4.02</td><td>28038</td><td>social-work</td></tr>",
                            "<tr><td>Harriet Lerner</td><td>The Dance Of Anger: A Woman&#39;s Guide to Changing the Patterns of Intimate Relationships</td><td>4.02</td><td>28039</td><td>social-work-books</td></tr>",
                            "<tr><td>Al Ries, Jack Trout</td><td>The 22 Immutable Laws of Marketing: Violate Them at Your Own Risk</td><td>4.02</td><td>32766</td><td>work</td></tr>",
                            "<tr><td>Atul Gawande</td><td>The Checklist Manifesto: How to Get Things Right</td><td>4.02</td><td>32766</td><td>work</td></tr>",
                            "<tr><td>Atul Gawande</td><td>The Checklist Manifesto: How to Get Things Right</td><td>4.02</td><td>32775</td><td>work-related</td></tr>",
                            "<tr><td>Atul Gawande</td><td>The Checklist Manifesto: How to Get Things Right</td><td>4.02</td><td>32769</td><td>work-books</td></tr>",
                            "<tr><td>Chip Heath, Dan Heath</td><td>Switch: How to Change Things When Change Is Hard</td><td>4.02</td><td>32766</td><td>work</td></tr>",
                            "<tr><td>Chip Heath, Dan Heath</td><td>Switch: How to Change Things When Change Is Hard</td><td>4.02</td><td>32775</td><td>work-related</td></tr>",
                            "<tr><td>Chip Heath, Dan Heath</td><td>Switch: How to Change Things When Change Is Hard</td><td>4.02</td><td>12329</td><td>for-work</td></tr>",
                            "<tr><td>Chip Heath, Dan Heath</td><td>Switch: How to Change Things When Change Is Hard</td><td>4.02</td><td>32769</td><td>work-books</td></tr>",
                            "<tr><td>Sudhir Venkatesh</td><td>Gang Leader for a Day: A Rogue Sociologist Takes to the Streets</td><td>4.01</td><td>28038</td><td>social-work</td></tr>",
                            "<tr><td>Sean Covey</td><td>The 7 Habits of Highly Effective Teens: The Ultimate Teenage Success Guide</td><td>4.01</td><td>32769</td><td>work-books</td></tr>",
                            "<tr><td>Philip K. Dick</td><td>The Three Stigmata of Palmer Eldritch</td><td>4.01</td><td>27405</td><td>sf-masterworks</td></tr>",
                            "<tr><td>Patrick Lencioni</td><td>The Five Dysfunctions of a Team: A Leadership Fable</td><td>4.01</td><td>32766</td><td>work</td></tr>",
                            "<tr><td>Patrick Lencioni</td><td>The Five Dysfunctions of a Team: A Leadership Fable</td><td>4.01</td><td>32775</td><td>work-related</td></tr>",
                            "<tr><td>Patrick Lencioni</td><td>The Five Dysfunctions of a Team: A Leadership Fable</td><td>4.01</td><td>29400</td><td>teamwork</td></tr>",
                            "<tr><td>Patrick Lencioni</td><td>The Five Dysfunctions of a Team: A Leadership Fable</td><td>4.01</td><td>12329</td><td>for-work</td></tr>",
                            "<tr><td>Patrick Lencioni</td><td>The Five Dysfunctions of a Team: A Leadership Fable</td><td>4.01</td><td>32769</td><td>work-books</td></tr>",
                            "<tr><td>Patrick Lencioni</td><td>The Five Dysfunctions of a Team: A Leadership Fable</td><td>4.01</td><td>32777</td><td>work-stuff</td></tr>",
                            "<tr><td>Tony Hsieh</td><td>Delivering Happiness: A Path to Profits, Passion, and Purpose</td><td>4.01</td><td>32766</td><td>work</td></tr>",
                            "<tr><td>Tony Hsieh</td><td>Delivering Happiness: A Path to Profits, Passion, and Purpose</td><td>4.01</td><td>32775</td><td>work-related</td></tr>",
                            "<tr><td>Thomas Piketty, Arthur Goldhammer</td><td>Capital in the Twenty-First Century</td><td>4.01</td><td>32766</td><td>work</td></tr>",
                            "<tr><td>John P. Kotter</td><td>Leading Change</td><td>4.01</td><td>32766</td><td>work</td></tr>",
                            "<tr><td>John P. Kotter</td><td>Leading Change</td><td>4.01</td><td>30850</td><td>to-read-work</td></tr>",
                            "<tr><td>Robert A. Heinlein</td><td>The Door Into Summer</td><td>4</td><td>27405</td><td>sf-masterworks</td></tr>",
                            "<tr><td>Geoffrey A. Moore, Regis McKenna</td><td>Crossing the Chasm: Marketing and Selling High-Tech Products to Mainstream Customers</td><td>4</td><td>32766</td><td>work</td></tr>",
                            "<tr><td>Geoffrey A. Moore, Regis McKenna</td><td>Crossing the Chasm: Marketing and Selling High-Tech Products to Mainstream Customers</td><td>4</td><td>32775</td><td>work-related</td></tr>",
                            "<tr><td>Geoffrey A. Moore, Regis McKenna</td><td>Crossing the Chasm: Marketing and Selling High-Tech Products to Mainstream Customers</td><td>4</td><td>32778</td><td>work-to-read</td></tr>",
                            "<tr><td>Geoffrey A. Moore, Regis McKenna</td><td>Crossing the Chasm: Marketing and Selling High-Tech Products to Mainstream Customers</td><td>4</td><td>32769</td><td>work-books</td></tr>",
                            "<tr><td>Bert Dodson</td><td>Keys to Drawing</td><td>4</td><td>32766</td><td>work</td></tr>",
                            "<tr><td>Bert Dodson</td><td>Keys to Drawing</td><td>4</td><td>32773</td><td>work-material</td></tr>",
                            "<tr><td>Paula H. Deen, John Berendt</td><td>The Lady &amp; Sons Savannah Country Cookbook</td><td>4</td><td>12236</td><td>food-network</td></tr>",
                            "<tr><td>Twyla Tharp</td><td>The Creative Habit: Learn It and Use It for Life</td><td>4</td><td>32766</td><td>work</td></tr>",
                            "<tr><td>John Wyndham</td><td>The Day of the Triffids</td><td>4</td><td>27405</td><td>sf-masterworks</td></tr>",
                            "<tr><td>Eliyahu M. Goldratt, Jeff Cox</td><td>The Goal: A Process of Ongoing Improvement</td><td>4</td><td>32766</td><td>work</td></tr>",
                            "<tr><td>Eliyahu M. Goldratt, Jeff Cox</td><td>The Goal: A Process of Ongoing Improvement</td><td>4</td><td>32775</td><td>work-related</td></tr>",
                            "<tr><td>Eliyahu M. Goldratt, Jeff Cox</td><td>The Goal: A Process of Ongoing Improvement</td><td>4</td><td>32778</td><td>work-to-read</td></tr>",
                            "<tr><td>Dan Ariely</td><td>The Upside of Irrationality: The Unexpected Benefits of Defying Logic at Work and at Home</td><td>4</td><td>32766</td><td>work</td></tr>",
                            "<tr><td>John Medina</td><td>Brain Rules: 12 Principles for Surviving and Thriving at Work, Home, and School</td><td>4</td><td>32766</td><td>work</td></tr>",
                            "<tr><td>John Medina</td><td>Brain Rules: 12 Principles for Surviving and Thriving at Work, Home, and School</td><td>4</td><td>32775</td><td>work-related</td></tr>",
                            "<tr><td>Clayton M. Christensen</td><td>The Innovator&#39;s Dilemma: The Revolutionary Book that Will Change the Way You Do Business (Collins Business Essentials)</td><td>4</td><td>32766</td><td>work</td></tr>",
                            "<tr><td>Clayton M. Christensen</td><td>The Innovator&#39;s Dilemma: The Revolutionary Book that Will Change the Way You Do Business (Collins Business Essentials)</td><td>4</td><td>32775</td><td>work-related</td></tr>",
                            "<tr><td>Clayton M. Christensen</td><td>The Innovator&#39;s Dilemma: The Revolutionary Book that Will Change the Way You Do Business (Collins Business Essentials)</td><td>4</td><td>12329</td><td>for-work</td></tr>",
                            "<tr><td>Clayton M. Christensen</td><td>The Innovator&#39;s Dilemma: The Revolutionary Book that Will Change the Way You Do Business (Collins Business Essentials)</td><td>4</td><td>32778</td><td>work-to-read</td></tr>",
                            "<tr><td>Kerry Patterson, Joseph Grenny, Ron McMillan, Al Switzler, Stephen R. Covey</td><td>Crucial Conversations: Tools for Talking When Stakes Are High</td><td>4</td><td>32766</td><td>work</td></tr>",
                            "<tr><td>Kerry Patterson, Joseph Grenny, Ron McMillan, Al Switzler, Stephen R. Covey</td><td>Crucial Conversations: Tools for Talking When Stakes Are High</td><td>4</td><td>32775</td><td>work-related</td></tr>",
                            "<tr><td>Kerry Patterson, Joseph Grenny, Ron McMillan, Al Switzler, Stephen R. Covey</td><td>Crucial Conversations: Tools for Talking When Stakes Are High</td><td>4</td><td>12329</td><td>for-work</td></tr>",
                            "<tr><td>Marya Hornbacher</td><td>Wasted: A Memoir of Anorexia and Bulimia</td><td>3.99</td><td>28038</td><td>social-work</td></tr>",
                            "<tr><td>Alfred Bester</td><td>The Demolished Man</td><td>3.99</td><td>27405</td><td>sf-masterworks</td></tr>",
                            "<tr><td>Hillary Jordan</td><td>Mudbound</td><td>3.99</td><td>2221</td><td>amazing-first-work-by-author</td></tr>",
                            "<tr><td>Richard Matheson</td><td>I Am Legend and Other Stories</td><td>3.99</td><td>27405</td><td>sf-masterworks</td></tr>",
                            "<tr><td>Flora Rheta Schreiber</td><td>Sybil: The Classic True Story of a Woman Possessed by Sixteen Personalities</td><td>3.99</td><td>28038</td><td>social-work</td></tr>",
                            "<tr><td>Stephen R. Covey</td><td>The 8th Habit: From Effectiveness to Greatness</td><td>3.99</td><td>32766</td><td>work</td></tr>",
                            "<tr><td>Stephen R. Covey</td><td>The 8th Habit: From Effectiveness to Greatness</td><td>3.99</td><td>32775</td><td>work-related</td></tr>",
                            "<tr><td>Carol Tavris, Elliot Aronson</td><td>Mistakes Were Made (But Not by Me): Why We Justify Foolish Beliefs, Bad Decisions, and Hurtful Acts</td><td>3.99</td><td>32766</td><td>work</td></tr>",
                            "<tr><td>Greg McKeown</td><td>Essentialism: The Disciplined Pursuit of Less</td><td>3.99</td><td>32766</td><td>work</td></tr>",
                            "<tr><td>Richard Koch</td><td>The 80/20 Principle: The Secret to Achieving More with Less</td><td>3.99</td><td>32766</td><td>work</td></tr>",
                            "<tr><td>Richard Koch</td><td>The 80/20 Principle: The Secret to Achieving More with Less</td><td>3.99</td><td>32769</td><td>work-books</td></tr>",
                            "<tr><td>Giada De Laurentiis, Victoria Pearson</td><td>Giada&#39;s Family Dinners</td><td>3.99</td><td>12329</td><td>for-work</td></tr>",
                            "<tr><td>Giada De Laurentiis, Victoria Pearson</td><td>Giada&#39;s Family Dinners</td><td>3.99</td><td>12236</td><td>food-network</td></tr>",
                            "<tr><td>Giada De Laurentiis, Victoria Pearson</td><td>Giada&#39;s Family Dinners</td><td>3.99</td><td>9560</td><td>discovered-at-work</td></tr>",
                            "<tr><td>Martin E.P. Seligman</td><td>Learned Optimism: How to Change Your Mind and Your Life</td><td>3.98</td><td>32766</td><td>work</td></tr>",
                            "<tr><td>Martin E.P. Seligman</td><td>Learned Optimism: How to Change Your Mind and Your Life</td><td>3.98</td><td>12329</td><td>for-work</td></tr>",
                            "<tr><td>James Gleick</td><td>The Information: A History, a Theory, a Flood</td><td>3.98</td><td>32766</td><td>work</td></tr>",
                            "<tr><td>Jack Finney</td><td>Time and Again (Time, #1)</td><td>3.98</td><td>11358</td><td>fantasy-masterworks</td></tr>",
                            "<tr><td>Theodore Sturgeon</td><td>More Than Human</td><td>3.98</td><td>27405</td><td>sf-masterworks</td></tr>",
                            "<tr><td>Theodore Sturgeon</td><td>More Than Human</td><td>3.98</td><td>26795</td><td>sci-fi-masterworks</td></tr>",
                            "<tr><td>Theodore Sturgeon</td><td>More Than Human</td><td>3.98</td><td>19431</td><td>masterworks</td></tr>",
                            "<tr><td>Holly Black</td><td>Red Glove (Curse Workers, #2)</td><td>3.98</td><td>8723</td><td>curse-workers</td></tr>",
                            "<tr><td>Kerry Patterson, Joseph Grenny, David Maxfield, Ron McMillan, Al Switzler</td><td>Influencer: The Power to Change Anything</td><td>3.98</td><td>32766</td><td>work</td></tr>",
                            "<tr><td>Kerry Patterson, Joseph Grenny, David Maxfield, Ron McMillan, Al Switzler</td><td>Influencer: The Power to Change Anything</td><td>3.98</td><td>32775</td><td>work-related</td></tr>",
                            "<tr><td>Kerry Patterson, Joseph Grenny, David Maxfield, Ron McMillan, Al Switzler</td><td>Influencer: The Power to Change Anything</td><td>3.98</td><td>12329</td><td>for-work</td></tr>",
                            "<tr><td>Kerry Patterson, Joseph Grenny, David Maxfield, Ron McMillan, Al Switzler</td><td>Influencer: The Power to Change Anything</td><td>3.98</td><td>32769</td><td>work-books</td></tr>",
                            "<tr><td>Kerry Patterson, Joseph Grenny, David Maxfield, Ron McMillan, Al Switzler</td><td>Influencer: The Power to Change Anything</td><td>3.98</td><td>28038</td><td>social-work</td></tr>",
                            "<tr><td>Kerry Patterson, Joseph Grenny, David Maxfield, Ron McMillan, Al Switzler</td><td>Influencer: The Power to Change Anything</td><td>3.98</td><td>32778</td><td>work-to-read</td></tr>",
                            "<tr><td>Kerry Patterson, Joseph Grenny, David Maxfield, Ron McMillan, Al Switzler</td><td>Influencer: The Power to Change Anything</td><td>3.98</td><td>30850</td><td>to-read-work</td></tr>",
                            "<tr><td>David    Allen</td><td>Getting Things Done: The Art of Stress-Free Productivity</td><td>3.98</td><td>32766</td><td>work</td></tr>",
                            "<tr><td>David    Allen</td><td>Getting Things Done: The Art of Stress-Free Productivity</td><td>3.98</td><td>32775</td><td>work-related</td></tr>",
                            "<tr><td>Scott McCloud</td><td>Understanding Comics: The Invisible Art</td><td>3.98</td><td>32766</td><td>work</td></tr>",
                            "<tr><td>Daniel Goleman</td><td>Emotional Intelligence: Why It Can Matter More Than IQ</td><td>3.98</td><td>32766</td><td>work</td></tr>",
                            "<tr><td>Daniel Goleman</td><td>Emotional Intelligence: Why It Can Matter More Than IQ</td><td>3.98</td><td>32775</td><td>work-related</td></tr>",
                            "<tr><td>James C. Collins, Jerry I. Porras</td><td>Built to Last: Successful Habits of Visionary Companies</td><td>3.98</td><td>32766</td><td>work</td></tr>",
                            "<tr><td>James C. Collins, Jerry I. Porras</td><td>Built to Last: Successful Habits of Visionary Companies</td><td>3.98</td><td>32775</td><td>work-related</td></tr>",
                            "<tr><td>Michael E. Gerber</td><td>The E-Myth Revisited: Why Most Small Businesses Don&#39;t Work and What to Do About It</td><td>3.98</td><td>32766</td><td>work</td></tr>",
                            "<tr><td>Giada De Laurentiis</td><td>Everyday Italian: 125 Simple and Delicious Recipes</td><td>3.97</td><td>21346</td><td>network</td></tr>",
                            "<tr><td>Chip Heath, Dan Heath</td><td>Made to Stick: Why Some Ideas Survive and Others Die</td><td>3.97</td><td>32766</td><td>work</td></tr>",
                            "<tr><td>Chip Heath, Dan Heath</td><td>Made to Stick: Why Some Ideas Survive and Others Die</td><td>3.97</td><td>32775</td><td>work-related</td></tr>",
                            "<tr><td>Walter M. Miller Jr.</td><td>A Canticle for Leibowitz</td><td>3.97</td><td>27405</td><td>sf-masterworks</td></tr>",
                            "<tr><td>Amanda Palmer</td><td>The Art of Asking; or, How I Learned to Stop Worrying and Let People Help</td><td>3.97</td><td>32766</td><td>work</td></tr>",
                            "<tr><td>Jenő Barcsay</td><td>Anatomy for the Artist</td><td>3.97</td><td>32766</td><td>work</td></tr>",
                            "<tr><td>Jenő Barcsay</td><td>Anatomy for the Artist</td><td>3.97</td><td>3112</td><td>art-work</td></tr>",
                            "<tr><td>Jenő Barcsay</td><td>Anatomy for the Artist</td><td>3.97</td><td>18489</td><td>location-work</td></tr>",
                            "<tr><td>Alastair Reynolds</td><td>Revelation Space</td><td>3.97</td><td>27405</td><td>sf-masterworks</td></tr>",
                            "<tr><td>Daniel Goleman</td><td>Social Intelligence: The New Science of Human Relationships</td><td>3.97</td><td>32766</td><td>work</td></tr>",
                            "<tr><td>Daniel Goleman</td><td>Social Intelligence: The New Science of Human Relationships</td><td>3.97</td><td>21348</td><td>networking</td></tr>",
                            "<tr><td>Stephen M.R. Covey</td><td>The Speed of Trust: The One Thing that Changes Everything</td><td>3.97</td><td>32766</td><td>work</td></tr>",
                            "<tr><td>Stephen M.R. Covey</td><td>The Speed of Trust: The One Thing that Changes Everything</td><td>3.97</td><td>32775</td><td>work-related</td></tr>",
                            "<tr><td>Stephen M.R. Covey</td><td>The Speed of Trust: The One Thing that Changes Everything</td><td>3.97</td><td>5156</td><td>books-for-work</td></tr>",
                            "<tr><td>Stephen M.R. Covey</td><td>The Speed of Trust: The One Thing that Changes Everything</td><td>3.97</td><td>32769</td><td>work-books</td></tr>",
                            "<tr><td>Stephen M.R. Covey</td><td>The Speed of Trust: The One Thing that Changes Everything</td><td>3.97</td><td>32774</td><td>work-reading</td></tr>",
                            "<tr><td>Allan Pease, Barbara Pease</td><td>The Definitive Book of Body Language</td><td>3.97</td><td>32766</td><td>work</td></tr>",
                            "<tr><td>George R. Stewart</td><td>Earth Abides</td><td>3.96</td><td>27405</td><td>sf-masterworks</td></tr>",
                            "<tr><td>Geoff Colvin</td><td>Talent is Overrated: What Really Separates World-Class Performers from Everybody Else</td><td>3.96</td><td>32766</td><td>work</td></tr>",
                            "<tr><td>Geoff Colvin</td><td>Talent is Overrated: What Really Separates World-Class Performers from Everybody Else</td><td>3.96</td><td>32775</td><td>work-related</td></tr>",
                            "<tr><td>John Brunner</td><td>Stand on Zanzibar</td><td>3.96</td><td>27405</td><td>sf-masterworks</td></tr>",
                            "<tr><td>John Brunner</td><td>Stand on Zanzibar</td><td>3.96</td><td>26795</td><td>sci-fi-masterworks</td></tr>",
                            "<tr><td>John Brunner</td><td>Stand on Zanzibar</td><td>3.96</td><td>19431</td><td>masterworks</td></tr>",
                            "<tr><td>Nate Silver</td><td>The Signal and the Noise: Why So Many Predictions Fail - But Some Don&#39;t</td><td>3.96</td><td>32766</td><td>work</td></tr>",
                            "<tr><td>Nigella Lawson</td><td>Nigella Express: Good Food, Fast</td><td>3.96</td><td>5484</td><td>borrowed-from-family-friends-work</td></tr>",
                            "<tr><td>Arthur C. Clarke</td><td>The Fountains of Paradise</td><td>3.96</td><td>27405</td><td>sf-masterworks</td></tr>",
                            "<tr><td>Larry Niven</td><td>Ringworld (Ringworld, #1)</td><td>3.96</td><td>27405</td><td>sf-masterworks</td></tr>",
                            "<tr><td>Richard Carlson</td><td>Don&#39;t Sweat the Small Stuff ... and it&#39;s all small stuff: Simple Ways to Keep the Little Things from Taking Over Your Life</td><td>3.95</td><td>32766</td><td>work</td></tr>",
                            "<tr><td>Richard Carlson</td><td>Don&#39;t Sweat the Small Stuff ... and it&#39;s all small stuff: Simple Ways to Keep the Little Things from Taking Over Your Life</td><td>3.95</td><td>32775</td><td>work-related</td></tr>",
                            "<tr><td>Daniel H. Pink</td><td>Drive: The Surprising Truth About What Motivates Us</td><td>3.95</td><td>32766</td><td>work</td></tr>",
                            "<tr><td>Daniel H. Pink</td><td>Drive: The Surprising Truth About What Motivates Us</td><td>3.95</td><td>32775</td><td>work-related</td></tr>",
                            "<tr><td>Daniel H. Pink</td><td>Drive: The Surprising Truth About What Motivates Us</td><td>3.95</td><td>32769</td><td>work-books</td></tr>",
                            "<tr><td>Ray Bradbury</td><td>Something Wicked This Way Comes (Green Town, #2)</td><td>3.95</td><td>11358</td><td>fantasy-masterworks</td></tr>",
                            "<tr><td>Marcus Buckingham, Donald O. Clifton</td><td>Now, Discover Your Strengths</td><td>3.95</td><td>32766</td><td>work</td></tr>",
                            "<tr><td>Marcus Buckingham, Donald O. Clifton</td><td>Now, Discover Your Strengths</td><td>3.95</td><td>32769</td><td>work-books</td></tr>",
                            "<tr><td>Marcus Buckingham, Donald O. Clifton</td><td>Now, Discover Your Strengths</td><td>3.95</td><td>32775</td><td>work-related</td></tr>",
                            "<tr><td>David D. Burns</td><td>Feeling Good: The New Mood Therapy</td><td>3.95</td><td>28038</td><td>social-work</td></tr>",
                            "<tr><td>David D. Burns</td><td>Feeling Good: The New Mood Therapy</td><td>3.95</td><td>14926</td><td>how-the-brain-works</td></tr>",
                            "<tr><td>Daniel H. Pink</td><td>A Whole New Mind: Why Right-Brainers Will Rule the Future</td><td>3.95</td><td>32766</td><td>work</td></tr>",
                            "<tr><td>Daniel H. Pink</td><td>A Whole New Mind: Why Right-Brainers Will Rule the Future</td><td>3.95</td><td>32775</td><td>work-related</td></tr>",
                            "<tr><td>Philip K. Dick</td><td>VALIS (VALIS Trilogy, #1)</td><td>3.94</td><td>27405</td><td>sf-masterworks</td></tr>",
                            "<tr><td>Marshall Goldsmith, Mark Reiter</td><td>What Got You Here Won&#39;t Get You There: How Successful People Become Even More Successful</td><td>3.94</td><td>32766</td><td>work</td></tr>",
                            "<tr><td>Marshall Goldsmith, Mark Reiter</td><td>What Got You Here Won&#39;t Get You There: How Successful People Become Even More Successful</td><td>3.94</td><td>32775</td><td>work-related</td></tr>",
                            "<tr><td>Marshall Goldsmith, Mark Reiter</td><td>What Got You Here Won&#39;t Get You There: How Successful People Become Even More Successful</td><td>3.94</td><td>32769</td><td>work-books</td></tr>",
                            "<tr><td>Marshall Goldsmith, Mark Reiter</td><td>What Got You Here Won&#39;t Get You There: How Successful People Become Even More Successful</td><td>3.94</td><td>30850</td><td>to-read-work</td></tr>",
                            "<tr><td>Marshall Goldsmith, Mark Reiter</td><td>What Got You Here Won&#39;t Get You There: How Successful People Become Even More Successful</td><td>3.94</td><td>5156</td><td>books-for-work</td></tr>",
                            "<tr><td>Marshall Goldsmith, Mark Reiter</td><td>What Got You Here Won&#39;t Get You There: How Successful People Become Even More Successful</td><td>3.94</td><td>32782</td><td>workplace-challenges</td></tr>",
                            "<tr><td>Philip José Farmer</td><td>To Your Scattered Bodies Go (Riverworld, #1)</td><td>3.94</td><td>27405</td><td>sf-masterworks</td></tr>",
                            "<tr><td>Jeanette Winterson</td><td>Why Be Happy When You Could Be Normal?</td><td>3.94</td><td>28038</td><td>social-work</td></tr>",
                            "<tr><td>Sheryl Sandberg, Nell Scovell</td><td>Lean In: Women, Work, and the Will to Lead</td><td>3.94</td><td>32766</td><td>work</td></tr>",
                            "<tr><td>Sheryl Sandberg, Nell Scovell</td><td>Lean In: Women, Work, and the Will to Lead</td><td>3.94</td><td>32775</td><td>work-related</td></tr>",
                            "<tr><td>Shoichi Aoki, Mark Sanders, Shoich Aoki</td><td>FRUiTS</td><td>3.94</td><td>32768</td><td>work-b-visible-project</td></tr>",
                            "<tr><td>L.D. Davis</td><td>Accidentally on Purpose (Accidentally on Purpose, #1)</td><td>3.94</td><td>5498</td><td>boss</td></tr>",
                            "<tr><td>Charles Harrison, Paul Wood</td><td>Art in Theory 1900 - 2000: An Anthology of Changing Ideas</td><td>3.94</td><td>7920</td><td>complete-works-anthologies</td></tr>",
                            "<tr><td>Charles Harrison, Paul Wood</td><td>Art in Theory 1900 - 2000: An Anthology of Changing Ideas</td><td>3.94</td><td>25581</td><td>reference-works</td></tr>",
                            "<tr><td>Scott Belsky</td><td>Making Ideas Happen: Overcoming the Obstacles Between Vision and Reality</td><td>3.94</td><td>32766</td><td>work</td></tr>",
                            "<tr><td>Scott Belsky</td><td>Making Ideas Happen: Overcoming the Obstacles Between Vision and Reality</td><td>3.94</td><td>32775</td><td>work-related</td></tr>",
                            "<tr><td>Scott Belsky</td><td>Making Ideas Happen: Overcoming the Obstacles Between Vision and Reality</td><td>3.94</td><td>32769</td><td>work-books</td></tr>",
                            "<tr><td>Seth Godin</td><td>Permission Marketing: Turning Strangers Into Friends And Friends Into Customers</td><td>3.94</td><td>32766</td><td>work</td></tr>",
                            "<tr><td>Seth Godin</td><td>Permission Marketing: Turning Strangers Into Friends And Friends Into Customers</td><td>3.94</td><td>21348</td><td>networking</td></tr>",
                            "<tr><td>Phaidon Press</td><td>The 20th Century Art Book</td><td>3.94</td><td>32766</td><td>work</td></tr>",
                            "<tr><td>Jessica Livingston</td><td>Founders at Work: Stories of Startups&#39; Early Days</td><td>3.94</td><td>32766</td><td>work</td></tr>",
                            "<tr><td>Jessica Livingston</td><td>Founders at Work: Stories of Startups&#39; Early Days</td><td>3.94</td><td>32775</td><td>work-related</td></tr>",
                            "<tr><td>Jessica Livingston</td><td>Founders at Work: Stories of Startups&#39; Early Days</td><td>3.94</td><td>3305</td><td>at-work</td></tr>",
                            "<tr><td>Peter M. Senge</td><td>The Fifth Discipline: The Art &amp; Practice of The Learning Organization</td><td>3.93</td><td>32766</td><td>work</td></tr>",
                            "<tr><td>Peter M. Senge</td><td>The Fifth Discipline: The Art &amp; Practice of The Learning Organization</td><td>3.93</td><td>32775</td><td>work-related</td></tr>",
                            "<tr><td>Peter M. Senge</td><td>The Fifth Discipline: The Art &amp; Practice of The Learning Organization</td><td>3.93</td><td>32769</td><td>work-books</td></tr>",
                            "<tr><td>Richard Branson</td><td>Screw It, Let&#39;s Do It: Lessons In Life</td><td>3.93</td><td>32766</td><td>work</td></tr>",
                            "<tr><td>John Wyndham</td><td>The Midwich Cuckoos</td><td>3.93</td><td>27405</td><td>sf-masterworks</td></tr>",
                            "<tr><td>Jason Fried, David Heinemeier Hansson</td><td>Rework</td><td>3.93</td><td>32766</td><td>work</td></tr>",
                            "<tr><td>Jason Fried, David Heinemeier Hansson</td><td>Rework</td><td>3.93</td><td>32775</td><td>work-related</td></tr>",
                            "<tr><td>Dan   Harris</td><td>10% Happier: How I Tamed the Voice in My Head, Reduced Stress Without Losing My Edge, and Found Self-Help That Actually Works</td><td>3.93</td><td>32766</td><td>work</td></tr>",
                            "<tr><td>Mary Roach</td><td>Packing for Mars: The Curious Science of Life in the Void</td><td>3.93</td><td>32784</td><td>works</td></tr>",
                            "<tr><td>Leigh Nichols, Dean Koontz</td><td>The Key to Midnight</td><td>3.93</td><td>9357</td><td>detective-work</td></tr>",
                            "<tr><td>Philip K. Dick</td><td>Flow My Tears, the Policeman Said</td><td>3.93</td><td>27405</td><td>sf-masterworks</td></tr>",
                            "<tr><td>Stephen C. Lundin, Harry Paul, John Christensen, Kenneth H. Blanchard</td><td>Fish: A Proven Way to Boost Morale and Improve Results</td><td>3.92</td><td>32766</td><td>work</td></tr>",
                            "<tr><td>Stephen C. Lundin, Harry Paul, John Christensen, Kenneth H. Blanchard</td><td>Fish: A Proven Way to Boost Morale and Improve Results</td><td>3.92</td><td>32775</td><td>work-related</td></tr>",
                            "<tr><td>Stephen C. Lundin, Harry Paul, John Christensen, Kenneth H. Blanchard</td><td>Fish: A Proven Way to Boost Morale and Improve Results</td><td>3.92</td><td>32769</td><td>work-books</td></tr>",
                            "<tr><td>Stephen C. Lundin, Harry Paul, John Christensen, Kenneth H. Blanchard</td><td>Fish: A Proven Way to Boost Morale and Improve Results</td><td>3.92</td><td>25118</td><td>read-for-work</td></tr>",
                            "<tr><td>Frederick Franck</td><td>Zen of Seeing: Seeing/Drawing as Meditation</td><td>3.92</td><td>4939</td><td>book-arts-workshop</td></tr>",
                            "<tr><td>Marcus Buckingham, Curt Coffman</td><td>First, Break All the Rules: What the World&#39;s Greatest Managers Do Differently</td><td>3.92</td><td>32766</td><td>work</td></tr>",
                            "<tr><td>Marcus Buckingham, Curt Coffman</td><td>First, Break All the Rules: What the World&#39;s Greatest Managers Do Differently</td><td>3.92</td><td>32775</td><td>work-related</td></tr>",
                            "<tr><td>Marcus Buckingham, Curt Coffman</td><td>First, Break All the Rules: What the World&#39;s Greatest Managers Do Differently</td><td>3.92</td><td>32769</td><td>work-books</td></tr>",
                            "<tr><td>Marcus Buckingham, Curt Coffman</td><td>First, Break All the Rules: What the World&#39;s Greatest Managers Do Differently</td><td>3.92</td><td>12329</td><td>for-work</td></tr>",
                            "<tr><td>John Wyndham</td><td>The Chrysalids</td><td>3.92</td><td>27405</td><td>sf-masterworks</td></tr>",
                            "<tr><td>Tom Rath</td><td>Strengths Finder 2.0</td><td>3.92</td><td>32766</td><td>work</td></tr>",
                            "<tr><td>Tom Rath</td><td>Strengths Finder 2.0</td><td>3.92</td><td>32775</td><td>work-related</td></tr>",
                            "<tr><td>Tom Rath</td><td>Strengths Finder 2.0</td><td>3.92</td><td>12329</td><td>for-work</td></tr>",
                            "<tr><td>Tom Rath</td><td>Strengths Finder 2.0</td><td>3.92</td><td>32769</td><td>work-books</td></tr>",
                            "<tr><td>Malcolm Gladwell</td><td>The Tipping Point: How Little Things Can Make a Big Difference</td><td>3.92</td><td>32766</td><td>work</td></tr>",
                            "<tr><td>Jack London</td><td>To Build a Fire</td><td>3.92</td><td>27688</td><td>short-works</td></tr>",
                            "<tr><td>Tom Peters, Robert H. Waterman Jr.</td><td>In Search of Excellence: Lessons from America&#39;s Best-Run Companies</td><td>3.91</td><td>32766</td><td>work</td></tr>",
                            "<tr><td>Tom Peters, Robert H. Waterman Jr.</td><td>In Search of Excellence: Lessons from America&#39;s Best-Run Companies</td><td>3.91</td><td>32775</td><td>work-related</td></tr>",
                            "<tr><td>Tom Peters, Robert H. Waterman Jr.</td><td>In Search of Excellence: Lessons from America&#39;s Best-Run Companies</td><td>3.91</td><td>32778</td><td>work-to-read</td></tr>",
                            "<tr><td>Dan Ariely</td><td>The Honest Truth About Dishonesty: How We Lie to Everyone - Especially Ourselves</td><td>3.91</td><td>32766</td><td>work</td></tr>",
                            "<tr><td>John Elder Robison</td><td>Look Me in the Eye: My Life with Asperger&#39;s</td><td>3.91</td><td>32775</td><td>work-related</td></tr>",
                            "<tr><td>John Elder Robison</td><td>Look Me in the Eye: My Life with Asperger&#39;s</td><td>3.91</td><td>28038</td><td>social-work</td></tr>",
                            "<tr><td>Paul Tough</td><td>How Children Succeed: Grit, Curiosity, and the Hidden Power of Character</td><td>3.91</td><td>32766</td><td>work</td></tr>",
                            "<tr><td>Paul Tough</td><td>How Children Succeed: Grit, Curiosity, and the Hidden Power of Character</td><td>3.91</td><td>32775</td><td>work-related</td></tr>",
                            "<tr><td>Malcolm Gladwell</td><td>David and Goliath: Underdogs, Misfits, and the Art of Battling Giants</td><td>3.9</td><td>32766</td><td>work</td></tr>",
                            "<tr><td>Joe Navarro, Marvin Karlins</td><td>What Every Body is Saying: An Ex-FBI Agent&#39;s Guide to Speed-Reading People</td><td>3.9</td><td>32766</td><td>work</td></tr>",
                            "<tr><td>Joe Navarro, Marvin Karlins</td><td>What Every Body is Saying: An Ex-FBI Agent&#39;s Guide to Speed-Reading People</td><td>3.9</td><td>32775</td><td>work-related</td></tr>",
                            "<tr><td>Daniel H. Pink</td><td>To Sell Is Human: The Surprising Truth About Moving Others</td><td>3.89</td><td>32766</td><td>work</td></tr>",
                            "<tr><td>Daniel H. Pink</td><td>To Sell Is Human: The Surprising Truth About Moving Others</td><td>3.89</td><td>32775</td><td>work-related</td></tr>",
                            "<tr><td>Ken Robinson, Lou Aronica</td><td>The Element: How Finding Your Passion Changes Everything</td><td>3.89</td><td>32766</td><td>work</td></tr>",
                            "<tr><td>Malcolm Gladwell</td><td>Blink: The Power of Thinking Without Thinking</td><td>3.89</td><td>32766</td><td>work</td></tr>",
                            "<tr><td>Julia Cameron</td><td>The Artist&#39;s Way: A Spiritual Path to Higher Creativity</td><td>3.89</td><td>32766</td><td>work</td></tr>",
                            "<tr><td>Nassim Nicholas Taleb</td><td>The Black Swan: The Impact of the Highly Improbable</td><td>3.88</td><td>32766</td><td>work</td></tr>",
                            "<tr><td>Roger Fisher, William Ury, Bruce Patton</td><td>Getting to Yes: Negotiating an Agreement Without Giving In</td><td>3.88</td><td>32766</td><td>work</td></tr>",
                            "<tr><td>Roger Fisher, William Ury, Bruce Patton</td><td>Getting to Yes: Negotiating an Agreement Without Giving In</td><td>3.88</td><td>32775</td><td>work-related</td></tr>",
                            "<tr><td>Roger Fisher, William Ury, Bruce Patton</td><td>Getting to Yes: Negotiating an Agreement Without Giving In</td><td>3.88</td><td>12329</td><td>for-work</td></tr>",
                            "<tr><td>Christopher Chabris, Daniel Simons</td><td>The Invisible Gorilla: And Other Ways Our Intuitions Deceive Us</td><td>3.88</td><td>32766</td><td>work</td></tr>",
                            "<tr><td>Christopher Chabris, Daniel Simons</td><td>The Invisible Gorilla: And Other Ways Our Intuitions Deceive Us</td><td>3.88</td><td>32775</td><td>work-related</td></tr>",
                            "<tr><td>Neil A. Fiore</td><td>The Now Habit: A Strategic Program for Overcoming Procrastination and Enjoying Guilt-Free Play</td><td>3.88</td><td>32775</td><td>work-related</td></tr>",
                            "<tr><td>Neil A. Fiore</td><td>The Now Habit: A Strategic Program for Overcoming Procrastination and Enjoying Guilt-Free Play</td><td>3.88</td><td>32766</td><td>work</td></tr>",
                            "<tr><td>Seth Godin</td><td>All Marketers Are Liars: The Power of Telling Authentic Stories in a Low-Trust World</td><td>3.88</td><td>32766</td><td>work</td></tr>",
                            "<tr><td>Jonah Berger</td><td>Contagious: Why Things Catch On</td><td>3.88</td><td>32766</td><td>work</td></tr>",
                            "<tr><td>Robert A. Heinlein</td><td>Double Star</td><td>3.88</td><td>27405</td><td>sf-masterworks</td></tr>",
                            "<tr><td>Marti Olsen Laney</td><td>The Introvert Advantage: How to Thrive in an Extrovert World</td><td>3.88</td><td>32766</td><td>work</td></tr>",
                            "<tr><td>Marti Olsen Laney</td><td>The Introvert Advantage: How to Thrive in an Extrovert World</td><td>3.88</td><td>32775</td><td>work-related</td></tr>",
                            "<tr><td>Miranda July, Brigitte Sire</td><td>It Chooses You</td><td>3.88</td><td>32766</td><td>work</td></tr>",
                            "<tr><td>Niall Ferguson</td><td>The Ascent of Money: A Financial History of the World</td><td>3.88</td><td>32766</td><td>work</td></tr>",
                            "<tr><td>Leonard Mlodinow</td><td>The Drunkard&#39;s Walk: How Randomness Rules Our Lives</td><td>3.88</td><td>32766</td><td>work</td></tr>",
                            "<tr><td>Jack Finney</td><td>Invasion of the Body Snatchers</td><td>3.88</td><td>27405</td><td>sf-masterworks</td></tr>",
                            "<tr><td>Jack Finney</td><td>Invasion of the Body Snatchers</td><td>3.88</td><td>26795</td><td>sci-fi-masterworks</td></tr>",
                            "<tr><td>American Psychiatric Association</td><td>Diagnostic and Statistical Manual of Mental Disorders DSM-IV-TR</td><td>3.87</td><td>28038</td><td>social-work</td></tr>",
                            "<tr><td>American Psychiatric Association</td><td>Diagnostic and Statistical Manual of Mental Disorders DSM-IV-TR</td><td>3.87</td><td>32766</td><td>work</td></tr>",
                            "<tr><td>American Psychiatric Association</td><td>Diagnostic and Statistical Manual of Mental Disorders DSM-IV-TR</td><td>3.87</td><td>32775</td><td>work-related</td></tr>",
                            "<tr><td>American Psychiatric Association</td><td>Diagnostic and Statistical Manual of Mental Disorders DSM-IV-TR</td><td>3.87</td><td>24544</td><td>psychology-social-work</td></tr>",
                            "<tr><td>American Psychiatric Association</td><td>Diagnostic and Statistical Manual of Mental Disorders DSM-IV-TR</td><td>3.87</td><td>28040</td><td>social-work-reads</td></tr>",
                            "<tr><td>Christopher Priest</td><td>The Prestige</td><td>3.87</td><td>27405</td><td>sf-masterworks</td></tr>",
                            "<tr><td>H.G. Wells, Greg Bear, Carlo Pagetti</td><td>The Time Machine</td><td>3.87</td><td>27405</td><td>sf-masterworks</td></tr>",
                            "<tr><td>Robert Henri, Forbes Watson, Margery A. Ryerson</td><td>The Art Spirit: Notes, Articles, Fragments of Letters and Talks to Students, Bearing on the Concept and Technique of Picture Making, the Study of Art (Icon Editions)</td><td>3.87</td><td>32766</td><td>work</td></tr>",
                            "<tr><td>Simon Schama</td><td>The Power of Art</td><td>3.87</td><td>32766</td><td>work</td></tr>",
                            "<tr><td>Simon Schama</td><td>The Power of Art</td><td>3.87</td><td>32769</td><td>work-books</td></tr>",
                            "<tr><td>Seth Godin</td><td>Linchpin: Are You Indispensable?</td><td>3.87</td><td>32766</td><td>work</td></tr>",
                            "<tr><td>Seth Godin</td><td>Linchpin: Are You Indispensable?</td><td>3.87</td><td>32775</td><td>work-related</td></tr>",
                            "<tr><td>Mary Pipher</td><td>Reviving Ophelia: Saving the Selves of Adolescent Girls</td><td>3.86</td><td>32766</td><td>work</td></tr>",
                            "<tr><td>Mary Pipher</td><td>Reviving Ophelia: Saving the Selves of Adolescent Girls</td><td>3.86</td><td>28038</td><td>social-work</td></tr>",
                            "<tr><td>Mary Pipher</td><td>Reviving Ophelia: Saving the Selves of Adolescent Girls</td><td>3.86</td><td>32775</td><td>work-related</td></tr>",
                            "<tr><td>Greg Bear</td><td>Eon (The Way, #1)</td><td>3.86</td><td>27405</td><td>sf-masterworks</td></tr>",
                            "<tr><td>Greg Bear</td><td>Eon (The Way, #1)</td><td>3.86</td><td>26795</td><td>sci-fi-masterworks</td></tr>",
                            "<tr><td>Austin Kleon</td><td>Steal Like an Artist: 10 Things Nobody Told You About Being Creative</td><td>3.86</td><td>32766</td><td>work</td></tr>",
                            "<tr><td>W. Chan Kim, Renée Mauborgne</td><td>Blue Ocean Strategy: How To Create Uncontested Market Space And Make The Competition Irrelevant</td><td>3.86</td><td>32766</td><td>work</td></tr>",
                            "<tr><td>W. Chan Kim, Renée Mauborgne</td><td>Blue Ocean Strategy: How To Create Uncontested Market Space And Make The Competition Irrelevant</td><td>3.86</td><td>32775</td><td>work-related</td></tr>",
                            "<tr><td>Greg Bear</td><td>The Forge of God (Forge of God, #1)</td><td>3.86</td><td>27405</td><td>sf-masterworks</td></tr>",
                            "<tr><td>Diane Mowat, W.W. Jacobs</td><td>The Monkey&#39;s Paw (Oxford Bookworms)</td><td>3.85</td><td>27688</td><td>short-works</td></tr>",
                            "<tr><td>Gary Vaynerchuk</td><td>Crush It!: Why Now Is the Time to Cash In on Your Passion</td><td>3.85</td><td>32766</td><td>work</td></tr>",
                            "<tr><td>Gary Vaynerchuk</td><td>Crush It!: Why Now Is the Time to Cash In on Your Passion</td><td>3.85</td><td>28027</td><td>social-networking</td></tr>",
                            "<tr><td>George R.R. Martin</td><td>Fevre Dream</td><td>3.85</td><td>11358</td><td>fantasy-masterworks</td></tr>",
                            "<tr><td>Kenneth H. Blanchard, Spencer Johnson</td><td>The One Minute Manager</td><td>3.85</td><td>32775</td><td>work-related</td></tr>",
                            "<tr><td>Kenneth H. Blanchard, Spencer Johnson</td><td>The One Minute Manager</td><td>3.85</td><td>32769</td><td>work-books</td></tr>",
                            "<tr><td>Chris Guillebeau</td><td>The $100 Startup: Reinvent the Way You Make a Living, Do What You Love, and Create a New Future</td><td>3.85</td><td>32766</td><td>work</td></tr>",
                            "<tr><td>Seth Godin</td><td>Tribes: We Need You to Lead Us</td><td>3.84</td><td>32766</td><td>work</td></tr>",
                            "<tr><td>Seth Godin</td><td>Tribes: We Need You to Lead Us</td><td>3.84</td><td>21348</td><td>networking</td></tr>",
                            "<tr><td>Seth Godin</td><td>Tribes: We Need You to Lead Us</td><td>3.84</td><td>32775</td><td>work-related</td></tr>",
                            "<tr><td>Brian Tracy</td><td>Eat That Frog!: 21 Great Ways to Stop Procrastinating and Get More Done in Less Time</td><td>3.84</td><td>32766</td><td>work</td></tr>",
                            "<tr><td>Brian Tracy</td><td>Eat That Frog!: 21 Great Ways to Stop Procrastinating and Get More Done in Less Time</td><td>3.84</td><td>32775</td><td>work-related</td></tr>",
                            "<tr><td>Barry Schwartz</td><td>The Paradox of Choice: Why More Is Less</td><td>3.84</td><td>32766</td><td>work</td></tr>",
                            "<tr><td>Timothy Ferriss</td><td>The 4-Hour Workweek</td><td>3.84</td><td>32766</td><td>work</td></tr>",
                            "<tr><td>Daniel Tammet</td><td>Born on a Blue Day: Inside the Extraordinary Mind of an Autistic Savant</td><td>3.84</td><td>32775</td><td>work-related</td></tr>",
                            "<tr><td>Steven Levy</td><td>In the Plex: How Google Thinks, Works, and Shapes Our Lives</td><td>3.83</td><td>32766</td><td>work</td></tr>",
                            "<tr><td>Seth Godin</td><td>The Dip: A Little Book That Teaches You When to Quit (and When to Stick)</td><td>3.83</td><td>32766</td><td>work</td></tr>",
                            "<tr><td>Seth Godin</td><td>The Dip: A Little Book That Teaches You When to Quit (and When to Stick)</td><td>3.83</td><td>32775</td><td>work-related</td></tr>",
                            "<tr><td>Smith Henderson</td><td>Fourth of July Creek</td><td>3.83</td><td>28038</td><td>social-work</td></tr>",
                            "<tr><td>Chris Anderson</td><td>Free: The Future of a Radical Price</td><td>3.83</td><td>32766</td><td>work</td></tr>",
                            "<tr><td>Chris Anderson</td><td>The Long Tail: Why the Future of Business is Selling Less of More</td><td>3.83</td><td>32766</td><td>work</td></tr>",
                            "<tr><td>Larry Bossidy, Ram Charan, Charles Burck</td><td>Execution: The Discipline of Getting Things Done</td><td>3.83</td><td>32766</td><td>work</td></tr>",
                            "<tr><td>Larry Bossidy, Ram Charan, Charles Burck</td><td>Execution: The Discipline of Getting Things Done</td><td>3.83</td><td>32775</td><td>work-related</td></tr>",
                            "<tr><td>Larry Bossidy, Ram Charan, Charles Burck</td><td>Execution: The Discipline of Getting Things Done</td><td>3.83</td><td>32778</td><td>work-to-read</td></tr>",
                            "<tr><td>Guy Kawasaki</td><td>The Art of the Start: The Time-Tested, Battle-Hardened Guide for Anyone Starting Anything</td><td>3.82</td><td>32766</td><td>work</td></tr>",
                            "<tr><td>Guy Kawasaki</td><td>The Art of the Start: The Time-Tested, Battle-Hardened Guide for Anyone Starting Anything</td><td>3.82</td><td>32775</td><td>work-related</td></tr>",
                            "<tr><td>Steven D. Levitt, Stephen J. Dubner</td><td>Think Like a Freak</td><td>3.82</td><td>32766</td><td>work</td></tr>",
                            "<tr><td>Jonah Lehrer</td><td>How We Decide</td><td>3.81</td><td>32766</td><td>work</td></tr>",
                            "<tr><td>Travis Bradberry, Jean Greaves, Patrick Lencioni</td><td>Emotional Intelligence 2.0</td><td>3.81</td><td>32766</td><td>work</td></tr>",
                            "<tr><td>Travis Bradberry, Jean Greaves, Patrick Lencioni</td><td>Emotional Intelligence 2.0</td><td>3.81</td><td>32775</td><td>work-related</td></tr>",
                            "<tr><td>Travis Bradberry, Jean Greaves, Patrick Lencioni</td><td>Emotional Intelligence 2.0</td><td>3.81</td><td>12329</td><td>for-work</td></tr>",
                            "<tr><td>Travis Bradberry, Jean Greaves, Patrick Lencioni</td><td>Emotional Intelligence 2.0</td><td>3.81</td><td>32769</td><td>work-books</td></tr>",
                            "<tr><td>Travis Bradberry, Jean Greaves, Patrick Lencioni</td><td>Emotional Intelligence 2.0</td><td>3.81</td><td>5156</td><td>books-for-work</td></tr>",
                            "<tr><td>Eric Berne</td><td>Games People Play</td><td>3.81</td><td>32766</td><td>work</td></tr>",
                            "<tr><td>Eric Berne</td><td>Games People Play</td><td>3.81</td><td>32775</td><td>work-related</td></tr>",
                            "<tr><td>Holly Black</td><td>White Cat (Curse Workers, #1)</td><td>3.81</td><td>8723</td><td>curse-workers</td></tr>",
                            "<tr><td>Michael D. Watkins</td><td>The First 90 Days, Updated and Expanded: Critical Success Strategies for New Leaders at All Levels</td><td>3.81</td><td>32766</td><td>work</td></tr>",
                            "<tr><td>Michael D. Watkins</td><td>The First 90 Days, Updated and Expanded: Critical Success Strategies for New Leaders at All Levels</td><td>3.81</td><td>32777</td><td>work-stuff</td></tr>",
                            "<tr><td>Michael D. Watkins</td><td>The First 90 Days, Updated and Expanded: Critical Success Strategies for New Leaders at All Levels</td><td>3.81</td><td>32775</td><td>work-related</td></tr>",
                            "<tr><td>Michael D. Watkins</td><td>The First 90 Days, Updated and Expanded: Critical Success Strategies for New Leaders at All Levels</td><td>3.81</td><td>12329</td><td>for-work</td></tr>",
                            "<tr><td>Michael D. Watkins</td><td>The First 90 Days, Updated and Expanded: Critical Success Strategies for New Leaders at All Levels</td><td>3.81</td><td>32769</td><td>work-books</td></tr>",
                            "<tr><td>Michael D. Watkins</td><td>The First 90 Days, Updated and Expanded: Critical Success Strategies for New Leaders at All Levels</td><td>3.81</td><td>17793</td><td>leadership-work</td></tr>",
                            "<tr><td>David A. Vise</td><td>The Google Story: Inside the Hottest Business, Media, and Technology Success of Our Time</td><td>3.81</td><td>32766</td><td>work</td></tr>",
                            "<tr><td>Leil Lowndes</td><td>How to Talk to Anyone: 92 Little Tricks for Big Success in Relationships</td><td>3.8</td><td>21348</td><td>networking</td></tr>",
                            "<tr><td>Leil Lowndes</td><td>How to Talk to Anyone: 92 Little Tricks for Big Success in Relationships</td><td>3.8</td><td>32766</td><td>work</td></tr>",
                            "<tr><td>James Surowiecki</td><td>The Wisdom of Crowds</td><td>3.8</td><td>32766</td><td>work</td></tr>",
                            "<tr><td>James Surowiecki</td><td>The Wisdom of Crowds</td><td>3.8</td><td>28028</td><td>social-networks</td></tr>",
                            "<tr><td>Keith Ferrazzi</td><td>Never Eat Alone: And Other Secrets to Success, One Relationship at a Time</td><td>3.8</td><td>21348</td><td>networking</td></tr>",
                            "<tr><td>Keith Ferrazzi</td><td>Never Eat Alone: And Other Secrets to Success, One Relationship at a Time</td><td>3.8</td><td>32766</td><td>work</td></tr>",
                            "<tr><td>Keith Ferrazzi</td><td>Never Eat Alone: And Other Secrets to Success, One Relationship at a Time</td><td>3.8</td><td>32775</td><td>work-related</td></tr>",
                            "<tr><td>H.G. Wells, Arthur C. Clarke</td><td>The War of the Worlds</td><td>3.8</td><td>27405</td><td>sf-masterworks</td></tr>",
                            "<tr><td>Jack Welch, Suzy Welch</td><td>Winning</td><td>3.8</td><td>32766</td><td>work</td></tr>",
                            "<tr><td>Richard H. Thaler, Cass R. Sunstein</td><td>Nudge: Improving Decisions About Health, Wealth, and Happiness</td><td>3.8</td><td>32766</td><td>work</td></tr>",
                            "<tr><td>Howard Schultz, Joanne Gordon</td><td>Onward: How Starbucks Fought for Its Life without Losing Its Soul</td><td>3.79</td><td>32766</td><td>work</td></tr>",
                            "<tr><td>Jack Welch, John A. Byrne, Mike Barnicle</td><td>Jack: Straight from the Gut</td><td>3.79</td><td>32766</td><td>work</td></tr>",
                            "<tr><td>Maeve Binchy</td><td>Minding Frankie</td><td>3.78</td><td>28041</td><td>social-worker</td></tr>",
                            "<tr><td>Seth Godin</td><td>Purple Cow: Transform Your Business by Being Remarkable</td><td>3.78</td><td>32766</td><td>work</td></tr>",
                            "<tr><td>Seth Godin</td><td>Purple Cow: Transform Your Business by Being Remarkable</td><td>3.78</td><td>12329</td><td>for-work</td></tr>",
                            "<tr><td>Ellis Avery</td><td>The Last Nude</td><td>3.77</td><td>27381</td><td>sex-work</td></tr>",
                            "<tr><td>Franklin Foer</td><td>How Soccer Explains the World</td><td>3.76</td><td>32766</td><td>work</td></tr>",
                            "<tr><td>Jenna Jameson, Neil Strauss</td><td>How to Make Love Like a Porn Star: A Cautionary Tale</td><td>3.75</td><td>27381</td><td>sex-work</td></tr>",
                            "<tr><td>Ori Brafman, Rom Brafman</td><td>Sway: The Irresistible Pull of Irrational Behavior</td><td>3.75</td><td>32766</td><td>work</td></tr>",
                            "<tr><td>Jonah Lehrer</td><td>Imagine: How Creativity Works</td><td>3.75</td><td>32766</td><td>work</td></tr>",
                            "<tr><td>Martha Stout</td><td>The Sociopath Next Door</td><td>3.75</td><td>28038</td><td>social-work</td></tr>",
                            "<tr><td>Spencer Johnson, Kenneth H. Blanchard</td><td>Who Moved My Cheese?</td><td>3.74</td><td>32766</td><td>work</td></tr>",
                            "<tr><td>Spencer Johnson, Kenneth H. Blanchard</td><td>Who Moved My Cheese?</td><td>3.74</td><td>32775</td><td>work-related</td></tr>",
                            "<tr><td>H.G. Wells</td><td>The Island of Dr. Moreau</td><td>3.72</td><td>27405</td><td>sf-masterworks</td></tr>",
                            "<tr><td>Julie Gregory</td><td>Sickened: The Memoir of a Munchausen by Proxy Childhood</td><td>3.72</td><td>28038</td><td>social-work</td></tr>",
                            "<tr><td>Sophia Amoruso</td><td>#GIRLBOSS</td><td>3.71</td><td>13230</td><td>girlboss</td></tr>",
                            "<tr><td>Sophia Amoruso</td><td>#GIRLBOSS</td><td>3.71</td><td>32766</td><td>work</td></tr>",
                            "<tr><td>John Gardner</td><td>Grendel</td><td>3.69</td><td>11358</td><td>fantasy-masterworks</td></tr>",
                            "<tr><td>Emma Donoghue</td><td>Slammerkin</td><td>3.69</td><td>27381</td><td>sex-work</td></tr>",
                            "<tr><td>Arianna Huffington</td><td>Thrive: The Third Metric to Redefining Success and Creating a Life of Well-Being, Wisdom, and Wonder</td><td>3.68</td><td>32766</td><td>work</td></tr>",
                            "<tr><td>Arianna Huffington</td><td>Thrive: The Third Metric to Redefining Success and Creating a Life of Well-Being, Wisdom, and Wonder</td><td>3.68</td><td>13230</td><td>girlboss</td></tr>",
                            "<tr><td>David Bayles, Ted Orland</td><td>Art and Fear: Observations on the Perils (and Rewards) of Artmaking</td><td>3.67</td><td>32766</td><td>work</td></tr>",
                            "<tr><td>Thomas L. Friedman</td><td>The World Is Flat: A Brief History of the Twenty-first Century</td><td>3.66</td><td>32766</td><td>work</td></tr>",
                            "<tr><td>Philip K. Dick</td><td>The Man in the High Castle</td><td>3.66</td><td>27405</td><td>sf-masterworks</td></tr>",
                            "<tr><td>Jeffrey D. Sachs, Bono</td><td>The End of Poverty</td><td>3.66</td><td>32766</td><td>work</td></tr>",
                            "<tr><td>Mason Currey</td><td>Daily Rituals: How Artists Work</td><td>3.66</td><td>32766</td><td>work</td></tr>",
                            "<tr><td>David  Brooks</td><td>The Road to Character</td><td>3.66</td><td>32766</td><td>work</td></tr>",
                            "<tr><td>H.G. Wells</td><td>The Invisible Man</td><td>3.62</td><td>27405</td><td>sf-masterworks</td></tr>",
                            "<tr><td>D.H. Lawrence, Geoff Dyer</td><td>Sons and Lovers</td><td>3.61</td><td>32780</td><td>working</td></tr>",
                            "<tr><td>Barbara Ehrenreich</td><td>Nickel and Dimed: On (Not) Getting By in America</td><td>3.6</td><td>32766</td><td>work</td></tr>",
                            "<tr><td>Barbara Ehrenreich</td><td>Nickel and Dimed: On (Not) Getting By in America</td><td>3.6</td><td>28038</td><td>social-work</td></tr>",
                            "<tr><td>Elizabeth Wurtzel</td><td>Prozac Nation</td><td>3.57</td><td>28038</td><td>social-work</td></tr>",
                            "<tr><td>Sarah Thornton</td><td>Seven Days in the Art World</td><td>3.54</td><td>32766</td><td>work</td></tr>",
                            "<tr><td>Diablo Cody</td><td>Candy Girl: A Year in the Life of an Unlikely Stripper</td><td>3.54</td><td>27381</td><td>sex-work</td></tr>",
                            "<tr><td>Diablo Cody</td><td>Candy Girl: A Year in the Life of an Unlikely Stripper</td><td>3.54</td><td>27390</td><td>sexwork</td></tr>",
                            "<tr><td>Ben Mezrich</td><td>The Accidental Billionaires: The Founding of Facebook, a Tale of Sex, Money, Genius and Betrayal</td><td>3.5</td><td>21348</td><td>networking</td></tr>",
                            "<tr><td>Ben Mezrich</td><td>The Accidental Billionaires: The Founding of Facebook, a Tale of Sex, Money, Genius and Betrayal</td><td>3.5</td><td>28027</td><td>social-networking</td></tr>",
                            "<tr><td>Cherie Priest</td><td>Boneshaker (The Clockwork Century, #1)</td><td>3.5</td><td>7547</td><td>clockwork-century</td></tr>",
                            "<tr><td>Joshua Ferris</td><td>Then We Came to the End</td><td>3.45</td><td>32781</td><td>workplace</td></tr>",
                            "<tr><td>Joshua Ferris</td><td>Then We Came to the End</td><td>3.45</td><td>32766</td><td>work</td></tr>",
                            "<tr><td>William Gibson, Bruce Sterling</td><td>The Difference Engine </td><td>3.41</td><td>27405</td><td>sf-masterworks</td></tr>",
                            "</table>"
                        ]
                    }
                }
            ],
            "execution_count": 23
        },
        {
            "cell_type": "markdown",
            "source": [
                "### Summarize Event 2\n",
                "\n",
                "<span style=\"color: #6a9955;\">-- I chose October and am reusing my work from the previous promotion because its easier and effective as opposed to rewriting the same function in a different way</span>\n",
                "\n",
                "  \n",
                "\n",
                "<span style=\"color: #6a9955;\">-- only using one database means its faster for me to just type \"BooksDB\" once instead of with every reference</span>\n",
                "\n",
                "<span style=\"color: #569cd6;\">USE</span> BooksDB\n",
                "\n",
                "  \n",
                "\n",
                "<span style=\"color: #569cd6;\">SELECT</span> b.authors, b.title, b.average\\_rating, bt.tag\\_id, t.tag\\_name\n",
                "\n",
                "<span style=\"color: #6a9955;\">--the table with a majority of my needed information, thus my left table</span>\n",
                "\n",
                "<span style=\"color: #569cd6;\">FROM</span> books <span style=\"color: #569cd6;\">AS</span> b\n",
                "\n",
                "<span style=\"color: #6a9955;\">--joining book_tags to books lets me connect book titles to tag_id via a 3rd linking table 'tags' which is joined next.</span>\n",
                "\n",
                "<span style=\"color: #569cd6;\">INNER JOIN</span> book\\_tags <span style=\"color: #569cd6;\">AS</span> bt <span style=\"color: #569cd6;\">ON</span> bt.goodreads\\_book\\_id = b.best\\_book\\_id\n",
                "\n",
                "<span style=\"color: #6a9955;\">--the table tags provides tag_names so I can use a where clause to filter books with relevance to my chosen event</span>\n",
                "\n",
                "<span style=\"color: #569cd6;\">INNER JOIN</span> tags <span style=\"color: #569cd6;\">AS</span> t <span style=\"color: #569cd6;\">ON</span> bt.tag\\_id = t.tag\\_id\n",
                "\n",
                "<span style=\"color: #6a9955;\">--the where clause provides a filter for relevant titles to my event based on key words</span>\n",
                "\n",
                "<span style=\"color: #569cd6;\">WHERE</span> t.tag\\_name <span style=\"color: #569cd6;\">LIKE</span> <span style=\"color: #ce9178;\">'%coworker%'</span> <span style=\"color: #569cd6;\">OR</span> t.tag\\_name <span style=\"color: #569cd6;\">LIKE</span> <span style=\"color: #ce9178;\">'%boss%'</span>\n",
                "\n",
                "<span style=\"color: #6a9955;\">--ordered by highest average rating</span>\n",
                "\n",
                "<span style=\"color: #569cd6;\">ORDER BY</span> b.average\\_rating <span style=\"color: #569cd6;\">DESC</span>;"
            ],
            "metadata": {
                "azdata_cell_guid": "d984ee4b-2717-48db-85e3-39c9b711b9d9"
            },
            "attachments": {}
        }
    ]
}